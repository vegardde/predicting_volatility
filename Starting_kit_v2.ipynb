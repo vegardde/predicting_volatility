{
 "cells": [
  {
   "cell_type": "markdown",
   "metadata": {},
   "source": [
    "# Volatility Prediction in Financial Markets  - Model Notebook\n"
   ]
  },
  {
   "cell_type": "markdown",
   "metadata": {},
   "source": [
    "# TODO:\n",
    "\n",
    "#### Regression:\n",
    "- Check scaling issue!!!! Seemingly ok\n",
    "- Fix too large errrors -> param grid? Remove features? Check if computed correctly?\n",
    "- \n",
    "- Check if lots of features in test data is NULL?\n",
    "\n",
    "- Set up GradientBoostingRegressor\n",
    "\n",
    "\n",
    "#### Neural net\n",
    "- Sette opp Keras/pytorch Standard nettverk\n",
    "- Sette opp Keras/pytorch LSTM nettverk\n",
    "\n",
    "\n",
    "### Resultater:\n",
    "- Laste opp alle test resultater til CFM page "
   ]
  },
  {
   "cell_type": "code",
   "execution_count": 1,
   "metadata": {},
   "outputs": [],
   "source": [
    "import numpy as np\n",
    "import pandas as pd\n",
    "import matplotlib.pyplot as plt\n",
    "import scipy as sci\n",
    "\n",
    "\n",
    "\n",
    "\n",
    "import datetime\n",
    "from matplotlib.ticker import FuncFormatter, MaxNLocator\n",
    "from scipy import stats\n",
    "import gc\n",
    "%matplotlib inline\n"
   ]
  },
  {
   "cell_type": "markdown",
   "metadata": {},
   "source": [
    "## Load the data"
   ]
  },
  {
   "cell_type": "code",
   "execution_count": 2,
   "metadata": {},
   "outputs": [],
   "source": [
    "orig_train_X = pd.read_csv('data/training_input.csv', sep=';')\n",
    "train_y = pd.read_csv('data/training_output.csv', sep=';')\n",
    "orig_test_X  = pd.read_csv('data/testing_input.csv', sep=';')"
   ]
  },
  {
   "cell_type": "code",
   "execution_count": 3,
   "metadata": {},
   "outputs": [
    {
     "data": {
      "text/plain": [
       "20"
      ]
     },
     "execution_count": 3,
     "metadata": {},
     "output_type": "execute_result"
    }
   ],
   "source": [
    "gc.collect()"
   ]
  },
  {
   "cell_type": "markdown",
   "metadata": {},
   "source": [
    "### Calculate number of and Impute missing values via interpolation"
   ]
  },
  {
   "cell_type": "code",
   "execution_count": 4,
   "metadata": {},
   "outputs": [],
   "source": [
    "volatility_cols = [c for c in orig_train_X.columns if c.startswith('volatility')]\n",
    "return_cols = [c for c in orig_train_X.columns if c.startswith('return')]\n",
    "other_cols = ['date' , 'product_id']"
   ]
  },
  {
   "cell_type": "code",
   "execution_count": 5,
   "metadata": {},
   "outputs": [],
   "source": [
    "train_X = orig_train_X.drop(orig_train_X[return_cols],axis=1)\n",
    "train_R = orig_train_X.drop(orig_train_X[volatility_cols], axis=1)\n",
    "test_X  = orig_test_X.drop(orig_test_X[return_cols], axis=1)\n",
    "test_R  = orig_test_X.drop(orig_test_X[volatility_cols], axis=1)"
   ]
  },
  {
   "cell_type": "markdown",
   "metadata": {},
   "source": [
    "Count nans and zeros i.e. no price change"
   ]
  },
  {
   "cell_type": "code",
   "execution_count": 6,
   "metadata": {},
   "outputs": [],
   "source": [
    "train_num_NANs = pd.DataFrame({'ID': orig_train_X['ID'],'product_id': orig_train_X['product_id'],'num_NANs':(orig_train_X[volatility_cols].isnull()).sum(axis =1).astype(dtype = 'float64',copy=False)})\n",
    "train_true_zeros = pd.DataFrame({'ID': orig_train_X['ID'],'product_id': orig_train_X['product_id'],'true_zeros': (orig_train_X[volatility_cols]==0).sum(axis =1).astype(dtype = 'float64',copy=False)})\n",
    "test_num_NANs = pd.DataFrame({'ID': orig_test_X['ID'],'product_id': orig_test_X['product_id'],'num_NANs':(orig_test_X[volatility_cols].isnull()).sum(axis =1).astype(dtype = 'float64',copy=False)})\n",
    "test_true_zeros = pd.DataFrame({'ID': orig_test_X['ID'],'product_id': orig_test_X['product_id'],'true_zeros': (orig_test_X[volatility_cols]==0).sum(axis =1).astype(dtype = 'float64',copy=False)})"
   ]
  },
  {
   "cell_type": "markdown",
   "metadata": {},
   "source": [
    "We linearly interpolate the NaNs corresponding to volatilities and set NaN returns to 0 :"
   ]
  },
  {
   "cell_type": "code",
   "execution_count": 7,
   "metadata": {},
   "outputs": [],
   "source": [
    "#Default interpolation direction is forward\n",
    "train_X.iloc[:,3:] = train_X.iloc[:,3:].interpolate(axis=1)\n",
    "test_X.iloc[:,3:]  = test_X.iloc[:,3:].interpolate(axis=1)"
   ]
  },
  {
   "cell_type": "code",
   "execution_count": 8,
   "metadata": {},
   "outputs": [],
   "source": [
    "train_X.fillna(0, inplace=True) \n",
    "test_X.fillna(0, inplace=True) "
   ]
  },
  {
   "cell_type": "code",
   "execution_count": 9,
   "metadata": {},
   "outputs": [],
   "source": [
    "train_R.fillna(0, inplace=True) \n",
    "test_R.fillna(0, inplace=True) "
   ]
  },
  {
   "cell_type": "markdown",
   "metadata": {},
   "source": [
    "# Feature engineering"
   ]
  },
  {
   "cell_type": "markdown",
   "metadata": {},
   "source": [
    "### Clustering"
   ]
  },
  {
   "cell_type": "code",
   "execution_count": 10,
   "metadata": {},
   "outputs": [],
   "source": [
    "train_features =train_X.drop(train_X[volatility_cols],axis =1)\n",
    "train_features['min_vol']    = np.min(train_X.iloc[:,3:], axis=1)\n",
    "train_features['max_vol']    = np.max(train_X.iloc[:,3:], axis=1)\n",
    "train_features['std_vol']    = np.std(train_X.iloc[:,3:], axis=1)\n",
    "train_features['median_vol'] = np.median(train_X.iloc[:,3:], axis=1)\n",
    "train_features['mean_vol'] = np.mean(train_X.iloc[:,3:], axis=1)\n",
    "train_features['skew_vol'] = stats.skew(train_X.iloc[:,3:], axis=1)\n",
    "train_features['kurtosis_vol'] = stats.kurtosis(train_X.iloc[:,3:], axis=1)\n",
    "bin_length = 9\n",
    "train_features['bin1_vol']  = np.mean(train_X.iloc[:,3:3+bin_length-1], axis=1)\n",
    "train_features['bin2_vol']  = np.mean(train_X.iloc[:,3+bin_length:3+2*bin_length-1], axis=1)\n",
    "train_features['bin3_vol']  = np.mean(train_X.iloc[:,3+2*bin_length:3+3*bin_length-1], axis=1)\n",
    "train_features['bin4_vol']  = np.mean(train_X.iloc[:,3+3*bin_length:3+4*bin_length-1], axis=1)\n",
    "train_features['bin5_vol']  = np.mean(train_X.iloc[:,3+4*bin_length:3+5*bin_length-1], axis=1)\n",
    "train_features['bin6_vol']  = np.mean(train_X.iloc[:,3+5*bin_length:3+6*bin_length-1], axis=1)\n",
    "#train_features['num_NANs'] =  train_num_NANs ## bytt ut med per produkt\n",
    "#train_features['true_zeros'] =  train_true_zeros ## bytt ut med per produkt\n",
    "\n",
    "###Differencing to account for ACF feature\n",
    "train_features['lagged_diff_mean']= np.mean(np.diff(train_X.iloc[:,3:], axis=1),axis=1)\n",
    "train_features['lagged_diff_std']= np.std(np.diff(train_X.iloc[:,3:], axis=1),axis=1)\n",
    "train_features['lagged_diff_max']= np.max(np.diff(train_X.iloc[:,3:], axis=1),axis=1)\n",
    "train_features['lagged_diff_min']= np.min(np.diff(train_X.iloc[:,3:], axis=1),axis=1)\n",
    "\n",
    "### Date Spesific features####\n",
    "date_mean = pd.DataFrame({'date': train_X['date'].unique(),'date_mean': np.array(train_X.groupby('date')[volatility_cols].mean().mean(axis=1))})\n",
    "train_features = train_features.merge(date_mean,on='date',how = \"left\").set_index(train_features.index)\n",
    "\n",
    "train_features = train_features.merge(train_X.groupby('date')['volatility 13:45:00','volatility 13:50:00','volatility 13:55:00'].mean(),on='date',how = \"left\").set_index(train_features.index)\n",
    "train_features.rename(columns={'volatility 13:45:00': '13:45_mean_vol_date', 'volatility 13:50:00': '13:50_mean_vol_date','volatility 13:55:00':'13:55_mean_vol_date'}, inplace=True)\n",
    "\n",
    "train_features = train_features.merge(train_X.groupby('date')['volatility 13:45:00','volatility 13:50:00','volatility 13:55:00'].std(),on='date',how = \"left\").set_index(train_features.index)\n",
    "train_features.rename(columns={'volatility 13:45:00': '13:45_std_vol_date', 'volatility 13:50:00': '13:50_std_vol_date','volatility 13:55:00':'13:55_std_vol_date'}, inplace=True)\n",
    "\n",
    "train_features = train_features.merge(train_X.groupby('date')['volatility 13:45:00','volatility 13:50:00','volatility 13:55:00'].max(),on='date',how = \"left\").set_index(train_features.index)\n",
    "train_features.rename(columns={'volatility 13:45:00': '13:45_max_vol_date', 'volatility 13:50:00': '13:50_max_vol_date','volatility 13:55:00':'13:55_max_vol_date'}, inplace=True)\n",
    "\n",
    "train_features = train_features.merge(train_X.groupby('date')['volatility 13:45:00','volatility 13:50:00','volatility 13:55:00'].min(),on='date',how = \"left\").set_index(train_features.index)\n",
    "train_features.rename(columns={'volatility 13:45:00': '13:45_min_vol_date', 'volatility 13:50:00': '13:50_min_vol_date','volatility 13:55:00':'13:55_min_vol_date'}, inplace=True)\n",
    "\n",
    "train_features = train_features.merge(train_X.groupby('date')['volatility 13:45:00','volatility 13:50:00','volatility 13:55:00'].skew(),on='date',how = \"left\").set_index(train_features.index)\n",
    "train_features.rename(columns={'volatility 13:45:00': '13:45_skew_vol_date', 'volatility 13:50:00': '13:50_skew_vol_date','volatility 13:55:00':'13:55_skew_vol_date'}, inplace=True)\n",
    "\n",
    "train_features = train_features.merge(train_X.groupby('date')['volatility 13:45:00','volatility 13:50:00','volatility 13:55:00'].apply(pd.DataFrame.kurt),on='date',how = \"left\").set_index(train_features.index)\n",
    "train_features.rename(columns={'volatility 13:45:00': '13:45_kurt_vol_date', 'volatility 13:50:00': '13:50_kurt_vol_date','volatility 13:55:00':'13:55_kurt_vol_date'}, inplace=True)\n",
    "\n",
    "# #### Product spesific features#####\n",
    "\n",
    "product_mean = pd.DataFrame({'product_id': train_X['product_id'].unique(),'product_mean': np.array(train_X.groupby('product_id')[volatility_cols].mean().mean(axis=1))})\n",
    "train_features = train_features.merge(product_mean,on='product_id',how = \"left\").set_index(train_features.index)\n",
    "\n",
    "train_features = train_features.merge(train_X.groupby('product_id')['volatility 13:45:00','volatility 13:50:00','volatility 13:55:00'].mean(),on='product_id',how = \"left\").set_index(train_features.index)\n",
    "train_features.rename(columns={'volatility 13:45:00': '13:45_mean_vol_stock', 'volatility 13:50:00': '13:50_mean_vol_stock','volatility 13:55:00':'13:55_mean_vol_stock'}, inplace=True)\n",
    "\n",
    "train_features = train_features.merge(train_X.groupby('product_id')['volatility 13:45:00','volatility 13:50:00','volatility 13:55:00'].std(),on='product_id',how = \"left\").set_index(train_features.index)\n",
    "train_features.rename(columns={'volatility 13:45:00': '13:45_std_vol_stock', 'volatility 13:50:00': '13:50_std_vol_stock','volatility 13:55:00':'13:55_std_vol_stock'}, inplace=True)\n",
    "\n",
    "train_features = train_features.merge(train_X.groupby('product_id')['volatility 13:45:00','volatility 13:50:00','volatility 13:55:00'].max(),on='product_id',how = \"left\").set_index(train_features.index)\n",
    "train_features.rename(columns={'volatility 13:45:00': '13:45_max_vol_stock', 'volatility 13:50:00': '13:50_max_vol_stock','volatility 13:55:00':'13:55_max_vol_stock'}, inplace=True)\n",
    "\n",
    "train_features = train_features.merge(train_X.groupby('product_id')['volatility 13:45:00','volatility 13:50:00','volatility 13:55:00'].min(),on='product_id',how = \"left\").set_index(train_features.index)\n",
    "train_features.rename(columns={'volatility 13:45:00': '13:45_min_vol_stock', 'volatility 13:50:00': '13:50_min_vol_stock','volatility 13:55:00':'13:55_min_vol_stock'}, inplace=True)\n",
    "\n",
    "### Return features\n",
    "train_features['ret_sign_std'] = np.var(train_R.iloc[:,3:], axis=1)\n",
    "train_features['ret_sign_accum'] = np.sum(train_R.iloc[:,3:], axis=1)\n",
    "\n",
    "\n",
    "#Merge clusters onto data frame\n",
    "#train_features = train_features.merge(train_labels_pd, on='ID',how = \"left\").set_index(train_features.index)\n",
    "\n",
    "#Merge zeros onto data frame\n",
    "train_features = train_features.merge(train_num_NANs.drop(columns='product_id'), on='ID',how = \"left\").set_index(train_features.index)\n",
    "train_features = train_features.merge(train_true_zeros.drop(columns='product_id'), on='ID',how = \"left\").set_index(train_features.index)\n",
    "\n",
    "#train_features = train_features.merge(train_num_NANs.groupby('product_id')['num_NANs'].sum().to_frame(),on='product_id',how = \"left\").set_index(train_features.index)\n",
    "#train_features = train_features.merge(train_true_zeros.groupby('product_id')['true_zeros'].sum().to_frame(),on='product_id',how = \"left\").set_index(train_features.index)\n",
    "\n",
    "\n",
    "\n",
    "# Merge target onto data frame\n",
    "train_features = train_features.merge(train_y, on='ID',how = \"left\").set_index(train_features.index)\n",
    "\n",
    "train_features.fillna(0, inplace=True) "
   ]
  },
  {
   "cell_type": "code",
   "execution_count": null,
   "metadata": {},
   "outputs": [],
   "source": []
  },
  {
   "cell_type": "code",
   "execution_count": null,
   "metadata": {},
   "outputs": [],
   "source": []
  },
  {
   "cell_type": "markdown",
   "metadata": {},
   "source": [
    "##### Test features"
   ]
  },
  {
   "cell_type": "code",
   "execution_count": 11,
   "metadata": {},
   "outputs": [],
   "source": [
    "test_features =test_X.drop(test_X[volatility_cols],axis =1)\n",
    "test_features['min_vol']    = np.min(test_X.iloc[:,3:], axis=1)\n",
    "test_features['max_vol']    = np.max(test_X.iloc[:,3:], axis=1)\n",
    "test_features['std_vol']    = np.std(test_X.iloc[:,3:], axis=1)\n",
    "test_features['median_vol'] = np.median(test_X.iloc[:,3:], axis=1)\n",
    "test_features['mean_vol'] = np.mean(test_X.iloc[:,3:], axis=1)\n",
    "test_features['skew_vol'] = stats.skew(test_X.iloc[:,3:], axis=1)\n",
    "test_features['kurtosis_vol'] = stats.kurtosis(test_X.iloc[:,3:], axis=1)\n",
    "bin_length = 9\n",
    "test_features['bin1_vol']  = np.mean(test_X.iloc[:,3:3+bin_length-1], axis=1)\n",
    "test_features['bin2_vol']  = np.mean(test_X.iloc[:,3+bin_length:3+2*bin_length-1], axis=1)\n",
    "test_features['bin3_vol']  = np.mean(test_X.iloc[:,3+2*bin_length:3+3*bin_length-1], axis=1)\n",
    "test_features['bin4_vol']  = np.mean(test_X.iloc[:,3+3*bin_length:3+4*bin_length-1], axis=1)\n",
    "test_features['bin5_vol']  = np.mean(test_X.iloc[:,3+4*bin_length:3+5*bin_length-1], axis=1)\n",
    "test_features['bin6_vol']  = np.mean(test_X.iloc[:,3+5*bin_length:3+6*bin_length-1], axis=1)\n",
    "#test_features['num_NANs'] =  test_num_NANs ## bytt ut med per produkt\n",
    "#test_features['true_zeros'] =  test_true_zeros ## bytt ut med per produkt\n",
    "\n",
    "###Differencing to account for ACF feature\n",
    "test_features['lagged_diff_mean']= np.mean(np.diff(test_X.iloc[:,3:], axis=1),axis=1)\n",
    "test_features['lagged_diff_std']= np.std(np.diff(test_X.iloc[:,3:], axis=1),axis=1)\n",
    "test_features['lagged_diff_max']= np.max(np.diff(test_X.iloc[:,3:], axis=1),axis=1)\n",
    "test_features['lagged_diff_min']= np.min(np.diff(test_X.iloc[:,3:], axis=1),axis=1)\n",
    "\n",
    "### Date Spesific features####\n",
    "date_mean = pd.DataFrame({'date': test_X['date'].unique(),'date_mean': np.array(test_X.groupby('date')[volatility_cols].mean().mean(axis=1))})\n",
    "test_features = test_features.merge(date_mean,on='date',how = \"left\").set_index(test_features.index)\n",
    "\n",
    "test_features = test_features.merge(test_X.groupby('date')['volatility 13:45:00','volatility 13:50:00','volatility 13:55:00'].mean(),on='date',how = \"left\").set_index(test_features.index)\n",
    "test_features.rename(columns={'volatility 13:45:00': '13:45_mean_vol_date', 'volatility 13:50:00': '13:50_mean_vol_date','volatility 13:55:00':'13:55_mean_vol_date'}, inplace=True)\n",
    "\n",
    "test_features = test_features.merge(test_X.groupby('date')['volatility 13:45:00','volatility 13:50:00','volatility 13:55:00'].std(),on='date',how = \"left\").set_index(test_features.index)\n",
    "test_features.rename(columns={'volatility 13:45:00': '13:45_std_vol_date', 'volatility 13:50:00': '13:50_std_vol_date','volatility 13:55:00':'13:55_std_vol_date'}, inplace=True)\n",
    "\n",
    "test_features = test_features.merge(test_X.groupby('date')['volatility 13:45:00','volatility 13:50:00','volatility 13:55:00'].max(),on='date',how = \"left\").set_index(test_features.index)\n",
    "test_features.rename(columns={'volatility 13:45:00': '13:45_max_vol_date', 'volatility 13:50:00': '13:50_max_vol_date','volatility 13:55:00':'13:55_max_vol_date'}, inplace=True)\n",
    "\n",
    "test_features = test_features.merge(test_X.groupby('date')['volatility 13:45:00','volatility 13:50:00','volatility 13:55:00'].min(),on='date',how = \"left\").set_index(test_features.index)\n",
    "test_features.rename(columns={'volatility 13:45:00': '13:45_min_vol_date', 'volatility 13:50:00': '13:50_min_vol_date','volatility 13:55:00':'13:55_min_vol_date'}, inplace=True)\n",
    "\n",
    "test_features = test_features.merge(test_X.groupby('date')['volatility 13:45:00','volatility 13:50:00','volatility 13:55:00'].skew(),on='date',how = \"left\").set_index(test_features.index)\n",
    "test_features.rename(columns={'volatility 13:45:00': '13:45_skew_vol_date', 'volatility 13:50:00': '13:50_skew_vol_date','volatility 13:55:00':'13:55_skew_vol_date'}, inplace=True)\n",
    "\n",
    "test_features = test_features.merge(test_X.groupby('date')['volatility 13:45:00','volatility 13:50:00','volatility 13:55:00'].apply(pd.DataFrame.kurt),on='date',how = \"left\").set_index(test_features.index)\n",
    "test_features.rename(columns={'volatility 13:45:00': '13:45_kurt_vol_date', 'volatility 13:50:00': '13:50_kurt_vol_date','volatility 13:55:00':'13:55_kurt_vol_date'}, inplace=True)\n",
    "\n",
    "# #### Product spesific features#####\n",
    "\n",
    "product_mean = pd.DataFrame({'product_id': test_X['product_id'].unique(),'product_mean': np.array(test_X.groupby('product_id')[volatility_cols].mean().mean(axis=1))})\n",
    "test_features = test_features.merge(product_mean,on='product_id',how = \"left\").set_index(test_features.index)\n",
    "\n",
    "test_features = test_features.merge(test_X.groupby('product_id')['volatility 13:45:00','volatility 13:50:00','volatility 13:55:00'].mean(),on='product_id',how = \"left\").set_index(test_features.index)\n",
    "test_features.rename(columns={'volatility 13:45:00': '13:45_mean_vol_stock', 'volatility 13:50:00': '13:50_mean_vol_stock','volatility 13:55:00':'13:55_mean_vol_stock'}, inplace=True)\n",
    "\n",
    "test_features = test_features.merge(test_X.groupby('product_id')['volatility 13:45:00','volatility 13:50:00','volatility 13:55:00'].std(),on='product_id',how = \"left\").set_index(test_features.index)\n",
    "test_features.rename(columns={'volatility 13:45:00': '13:45_std_vol_stock', 'volatility 13:50:00': '13:50_std_vol_stock','volatility 13:55:00':'13:55_std_vol_stock'}, inplace=True)\n",
    "\n",
    "test_features = test_features.merge(test_X.groupby('product_id')['volatility 13:45:00','volatility 13:50:00','volatility 13:55:00'].max(),on='product_id',how = \"left\").set_index(test_features.index)\n",
    "test_features.rename(columns={'volatility 13:45:00': '13:45_max_vol_stock', 'volatility 13:50:00': '13:50_max_vol_stock','volatility 13:55:00':'13:55_max_vol_stock'}, inplace=True)\n",
    "\n",
    "test_features = test_features.merge(test_X.groupby('product_id')['volatility 13:45:00','volatility 13:50:00','volatility 13:55:00'].min(),on='product_id',how = \"left\").set_index(test_features.index)\n",
    "test_features.rename(columns={'volatility 13:45:00': '13:45_min_vol_stock', 'volatility 13:50:00': '13:50_min_vol_stock','volatility 13:55:00':'13:55_min_vol_stock'}, inplace=True)\n",
    "\n",
    "### Return features\n",
    "test_features['ret_sign_std'] = np.var(test_R.iloc[:,3:], axis=1)\n",
    "test_features['ret_sign_accum'] = np.sum(test_R.iloc[:,3:], axis=1)\n",
    "\n",
    "\n",
    "#Merge clusters onto data frame\n",
    "#test_features = test_features.merge(test_labels_pd, on='ID',how = \"left\").set_index(test_features.index)\n",
    "\n",
    "#Merge zeros onto data frame\n",
    "test_features = test_features.merge(test_num_NANs.drop(columns='product_id'), on='ID',how = \"left\").set_index(test_features.index)\n",
    "test_features = test_features.merge(test_true_zeros.drop(columns='product_id'), on='ID',how = \"left\").set_index(test_features.index)\n",
    "\n",
    "#test_features = test_features.merge(test_num_NANs.groupby('product_id')['num_NANs'].sum().to_frame(),on='product_id',how = \"left\").set_index(test_features.index)\n",
    "#test_features = test_features.merge(test_true_zeros.groupby('product_id')['true_zeros'].sum().to_frame(),on='product_id',how = \"left\").set_index(test_features.index)\n",
    "\n",
    "\n",
    "\n",
    "\n",
    "test_features.fillna(0, inplace=True) "
   ]
  },
  {
   "cell_type": "code",
   "execution_count": null,
   "metadata": {},
   "outputs": [],
   "source": []
  },
  {
   "cell_type": "markdown",
   "metadata": {},
   "source": [
    "## Train model"
   ]
  },
  {
   "cell_type": "markdown",
   "metadata": {},
   "source": [
    "Define error function (mean average percent error)"
   ]
  },
  {
   "cell_type": "code",
   "execution_count": 12,
   "metadata": {},
   "outputs": [],
   "source": [
    "def MAPE(y_true, y_pred):\n",
    "    return np.mean(np.abs((y_true - y_pred) / y_true)) * 100"
   ]
  },
  {
   "cell_type": "code",
   "execution_count": 13,
   "metadata": {},
   "outputs": [],
   "source": [
    "def MAPE_per_obs(y_true, y_pred):\n",
    "    return (np.abs((y_true - y_pred) / y_true)) * 100"
   ]
  },
  {
   "cell_type": "markdown",
   "metadata": {},
   "source": [
    "Split training data in train and test sets"
   ]
  },
  {
   "cell_type": "code",
   "execution_count": 14,
   "metadata": {},
   "outputs": [
    {
     "name": "stdout",
     "output_type": "stream",
     "text": [
      "Number of features: 53\n"
     ]
    }
   ],
   "source": [
    "from sklearn.model_selection import train_test_split\n",
    "\n",
    "#train_features = train_features.merge(train_y, on='ID')\n",
    "#train_features.drop(['date', 'product_id'], axis=1, inplace=True)\n",
    "#test_features.drop(['date', 'product_id'], axis=1, inplace=True)\n",
    "\n",
    "##Split test train data in 80%/20%\n",
    "train_X_, val_X_, train_y_, val_y_ = train_test_split(train_features.iloc[:,:-1], train_features['TARGET'],\n",
    "                                                      test_size=0.2, random_state=32, stratify=train_features['product_id'])\n",
    "\n",
    "train_X_['TARGET'] = train_y_\n",
    "val_X_['TARGET'] = val_y_\n",
    "regression_cols = train_features.columns[3:-1] ## Remove product_id, data and target\n",
    "print(\"Number of features:\",len(regression_cols))\n",
    "\n"
   ]
  },
  {
   "cell_type": "code",
   "execution_count": null,
   "metadata": {},
   "outputs": [],
   "source": []
  },
  {
   "cell_type": "markdown",
   "metadata": {},
   "source": [
    "### Provide benchmark models"
   ]
  },
  {
   "cell_type": "code",
   "execution_count": 15,
   "metadata": {},
   "outputs": [
    {
     "name": "stdout",
     "output_type": "stream",
     "text": [
      "Train error= 36.9063 %\n",
      "Validation error = 36.9016 %\n"
     ]
    }
   ],
   "source": [
    "train_pred_mean = train_X_[['mean_vol','TARGET']]\n",
    "val_pred_mean = val_X_[['mean_vol','TARGET']]\n",
    "\n",
    "print('Train error=', round(MAPE(train_features['TARGET'], train_features['mean_vol']), 4), '%')\n",
    "print('Validation error =', round(MAPE(val_pred_mean['TARGET'], val_pred_mean['mean_vol']), 4), '%')\n",
    "\n",
    "test_pred_mean = test_features[['ID','mean_vol']]\n",
    "test_pred_mean = test_pred_mean.rename(columns = {'mean_vol':'TARGET'})\n",
    "test_pred_mean.to_csv('results/mean_pred.csv', sep=';', index=False)"
   ]
  },
  {
   "cell_type": "code",
   "execution_count": null,
   "metadata": {},
   "outputs": [],
   "source": []
  },
  {
   "cell_type": "code",
   "execution_count": 16,
   "metadata": {},
   "outputs": [
    {
     "name": "stdout",
     "output_type": "stream",
     "text": [
      "Train error= 26.558 %\n",
      "Validation error = 26.4845 %\n"
     ]
    }
   ],
   "source": [
    "train_pred_median = train_X_[['median_vol','TARGET']]\n",
    "val_pred_median = val_X_[['median_vol','TARGET']]\n",
    "\n",
    "print('Train error=', round(MAPE(train_features['TARGET'], train_features['median_vol']), 4), '%')\n",
    "print('Validation error =', round(MAPE(val_pred_median['TARGET'], val_pred_median['median_vol']), 4), '%')\n",
    "test_pred_median = test_features[['ID','median_vol']]\n",
    "test_pred_median = test_pred_median.rename(columns = {'median_vol':'TARGET'})\n",
    "test_pred_median.to_csv('results/median_pred.csv', sep=';', index=False)\n"
   ]
  },
  {
   "cell_type": "markdown",
   "metadata": {},
   "source": [
    "### Nomalise data "
   ]
  },
  {
   "cell_type": "code",
   "execution_count": 17,
   "metadata": {},
   "outputs": [],
   "source": [
    "from sklearn.preprocessing import StandardScaler\n",
    "from sklearn.preprocessing import MinMaxScaler\n",
    "from sklearn.preprocessing import RobustScaler\n",
    "from sklearn.preprocessing import PowerTransformer\n",
    "\n",
    "\n",
    "#scaler = RobustScaler(quantile_range=(40, 60))\n",
    "#scaler = PowerTransformer(method = 'box-cox')\n",
    "scaler = StandardScaler()\n",
    "#scaler = MinMaxScaler()\n",
    "\n",
    "\n",
    "train_X_norm = train_X_.copy()\n",
    "val_X_norm = val_X_.copy()\n",
    "train_features_norm =train_features.copy()\n",
    "test_features_norm =test_features.copy()\n",
    "\n",
    "\n",
    "#Scale train and validation data\n",
    "transformer_validation = scaler.fit(train_X_[regression_cols])\n",
    "train_X_norm[regression_cols] = transformer_validation.transform(train_X_norm[regression_cols])\n",
    "val_X_norm[regression_cols] = transformer_validation.transform(val_X_norm[regression_cols])\n",
    "\n",
    "#Scale train and test data\n",
    "transformer = scaler.fit(train_features[regression_cols])\n",
    "train_features_norm[regression_cols] = transformer.transform(train_features_norm[regression_cols])\n",
    "test_features_norm[regression_cols] = transformer.transform(test_features_norm[regression_cols])"
   ]
  },
  {
   "cell_type": "code",
   "execution_count": null,
   "metadata": {},
   "outputs": [],
   "source": []
  },
  {
   "cell_type": "code",
   "execution_count": null,
   "metadata": {},
   "outputs": [],
   "source": []
  },
  {
   "cell_type": "markdown",
   "metadata": {},
   "source": [
    "### Train Global models"
   ]
  },
  {
   "cell_type": "code",
   "execution_count": 18,
   "metadata": {},
   "outputs": [],
   "source": [
    "from sklearn.model_selection import ParameterGrid\n",
    "from sklearn.linear_model import SGDRegressor\n",
    "from sklearn.metrics import mean_absolute_error\n",
    "from sklearn.metrics import mean_squared_error\n",
    "from sklearn.model_selection import cross_val_score, KFold, GridSearchCV\n",
    "\n"
   ]
  },
  {
   "cell_type": "code",
   "execution_count": 19,
   "metadata": {},
   "outputs": [],
   "source": [
    "from sklearn.metrics import make_scorer\n",
    "def score_function(y_true, y_pred):\n",
    "    return np.mean(np.abs((y_true - y_pred) / y_true)) * 100\n",
    "# wraps scoring functions for use in GridSearchCV and cross_val_score.\n",
    "mape = make_scorer(score_function, greater_is_better=False)"
   ]
  },
  {
   "cell_type": "code",
   "execution_count": null,
   "metadata": {},
   "outputs": [],
   "source": []
  },
  {
   "cell_type": "code",
   "execution_count": 20,
   "metadata": {},
   "outputs": [],
   "source": [
    "grid = {\n",
    "    #'alpha':[0.00006, 0.00007, 0.00008, 0.00009, 0.00010, 0.00011, 0.00012, 0.00013], \n",
    "    'alpha':10.0**-np.arange(2,5),\n",
    "    #'alpha': [0.00005,0.0001],\n",
    "    #'l1_ratio': [0.1,0.3,0.5,0.7,0.9,1.0],\n",
    "    'loss': ['squared_loss'],\n",
    "    'max_iter': [10000000],\n",
    "    'penalty': ['l2'],\n",
    "    'early_stopping': [False],\n",
    "    'tol': [0.00000001],\n",
    "    'fit_intercept':[True],\n",
    "    #'epsilon': [0.0005,0.001,0.005,0.01,0.03,0.06],\n",
    "    'epsilon': [0.001,0.005,0.01,0.015],\n",
    "    'shuffle': [False],\n",
    "    'learning_rate': ['optimal'],\n",
    "    'eta0': [0.5],\n",
    "    'power_t': [0.25],\n",
    "    'n_iter_no_change': [5],\n",
    "}\n",
    "paramGrid = ParameterGrid(grid)\n"
   ]
  },
  {
   "cell_type": "code",
   "execution_count": null,
   "metadata": {},
   "outputs": [],
   "source": [
    "huber_grid_elastic = {\n",
    "    #'alpha':[0.00006, 0.00007, 0.00008, 0.00009, 0.00010, 0.00011, 0.00012, 0.00013], \n",
    "    'alpha':10.0**-np.arange(4,7),\n",
    "    #'alpha': [0.00005,0.0001],\n",
    "    'l1_ratio': [0.1,0.3,0.5,0.7,.9,1.0],\n",
    "    #'l1_ratio': [0.0],\n",
    "    'loss': ['huber'],\n",
    "    'max_iter': [10000000],\n",
    "    'penalty': ['elasticnet'],\n",
    "    'early_stopping': [False],\n",
    "    'tol': [0.00000001],\n",
    "    'fit_intercept':[True],\n",
    "    #'epsilon': [0.0005,0.001,0.005,0.01,0.03,0.06],\n",
    "    'epsilon': [0.001,0.005,0.01,0.015],\n",
    "    'shuffle': [False],\n",
    "    'learning_rate': ['optimal'],\n",
    "    'eta0': [0.5],\n",
    "    'power_t': [0.25],\n",
    "    'n_iter_no_change': [5],\n",
    "}\n",
    "\n",
    "huber_grid_l2 = {\n",
    "    #'alpha':[0.00006, 0.00007, 0.00008, 0.00009, 0.00010, 0.00011, 0.00012, 0.00013], \n",
    "    'alpha':10.0**-np.arange(4,7),\n",
    "    #'alpha': [0.00005,0.0001],\n",
    "    'l1_ratio': [0.1,0.3,0.5,0.7,.9,1.0],\n",
    "    #'l1_ratio': [0.0],\n",
    "    'loss': ['huber'],\n",
    "    'max_iter': [10000000],\n",
    "    'penalty': ['l2'],\n",
    "    'early_stopping': [False],\n",
    "    'tol': [0.00000001],\n",
    "    'fit_intercept':[True],\n",
    "    'epsilon': [0.0005,0.001,0.005,0.01,0.03,0.06],\n",
    "    #'epsilon': [0.001,0.005,0.01,0.015],\n",
    "    'shuffle': [False],\n",
    "    'learning_rate': ['optimal'],\n",
    "    'eta0': [0.5],\n",
    "    'power_t': [0.25],\n",
    "    'n_iter_no_change': [5],\n",
    "}\n",
    "\n",
    "huber_grid_l1 = {\n",
    "    #'alpha':[0.00006, 0.00007, 0.00008, 0.00009, 0.00010, 0.00011, 0.00012, 0.00013], \n",
    "    'alpha':10.0**-np.arange(4,7),\n",
    "    #'alpha': [0.00005,0.0001],\n",
    "    'l1_ratio': [0.1,0.3,0.5,0.7,.9,1.0],\n",
    "    #'l1_ratio': [0.0],\n",
    "    'loss': ['huber'],\n",
    "    'max_iter': [10000000],\n",
    "    'penalty': ['l1'],\n",
    "    'early_stopping': [False],\n",
    "    'tol': [0.00000001],\n",
    "    'fit_intercept':[True],\n",
    "    'epsilon': [0.0005,0.001,0.005,0.01,0.03,0.06],\n",
    "    #'epsilon': [0.001,0.005,0.01,0.015],\n",
    "    'shuffle': [False],\n",
    "    'learning_rate': ['optimal'],\n",
    "    'eta0': [0.5],\n",
    "    'power_t': [0.25],\n",
    "    'n_iter_no_change': [5],\n",
    "}\n",
    "\n",
    "\n",
    "squared_grid_elastic = {\n",
    "    #'alpha':[0.00006, 0.00007, 0.00008, 0.00009, 0.00010, 0.00011, 0.00012, 0.00013], \n",
    "    'alpha':10.0**-np.arange(4,7),\n",
    "    #'alpha': [0.00005,0.0001],\n",
    "    'l1_ratio': [0.1,0.3,0.5,0.7,.9,1.0],\n",
    "    #'l1_ratio': [0.0],\n",
    "    'loss': ['squared_loss'],\n",
    "    'max_iter': [10000000],\n",
    "    'penalty': ['elasticnet'],\n",
    "    'early_stopping': [False],\n",
    "    'tol': [0.00000001],\n",
    "    'fit_intercept':[True],\n",
    "    'epsilon': [0.0005,0.001,0.005,0.01,0.03,0.06],\n",
    "    #'epsilon': [0.001,0.005,0.01,0.015],\n",
    "    'shuffle': [False],\n",
    "    'learning_rate': ['optimal'],\n",
    "    'eta0': [0.5],\n",
    "    'power_t': [0.25],\n",
    "    'n_iter_no_change': [5],\n",
    "}\n",
    "\n",
    "squared_grid_l2 = {\n",
    "    #'alpha':[0.00006, 0.00007, 0.00008, 0.00009, 0.00010, 0.00011, 0.00012, 0.00013], \n",
    "    'alpha':10.0**-np.arange(4,7),\n",
    "    #'alpha': [0.00005,0.0001],\n",
    "    'l1_ratio': [0.1,0.3,0.5,0.7,.9,1.0],\n",
    "    #'l1_ratio': [0.0],\n",
    "    'loss': ['squared_loss'],\n",
    "    'max_iter': [10000000],\n",
    "    'penalty': ['l2'],\n",
    "    'early_stopping': [False],\n",
    "    'tol': [0.00000001],\n",
    "    'fit_intercept':[True],\n",
    "    'epsilon': [0.0005,0.001,0.005,0.01,0.03,0.06],\n",
    "    #'epsilon': [0.001,0.005,0.01,0.015],\n",
    "    'shuffle': [False],\n",
    "    'learning_rate': ['optimal'],\n",
    "    'eta0': [0.5],\n",
    "    'power_t': [0.25],\n",
    "    'n_iter_no_change': [5],\n",
    "}\n",
    "\n",
    "squared_grid_l1 = {\n",
    "    #'alpha':[0.00006, 0.00007, 0.00008, 0.00009, 0.00010, 0.00011, 0.00012, 0.00013], \n",
    "    'alpha':10.0**-np.arange(4,7),\n",
    "    #'alpha': [0.00005,0.0001],\n",
    "    'l1_ratio': [0.1,0.3,0.5,0.7,.9,1.0],\n",
    "    #'l1_ratio': [0.0],\n",
    "    'loss': ['squared_loss'],\n",
    "    'max_iter': [10000000],\n",
    "    'penalty': ['l1'],\n",
    "    'early_stopping': [False],\n",
    "    'tol': [0.00000001],\n",
    "    'fit_intercept':[True],\n",
    "    'epsilon': [0.0005,0.001,0.005,0.01,0.03,0.06],\n",
    "    #'epsilon': [0.001,0.005,0.01,0.015],\n",
    "    'shuffle': [False],\n",
    "    'learning_rate': ['optimal'],\n",
    "    'eta0': [0.5],\n",
    "    'power_t': [0.25],\n",
    "    'n_iter_no_change': [5],\n",
    "}\n",
    "\n",
    "\n",
    "\n"
   ]
  },
  {
   "cell_type": "code",
   "execution_count": null,
   "metadata": {},
   "outputs": [],
   "source": [
    "grids = [huber_grid_elastic, huber_grid_l2,huber_grid_l1,squared_grid_elastic,squared_grid_l2,squared_grid_l1]"
   ]
  },
  {
   "cell_type": "code",
   "execution_count": null,
   "metadata": {},
   "outputs": [],
   "source": [
    "10.0**-4"
   ]
  },
  {
   "cell_type": "code",
   "execution_count": null,
   "metadata": {
    "scrolled": false
   },
   "outputs": [],
   "source": [
    "\n",
    "estimators = []\n",
    "for grid in grids:\n",
    "\n",
    "    model = SGDRegressor()\n",
    "    grid = GridSearchCV(estimator=model, param_grid=grid,scoring=mape, n_jobs = -1, cv =5)\n",
    "    grid_result = grid.fit(train_features_norm[regression_cols], train_features_norm['TARGET'])\n",
    "\n",
    "    best_model =grid_result.best_estimator_\n",
    "    print(\"Best: %f using %s\" % (grid_result.best_score_, grid_result.best_params_))\n",
    "    means = grid_result.cv_results_['mean_test_score']\n",
    "    stds = grid_result.cv_results_['std_test_score']\n",
    "    params = grid_result.cv_results_['params']\n",
    "    for mean, stdev, param in zip(means, stds, params):\n",
    "        print(\"%f (%f) with: %r\" % (mean, stdev, param))\n",
    "    estimators.append(best_model)\n",
    "    \n",
    "    \n"
   ]
  },
  {
   "cell_type": "code",
   "execution_count": null,
   "metadata": {},
   "outputs": [],
   "source": [
    "model = SGDRegressor()\n",
    "grid = GridSearchCV(estimator=model, param_grid=huber_grid_elastic,scoring=mape, n_jobs = -1, cv =5)\n",
    "grid_result = grid.fit(train_features_norm[regression_cols], train_features_norm['TARGET'])\n",
    "\n",
    "best_model =grid_result.best_estimator_\n",
    "print(\"Best: %f using %s\" % (grid_result.best_score_, grid_result.best_params_))\n",
    "means = grid_result.cv_results_['mean_test_score']\n",
    "stds = grid_result.cv_results_['std_test_score']\n",
    "params = grid_result.cv_results_['params']\n",
    "for mean, stdev, param in zip(means, stds, params):\n",
    "    print(\"%f (%f) with: %r\" % (mean, stdev, param))"
   ]
  },
  {
   "cell_type": "code",
   "execution_count": null,
   "metadata": {},
   "outputs": [],
   "source": [
    "plt.rc('xtick', labelsize=16) "
   ]
  },
  {
   "cell_type": "code",
   "execution_count": null,
   "metadata": {},
   "outputs": [],
   "source": [
    "i = 0\n",
    "\n",
    "for best_model in estimators:\n",
    "    feature_importance = pd.Series(index = regression_cols, data = np.abs(best_model.coef_))\n",
    "    n_selected_features = (feature_importance>0).sum()\n",
    "    print('{0:d} features, reduction of {1:2.2f}%'.format(\n",
    "        n_selected_features,(1-n_selected_features/len(feature_importance))*100))\n",
    "    fig = plt.figure(figsize = (18,6))\n",
    "    feature_importance.sort_values().tail(30).plot(kind = 'bar')\n",
    "    plt.tight_layout()\n",
    "    plt.savefig('plots/coefs_model_'+str(i)+'.png', dpi = fig.dpi)\n",
    "    plt.show()\n",
    "    i = i+1"
   ]
  },
  {
   "cell_type": "code",
   "execution_count": null,
   "metadata": {},
   "outputs": [],
   "source": []
  },
  {
   "cell_type": "code",
   "execution_count": null,
   "metadata": {},
   "outputs": [],
   "source": [
    "fitted_models=[]\n",
    "for best_model in estimators:\n",
    "    fitted_model = best_model.fit(train_features_norm[regression_cols],train_features_norm['TARGET'])\n",
    "    fitted_models.append(fitted_model)\n",
    "    print('Train error SGD regressor =', round(MAPE(train_features_norm['TARGET'], np.maximum(fitted_model.predict(train_features_norm[regression_cols]),0)), 4), '%')"
   ]
  },
  {
   "cell_type": "code",
   "execution_count": null,
   "metadata": {
    "scrolled": true
   },
   "outputs": [],
   "source": [
    "print('Train error SGD regressor =', round(MAPE(train_features_norm['TARGET'], np.maximum(fitted_model.predict(train_features_norm[regression_cols]),0)), 4), '%')"
   ]
  },
  {
   "cell_type": "code",
   "execution_count": null,
   "metadata": {},
   "outputs": [],
   "source": [
    "i = 0\n",
    "for fitted_model in fitted_models:\n",
    "    predictions = pd.DataFrame({'ID': test_features_norm['ID'],'TARGET': np.maximum(fitted_model.predict(test_features_norm[regression_cols]),0)})\n",
    "    predictions.to_csv('results/global_SGD_regressor_'+str(i)+'.csv', sep=';', index=False)\n",
    "    i = i+1"
   ]
  },
  {
   "cell_type": "code",
   "execution_count": null,
   "metadata": {},
   "outputs": [],
   "source": [
    "i = 0\n",
    "for fitted_model in fitted_models:\n",
    "    joblib_file = 'fitted_models/joblib_model_'+str(i)+'.pkl'\n",
    "    joblib.dump(fitted_model,joblib_file)\n",
    "    i=i+1"
   ]
  },
  {
   "cell_type": "code",
   "execution_count": 24,
   "metadata": {},
   "outputs": [],
   "source": [
    "from sklearn.externals import joblib"
   ]
  },
  {
   "cell_type": "code",
   "execution_count": 35,
   "metadata": {},
   "outputs": [
    {
     "name": "stderr",
     "output_type": "stream",
     "text": [
      "C:\\Users\\Bruker\\Miniconda3\\envs\\gputest\\lib\\site-packages\\sklearn\\base.py:253: UserWarning: Trying to unpickle estimator SGDRegressor from version 0.20.2 when using version 0.20.3. This might lead to breaking code or invalid results. Use at your own risk.\n",
      "  UserWarning)\n"
     ]
    },
    {
     "name": "stdout",
     "output_type": "stream",
     "text": [
      "Train error SGD regressor = 22.969080424630135 %\n"
     ]
    },
    {
     "name": "stderr",
     "output_type": "stream",
     "text": [
      "C:\\Users\\Bruker\\Miniconda3\\envs\\gputest\\lib\\site-packages\\sklearn\\base.py:253: UserWarning: Trying to unpickle estimator SGDRegressor from version 0.20.2 when using version 0.20.3. This might lead to breaking code or invalid results. Use at your own risk.\n",
      "  UserWarning)\n"
     ]
    },
    {
     "name": "stdout",
     "output_type": "stream",
     "text": [
      "Train error SGD regressor = 23.325742343778664 %\n"
     ]
    },
    {
     "name": "stderr",
     "output_type": "stream",
     "text": [
      "C:\\Users\\Bruker\\Miniconda3\\envs\\gputest\\lib\\site-packages\\sklearn\\base.py:253: UserWarning: Trying to unpickle estimator SGDRegressor from version 0.20.2 when using version 0.20.3. This might lead to breaking code or invalid results. Use at your own risk.\n",
      "  UserWarning)\n"
     ]
    },
    {
     "name": "stdout",
     "output_type": "stream",
     "text": [
      "Train error SGD regressor = 24.35275673225673 %\n"
     ]
    },
    {
     "name": "stderr",
     "output_type": "stream",
     "text": [
      "C:\\Users\\Bruker\\Miniconda3\\envs\\gputest\\lib\\site-packages\\sklearn\\base.py:253: UserWarning: Trying to unpickle estimator SGDRegressor from version 0.20.2 when using version 0.20.3. This might lead to breaking code or invalid results. Use at your own risk.\n",
      "  UserWarning)\n"
     ]
    },
    {
     "name": "stdout",
     "output_type": "stream",
     "text": [
      "Train error SGD regressor = 27.532021966448468 %\n"
     ]
    },
    {
     "name": "stderr",
     "output_type": "stream",
     "text": [
      "C:\\Users\\Bruker\\Miniconda3\\envs\\gputest\\lib\\site-packages\\sklearn\\base.py:253: UserWarning: Trying to unpickle estimator SGDRegressor from version 0.20.2 when using version 0.20.3. This might lead to breaking code or invalid results. Use at your own risk.\n",
      "  UserWarning)\n"
     ]
    },
    {
     "name": "stdout",
     "output_type": "stream",
     "text": [
      "Train error SGD regressor = 32.69515225955074 %\n"
     ]
    },
    {
     "name": "stderr",
     "output_type": "stream",
     "text": [
      "C:\\Users\\Bruker\\Miniconda3\\envs\\gputest\\lib\\site-packages\\sklearn\\base.py:253: UserWarning: Trying to unpickle estimator SGDRegressor from version 0.20.2 when using version 0.20.3. This might lead to breaking code or invalid results. Use at your own risk.\n",
      "  UserWarning)\n"
     ]
    },
    {
     "name": "stdout",
     "output_type": "stream",
     "text": [
      "Train error SGD regressor = 27.532021966448468 %\n"
     ]
    }
   ],
   "source": [
    "for i in range(0,6):\n",
    "    loaded_model = joblib.load('fitted_models/joblib_model_'+str(i)+'.pkl')\n",
    "    print('Train error SGD regressor =', MAPE(train_features_norm['TARGET'], np.maximum(loaded_model.predict(train_features_norm[regression_cols]),0)), '%')\n",
    "    predictions = pd.DataFrame({'ID': test_features_norm['ID'],'TARGET': np.maximum(loaded_model.predict(test_features_norm[regression_cols]),0)})\n",
    "    predictions.to_csv('results/global_SGD_regressor_v2_'+str(i)+'.csv', sep=';', index=False)"
   ]
  },
  {
   "cell_type": "code",
   "execution_count": null,
   "metadata": {},
   "outputs": [],
   "source": []
  },
  {
   "cell_type": "markdown",
   "metadata": {},
   "source": [
    "### Training local models"
   ]
  },
  {
   "cell_type": "code",
   "execution_count": 98,
   "metadata": {},
   "outputs": [],
   "source": [
    "grid = {\n",
    "    #'alpha':[0.00006, 0.00007, 0.00008, 0.00009, 0.00010, 0.00011, 0.00012, 0.00013], \n",
    "    #'alpha':10.0**-np.arange(2,5),\n",
    "    'alpha': [0.00001,0.0001,0.0005,0.001],\n",
    "    'l1_ratio': [0.05,0.1,0.3,0.5,0.7,.9,1.0],\n",
    "    'loss': ['huber'],\n",
    "    'max_iter': [10000000],\n",
    "    'penalty': ['elasticnet'],\n",
    "    'early_stopping': [False],\n",
    "    'tol': [0.00000001],\n",
    "    'fit_intercept':[True],\n",
    "    'epsilon': [0.0001,0.0005,0.001,0.005,0.01,0.03],\n",
    "    #'epsilon': [0.0001,0.001,0.005,0.01],\n",
    "    'shuffle': [False],\n",
    "    'learning_rate': ['optimal'],\n",
    "    'eta0': [0.5],\n",
    "    'power_t': [0.25],\n",
    "    'n_iter_no_change': [5],\n",
    "}\n"
   ]
  },
  {
   "cell_type": "code",
   "execution_count": null,
   "metadata": {},
   "outputs": [],
   "source": []
  },
  {
   "cell_type": "code",
   "execution_count": 99,
   "metadata": {},
   "outputs": [],
   "source": [
    "model = SGDRegressor()\n",
    "grid = GridSearchCV(estimator=model, param_grid=grid,scoring=mape, n_jobs = -1, cv =5)"
   ]
  },
  {
   "cell_type": "code",
   "execution_count": 100,
   "metadata": {},
   "outputs": [
    {
     "name": "stderr",
     "output_type": "stream",
     "text": [
      "C:\\Users\\Bruker\\Miniconda3\\envs\\gputest\\lib\\site-packages\\sklearn\\model_selection\\_search.py:841: DeprecationWarning: The default of the `iid` parameter will change from True to False in version 0.22 and will be removed in 0.24. This will change numeric results when test-set sizes are unequal.\n",
      "  DeprecationWarning)\n"
     ]
    },
    {
     "name": "stdout",
     "output_type": "stream",
     "text": [
      "Product_id:  165\n",
      "MAPE Score:  -22.1781429909937\n"
     ]
    },
    {
     "name": "stderr",
     "output_type": "stream",
     "text": [
      "C:\\Users\\Bruker\\Miniconda3\\envs\\gputest\\lib\\site-packages\\sklearn\\model_selection\\_search.py:841: DeprecationWarning: The default of the `iid` parameter will change from True to False in version 0.22 and will be removed in 0.24. This will change numeric results when test-set sizes are unequal.\n",
      "  DeprecationWarning)\n"
     ]
    },
    {
     "name": "stdout",
     "output_type": "stream",
     "text": [
      "Product_id:  225\n",
      "MAPE Score:  -24.181835107009054\n"
     ]
    },
    {
     "name": "stderr",
     "output_type": "stream",
     "text": [
      "C:\\Users\\Bruker\\Miniconda3\\envs\\gputest\\lib\\site-packages\\sklearn\\model_selection\\_search.py:841: DeprecationWarning: The default of the `iid` parameter will change from True to False in version 0.22 and will be removed in 0.24. This will change numeric results when test-set sizes are unequal.\n",
      "  DeprecationWarning)\n"
     ]
    },
    {
     "name": "stdout",
     "output_type": "stream",
     "text": [
      "Product_id:  111\n",
      "MAPE Score:  -24.49231417237781\n"
     ]
    },
    {
     "name": "stderr",
     "output_type": "stream",
     "text": [
      "C:\\Users\\Bruker\\Miniconda3\\envs\\gputest\\lib\\site-packages\\sklearn\\model_selection\\_search.py:841: DeprecationWarning: The default of the `iid` parameter will change from True to False in version 0.22 and will be removed in 0.24. This will change numeric results when test-set sizes are unequal.\n",
      "  DeprecationWarning)\n"
     ]
    },
    {
     "name": "stdout",
     "output_type": "stream",
     "text": [
      "Product_id:  16\n",
      "MAPE Score:  -21.930098725219715\n"
     ]
    },
    {
     "name": "stderr",
     "output_type": "stream",
     "text": [
      "C:\\Users\\Bruker\\Miniconda3\\envs\\gputest\\lib\\site-packages\\sklearn\\model_selection\\_search.py:841: DeprecationWarning: The default of the `iid` parameter will change from True to False in version 0.22 and will be removed in 0.24. This will change numeric results when test-set sizes are unequal.\n",
      "  DeprecationWarning)\n"
     ]
    },
    {
     "name": "stdout",
     "output_type": "stream",
     "text": [
      "Product_id:  175\n",
      "MAPE Score:  -22.351290705433456\n"
     ]
    },
    {
     "name": "stderr",
     "output_type": "stream",
     "text": [
      "C:\\Users\\Bruker\\Miniconda3\\envs\\gputest\\lib\\site-packages\\sklearn\\model_selection\\_search.py:841: DeprecationWarning: The default of the `iid` parameter will change from True to False in version 0.22 and will be removed in 0.24. This will change numeric results when test-set sizes are unequal.\n",
      "  DeprecationWarning)\n"
     ]
    },
    {
     "name": "stdout",
     "output_type": "stream",
     "text": [
      "Product_id:  19\n",
      "MAPE Score:  -27.697363626784565\n"
     ]
    },
    {
     "name": "stderr",
     "output_type": "stream",
     "text": [
      "C:\\Users\\Bruker\\Miniconda3\\envs\\gputest\\lib\\site-packages\\sklearn\\model_selection\\_search.py:841: DeprecationWarning: The default of the `iid` parameter will change from True to False in version 0.22 and will be removed in 0.24. This will change numeric results when test-set sizes are unequal.\n",
      "  DeprecationWarning)\n"
     ]
    },
    {
     "name": "stdout",
     "output_type": "stream",
     "text": [
      "Product_id:  100\n",
      "MAPE Score:  -20.80539757885346\n"
     ]
    },
    {
     "name": "stderr",
     "output_type": "stream",
     "text": [
      "C:\\Users\\Bruker\\Miniconda3\\envs\\gputest\\lib\\site-packages\\sklearn\\model_selection\\_search.py:841: DeprecationWarning: The default of the `iid` parameter will change from True to False in version 0.22 and will be removed in 0.24. This will change numeric results when test-set sizes are unequal.\n",
      "  DeprecationWarning)\n"
     ]
    },
    {
     "name": "stdout",
     "output_type": "stream",
     "text": [
      "Product_id:  253\n",
      "MAPE Score:  -23.3352874246767\n"
     ]
    },
    {
     "name": "stderr",
     "output_type": "stream",
     "text": [
      "C:\\Users\\Bruker\\Miniconda3\\envs\\gputest\\lib\\site-packages\\sklearn\\model_selection\\_search.py:841: DeprecationWarning: The default of the `iid` parameter will change from True to False in version 0.22 and will be removed in 0.24. This will change numeric results when test-set sizes are unequal.\n",
      "  DeprecationWarning)\n"
     ]
    },
    {
     "name": "stdout",
     "output_type": "stream",
     "text": [
      "Product_id:  304\n",
      "MAPE Score:  -22.250589548353947\n"
     ]
    },
    {
     "name": "stderr",
     "output_type": "stream",
     "text": [
      "C:\\Users\\Bruker\\Miniconda3\\envs\\gputest\\lib\\site-packages\\sklearn\\model_selection\\_search.py:841: DeprecationWarning: The default of the `iid` parameter will change from True to False in version 0.22 and will be removed in 0.24. This will change numeric results when test-set sizes are unequal.\n",
      "  DeprecationWarning)\n"
     ]
    },
    {
     "name": "stdout",
     "output_type": "stream",
     "text": [
      "Product_id:  239\n",
      "MAPE Score:  -24.118689259851063\n"
     ]
    },
    {
     "name": "stderr",
     "output_type": "stream",
     "text": [
      "C:\\Users\\Bruker\\Miniconda3\\envs\\gputest\\lib\\site-packages\\sklearn\\model_selection\\_search.py:841: DeprecationWarning: The default of the `iid` parameter will change from True to False in version 0.22 and will be removed in 0.24. This will change numeric results when test-set sizes are unequal.\n",
      "  DeprecationWarning)\n"
     ]
    },
    {
     "name": "stdout",
     "output_type": "stream",
     "text": [
      "Product_id:  141\n",
      "MAPE Score:  -21.45148994382464\n"
     ]
    },
    {
     "name": "stderr",
     "output_type": "stream",
     "text": [
      "C:\\Users\\Bruker\\Miniconda3\\envs\\gputest\\lib\\site-packages\\sklearn\\model_selection\\_search.py:841: DeprecationWarning: The default of the `iid` parameter will change from True to False in version 0.22 and will be removed in 0.24. This will change numeric results when test-set sizes are unequal.\n",
      "  DeprecationWarning)\n"
     ]
    },
    {
     "name": "stdout",
     "output_type": "stream",
     "text": [
      "Product_id:  309\n",
      "MAPE Score:  -20.070548523104375\n"
     ]
    },
    {
     "name": "stderr",
     "output_type": "stream",
     "text": [
      "C:\\Users\\Bruker\\Miniconda3\\envs\\gputest\\lib\\site-packages\\sklearn\\model_selection\\_search.py:841: DeprecationWarning: The default of the `iid` parameter will change from True to False in version 0.22 and will be removed in 0.24. This will change numeric results when test-set sizes are unequal.\n",
      "  DeprecationWarning)\n"
     ]
    },
    {
     "name": "stdout",
     "output_type": "stream",
     "text": [
      "Product_id:  105\n",
      "MAPE Score:  -24.565050754413296\n"
     ]
    },
    {
     "name": "stderr",
     "output_type": "stream",
     "text": [
      "C:\\Users\\Bruker\\Miniconda3\\envs\\gputest\\lib\\site-packages\\sklearn\\model_selection\\_search.py:841: DeprecationWarning: The default of the `iid` parameter will change from True to False in version 0.22 and will be removed in 0.24. This will change numeric results when test-set sizes are unequal.\n",
      "  DeprecationWarning)\n"
     ]
    },
    {
     "name": "stdout",
     "output_type": "stream",
     "text": [
      "Product_id:  46\n",
      "MAPE Score:  -19.50177091242204\n"
     ]
    },
    {
     "name": "stderr",
     "output_type": "stream",
     "text": [
      "C:\\Users\\Bruker\\Miniconda3\\envs\\gputest\\lib\\site-packages\\sklearn\\model_selection\\_search.py:841: DeprecationWarning: The default of the `iid` parameter will change from True to False in version 0.22 and will be removed in 0.24. This will change numeric results when test-set sizes are unequal.\n",
      "  DeprecationWarning)\n"
     ]
    },
    {
     "name": "stdout",
     "output_type": "stream",
     "text": [
      "Product_id:  192\n",
      "MAPE Score:  -22.99074633755445\n"
     ]
    },
    {
     "name": "stderr",
     "output_type": "stream",
     "text": [
      "C:\\Users\\Bruker\\Miniconda3\\envs\\gputest\\lib\\site-packages\\sklearn\\model_selection\\_search.py:841: DeprecationWarning: The default of the `iid` parameter will change from True to False in version 0.22 and will be removed in 0.24. This will change numeric results when test-set sizes are unequal.\n",
      "  DeprecationWarning)\n"
     ]
    },
    {
     "name": "stdout",
     "output_type": "stream",
     "text": [
      "Product_id:  51\n",
      "MAPE Score:  -20.550861074727475\n"
     ]
    },
    {
     "name": "stderr",
     "output_type": "stream",
     "text": [
      "C:\\Users\\Bruker\\Miniconda3\\envs\\gputest\\lib\\site-packages\\sklearn\\model_selection\\_search.py:841: DeprecationWarning: The default of the `iid` parameter will change from True to False in version 0.22 and will be removed in 0.24. This will change numeric results when test-set sizes are unequal.\n",
      "  DeprecationWarning)\n"
     ]
    },
    {
     "name": "stdout",
     "output_type": "stream",
     "text": [
      "Product_id:  138\n",
      "MAPE Score:  -24.56897544017006\n"
     ]
    },
    {
     "name": "stderr",
     "output_type": "stream",
     "text": [
      "C:\\Users\\Bruker\\Miniconda3\\envs\\gputest\\lib\\site-packages\\sklearn\\model_selection\\_search.py:841: DeprecationWarning: The default of the `iid` parameter will change from True to False in version 0.22 and will be removed in 0.24. This will change numeric results when test-set sizes are unequal.\n",
      "  DeprecationWarning)\n"
     ]
    },
    {
     "name": "stdout",
     "output_type": "stream",
     "text": [
      "Product_id:  77\n",
      "MAPE Score:  -21.07402569012213\n"
     ]
    },
    {
     "name": "stderr",
     "output_type": "stream",
     "text": [
      "C:\\Users\\Bruker\\Miniconda3\\envs\\gputest\\lib\\site-packages\\sklearn\\model_selection\\_search.py:841: DeprecationWarning: The default of the `iid` parameter will change from True to False in version 0.22 and will be removed in 0.24. This will change numeric results when test-set sizes are unequal.\n",
      "  DeprecationWarning)\n"
     ]
    },
    {
     "name": "stdout",
     "output_type": "stream",
     "text": [
      "Product_id:  267\n",
      "MAPE Score:  -23.59748088338967\n"
     ]
    },
    {
     "name": "stderr",
     "output_type": "stream",
     "text": [
      "C:\\Users\\Bruker\\Miniconda3\\envs\\gputest\\lib\\site-packages\\sklearn\\model_selection\\_search.py:841: DeprecationWarning: The default of the `iid` parameter will change from True to False in version 0.22 and will be removed in 0.24. This will change numeric results when test-set sizes are unequal.\n",
      "  DeprecationWarning)\n"
     ]
    },
    {
     "name": "stdout",
     "output_type": "stream",
     "text": [
      "Product_id:  82\n",
      "MAPE Score:  -23.481637536914064\n"
     ]
    },
    {
     "name": "stderr",
     "output_type": "stream",
     "text": [
      "C:\\Users\\Bruker\\Miniconda3\\envs\\gputest\\lib\\site-packages\\sklearn\\model_selection\\_search.py:841: DeprecationWarning: The default of the `iid` parameter will change from True to False in version 0.22 and will be removed in 0.24. This will change numeric results when test-set sizes are unequal.\n",
      "  DeprecationWarning)\n"
     ]
    },
    {
     "name": "stdout",
     "output_type": "stream",
     "text": [
      "Product_id:  201\n",
      "MAPE Score:  -19.982743914735153\n",
      "Product_id:  310\n",
      "MAPE Score:  -22.51089068820312\n"
     ]
    },
    {
     "name": "stderr",
     "output_type": "stream",
     "text": [
      "C:\\Users\\Bruker\\Miniconda3\\envs\\gputest\\lib\\site-packages\\sklearn\\model_selection\\_search.py:841: DeprecationWarning: The default of the `iid` parameter will change from True to False in version 0.22 and will be removed in 0.24. This will change numeric results when test-set sizes are unequal.\n",
      "  DeprecationWarning)\n"
     ]
    },
    {
     "name": "stdout",
     "output_type": "stream",
     "text": [
      "Product_id:  108\n",
      "MAPE Score:  -21.657318006099153\n"
     ]
    },
    {
     "name": "stderr",
     "output_type": "stream",
     "text": [
      "C:\\Users\\Bruker\\Miniconda3\\envs\\gputest\\lib\\site-packages\\sklearn\\model_selection\\_search.py:841: DeprecationWarning: The default of the `iid` parameter will change from True to False in version 0.22 and will be removed in 0.24. This will change numeric results when test-set sizes are unequal.\n",
      "  DeprecationWarning)\n"
     ]
    },
    {
     "name": "stdout",
     "output_type": "stream",
     "text": [
      "Product_id:  72\n",
      "MAPE Score:  -23.282481561855107\n"
     ]
    },
    {
     "name": "stderr",
     "output_type": "stream",
     "text": [
      "C:\\Users\\Bruker\\Miniconda3\\envs\\gputest\\lib\\site-packages\\sklearn\\model_selection\\_search.py:841: DeprecationWarning: The default of the `iid` parameter will change from True to False in version 0.22 and will be removed in 0.24. This will change numeric results when test-set sizes are unequal.\n",
      "  DeprecationWarning)\n"
     ]
    },
    {
     "name": "stdout",
     "output_type": "stream",
     "text": [
      "Product_id:  115\n",
      "MAPE Score:  -23.99705450402712\n"
     ]
    },
    {
     "name": "stderr",
     "output_type": "stream",
     "text": [
      "C:\\Users\\Bruker\\Miniconda3\\envs\\gputest\\lib\\site-packages\\sklearn\\model_selection\\_search.py:841: DeprecationWarning: The default of the `iid` parameter will change from True to False in version 0.22 and will be removed in 0.24. This will change numeric results when test-set sizes are unequal.\n",
      "  DeprecationWarning)\n"
     ]
    },
    {
     "name": "stdout",
     "output_type": "stream",
     "text": [
      "Product_id:  133\n",
      "MAPE Score:  -22.652935957785974\n"
     ]
    },
    {
     "name": "stderr",
     "output_type": "stream",
     "text": [
      "C:\\Users\\Bruker\\Miniconda3\\envs\\gputest\\lib\\site-packages\\sklearn\\model_selection\\_search.py:841: DeprecationWarning: The default of the `iid` parameter will change from True to False in version 0.22 and will be removed in 0.24. This will change numeric results when test-set sizes are unequal.\n",
      "  DeprecationWarning)\n"
     ]
    },
    {
     "name": "stdout",
     "output_type": "stream",
     "text": [
      "Product_id:  221\n",
      "MAPE Score:  -20.41957002644177\n"
     ]
    },
    {
     "name": "stderr",
     "output_type": "stream",
     "text": [
      "C:\\Users\\Bruker\\Miniconda3\\envs\\gputest\\lib\\site-packages\\sklearn\\model_selection\\_search.py:841: DeprecationWarning: The default of the `iid` parameter will change from True to False in version 0.22 and will be removed in 0.24. This will change numeric results when test-set sizes are unequal.\n",
      "  DeprecationWarning)\n"
     ]
    },
    {
     "name": "stdout",
     "output_type": "stream",
     "text": [
      "Product_id:  47\n",
      "MAPE Score:  -24.177893455197474\n"
     ]
    },
    {
     "name": "stderr",
     "output_type": "stream",
     "text": [
      "C:\\Users\\Bruker\\Miniconda3\\envs\\gputest\\lib\\site-packages\\sklearn\\model_selection\\_search.py:841: DeprecationWarning: The default of the `iid` parameter will change from True to False in version 0.22 and will be removed in 0.24. This will change numeric results when test-set sizes are unequal.\n",
      "  DeprecationWarning)\n"
     ]
    },
    {
     "name": "stdout",
     "output_type": "stream",
     "text": [
      "Product_id:  259\n",
      "MAPE Score:  -21.734464282880083\n"
     ]
    },
    {
     "name": "stderr",
     "output_type": "stream",
     "text": [
      "C:\\Users\\Bruker\\Miniconda3\\envs\\gputest\\lib\\site-packages\\sklearn\\model_selection\\_search.py:841: DeprecationWarning: The default of the `iid` parameter will change from True to False in version 0.22 and will be removed in 0.24. This will change numeric results when test-set sizes are unequal.\n",
      "  DeprecationWarning)\n"
     ]
    },
    {
     "name": "stdout",
     "output_type": "stream",
     "text": [
      "Product_id:  281\n",
      "MAPE Score:  -21.560889849509817\n"
     ]
    },
    {
     "name": "stderr",
     "output_type": "stream",
     "text": [
      "C:\\Users\\Bruker\\Miniconda3\\envs\\gputest\\lib\\site-packages\\sklearn\\model_selection\\_search.py:841: DeprecationWarning: The default of the `iid` parameter will change from True to False in version 0.22 and will be removed in 0.24. This will change numeric results when test-set sizes are unequal.\n",
      "  DeprecationWarning)\n"
     ]
    },
    {
     "name": "stdout",
     "output_type": "stream",
     "text": [
      "Product_id:  87\n",
      "MAPE Score:  -19.922565328522094\n"
     ]
    },
    {
     "name": "stderr",
     "output_type": "stream",
     "text": [
      "C:\\Users\\Bruker\\Miniconda3\\envs\\gputest\\lib\\site-packages\\sklearn\\model_selection\\_search.py:841: DeprecationWarning: The default of the `iid` parameter will change from True to False in version 0.22 and will be removed in 0.24. This will change numeric results when test-set sizes are unequal.\n",
      "  DeprecationWarning)\n"
     ]
    },
    {
     "name": "stdout",
     "output_type": "stream",
     "text": [
      "Product_id:  237\n",
      "MAPE Score:  -23.60569709403949\n"
     ]
    },
    {
     "name": "stderr",
     "output_type": "stream",
     "text": [
      "C:\\Users\\Bruker\\Miniconda3\\envs\\gputest\\lib\\site-packages\\sklearn\\model_selection\\_search.py:841: DeprecationWarning: The default of the `iid` parameter will change from True to False in version 0.22 and will be removed in 0.24. This will change numeric results when test-set sizes are unequal.\n",
      "  DeprecationWarning)\n"
     ]
    },
    {
     "name": "stdout",
     "output_type": "stream",
     "text": [
      "Product_id:  4\n",
      "MAPE Score:  -21.576528663425524\n"
     ]
    },
    {
     "name": "stderr",
     "output_type": "stream",
     "text": [
      "C:\\Users\\Bruker\\Miniconda3\\envs\\gputest\\lib\\site-packages\\sklearn\\model_selection\\_search.py:841: DeprecationWarning: The default of the `iid` parameter will change from True to False in version 0.22 and will be removed in 0.24. This will change numeric results when test-set sizes are unequal.\n",
      "  DeprecationWarning)\n"
     ]
    },
    {
     "name": "stdout",
     "output_type": "stream",
     "text": [
      "Product_id:  42\n",
      "MAPE Score:  -24.32226008823044\n"
     ]
    },
    {
     "name": "stderr",
     "output_type": "stream",
     "text": [
      "C:\\Users\\Bruker\\Miniconda3\\envs\\gputest\\lib\\site-packages\\sklearn\\model_selection\\_search.py:841: DeprecationWarning: The default of the `iid` parameter will change from True to False in version 0.22 and will be removed in 0.24. This will change numeric results when test-set sizes are unequal.\n",
      "  DeprecationWarning)\n"
     ]
    },
    {
     "name": "stdout",
     "output_type": "stream",
     "text": [
      "Product_id:  66\n",
      "MAPE Score:  -21.351402545891784\n"
     ]
    },
    {
     "name": "stderr",
     "output_type": "stream",
     "text": [
      "C:\\Users\\Bruker\\Miniconda3\\envs\\gputest\\lib\\site-packages\\sklearn\\model_selection\\_search.py:841: DeprecationWarning: The default of the `iid` parameter will change from True to False in version 0.22 and will be removed in 0.24. This will change numeric results when test-set sizes are unequal.\n",
      "  DeprecationWarning)\n"
     ]
    },
    {
     "name": "stdout",
     "output_type": "stream",
     "text": [
      "Product_id:  205\n",
      "MAPE Score:  -22.04410484008619\n"
     ]
    },
    {
     "name": "stderr",
     "output_type": "stream",
     "text": [
      "C:\\Users\\Bruker\\Miniconda3\\envs\\gputest\\lib\\site-packages\\sklearn\\model_selection\\_search.py:841: DeprecationWarning: The default of the `iid` parameter will change from True to False in version 0.22 and will be removed in 0.24. This will change numeric results when test-set sizes are unequal.\n",
      "  DeprecationWarning)\n"
     ]
    },
    {
     "name": "stdout",
     "output_type": "stream",
     "text": [
      "Product_id:  93\n",
      "MAPE Score:  -20.84665619086866\n"
     ]
    },
    {
     "name": "stderr",
     "output_type": "stream",
     "text": [
      "C:\\Users\\Bruker\\Miniconda3\\envs\\gputest\\lib\\site-packages\\sklearn\\model_selection\\_search.py:841: DeprecationWarning: The default of the `iid` parameter will change from True to False in version 0.22 and will be removed in 0.24. This will change numeric results when test-set sizes are unequal.\n",
      "  DeprecationWarning)\n"
     ]
    },
    {
     "name": "stdout",
     "output_type": "stream",
     "text": [
      "Product_id:  130\n",
      "MAPE Score:  -23.624268855729632\n"
     ]
    },
    {
     "name": "stderr",
     "output_type": "stream",
     "text": [
      "C:\\Users\\Bruker\\Miniconda3\\envs\\gputest\\lib\\site-packages\\sklearn\\model_selection\\_search.py:841: DeprecationWarning: The default of the `iid` parameter will change from True to False in version 0.22 and will be removed in 0.24. This will change numeric results when test-set sizes are unequal.\n",
      "  DeprecationWarning)\n"
     ]
    },
    {
     "name": "stdout",
     "output_type": "stream",
     "text": [
      "Product_id:  124\n",
      "MAPE Score:  -22.269516096669797\n"
     ]
    },
    {
     "name": "stderr",
     "output_type": "stream",
     "text": [
      "C:\\Users\\Bruker\\Miniconda3\\envs\\gputest\\lib\\site-packages\\sklearn\\model_selection\\_search.py:841: DeprecationWarning: The default of the `iid` parameter will change from True to False in version 0.22 and will be removed in 0.24. This will change numeric results when test-set sizes are unequal.\n",
      "  DeprecationWarning)\n"
     ]
    },
    {
     "name": "stdout",
     "output_type": "stream",
     "text": [
      "Product_id:  76\n",
      "MAPE Score:  -28.341158049738464\n"
     ]
    },
    {
     "name": "stderr",
     "output_type": "stream",
     "text": [
      "C:\\Users\\Bruker\\Miniconda3\\envs\\gputest\\lib\\site-packages\\sklearn\\model_selection\\_search.py:841: DeprecationWarning: The default of the `iid` parameter will change from True to False in version 0.22 and will be removed in 0.24. This will change numeric results when test-set sizes are unequal.\n",
      "  DeprecationWarning)\n"
     ]
    },
    {
     "name": "stdout",
     "output_type": "stream",
     "text": [
      "Product_id:  53\n",
      "MAPE Score:  -23.242080867519118\n"
     ]
    },
    {
     "name": "stderr",
     "output_type": "stream",
     "text": [
      "C:\\Users\\Bruker\\Miniconda3\\envs\\gputest\\lib\\site-packages\\sklearn\\model_selection\\_search.py:841: DeprecationWarning: The default of the `iid` parameter will change from True to False in version 0.22 and will be removed in 0.24. This will change numeric results when test-set sizes are unequal.\n",
      "  DeprecationWarning)\n"
     ]
    },
    {
     "name": "stdout",
     "output_type": "stream",
     "text": [
      "Product_id:  157\n",
      "MAPE Score:  -22.26918477636475\n"
     ]
    },
    {
     "name": "stderr",
     "output_type": "stream",
     "text": [
      "C:\\Users\\Bruker\\Miniconda3\\envs\\gputest\\lib\\site-packages\\sklearn\\model_selection\\_search.py:841: DeprecationWarning: The default of the `iid` parameter will change from True to False in version 0.22 and will be removed in 0.24. This will change numeric results when test-set sizes are unequal.\n",
      "  DeprecationWarning)\n"
     ]
    },
    {
     "name": "stdout",
     "output_type": "stream",
     "text": [
      "Product_id:  36\n",
      "MAPE Score:  -20.740637143013114\n"
     ]
    },
    {
     "name": "stderr",
     "output_type": "stream",
     "text": [
      "C:\\Users\\Bruker\\Miniconda3\\envs\\gputest\\lib\\site-packages\\sklearn\\model_selection\\_search.py:841: DeprecationWarning: The default of the `iid` parameter will change from True to False in version 0.22 and will be removed in 0.24. This will change numeric results when test-set sizes are unequal.\n",
      "  DeprecationWarning)\n"
     ]
    },
    {
     "name": "stdout",
     "output_type": "stream",
     "text": [
      "Product_id:  195\n",
      "MAPE Score:  -23.138069966454424\n"
     ]
    },
    {
     "name": "stderr",
     "output_type": "stream",
     "text": [
      "C:\\Users\\Bruker\\Miniconda3\\envs\\gputest\\lib\\site-packages\\sklearn\\model_selection\\_search.py:841: DeprecationWarning: The default of the `iid` parameter will change from True to False in version 0.22 and will be removed in 0.24. This will change numeric results when test-set sizes are unequal.\n",
      "  DeprecationWarning)\n"
     ]
    },
    {
     "name": "stdout",
     "output_type": "stream",
     "text": [
      "Product_id:  137\n",
      "MAPE Score:  -23.67024996787295\n"
     ]
    },
    {
     "name": "stderr",
     "output_type": "stream",
     "text": [
      "C:\\Users\\Bruker\\Miniconda3\\envs\\gputest\\lib\\site-packages\\sklearn\\model_selection\\_search.py:841: DeprecationWarning: The default of the `iid` parameter will change from True to False in version 0.22 and will be removed in 0.24. This will change numeric results when test-set sizes are unequal.\n",
      "  DeprecationWarning)\n"
     ]
    },
    {
     "name": "stdout",
     "output_type": "stream",
     "text": [
      "Product_id:  256\n",
      "MAPE Score:  -24.736040903164497\n"
     ]
    },
    {
     "name": "stderr",
     "output_type": "stream",
     "text": [
      "C:\\Users\\Bruker\\Miniconda3\\envs\\gputest\\lib\\site-packages\\sklearn\\model_selection\\_search.py:841: DeprecationWarning: The default of the `iid` parameter will change from True to False in version 0.22 and will be removed in 0.24. This will change numeric results when test-set sizes are unequal.\n",
      "  DeprecationWarning)\n"
     ]
    },
    {
     "name": "stdout",
     "output_type": "stream",
     "text": [
      "Product_id:  91\n",
      "MAPE Score:  -21.021095484384215\n"
     ]
    },
    {
     "name": "stderr",
     "output_type": "stream",
     "text": [
      "C:\\Users\\Bruker\\Miniconda3\\envs\\gputest\\lib\\site-packages\\sklearn\\model_selection\\_search.py:841: DeprecationWarning: The default of the `iid` parameter will change from True to False in version 0.22 and will be removed in 0.24. This will change numeric results when test-set sizes are unequal.\n",
      "  DeprecationWarning)\n"
     ]
    },
    {
     "name": "stdout",
     "output_type": "stream",
     "text": [
      "Product_id:  268\n",
      "MAPE Score:  -21.242449298232735\n"
     ]
    },
    {
     "name": "stderr",
     "output_type": "stream",
     "text": [
      "C:\\Users\\Bruker\\Miniconda3\\envs\\gputest\\lib\\site-packages\\sklearn\\model_selection\\_search.py:841: DeprecationWarning: The default of the `iid` parameter will change from True to False in version 0.22 and will be removed in 0.24. This will change numeric results when test-set sizes are unequal.\n",
      "  DeprecationWarning)\n"
     ]
    },
    {
     "name": "stdout",
     "output_type": "stream",
     "text": [
      "Product_id:  62\n",
      "MAPE Score:  -21.244187332519232\n"
     ]
    },
    {
     "name": "stderr",
     "output_type": "stream",
     "text": [
      "C:\\Users\\Bruker\\Miniconda3\\envs\\gputest\\lib\\site-packages\\sklearn\\model_selection\\_search.py:841: DeprecationWarning: The default of the `iid` parameter will change from True to False in version 0.22 and will be removed in 0.24. This will change numeric results when test-set sizes are unequal.\n",
      "  DeprecationWarning)\n"
     ]
    },
    {
     "name": "stdout",
     "output_type": "stream",
     "text": [
      "Product_id:  150\n",
      "MAPE Score:  -21.285056503914642\n"
     ]
    },
    {
     "name": "stderr",
     "output_type": "stream",
     "text": [
      "C:\\Users\\Bruker\\Miniconda3\\envs\\gputest\\lib\\site-packages\\sklearn\\model_selection\\_search.py:841: DeprecationWarning: The default of the `iid` parameter will change from True to False in version 0.22 and will be removed in 0.24. This will change numeric results when test-set sizes are unequal.\n",
      "  DeprecationWarning)\n"
     ]
    },
    {
     "name": "stdout",
     "output_type": "stream",
     "text": [
      "Product_id:  228\n",
      "MAPE Score:  -22.407008476689494\n"
     ]
    },
    {
     "name": "stderr",
     "output_type": "stream",
     "text": [
      "C:\\Users\\Bruker\\Miniconda3\\envs\\gputest\\lib\\site-packages\\sklearn\\model_selection\\_search.py:841: DeprecationWarning: The default of the `iid` parameter will change from True to False in version 0.22 and will be removed in 0.24. This will change numeric results when test-set sizes are unequal.\n",
      "  DeprecationWarning)\n"
     ]
    },
    {
     "name": "stdout",
     "output_type": "stream",
     "text": [
      "Product_id:  29\n",
      "MAPE Score:  -22.1606768540268\n"
     ]
    },
    {
     "name": "stderr",
     "output_type": "stream",
     "text": [
      "C:\\Users\\Bruker\\Miniconda3\\envs\\gputest\\lib\\site-packages\\sklearn\\model_selection\\_search.py:841: DeprecationWarning: The default of the `iid` parameter will change from True to False in version 0.22 and will be removed in 0.24. This will change numeric results when test-set sizes are unequal.\n",
      "  DeprecationWarning)\n"
     ]
    },
    {
     "name": "stdout",
     "output_type": "stream",
     "text": [
      "Product_id:  258\n",
      "MAPE Score:  -21.026678400315923\n"
     ]
    },
    {
     "name": "stderr",
     "output_type": "stream",
     "text": [
      "C:\\Users\\Bruker\\Miniconda3\\envs\\gputest\\lib\\site-packages\\sklearn\\model_selection\\_search.py:841: DeprecationWarning: The default of the `iid` parameter will change from True to False in version 0.22 and will be removed in 0.24. This will change numeric results when test-set sizes are unequal.\n",
      "  DeprecationWarning)\n"
     ]
    },
    {
     "name": "stdout",
     "output_type": "stream",
     "text": [
      "Product_id:  12\n",
      "MAPE Score:  -22.85651946281435\n"
     ]
    },
    {
     "name": "stderr",
     "output_type": "stream",
     "text": [
      "C:\\Users\\Bruker\\Miniconda3\\envs\\gputest\\lib\\site-packages\\sklearn\\model_selection\\_search.py:841: DeprecationWarning: The default of the `iid` parameter will change from True to False in version 0.22 and will be removed in 0.24. This will change numeric results when test-set sizes are unequal.\n",
      "  DeprecationWarning)\n"
     ]
    },
    {
     "name": "stdout",
     "output_type": "stream",
     "text": [
      "Product_id:  288\n",
      "MAPE Score:  -20.650219052061043\n"
     ]
    },
    {
     "name": "stderr",
     "output_type": "stream",
     "text": [
      "C:\\Users\\Bruker\\Miniconda3\\envs\\gputest\\lib\\site-packages\\sklearn\\model_selection\\_search.py:841: DeprecationWarning: The default of the `iid` parameter will change from True to False in version 0.22 and will be removed in 0.24. This will change numeric results when test-set sizes are unequal.\n",
      "  DeprecationWarning)\n"
     ]
    },
    {
     "name": "stdout",
     "output_type": "stream",
     "text": [
      "Product_id:  298\n",
      "MAPE Score:  -20.897436400323606\n"
     ]
    },
    {
     "name": "stderr",
     "output_type": "stream",
     "text": [
      "C:\\Users\\Bruker\\Miniconda3\\envs\\gputest\\lib\\site-packages\\sklearn\\model_selection\\_search.py:841: DeprecationWarning: The default of the `iid` parameter will change from True to False in version 0.22 and will be removed in 0.24. This will change numeric results when test-set sizes are unequal.\n",
      "  DeprecationWarning)\n"
     ]
    },
    {
     "name": "stdout",
     "output_type": "stream",
     "text": [
      "Product_id:  164\n",
      "MAPE Score:  -20.31072671075\n"
     ]
    },
    {
     "name": "stderr",
     "output_type": "stream",
     "text": [
      "C:\\Users\\Bruker\\Miniconda3\\envs\\gputest\\lib\\site-packages\\sklearn\\model_selection\\_search.py:841: DeprecationWarning: The default of the `iid` parameter will change from True to False in version 0.22 and will be removed in 0.24. This will change numeric results when test-set sizes are unequal.\n",
      "  DeprecationWarning)\n"
     ]
    },
    {
     "name": "stdout",
     "output_type": "stream",
     "text": [
      "Product_id:  83\n",
      "MAPE Score:  -21.762592290682143\n"
     ]
    },
    {
     "name": "stderr",
     "output_type": "stream",
     "text": [
      "C:\\Users\\Bruker\\Miniconda3\\envs\\gputest\\lib\\site-packages\\sklearn\\model_selection\\_search.py:841: DeprecationWarning: The default of the `iid` parameter will change from True to False in version 0.22 and will be removed in 0.24. This will change numeric results when test-set sizes are unequal.\n",
      "  DeprecationWarning)\n"
     ]
    },
    {
     "name": "stdout",
     "output_type": "stream",
     "text": [
      "Product_id:  142\n",
      "MAPE Score:  -23.592751989586205\n",
      "Product_id:  169\n",
      "MAPE Score:  -21.126912528749024\n"
     ]
    },
    {
     "name": "stderr",
     "output_type": "stream",
     "text": [
      "C:\\Users\\Bruker\\Miniconda3\\envs\\gputest\\lib\\site-packages\\sklearn\\model_selection\\_search.py:841: DeprecationWarning: The default of the `iid` parameter will change from True to False in version 0.22 and will be removed in 0.24. This will change numeric results when test-set sizes are unequal.\n",
      "  DeprecationWarning)\n"
     ]
    },
    {
     "name": "stdout",
     "output_type": "stream",
     "text": [
      "Product_id:  90\n",
      "MAPE Score:  -20.76613316994076\n"
     ]
    },
    {
     "name": "stderr",
     "output_type": "stream",
     "text": [
      "C:\\Users\\Bruker\\Miniconda3\\envs\\gputest\\lib\\site-packages\\sklearn\\model_selection\\_search.py:841: DeprecationWarning: The default of the `iid` parameter will change from True to False in version 0.22 and will be removed in 0.24. This will change numeric results when test-set sizes are unequal.\n",
      "  DeprecationWarning)\n"
     ]
    },
    {
     "name": "stdout",
     "output_type": "stream",
     "text": [
      "Product_id:  187\n",
      "MAPE Score:  -26.700529421214732\n"
     ]
    },
    {
     "name": "stderr",
     "output_type": "stream",
     "text": [
      "C:\\Users\\Bruker\\Miniconda3\\envs\\gputest\\lib\\site-packages\\sklearn\\model_selection\\_search.py:841: DeprecationWarning: The default of the `iid` parameter will change from True to False in version 0.22 and will be removed in 0.24. This will change numeric results when test-set sizes are unequal.\n",
      "  DeprecationWarning)\n"
     ]
    },
    {
     "name": "stdout",
     "output_type": "stream",
     "text": [
      "Product_id:  30\n",
      "MAPE Score:  -25.881893624133284\n",
      "Product_id:  230\n",
      "MAPE Score:  -29.0497899989595\n"
     ]
    },
    {
     "name": "stderr",
     "output_type": "stream",
     "text": [
      "C:\\Users\\Bruker\\Miniconda3\\envs\\gputest\\lib\\site-packages\\sklearn\\model_selection\\_search.py:841: DeprecationWarning: The default of the `iid` parameter will change from True to False in version 0.22 and will be removed in 0.24. This will change numeric results when test-set sizes are unequal.\n",
      "  DeprecationWarning)\n"
     ]
    },
    {
     "name": "stdout",
     "output_type": "stream",
     "text": [
      "Product_id:  21\n",
      "MAPE Score:  -22.0927195089098\n"
     ]
    },
    {
     "name": "stderr",
     "output_type": "stream",
     "text": [
      "C:\\Users\\Bruker\\Miniconda3\\envs\\gputest\\lib\\site-packages\\sklearn\\model_selection\\_search.py:841: DeprecationWarning: The default of the `iid` parameter will change from True to False in version 0.22 and will be removed in 0.24. This will change numeric results when test-set sizes are unequal.\n",
      "  DeprecationWarning)\n"
     ]
    },
    {
     "name": "stdout",
     "output_type": "stream",
     "text": [
      "Product_id:  204\n",
      "MAPE Score:  -22.00181219702753\n",
      "Product_id:  233\n",
      "MAPE Score:  -28.794453474900806\n"
     ]
    },
    {
     "name": "stderr",
     "output_type": "stream",
     "text": [
      "C:\\Users\\Bruker\\Miniconda3\\envs\\gputest\\lib\\site-packages\\sklearn\\model_selection\\_search.py:841: DeprecationWarning: The default of the `iid` parameter will change from True to False in version 0.22 and will be removed in 0.24. This will change numeric results when test-set sizes are unequal.\n",
      "  DeprecationWarning)\n"
     ]
    },
    {
     "name": "stdout",
     "output_type": "stream",
     "text": [
      "Product_id:  35\n",
      "MAPE Score:  -21.287122638867537\n"
     ]
    },
    {
     "name": "stderr",
     "output_type": "stream",
     "text": [
      "C:\\Users\\Bruker\\Miniconda3\\envs\\gputest\\lib\\site-packages\\sklearn\\model_selection\\_search.py:841: DeprecationWarning: The default of the `iid` parameter will change from True to False in version 0.22 and will be removed in 0.24. This will change numeric results when test-set sizes are unequal.\n",
      "  DeprecationWarning)\n"
     ]
    },
    {
     "name": "stdout",
     "output_type": "stream",
     "text": [
      "Product_id:  23\n",
      "MAPE Score:  -22.555633043941825\n"
     ]
    },
    {
     "name": "stderr",
     "output_type": "stream",
     "text": [
      "C:\\Users\\Bruker\\Miniconda3\\envs\\gputest\\lib\\site-packages\\sklearn\\model_selection\\_search.py:841: DeprecationWarning: The default of the `iid` parameter will change from True to False in version 0.22 and will be removed in 0.24. This will change numeric results when test-set sizes are unequal.\n",
      "  DeprecationWarning)\n"
     ]
    },
    {
     "name": "stdout",
     "output_type": "stream",
     "text": [
      "Product_id:  84\n",
      "MAPE Score:  -20.28616581446604\n"
     ]
    },
    {
     "name": "stderr",
     "output_type": "stream",
     "text": [
      "C:\\Users\\Bruker\\Miniconda3\\envs\\gputest\\lib\\site-packages\\sklearn\\model_selection\\_search.py:841: DeprecationWarning: The default of the `iid` parameter will change from True to False in version 0.22 and will be removed in 0.24. This will change numeric results when test-set sizes are unequal.\n",
      "  DeprecationWarning)\n"
     ]
    },
    {
     "name": "stdout",
     "output_type": "stream",
     "text": [
      "Product_id:  273\n",
      "MAPE Score:  -20.257623309216076\n"
     ]
    },
    {
     "name": "stderr",
     "output_type": "stream",
     "text": [
      "C:\\Users\\Bruker\\Miniconda3\\envs\\gputest\\lib\\site-packages\\sklearn\\model_selection\\_search.py:841: DeprecationWarning: The default of the `iid` parameter will change from True to False in version 0.22 and will be removed in 0.24. This will change numeric results when test-set sizes are unequal.\n",
      "  DeprecationWarning)\n"
     ]
    },
    {
     "name": "stdout",
     "output_type": "stream",
     "text": [
      "Product_id:  269\n",
      "MAPE Score:  -21.245949509839395\n"
     ]
    },
    {
     "name": "stderr",
     "output_type": "stream",
     "text": [
      "C:\\Users\\Bruker\\Miniconda3\\envs\\gputest\\lib\\site-packages\\sklearn\\model_selection\\_search.py:841: DeprecationWarning: The default of the `iid` parameter will change from True to False in version 0.22 and will be removed in 0.24. This will change numeric results when test-set sizes are unequal.\n",
      "  DeprecationWarning)\n"
     ]
    },
    {
     "name": "stdout",
     "output_type": "stream",
     "text": [
      "Product_id:  166\n",
      "MAPE Score:  -23.69501070060802\n"
     ]
    },
    {
     "name": "stderr",
     "output_type": "stream",
     "text": [
      "C:\\Users\\Bruker\\Miniconda3\\envs\\gputest\\lib\\site-packages\\sklearn\\model_selection\\_search.py:841: DeprecationWarning: The default of the `iid` parameter will change from True to False in version 0.22 and will be removed in 0.24. This will change numeric results when test-set sizes are unequal.\n",
      "  DeprecationWarning)\n"
     ]
    },
    {
     "name": "stdout",
     "output_type": "stream",
     "text": [
      "Product_id:  242\n",
      "MAPE Score:  -23.96916578811914\n"
     ]
    },
    {
     "name": "stderr",
     "output_type": "stream",
     "text": [
      "C:\\Users\\Bruker\\Miniconda3\\envs\\gputest\\lib\\site-packages\\sklearn\\model_selection\\_search.py:841: DeprecationWarning: The default of the `iid` parameter will change from True to False in version 0.22 and will be removed in 0.24. This will change numeric results when test-set sizes are unequal.\n",
      "  DeprecationWarning)\n"
     ]
    },
    {
     "name": "stdout",
     "output_type": "stream",
     "text": [
      "Product_id:  191\n",
      "MAPE Score:  -19.761187180085578\n"
     ]
    },
    {
     "name": "stderr",
     "output_type": "stream",
     "text": [
      "C:\\Users\\Bruker\\Miniconda3\\envs\\gputest\\lib\\site-packages\\sklearn\\model_selection\\_search.py:841: DeprecationWarning: The default of the `iid` parameter will change from True to False in version 0.22 and will be removed in 0.24. This will change numeric results when test-set sizes are unequal.\n",
      "  DeprecationWarning)\n"
     ]
    },
    {
     "name": "stdout",
     "output_type": "stream",
     "text": [
      "Product_id:  213\n",
      "MAPE Score:  -21.310382838662356\n"
     ]
    },
    {
     "name": "stderr",
     "output_type": "stream",
     "text": [
      "C:\\Users\\Bruker\\Miniconda3\\envs\\gputest\\lib\\site-packages\\sklearn\\model_selection\\_search.py:841: DeprecationWarning: The default of the `iid` parameter will change from True to False in version 0.22 and will be removed in 0.24. This will change numeric results when test-set sizes are unequal.\n",
      "  DeprecationWarning)\n"
     ]
    },
    {
     "name": "stdout",
     "output_type": "stream",
     "text": [
      "Product_id:  58\n",
      "MAPE Score:  -22.721846210057027\n"
     ]
    },
    {
     "name": "stderr",
     "output_type": "stream",
     "text": [
      "C:\\Users\\Bruker\\Miniconda3\\envs\\gputest\\lib\\site-packages\\sklearn\\model_selection\\_search.py:841: DeprecationWarning: The default of the `iid` parameter will change from True to False in version 0.22 and will be removed in 0.24. This will change numeric results when test-set sizes are unequal.\n",
      "  DeprecationWarning)\n"
     ]
    },
    {
     "name": "stdout",
     "output_type": "stream",
     "text": [
      "Product_id:  152\n",
      "MAPE Score:  -21.698739840208745\n"
     ]
    },
    {
     "name": "stderr",
     "output_type": "stream",
     "text": [
      "C:\\Users\\Bruker\\Miniconda3\\envs\\gputest\\lib\\site-packages\\sklearn\\model_selection\\_search.py:841: DeprecationWarning: The default of the `iid` parameter will change from True to False in version 0.22 and will be removed in 0.24. This will change numeric results when test-set sizes are unequal.\n",
      "  DeprecationWarning)\n"
     ]
    },
    {
     "name": "stdout",
     "output_type": "stream",
     "text": [
      "Product_id:  79\n",
      "MAPE Score:  -22.349139274260878\n"
     ]
    },
    {
     "name": "stderr",
     "output_type": "stream",
     "text": [
      "C:\\Users\\Bruker\\Miniconda3\\envs\\gputest\\lib\\site-packages\\sklearn\\model_selection\\_search.py:841: DeprecationWarning: The default of the `iid` parameter will change from True to False in version 0.22 and will be removed in 0.24. This will change numeric results when test-set sizes are unequal.\n",
      "  DeprecationWarning)\n"
     ]
    },
    {
     "name": "stdout",
     "output_type": "stream",
     "text": [
      "Product_id:  279\n",
      "MAPE Score:  -23.107619927239167\n"
     ]
    },
    {
     "name": "stderr",
     "output_type": "stream",
     "text": [
      "C:\\Users\\Bruker\\Miniconda3\\envs\\gputest\\lib\\site-packages\\sklearn\\model_selection\\_search.py:841: DeprecationWarning: The default of the `iid` parameter will change from True to False in version 0.22 and will be removed in 0.24. This will change numeric results when test-set sizes are unequal.\n",
      "  DeprecationWarning)\n"
     ]
    },
    {
     "name": "stdout",
     "output_type": "stream",
     "text": [
      "Product_id:  297\n",
      "MAPE Score:  -21.47770048993579\n"
     ]
    },
    {
     "name": "stderr",
     "output_type": "stream",
     "text": [
      "C:\\Users\\Bruker\\Miniconda3\\envs\\gputest\\lib\\site-packages\\sklearn\\model_selection\\_search.py:841: DeprecationWarning: The default of the `iid` parameter will change from True to False in version 0.22 and will be removed in 0.24. This will change numeric results when test-set sizes are unequal.\n",
      "  DeprecationWarning)\n"
     ]
    },
    {
     "name": "stdout",
     "output_type": "stream",
     "text": [
      "Product_id:  302\n",
      "MAPE Score:  -23.731810207369424\n"
     ]
    },
    {
     "name": "stderr",
     "output_type": "stream",
     "text": [
      "C:\\Users\\Bruker\\Miniconda3\\envs\\gputest\\lib\\site-packages\\sklearn\\model_selection\\_search.py:841: DeprecationWarning: The default of the `iid` parameter will change from True to False in version 0.22 and will be removed in 0.24. This will change numeric results when test-set sizes are unequal.\n",
      "  DeprecationWarning)\n"
     ]
    },
    {
     "name": "stdout",
     "output_type": "stream",
     "text": [
      "Product_id:  260\n",
      "MAPE Score:  -22.90485690764483\n"
     ]
    },
    {
     "name": "stderr",
     "output_type": "stream",
     "text": [
      "C:\\Users\\Bruker\\Miniconda3\\envs\\gputest\\lib\\site-packages\\sklearn\\model_selection\\_search.py:841: DeprecationWarning: The default of the `iid` parameter will change from True to False in version 0.22 and will be removed in 0.24. This will change numeric results when test-set sizes are unequal.\n",
      "  DeprecationWarning)\n"
     ]
    },
    {
     "name": "stdout",
     "output_type": "stream",
     "text": [
      "Product_id:  54\n",
      "MAPE Score:  -23.287306507868347\n"
     ]
    },
    {
     "name": "stderr",
     "output_type": "stream",
     "text": [
      "C:\\Users\\Bruker\\Miniconda3\\envs\\gputest\\lib\\site-packages\\sklearn\\model_selection\\_search.py:841: DeprecationWarning: The default of the `iid` parameter will change from True to False in version 0.22 and will be removed in 0.24. This will change numeric results when test-set sizes are unequal.\n",
      "  DeprecationWarning)\n"
     ]
    },
    {
     "name": "stdout",
     "output_type": "stream",
     "text": [
      "Product_id:  188\n",
      "MAPE Score:  -22.87996038278958\n"
     ]
    },
    {
     "name": "stderr",
     "output_type": "stream",
     "text": [
      "C:\\Users\\Bruker\\Miniconda3\\envs\\gputest\\lib\\site-packages\\sklearn\\model_selection\\_search.py:841: DeprecationWarning: The default of the `iid` parameter will change from True to False in version 0.22 and will be removed in 0.24. This will change numeric results when test-set sizes are unequal.\n",
      "  DeprecationWarning)\n"
     ]
    },
    {
     "name": "stdout",
     "output_type": "stream",
     "text": [
      "Product_id:  171\n",
      "MAPE Score:  -20.556160923176666\n"
     ]
    },
    {
     "name": "stderr",
     "output_type": "stream",
     "text": [
      "C:\\Users\\Bruker\\Miniconda3\\envs\\gputest\\lib\\site-packages\\sklearn\\model_selection\\_search.py:841: DeprecationWarning: The default of the `iid` parameter will change from True to False in version 0.22 and will be removed in 0.24. This will change numeric results when test-set sizes are unequal.\n",
      "  DeprecationWarning)\n"
     ]
    },
    {
     "name": "stdout",
     "output_type": "stream",
     "text": [
      "Product_id:  274\n",
      "MAPE Score:  -20.067171809517674\n"
     ]
    },
    {
     "name": "stderr",
     "output_type": "stream",
     "text": [
      "C:\\Users\\Bruker\\Miniconda3\\envs\\gputest\\lib\\site-packages\\sklearn\\model_selection\\_search.py:841: DeprecationWarning: The default of the `iid` parameter will change from True to False in version 0.22 and will be removed in 0.24. This will change numeric results when test-set sizes are unequal.\n",
      "  DeprecationWarning)\n"
     ]
    },
    {
     "name": "stdout",
     "output_type": "stream",
     "text": [
      "Product_id:  121\n",
      "MAPE Score:  -22.43830734288717\n"
     ]
    },
    {
     "name": "stderr",
     "output_type": "stream",
     "text": [
      "C:\\Users\\Bruker\\Miniconda3\\envs\\gputest\\lib\\site-packages\\sklearn\\model_selection\\_search.py:841: DeprecationWarning: The default of the `iid` parameter will change from True to False in version 0.22 and will be removed in 0.24. This will change numeric results when test-set sizes are unequal.\n",
      "  DeprecationWarning)\n"
     ]
    },
    {
     "name": "stdout",
     "output_type": "stream",
     "text": [
      "Product_id:  52\n",
      "MAPE Score:  -20.828074304172443\n"
     ]
    },
    {
     "name": "stderr",
     "output_type": "stream",
     "text": [
      "C:\\Users\\Bruker\\Miniconda3\\envs\\gputest\\lib\\site-packages\\sklearn\\model_selection\\_search.py:841: DeprecationWarning: The default of the `iid` parameter will change from True to False in version 0.22 and will be removed in 0.24. This will change numeric results when test-set sizes are unequal.\n",
      "  DeprecationWarning)\n"
     ]
    },
    {
     "name": "stdout",
     "output_type": "stream",
     "text": [
      "Product_id:  48\n",
      "MAPE Score:  -26.306702998533467\n"
     ]
    },
    {
     "name": "stderr",
     "output_type": "stream",
     "text": [
      "C:\\Users\\Bruker\\Miniconda3\\envs\\gputest\\lib\\site-packages\\sklearn\\model_selection\\_search.py:841: DeprecationWarning: The default of the `iid` parameter will change from True to False in version 0.22 and will be removed in 0.24. This will change numeric results when test-set sizes are unequal.\n",
      "  DeprecationWarning)\n"
     ]
    },
    {
     "name": "stdout",
     "output_type": "stream",
     "text": [
      "Product_id:  94\n",
      "MAPE Score:  -19.47903880086053\n"
     ]
    },
    {
     "name": "stderr",
     "output_type": "stream",
     "text": [
      "C:\\Users\\Bruker\\Miniconda3\\envs\\gputest\\lib\\site-packages\\sklearn\\model_selection\\_search.py:841: DeprecationWarning: The default of the `iid` parameter will change from True to False in version 0.22 and will be removed in 0.24. This will change numeric results when test-set sizes are unequal.\n",
      "  DeprecationWarning)\n"
     ]
    },
    {
     "name": "stdout",
     "output_type": "stream",
     "text": [
      "Product_id:  203\n",
      "MAPE Score:  -26.311011573002833\n"
     ]
    },
    {
     "name": "stderr",
     "output_type": "stream",
     "text": [
      "C:\\Users\\Bruker\\Miniconda3\\envs\\gputest\\lib\\site-packages\\sklearn\\model_selection\\_search.py:841: DeprecationWarning: The default of the `iid` parameter will change from True to False in version 0.22 and will be removed in 0.24. This will change numeric results when test-set sizes are unequal.\n",
      "  DeprecationWarning)\n"
     ]
    },
    {
     "name": "stdout",
     "output_type": "stream",
     "text": [
      "Product_id:  113\n",
      "MAPE Score:  -22.546334678329114\n"
     ]
    },
    {
     "name": "stderr",
     "output_type": "stream",
     "text": [
      "C:\\Users\\Bruker\\Miniconda3\\envs\\gputest\\lib\\site-packages\\sklearn\\model_selection\\_search.py:841: DeprecationWarning: The default of the `iid` parameter will change from True to False in version 0.22 and will be removed in 0.24. This will change numeric results when test-set sizes are unequal.\n",
      "  DeprecationWarning)\n"
     ]
    },
    {
     "name": "stdout",
     "output_type": "stream",
     "text": [
      "Product_id:  14\n",
      "MAPE Score:  -21.692337964499465\n"
     ]
    },
    {
     "name": "stderr",
     "output_type": "stream",
     "text": [
      "C:\\Users\\Bruker\\Miniconda3\\envs\\gputest\\lib\\site-packages\\sklearn\\model_selection\\_search.py:841: DeprecationWarning: The default of the `iid` parameter will change from True to False in version 0.22 and will be removed in 0.24. This will change numeric results when test-set sizes are unequal.\n",
      "  DeprecationWarning)\n"
     ]
    },
    {
     "name": "stdout",
     "output_type": "stream",
     "text": [
      "Product_id:  9\n",
      "MAPE Score:  -20.67044508532652\n"
     ]
    },
    {
     "name": "stderr",
     "output_type": "stream",
     "text": [
      "C:\\Users\\Bruker\\Miniconda3\\envs\\gputest\\lib\\site-packages\\sklearn\\model_selection\\_search.py:841: DeprecationWarning: The default of the `iid` parameter will change from True to False in version 0.22 and will be removed in 0.24. This will change numeric results when test-set sizes are unequal.\n",
      "  DeprecationWarning)\n"
     ]
    },
    {
     "name": "stdout",
     "output_type": "stream",
     "text": [
      "Product_id:  117\n",
      "MAPE Score:  -28.241026653347745\n"
     ]
    },
    {
     "name": "stderr",
     "output_type": "stream",
     "text": [
      "C:\\Users\\Bruker\\Miniconda3\\envs\\gputest\\lib\\site-packages\\sklearn\\model_selection\\_search.py:841: DeprecationWarning: The default of the `iid` parameter will change from True to False in version 0.22 and will be removed in 0.24. This will change numeric results when test-set sizes are unequal.\n",
      "  DeprecationWarning)\n"
     ]
    },
    {
     "name": "stdout",
     "output_type": "stream",
     "text": [
      "Product_id:  26\n",
      "MAPE Score:  -20.156305453220366\n"
     ]
    },
    {
     "name": "stderr",
     "output_type": "stream",
     "text": [
      "C:\\Users\\Bruker\\Miniconda3\\envs\\gputest\\lib\\site-packages\\sklearn\\model_selection\\_search.py:841: DeprecationWarning: The default of the `iid` parameter will change from True to False in version 0.22 and will be removed in 0.24. This will change numeric results when test-set sizes are unequal.\n",
      "  DeprecationWarning)\n"
     ]
    },
    {
     "name": "stdout",
     "output_type": "stream",
     "text": [
      "Product_id:  179\n",
      "MAPE Score:  -21.945123700279417\n"
     ]
    },
    {
     "name": "stderr",
     "output_type": "stream",
     "text": [
      "C:\\Users\\Bruker\\Miniconda3\\envs\\gputest\\lib\\site-packages\\sklearn\\model_selection\\_search.py:841: DeprecationWarning: The default of the `iid` parameter will change from True to False in version 0.22 and will be removed in 0.24. This will change numeric results when test-set sizes are unequal.\n",
      "  DeprecationWarning)\n"
     ]
    },
    {
     "name": "stdout",
     "output_type": "stream",
     "text": [
      "Product_id:  13\n",
      "MAPE Score:  -22.089456986816973\n",
      "Product_id:  249\n",
      "MAPE Score:  -29.172677847627114\n"
     ]
    },
    {
     "name": "stderr",
     "output_type": "stream",
     "text": [
      "C:\\Users\\Bruker\\Miniconda3\\envs\\gputest\\lib\\site-packages\\sklearn\\model_selection\\_search.py:841: DeprecationWarning: The default of the `iid` parameter will change from True to False in version 0.22 and will be removed in 0.24. This will change numeric results when test-set sizes are unequal.\n",
      "  DeprecationWarning)\n"
     ]
    },
    {
     "name": "stdout",
     "output_type": "stream",
     "text": [
      "Product_id:  78\n",
      "MAPE Score:  -23.024746857977625\n"
     ]
    },
    {
     "name": "stderr",
     "output_type": "stream",
     "text": [
      "C:\\Users\\Bruker\\Miniconda3\\envs\\gputest\\lib\\site-packages\\sklearn\\model_selection\\_search.py:841: DeprecationWarning: The default of the `iid` parameter will change from True to False in version 0.22 and will be removed in 0.24. This will change numeric results when test-set sizes are unequal.\n",
      "  DeprecationWarning)\n"
     ]
    },
    {
     "name": "stdout",
     "output_type": "stream",
     "text": [
      "Product_id:  143\n",
      "MAPE Score:  -20.55694907469057\n"
     ]
    },
    {
     "name": "stderr",
     "output_type": "stream",
     "text": [
      "C:\\Users\\Bruker\\Miniconda3\\envs\\gputest\\lib\\site-packages\\sklearn\\model_selection\\_search.py:841: DeprecationWarning: The default of the `iid` parameter will change from True to False in version 0.22 and will be removed in 0.24. This will change numeric results when test-set sizes are unequal.\n",
      "  DeprecationWarning)\n"
     ]
    },
    {
     "name": "stdout",
     "output_type": "stream",
     "text": [
      "Product_id:  168\n",
      "MAPE Score:  -23.117787950720647\n"
     ]
    },
    {
     "name": "stderr",
     "output_type": "stream",
     "text": [
      "C:\\Users\\Bruker\\Miniconda3\\envs\\gputest\\lib\\site-packages\\sklearn\\model_selection\\_search.py:841: DeprecationWarning: The default of the `iid` parameter will change from True to False in version 0.22 and will be removed in 0.24. This will change numeric results when test-set sizes are unequal.\n",
      "  DeprecationWarning)\n"
     ]
    },
    {
     "name": "stdout",
     "output_type": "stream",
     "text": [
      "Product_id:  251\n",
      "MAPE Score:  -22.409956435884958\n"
     ]
    },
    {
     "name": "stderr",
     "output_type": "stream",
     "text": [
      "C:\\Users\\Bruker\\Miniconda3\\envs\\gputest\\lib\\site-packages\\sklearn\\model_selection\\_search.py:841: DeprecationWarning: The default of the `iid` parameter will change from True to False in version 0.22 and will be removed in 0.24. This will change numeric results when test-set sizes are unequal.\n",
      "  DeprecationWarning)\n"
     ]
    },
    {
     "name": "stdout",
     "output_type": "stream",
     "text": [
      "Product_id:  136\n",
      "MAPE Score:  -20.129082254441055\n"
     ]
    },
    {
     "name": "stderr",
     "output_type": "stream",
     "text": [
      "C:\\Users\\Bruker\\Miniconda3\\envs\\gputest\\lib\\site-packages\\sklearn\\model_selection\\_search.py:841: DeprecationWarning: The default of the `iid` parameter will change from True to False in version 0.22 and will be removed in 0.24. This will change numeric results when test-set sizes are unequal.\n",
      "  DeprecationWarning)\n"
     ]
    },
    {
     "name": "stdout",
     "output_type": "stream",
     "text": [
      "Product_id:  99\n",
      "MAPE Score:  -21.99758703768934\n",
      "Product_id:  226\n",
      "MAPE Score:  -23.75870504835347\n"
     ]
    },
    {
     "name": "stderr",
     "output_type": "stream",
     "text": [
      "C:\\Users\\Bruker\\Miniconda3\\envs\\gputest\\lib\\site-packages\\sklearn\\model_selection\\_search.py:841: DeprecationWarning: The default of the `iid` parameter will change from True to False in version 0.22 and will be removed in 0.24. This will change numeric results when test-set sizes are unequal.\n",
      "  DeprecationWarning)\n"
     ]
    },
    {
     "name": "stdout",
     "output_type": "stream",
     "text": [
      "Product_id:  219\n",
      "MAPE Score:  -21.887825219083965\n"
     ]
    },
    {
     "name": "stderr",
     "output_type": "stream",
     "text": [
      "C:\\Users\\Bruker\\Miniconda3\\envs\\gputest\\lib\\site-packages\\sklearn\\model_selection\\_search.py:841: DeprecationWarning: The default of the `iid` parameter will change from True to False in version 0.22 and will be removed in 0.24. This will change numeric results when test-set sizes are unequal.\n",
      "  DeprecationWarning)\n"
     ]
    },
    {
     "name": "stdout",
     "output_type": "stream",
     "text": [
      "Product_id:  208\n",
      "MAPE Score:  -21.05704439267917\n"
     ]
    },
    {
     "name": "stderr",
     "output_type": "stream",
     "text": [
      "C:\\Users\\Bruker\\Miniconda3\\envs\\gputest\\lib\\site-packages\\sklearn\\model_selection\\_search.py:841: DeprecationWarning: The default of the `iid` parameter will change from True to False in version 0.22 and will be removed in 0.24. This will change numeric results when test-set sizes are unequal.\n",
      "  DeprecationWarning)\n"
     ]
    },
    {
     "name": "stdout",
     "output_type": "stream",
     "text": [
      "Product_id:  196\n",
      "MAPE Score:  -24.14539875248575\n"
     ]
    },
    {
     "name": "stderr",
     "output_type": "stream",
     "text": [
      "C:\\Users\\Bruker\\Miniconda3\\envs\\gputest\\lib\\site-packages\\sklearn\\model_selection\\_search.py:841: DeprecationWarning: The default of the `iid` parameter will change from True to False in version 0.22 and will be removed in 0.24. This will change numeric results when test-set sizes are unequal.\n",
      "  DeprecationWarning)\n"
     ]
    },
    {
     "name": "stdout",
     "output_type": "stream",
     "text": [
      "Product_id:  38\n",
      "MAPE Score:  -24.946373820632736\n"
     ]
    },
    {
     "name": "stderr",
     "output_type": "stream",
     "text": [
      "C:\\Users\\Bruker\\Miniconda3\\envs\\gputest\\lib\\site-packages\\sklearn\\model_selection\\_search.py:841: DeprecationWarning: The default of the `iid` parameter will change from True to False in version 0.22 and will be removed in 0.24. This will change numeric results when test-set sizes are unequal.\n",
      "  DeprecationWarning)\n"
     ]
    },
    {
     "name": "stdout",
     "output_type": "stream",
     "text": [
      "Product_id:  270\n",
      "MAPE Score:  -24.05880879441912\n"
     ]
    },
    {
     "name": "stderr",
     "output_type": "stream",
     "text": [
      "C:\\Users\\Bruker\\Miniconda3\\envs\\gputest\\lib\\site-packages\\sklearn\\model_selection\\_search.py:841: DeprecationWarning: The default of the `iid` parameter will change from True to False in version 0.22 and will be removed in 0.24. This will change numeric results when test-set sizes are unequal.\n",
      "  DeprecationWarning)\n"
     ]
    },
    {
     "name": "stdout",
     "output_type": "stream",
     "text": [
      "Product_id:  22\n",
      "MAPE Score:  -19.927372054887197\n"
     ]
    },
    {
     "name": "stderr",
     "output_type": "stream",
     "text": [
      "C:\\Users\\Bruker\\Miniconda3\\envs\\gputest\\lib\\site-packages\\sklearn\\model_selection\\_search.py:841: DeprecationWarning: The default of the `iid` parameter will change from True to False in version 0.22 and will be removed in 0.24. This will change numeric results when test-set sizes are unequal.\n",
      "  DeprecationWarning)\n"
     ]
    },
    {
     "name": "stdout",
     "output_type": "stream",
     "text": [
      "Product_id:  63\n",
      "MAPE Score:  -22.785906864099736\n"
     ]
    },
    {
     "name": "stderr",
     "output_type": "stream",
     "text": [
      "C:\\Users\\Bruker\\Miniconda3\\envs\\gputest\\lib\\site-packages\\sklearn\\model_selection\\_search.py:841: DeprecationWarning: The default of the `iid` parameter will change from True to False in version 0.22 and will be removed in 0.24. This will change numeric results when test-set sizes are unequal.\n",
      "  DeprecationWarning)\n"
     ]
    },
    {
     "name": "stdout",
     "output_type": "stream",
     "text": [
      "Product_id:  28\n",
      "MAPE Score:  -23.11344090470101\n"
     ]
    },
    {
     "name": "stderr",
     "output_type": "stream",
     "text": [
      "C:\\Users\\Bruker\\Miniconda3\\envs\\gputest\\lib\\site-packages\\sklearn\\model_selection\\_search.py:841: DeprecationWarning: The default of the `iid` parameter will change from True to False in version 0.22 and will be removed in 0.24. This will change numeric results when test-set sizes are unequal.\n",
      "  DeprecationWarning)\n"
     ]
    },
    {
     "name": "stdout",
     "output_type": "stream",
     "text": [
      "Product_id:  190\n",
      "MAPE Score:  -21.620218054690728\n"
     ]
    },
    {
     "name": "stderr",
     "output_type": "stream",
     "text": [
      "C:\\Users\\Bruker\\Miniconda3\\envs\\gputest\\lib\\site-packages\\sklearn\\model_selection\\_search.py:841: DeprecationWarning: The default of the `iid` parameter will change from True to False in version 0.22 and will be removed in 0.24. This will change numeric results when test-set sizes are unequal.\n",
      "  DeprecationWarning)\n"
     ]
    },
    {
     "name": "stdout",
     "output_type": "stream",
     "text": [
      "Product_id:  126\n",
      "MAPE Score:  -22.28910169918106\n"
     ]
    },
    {
     "name": "stderr",
     "output_type": "stream",
     "text": [
      "C:\\Users\\Bruker\\Miniconda3\\envs\\gputest\\lib\\site-packages\\sklearn\\model_selection\\_search.py:841: DeprecationWarning: The default of the `iid` parameter will change from True to False in version 0.22 and will be removed in 0.24. This will change numeric results when test-set sizes are unequal.\n",
      "  DeprecationWarning)\n"
     ]
    },
    {
     "name": "stdout",
     "output_type": "stream",
     "text": [
      "Product_id:  10\n",
      "MAPE Score:  -21.87392112799758\n"
     ]
    },
    {
     "name": "stderr",
     "output_type": "stream",
     "text": [
      "C:\\Users\\Bruker\\Miniconda3\\envs\\gputest\\lib\\site-packages\\sklearn\\model_selection\\_search.py:841: DeprecationWarning: The default of the `iid` parameter will change from True to False in version 0.22 and will be removed in 0.24. This will change numeric results when test-set sizes are unequal.\n",
      "  DeprecationWarning)\n"
     ]
    },
    {
     "name": "stdout",
     "output_type": "stream",
     "text": [
      "Product_id:  125\n",
      "MAPE Score:  -20.70569385937633\n"
     ]
    },
    {
     "name": "stderr",
     "output_type": "stream",
     "text": [
      "C:\\Users\\Bruker\\Miniconda3\\envs\\gputest\\lib\\site-packages\\sklearn\\model_selection\\_search.py:841: DeprecationWarning: The default of the `iid` parameter will change from True to False in version 0.22 and will be removed in 0.24. This will change numeric results when test-set sizes are unequal.\n",
      "  DeprecationWarning)\n"
     ]
    },
    {
     "name": "stdout",
     "output_type": "stream",
     "text": [
      "Product_id:  278\n",
      "MAPE Score:  -25.424680610989103\n"
     ]
    },
    {
     "name": "stderr",
     "output_type": "stream",
     "text": [
      "C:\\Users\\Bruker\\Miniconda3\\envs\\gputest\\lib\\site-packages\\sklearn\\model_selection\\_search.py:841: DeprecationWarning: The default of the `iid` parameter will change from True to False in version 0.22 and will be removed in 0.24. This will change numeric results when test-set sizes are unequal.\n",
      "  DeprecationWarning)\n"
     ]
    },
    {
     "name": "stdout",
     "output_type": "stream",
     "text": [
      "Product_id:  240\n",
      "MAPE Score:  -20.72994120604171\n"
     ]
    },
    {
     "name": "stderr",
     "output_type": "stream",
     "text": [
      "C:\\Users\\Bruker\\Miniconda3\\envs\\gputest\\lib\\site-packages\\sklearn\\model_selection\\_search.py:841: DeprecationWarning: The default of the `iid` parameter will change from True to False in version 0.22 and will be removed in 0.24. This will change numeric results when test-set sizes are unequal.\n",
      "  DeprecationWarning)\n"
     ]
    },
    {
     "name": "stdout",
     "output_type": "stream",
     "text": [
      "Product_id:  161\n",
      "MAPE Score:  -21.458537442177697\n"
     ]
    },
    {
     "name": "stderr",
     "output_type": "stream",
     "text": [
      "C:\\Users\\Bruker\\Miniconda3\\envs\\gputest\\lib\\site-packages\\sklearn\\model_selection\\_search.py:841: DeprecationWarning: The default of the `iid` parameter will change from True to False in version 0.22 and will be removed in 0.24. This will change numeric results when test-set sizes are unequal.\n",
      "  DeprecationWarning)\n"
     ]
    },
    {
     "name": "stdout",
     "output_type": "stream",
     "text": [
      "Product_id:  67\n",
      "MAPE Score:  -21.864156026017646\n"
     ]
    },
    {
     "name": "stderr",
     "output_type": "stream",
     "text": [
      "C:\\Users\\Bruker\\Miniconda3\\envs\\gputest\\lib\\site-packages\\sklearn\\model_selection\\_search.py:841: DeprecationWarning: The default of the `iid` parameter will change from True to False in version 0.22 and will be removed in 0.24. This will change numeric results when test-set sizes are unequal.\n",
      "  DeprecationWarning)\n"
     ]
    },
    {
     "name": "stdout",
     "output_type": "stream",
     "text": [
      "Product_id:  5\n",
      "MAPE Score:  -23.221641516086862\n"
     ]
    },
    {
     "name": "stderr",
     "output_type": "stream",
     "text": [
      "C:\\Users\\Bruker\\Miniconda3\\envs\\gputest\\lib\\site-packages\\sklearn\\model_selection\\_search.py:841: DeprecationWarning: The default of the `iid` parameter will change from True to False in version 0.22 and will be removed in 0.24. This will change numeric results when test-set sizes are unequal.\n",
      "  DeprecationWarning)\n"
     ]
    },
    {
     "name": "stdout",
     "output_type": "stream",
     "text": [
      "Product_id:  7\n",
      "MAPE Score:  -20.55265877629991\n"
     ]
    },
    {
     "name": "stderr",
     "output_type": "stream",
     "text": [
      "C:\\Users\\Bruker\\Miniconda3\\envs\\gputest\\lib\\site-packages\\sklearn\\model_selection\\_search.py:841: DeprecationWarning: The default of the `iid` parameter will change from True to False in version 0.22 and will be removed in 0.24. This will change numeric results when test-set sizes are unequal.\n",
      "  DeprecationWarning)\n"
     ]
    },
    {
     "name": "stdout",
     "output_type": "stream",
     "text": [
      "Product_id:  101\n",
      "MAPE Score:  -20.73822460597972\n"
     ]
    },
    {
     "name": "stderr",
     "output_type": "stream",
     "text": [
      "C:\\Users\\Bruker\\Miniconda3\\envs\\gputest\\lib\\site-packages\\sklearn\\model_selection\\_search.py:841: DeprecationWarning: The default of the `iid` parameter will change from True to False in version 0.22 and will be removed in 0.24. This will change numeric results when test-set sizes are unequal.\n",
      "  DeprecationWarning)\n"
     ]
    },
    {
     "name": "stdout",
     "output_type": "stream",
     "text": [
      "Product_id:  59\n",
      "MAPE Score:  -22.46522449888264\n"
     ]
    },
    {
     "name": "stderr",
     "output_type": "stream",
     "text": [
      "C:\\Users\\Bruker\\Miniconda3\\envs\\gputest\\lib\\site-packages\\sklearn\\model_selection\\_search.py:841: DeprecationWarning: The default of the `iid` parameter will change from True to False in version 0.22 and will be removed in 0.24. This will change numeric results when test-set sizes are unequal.\n",
      "  DeprecationWarning)\n"
     ]
    },
    {
     "name": "stdout",
     "output_type": "stream",
     "text": [
      "Product_id:  71\n",
      "MAPE Score:  -22.752860386233444\n"
     ]
    },
    {
     "name": "stderr",
     "output_type": "stream",
     "text": [
      "C:\\Users\\Bruker\\Miniconda3\\envs\\gputest\\lib\\site-packages\\sklearn\\model_selection\\_search.py:841: DeprecationWarning: The default of the `iid` parameter will change from True to False in version 0.22 and will be removed in 0.24. This will change numeric results when test-set sizes are unequal.\n",
      "  DeprecationWarning)\n"
     ]
    },
    {
     "name": "stdout",
     "output_type": "stream",
     "text": [
      "Product_id:  223\n",
      "MAPE Score:  -22.877933847582987\n"
     ]
    },
    {
     "name": "stderr",
     "output_type": "stream",
     "text": [
      "C:\\Users\\Bruker\\Miniconda3\\envs\\gputest\\lib\\site-packages\\sklearn\\model_selection\\_search.py:841: DeprecationWarning: The default of the `iid` parameter will change from True to False in version 0.22 and will be removed in 0.24. This will change numeric results when test-set sizes are unequal.\n",
      "  DeprecationWarning)\n"
     ]
    },
    {
     "name": "stdout",
     "output_type": "stream",
     "text": [
      "Product_id:  144\n",
      "MAPE Score:  -21.3730963344568\n"
     ]
    },
    {
     "name": "stderr",
     "output_type": "stream",
     "text": [
      "C:\\Users\\Bruker\\Miniconda3\\envs\\gputest\\lib\\site-packages\\sklearn\\model_selection\\_search.py:841: DeprecationWarning: The default of the `iid` parameter will change from True to False in version 0.22 and will be removed in 0.24. This will change numeric results when test-set sizes are unequal.\n",
      "  DeprecationWarning)\n"
     ]
    },
    {
     "name": "stdout",
     "output_type": "stream",
     "text": [
      "Product_id:  96\n",
      "MAPE Score:  -22.393724991024943\n"
     ]
    },
    {
     "name": "stderr",
     "output_type": "stream",
     "text": [
      "C:\\Users\\Bruker\\Miniconda3\\envs\\gputest\\lib\\site-packages\\sklearn\\model_selection\\_search.py:841: DeprecationWarning: The default of the `iid` parameter will change from True to False in version 0.22 and will be removed in 0.24. This will change numeric results when test-set sizes are unequal.\n",
      "  DeprecationWarning)\n"
     ]
    },
    {
     "name": "stdout",
     "output_type": "stream",
     "text": [
      "Product_id:  153\n",
      "MAPE Score:  -22.77479976354134\n"
     ]
    },
    {
     "name": "stderr",
     "output_type": "stream",
     "text": [
      "C:\\Users\\Bruker\\Miniconda3\\envs\\gputest\\lib\\site-packages\\sklearn\\model_selection\\_search.py:841: DeprecationWarning: The default of the `iid` parameter will change from True to False in version 0.22 and will be removed in 0.24. This will change numeric results when test-set sizes are unequal.\n",
      "  DeprecationWarning)\n"
     ]
    },
    {
     "name": "stdout",
     "output_type": "stream",
     "text": [
      "Product_id:  313\n",
      "MAPE Score:  -24.837283642532626\n"
     ]
    },
    {
     "name": "stderr",
     "output_type": "stream",
     "text": [
      "C:\\Users\\Bruker\\Miniconda3\\envs\\gputest\\lib\\site-packages\\sklearn\\model_selection\\_search.py:841: DeprecationWarning: The default of the `iid` parameter will change from True to False in version 0.22 and will be removed in 0.24. This will change numeric results when test-set sizes are unequal.\n",
      "  DeprecationWarning)\n"
     ]
    },
    {
     "name": "stdout",
     "output_type": "stream",
     "text": [
      "Product_id:  212\n",
      "MAPE Score:  -23.057817773886782\n"
     ]
    },
    {
     "name": "stderr",
     "output_type": "stream",
     "text": [
      "C:\\Users\\Bruker\\Miniconda3\\envs\\gputest\\lib\\site-packages\\sklearn\\model_selection\\_search.py:841: DeprecationWarning: The default of the `iid` parameter will change from True to False in version 0.22 and will be removed in 0.24. This will change numeric results when test-set sizes are unequal.\n",
      "  DeprecationWarning)\n"
     ]
    },
    {
     "name": "stdout",
     "output_type": "stream",
     "text": [
      "Product_id:  131\n",
      "MAPE Score:  -21.368180395610423\n"
     ]
    },
    {
     "name": "stderr",
     "output_type": "stream",
     "text": [
      "C:\\Users\\Bruker\\Miniconda3\\envs\\gputest\\lib\\site-packages\\sklearn\\model_selection\\_search.py:841: DeprecationWarning: The default of the `iid` parameter will change from True to False in version 0.22 and will be removed in 0.24. This will change numeric results when test-set sizes are unequal.\n",
      "  DeprecationWarning)\n"
     ]
    },
    {
     "name": "stdout",
     "output_type": "stream",
     "text": [
      "Product_id:  210\n",
      "MAPE Score:  -21.301649043246417\n"
     ]
    },
    {
     "name": "stderr",
     "output_type": "stream",
     "text": [
      "C:\\Users\\Bruker\\Miniconda3\\envs\\gputest\\lib\\site-packages\\sklearn\\model_selection\\_search.py:841: DeprecationWarning: The default of the `iid` parameter will change from True to False in version 0.22 and will be removed in 0.24. This will change numeric results when test-set sizes are unequal.\n",
      "  DeprecationWarning)\n"
     ]
    },
    {
     "name": "stdout",
     "output_type": "stream",
     "text": [
      "Product_id:  39\n",
      "MAPE Score:  -22.133354138945403\n"
     ]
    },
    {
     "name": "stderr",
     "output_type": "stream",
     "text": [
      "C:\\Users\\Bruker\\Miniconda3\\envs\\gputest\\lib\\site-packages\\sklearn\\model_selection\\_search.py:841: DeprecationWarning: The default of the `iid` parameter will change from True to False in version 0.22 and will be removed in 0.24. This will change numeric results when test-set sizes are unequal.\n",
      "  DeprecationWarning)\n"
     ]
    },
    {
     "name": "stdout",
     "output_type": "stream",
     "text": [
      "Product_id:  305\n",
      "MAPE Score:  -20.348446408282737\n"
     ]
    },
    {
     "name": "stderr",
     "output_type": "stream",
     "text": [
      "C:\\Users\\Bruker\\Miniconda3\\envs\\gputest\\lib\\site-packages\\sklearn\\model_selection\\_search.py:841: DeprecationWarning: The default of the `iid` parameter will change from True to False in version 0.22 and will be removed in 0.24. This will change numeric results when test-set sizes are unequal.\n",
      "  DeprecationWarning)\n"
     ]
    },
    {
     "name": "stdout",
     "output_type": "stream",
     "text": [
      "Product_id:  252\n",
      "MAPE Score:  -24.177094955617086\n"
     ]
    },
    {
     "name": "stderr",
     "output_type": "stream",
     "text": [
      "C:\\Users\\Bruker\\Miniconda3\\envs\\gputest\\lib\\site-packages\\sklearn\\model_selection\\_search.py:841: DeprecationWarning: The default of the `iid` parameter will change from True to False in version 0.22 and will be removed in 0.24. This will change numeric results when test-set sizes are unequal.\n",
      "  DeprecationWarning)\n"
     ]
    },
    {
     "name": "stdout",
     "output_type": "stream",
     "text": [
      "Product_id:  86\n",
      "MAPE Score:  -25.339123979862308\n"
     ]
    },
    {
     "name": "stderr",
     "output_type": "stream",
     "text": [
      "C:\\Users\\Bruker\\Miniconda3\\envs\\gputest\\lib\\site-packages\\sklearn\\model_selection\\_search.py:841: DeprecationWarning: The default of the `iid` parameter will change from True to False in version 0.22 and will be removed in 0.24. This will change numeric results when test-set sizes are unequal.\n",
      "  DeprecationWarning)\n"
     ]
    },
    {
     "name": "stdout",
     "output_type": "stream",
     "text": [
      "Product_id:  24\n",
      "MAPE Score:  -23.6728824191157\n"
     ]
    },
    {
     "name": "stderr",
     "output_type": "stream",
     "text": [
      "C:\\Users\\Bruker\\Miniconda3\\envs\\gputest\\lib\\site-packages\\sklearn\\model_selection\\_search.py:841: DeprecationWarning: The default of the `iid` parameter will change from True to False in version 0.22 and will be removed in 0.24. This will change numeric results when test-set sizes are unequal.\n",
      "  DeprecationWarning)\n"
     ]
    },
    {
     "name": "stdout",
     "output_type": "stream",
     "text": [
      "Product_id:  57\n",
      "MAPE Score:  -21.402316832167905\n"
     ]
    },
    {
     "name": "stderr",
     "output_type": "stream",
     "text": [
      "C:\\Users\\Bruker\\Miniconda3\\envs\\gputest\\lib\\site-packages\\sklearn\\model_selection\\_search.py:841: DeprecationWarning: The default of the `iid` parameter will change from True to False in version 0.22 and will be removed in 0.24. This will change numeric results when test-set sizes are unequal.\n",
      "  DeprecationWarning)\n"
     ]
    },
    {
     "name": "stdout",
     "output_type": "stream",
     "text": [
      "Product_id:  307\n",
      "MAPE Score:  -21.68587578625563\n"
     ]
    },
    {
     "name": "stderr",
     "output_type": "stream",
     "text": [
      "C:\\Users\\Bruker\\Miniconda3\\envs\\gputest\\lib\\site-packages\\sklearn\\model_selection\\_search.py:841: DeprecationWarning: The default of the `iid` parameter will change from True to False in version 0.22 and will be removed in 0.24. This will change numeric results when test-set sizes are unequal.\n",
      "  DeprecationWarning)\n"
     ]
    },
    {
     "name": "stdout",
     "output_type": "stream",
     "text": [
      "Product_id:  271\n",
      "MAPE Score:  -22.24836644056075\n"
     ]
    },
    {
     "name": "stderr",
     "output_type": "stream",
     "text": [
      "C:\\Users\\Bruker\\Miniconda3\\envs\\gputest\\lib\\site-packages\\sklearn\\model_selection\\_search.py:841: DeprecationWarning: The default of the `iid` parameter will change from True to False in version 0.22 and will be removed in 0.24. This will change numeric results when test-set sizes are unequal.\n",
      "  DeprecationWarning)\n"
     ]
    },
    {
     "name": "stdout",
     "output_type": "stream",
     "text": [
      "Product_id:  172\n",
      "MAPE Score:  -20.425097533315935\n"
     ]
    },
    {
     "name": "stderr",
     "output_type": "stream",
     "text": [
      "C:\\Users\\Bruker\\Miniconda3\\envs\\gputest\\lib\\site-packages\\sklearn\\model_selection\\_search.py:841: DeprecationWarning: The default of the `iid` parameter will change from True to False in version 0.22 and will be removed in 0.24. This will change numeric results when test-set sizes are unequal.\n",
      "  DeprecationWarning)\n"
     ]
    },
    {
     "name": "stdout",
     "output_type": "stream",
     "text": [
      "Product_id:  220\n",
      "MAPE Score:  -22.754575249903276\n"
     ]
    },
    {
     "name": "stderr",
     "output_type": "stream",
     "text": [
      "C:\\Users\\Bruker\\Miniconda3\\envs\\gputest\\lib\\site-packages\\sklearn\\model_selection\\_search.py:841: DeprecationWarning: The default of the `iid` parameter will change from True to False in version 0.22 and will be removed in 0.24. This will change numeric results when test-set sizes are unequal.\n",
      "  DeprecationWarning)\n"
     ]
    },
    {
     "name": "stdout",
     "output_type": "stream",
     "text": [
      "Product_id:  200\n",
      "MAPE Score:  -19.75542938365012\n"
     ]
    },
    {
     "name": "stderr",
     "output_type": "stream",
     "text": [
      "C:\\Users\\Bruker\\Miniconda3\\envs\\gputest\\lib\\site-packages\\sklearn\\model_selection\\_search.py:841: DeprecationWarning: The default of the `iid` parameter will change from True to False in version 0.22 and will be removed in 0.24. This will change numeric results when test-set sizes are unequal.\n",
      "  DeprecationWarning)\n"
     ]
    },
    {
     "name": "stdout",
     "output_type": "stream",
     "text": [
      "Product_id:  119\n",
      "MAPE Score:  -23.07561583126142\n"
     ]
    },
    {
     "name": "stderr",
     "output_type": "stream",
     "text": [
      "C:\\Users\\Bruker\\Miniconda3\\envs\\gputest\\lib\\site-packages\\sklearn\\model_selection\\_search.py:841: DeprecationWarning: The default of the `iid` parameter will change from True to False in version 0.22 and will be removed in 0.24. This will change numeric results when test-set sizes are unequal.\n",
      "  DeprecationWarning)\n"
     ]
    },
    {
     "name": "stdout",
     "output_type": "stream",
     "text": [
      "Product_id:  241\n",
      "MAPE Score:  -33.42712711200415\n"
     ]
    },
    {
     "name": "stderr",
     "output_type": "stream",
     "text": [
      "C:\\Users\\Bruker\\Miniconda3\\envs\\gputest\\lib\\site-packages\\sklearn\\model_selection\\_search.py:841: DeprecationWarning: The default of the `iid` parameter will change from True to False in version 0.22 and will be removed in 0.24. This will change numeric results when test-set sizes are unequal.\n",
      "  DeprecationWarning)\n"
     ]
    },
    {
     "name": "stdout",
     "output_type": "stream",
     "text": [
      "Product_id:  81\n",
      "MAPE Score:  -23.2963808362873\n"
     ]
    },
    {
     "name": "stderr",
     "output_type": "stream",
     "text": [
      "C:\\Users\\Bruker\\Miniconda3\\envs\\gputest\\lib\\site-packages\\sklearn\\model_selection\\_search.py:841: DeprecationWarning: The default of the `iid` parameter will change from True to False in version 0.22 and will be removed in 0.24. This will change numeric results when test-set sizes are unequal.\n",
      "  DeprecationWarning)\n"
     ]
    },
    {
     "name": "stdout",
     "output_type": "stream",
     "text": [
      "Product_id:  110\n",
      "MAPE Score:  -21.07375523516836\n"
     ]
    },
    {
     "name": "stderr",
     "output_type": "stream",
     "text": [
      "C:\\Users\\Bruker\\Miniconda3\\envs\\gputest\\lib\\site-packages\\sklearn\\model_selection\\_search.py:841: DeprecationWarning: The default of the `iid` parameter will change from True to False in version 0.22 and will be removed in 0.24. This will change numeric results when test-set sizes are unequal.\n",
      "  DeprecationWarning)\n"
     ]
    },
    {
     "name": "stdout",
     "output_type": "stream",
     "text": [
      "Product_id:  232\n",
      "MAPE Score:  -23.313681935158513\n"
     ]
    },
    {
     "name": "stderr",
     "output_type": "stream",
     "text": [
      "C:\\Users\\Bruker\\Miniconda3\\envs\\gputest\\lib\\site-packages\\sklearn\\model_selection\\_search.py:841: DeprecationWarning: The default of the `iid` parameter will change from True to False in version 0.22 and will be removed in 0.24. This will change numeric results when test-set sizes are unequal.\n",
      "  DeprecationWarning)\n"
     ]
    },
    {
     "name": "stdout",
     "output_type": "stream",
     "text": [
      "Product_id:  75\n",
      "MAPE Score:  -21.86637443376969\n"
     ]
    },
    {
     "name": "stderr",
     "output_type": "stream",
     "text": [
      "C:\\Users\\Bruker\\Miniconda3\\envs\\gputest\\lib\\site-packages\\sklearn\\model_selection\\_search.py:841: DeprecationWarning: The default of the `iid` parameter will change from True to False in version 0.22 and will be removed in 0.24. This will change numeric results when test-set sizes are unequal.\n",
      "  DeprecationWarning)\n"
     ]
    },
    {
     "name": "stdout",
     "output_type": "stream",
     "text": [
      "Product_id:  311\n",
      "MAPE Score:  -20.671961580912363\n"
     ]
    },
    {
     "name": "stderr",
     "output_type": "stream",
     "text": [
      "C:\\Users\\Bruker\\Miniconda3\\envs\\gputest\\lib\\site-packages\\sklearn\\model_selection\\_search.py:841: DeprecationWarning: The default of the `iid` parameter will change from True to False in version 0.22 and will be removed in 0.24. This will change numeric results when test-set sizes are unequal.\n",
      "  DeprecationWarning)\n"
     ]
    },
    {
     "name": "stdout",
     "output_type": "stream",
     "text": [
      "Product_id:  92\n",
      "MAPE Score:  -23.45280386990462\n"
     ]
    },
    {
     "name": "stderr",
     "output_type": "stream",
     "text": [
      "C:\\Users\\Bruker\\Miniconda3\\envs\\gputest\\lib\\site-packages\\sklearn\\model_selection\\_search.py:841: DeprecationWarning: The default of the `iid` parameter will change from True to False in version 0.22 and will be removed in 0.24. This will change numeric results when test-set sizes are unequal.\n",
      "  DeprecationWarning)\n"
     ]
    },
    {
     "name": "stdout",
     "output_type": "stream",
     "text": [
      "Product_id:  176\n",
      "MAPE Score:  -22.214176365407102\n"
     ]
    },
    {
     "name": "stderr",
     "output_type": "stream",
     "text": [
      "C:\\Users\\Bruker\\Miniconda3\\envs\\gputest\\lib\\site-packages\\sklearn\\model_selection\\_search.py:841: DeprecationWarning: The default of the `iid` parameter will change from True to False in version 0.22 and will be removed in 0.24. This will change numeric results when test-set sizes are unequal.\n",
      "  DeprecationWarning)\n"
     ]
    },
    {
     "name": "stdout",
     "output_type": "stream",
     "text": [
      "Product_id:  234\n",
      "MAPE Score:  -21.50431972902232\n"
     ]
    },
    {
     "name": "stderr",
     "output_type": "stream",
     "text": [
      "C:\\Users\\Bruker\\Miniconda3\\envs\\gputest\\lib\\site-packages\\sklearn\\model_selection\\_search.py:841: DeprecationWarning: The default of the `iid` parameter will change from True to False in version 0.22 and will be removed in 0.24. This will change numeric results when test-set sizes are unequal.\n",
      "  DeprecationWarning)\n"
     ]
    },
    {
     "name": "stdout",
     "output_type": "stream",
     "text": [
      "Product_id:  18\n",
      "MAPE Score:  -23.254277151527376\n"
     ]
    },
    {
     "name": "stderr",
     "output_type": "stream",
     "text": [
      "C:\\Users\\Bruker\\Miniconda3\\envs\\gputest\\lib\\site-packages\\sklearn\\model_selection\\_search.py:841: DeprecationWarning: The default of the `iid` parameter will change from True to False in version 0.22 and will be removed in 0.24. This will change numeric results when test-set sizes are unequal.\n",
      "  DeprecationWarning)\n"
     ]
    },
    {
     "name": "stdout",
     "output_type": "stream",
     "text": [
      "Product_id:  155\n",
      "MAPE Score:  -20.79313134620089\n"
     ]
    },
    {
     "name": "stderr",
     "output_type": "stream",
     "text": [
      "C:\\Users\\Bruker\\Miniconda3\\envs\\gputest\\lib\\site-packages\\sklearn\\model_selection\\_search.py:841: DeprecationWarning: The default of the `iid` parameter will change from True to False in version 0.22 and will be removed in 0.24. This will change numeric results when test-set sizes are unequal.\n",
      "  DeprecationWarning)\n"
     ]
    },
    {
     "name": "stdout",
     "output_type": "stream",
     "text": [
      "Product_id:  316\n",
      "MAPE Score:  -21.779835396756347\n"
     ]
    },
    {
     "name": "stderr",
     "output_type": "stream",
     "text": [
      "C:\\Users\\Bruker\\Miniconda3\\envs\\gputest\\lib\\site-packages\\sklearn\\model_selection\\_search.py:841: DeprecationWarning: The default of the `iid` parameter will change from True to False in version 0.22 and will be removed in 0.24. This will change numeric results when test-set sizes are unequal.\n",
      "  DeprecationWarning)\n"
     ]
    },
    {
     "name": "stdout",
     "output_type": "stream",
     "text": [
      "Product_id:  60\n",
      "MAPE Score:  -21.884545615987566\n"
     ]
    },
    {
     "name": "stderr",
     "output_type": "stream",
     "text": [
      "C:\\Users\\Bruker\\Miniconda3\\envs\\gputest\\lib\\site-packages\\sklearn\\model_selection\\_search.py:841: DeprecationWarning: The default of the `iid` parameter will change from True to False in version 0.22 and will be removed in 0.24. This will change numeric results when test-set sizes are unequal.\n",
      "  DeprecationWarning)\n"
     ]
    },
    {
     "name": "stdout",
     "output_type": "stream",
     "text": [
      "Product_id:  34\n",
      "MAPE Score:  -29.031996506057656\n"
     ]
    },
    {
     "name": "stderr",
     "output_type": "stream",
     "text": [
      "C:\\Users\\Bruker\\Miniconda3\\envs\\gputest\\lib\\site-packages\\sklearn\\model_selection\\_search.py:841: DeprecationWarning: The default of the `iid` parameter will change from True to False in version 0.22 and will be removed in 0.24. This will change numeric results when test-set sizes are unequal.\n",
      "  DeprecationWarning)\n"
     ]
    },
    {
     "name": "stdout",
     "output_type": "stream",
     "text": [
      "Product_id:  246\n",
      "MAPE Score:  -23.732202564080705\n"
     ]
    },
    {
     "name": "stderr",
     "output_type": "stream",
     "text": [
      "C:\\Users\\Bruker\\Miniconda3\\envs\\gputest\\lib\\site-packages\\sklearn\\model_selection\\_search.py:841: DeprecationWarning: The default of the `iid` parameter will change from True to False in version 0.22 and will be removed in 0.24. This will change numeric results when test-set sizes are unequal.\n",
      "  DeprecationWarning)\n"
     ]
    },
    {
     "name": "stdout",
     "output_type": "stream",
     "text": [
      "Product_id:  25\n",
      "MAPE Score:  -20.266127931390262\n"
     ]
    },
    {
     "name": "stderr",
     "output_type": "stream",
     "text": [
      "C:\\Users\\Bruker\\Miniconda3\\envs\\gputest\\lib\\site-packages\\sklearn\\model_selection\\_search.py:841: DeprecationWarning: The default of the `iid` parameter will change from True to False in version 0.22 and will be removed in 0.24. This will change numeric results when test-set sizes are unequal.\n",
      "  DeprecationWarning)\n"
     ]
    },
    {
     "name": "stdout",
     "output_type": "stream",
     "text": [
      "Product_id:  129\n",
      "MAPE Score:  -21.74154565101862\n"
     ]
    },
    {
     "name": "stderr",
     "output_type": "stream",
     "text": [
      "C:\\Users\\Bruker\\Miniconda3\\envs\\gputest\\lib\\site-packages\\sklearn\\model_selection\\_search.py:841: DeprecationWarning: The default of the `iid` parameter will change from True to False in version 0.22 and will be removed in 0.24. This will change numeric results when test-set sizes are unequal.\n",
      "  DeprecationWarning)\n"
     ]
    },
    {
     "name": "stdout",
     "output_type": "stream",
     "text": [
      "Product_id:  236\n",
      "MAPE Score:  -24.461447003322874\n"
     ]
    },
    {
     "name": "stderr",
     "output_type": "stream",
     "text": [
      "C:\\Users\\Bruker\\Miniconda3\\envs\\gputest\\lib\\site-packages\\sklearn\\model_selection\\_search.py:841: DeprecationWarning: The default of the `iid` parameter will change from True to False in version 0.22 and will be removed in 0.24. This will change numeric results when test-set sizes are unequal.\n",
      "  DeprecationWarning)\n"
     ]
    },
    {
     "name": "stdout",
     "output_type": "stream",
     "text": [
      "Product_id:  222\n",
      "MAPE Score:  -20.916576522847787\n"
     ]
    },
    {
     "name": "stderr",
     "output_type": "stream",
     "text": [
      "C:\\Users\\Bruker\\Miniconda3\\envs\\gputest\\lib\\site-packages\\sklearn\\model_selection\\_search.py:841: DeprecationWarning: The default of the `iid` parameter will change from True to False in version 0.22 and will be removed in 0.24. This will change numeric results when test-set sizes are unequal.\n",
      "  DeprecationWarning)\n"
     ]
    },
    {
     "name": "stdout",
     "output_type": "stream",
     "text": [
      "Product_id:  163\n",
      "MAPE Score:  -23.248286714628073\n"
     ]
    },
    {
     "name": "stderr",
     "output_type": "stream",
     "text": [
      "C:\\Users\\Bruker\\Miniconda3\\envs\\gputest\\lib\\site-packages\\sklearn\\model_selection\\_search.py:841: DeprecationWarning: The default of the `iid` parameter will change from True to False in version 0.22 and will be removed in 0.24. This will change numeric results when test-set sizes are unequal.\n",
      "  DeprecationWarning)\n"
     ]
    },
    {
     "name": "stdout",
     "output_type": "stream",
     "text": [
      "Product_id:  287\n",
      "MAPE Score:  -22.845462707112418\n"
     ]
    },
    {
     "name": "stderr",
     "output_type": "stream",
     "text": [
      "C:\\Users\\Bruker\\Miniconda3\\envs\\gputest\\lib\\site-packages\\sklearn\\model_selection\\_search.py:841: DeprecationWarning: The default of the `iid` parameter will change from True to False in version 0.22 and will be removed in 0.24. This will change numeric results when test-set sizes are unequal.\n",
      "  DeprecationWarning)\n"
     ]
    },
    {
     "name": "stdout",
     "output_type": "stream",
     "text": [
      "Product_id:  315\n",
      "MAPE Score:  -21.246091351444957\n",
      "Product_id:  264\n",
      "MAPE Score:  -25.151685080775522\n"
     ]
    },
    {
     "name": "stderr",
     "output_type": "stream",
     "text": [
      "C:\\Users\\Bruker\\Miniconda3\\envs\\gputest\\lib\\site-packages\\sklearn\\model_selection\\_search.py:841: DeprecationWarning: The default of the `iid` parameter will change from True to False in version 0.22 and will be removed in 0.24. This will change numeric results when test-set sizes are unequal.\n",
      "  DeprecationWarning)\n"
     ]
    },
    {
     "name": "stdout",
     "output_type": "stream",
     "text": [
      "Product_id:  167\n",
      "MAPE Score:  -21.856364984734462\n"
     ]
    },
    {
     "name": "stderr",
     "output_type": "stream",
     "text": [
      "C:\\Users\\Bruker\\Miniconda3\\envs\\gputest\\lib\\site-packages\\sklearn\\model_selection\\_search.py:841: DeprecationWarning: The default of the `iid` parameter will change from True to False in version 0.22 and will be removed in 0.24. This will change numeric results when test-set sizes are unequal.\n",
      "  DeprecationWarning)\n"
     ]
    },
    {
     "name": "stdout",
     "output_type": "stream",
     "text": [
      "Product_id:  41\n",
      "MAPE Score:  -22.274511677831068\n"
     ]
    },
    {
     "name": "stderr",
     "output_type": "stream",
     "text": [
      "C:\\Users\\Bruker\\Miniconda3\\envs\\gputest\\lib\\site-packages\\sklearn\\model_selection\\_search.py:841: DeprecationWarning: The default of the `iid` parameter will change from True to False in version 0.22 and will be removed in 0.24. This will change numeric results when test-set sizes are unequal.\n",
      "  DeprecationWarning)\n"
     ]
    },
    {
     "name": "stdout",
     "output_type": "stream",
     "text": [
      "Product_id:  296\n",
      "MAPE Score:  -24.618444307702273\n"
     ]
    },
    {
     "name": "stderr",
     "output_type": "stream",
     "text": [
      "C:\\Users\\Bruker\\Miniconda3\\envs\\gputest\\lib\\site-packages\\sklearn\\model_selection\\_search.py:841: DeprecationWarning: The default of the `iid` parameter will change from True to False in version 0.22 and will be removed in 0.24. This will change numeric results when test-set sizes are unequal.\n",
      "  DeprecationWarning)\n"
     ]
    },
    {
     "name": "stdout",
     "output_type": "stream",
     "text": [
      "Product_id:  314\n",
      "MAPE Score:  -19.34105340147983\n"
     ]
    },
    {
     "name": "stderr",
     "output_type": "stream",
     "text": [
      "C:\\Users\\Bruker\\Miniconda3\\envs\\gputest\\lib\\site-packages\\sklearn\\model_selection\\_search.py:841: DeprecationWarning: The default of the `iid` parameter will change from True to False in version 0.22 and will be removed in 0.24. This will change numeric results when test-set sizes are unequal.\n",
      "  DeprecationWarning)\n"
     ]
    },
    {
     "name": "stdout",
     "output_type": "stream",
     "text": [
      "Product_id:  65\n",
      "MAPE Score:  -23.711007968211575\n"
     ]
    },
    {
     "name": "stderr",
     "output_type": "stream",
     "text": [
      "C:\\Users\\Bruker\\Miniconda3\\envs\\gputest\\lib\\site-packages\\sklearn\\model_selection\\_search.py:841: DeprecationWarning: The default of the `iid` parameter will change from True to False in version 0.22 and will be removed in 0.24. This will change numeric results when test-set sizes are unequal.\n",
      "  DeprecationWarning)\n"
     ]
    },
    {
     "name": "stdout",
     "output_type": "stream",
     "text": [
      "Product_id:  198\n",
      "MAPE Score:  -21.55255558377579\n"
     ]
    },
    {
     "name": "stderr",
     "output_type": "stream",
     "text": [
      "C:\\Users\\Bruker\\Miniconda3\\envs\\gputest\\lib\\site-packages\\sklearn\\model_selection\\_search.py:841: DeprecationWarning: The default of the `iid` parameter will change from True to False in version 0.22 and will be removed in 0.24. This will change numeric results when test-set sizes are unequal.\n",
      "  DeprecationWarning)\n"
     ]
    },
    {
     "name": "stdout",
     "output_type": "stream",
     "text": [
      "Product_id:  149\n",
      "MAPE Score:  -20.950036748528436\n"
     ]
    },
    {
     "name": "stderr",
     "output_type": "stream",
     "text": [
      "C:\\Users\\Bruker\\Miniconda3\\envs\\gputest\\lib\\site-packages\\sklearn\\model_selection\\_search.py:841: DeprecationWarning: The default of the `iid` parameter will change from True to False in version 0.22 and will be removed in 0.24. This will change numeric results when test-set sizes are unequal.\n",
      "  DeprecationWarning)\n"
     ]
    },
    {
     "name": "stdout",
     "output_type": "stream",
     "text": [
      "Product_id:  235\n",
      "MAPE Score:  -23.069938335685716\n"
     ]
    },
    {
     "name": "stderr",
     "output_type": "stream",
     "text": [
      "C:\\Users\\Bruker\\Miniconda3\\envs\\gputest\\lib\\site-packages\\sklearn\\model_selection\\_search.py:841: DeprecationWarning: The default of the `iid` parameter will change from True to False in version 0.22 and will be removed in 0.24. This will change numeric results when test-set sizes are unequal.\n",
      "  DeprecationWarning)\n"
     ]
    },
    {
     "name": "stdout",
     "output_type": "stream",
     "text": [
      "Product_id:  263\n",
      "MAPE Score:  -20.14176119048275\n"
     ]
    },
    {
     "name": "stderr",
     "output_type": "stream",
     "text": [
      "C:\\Users\\Bruker\\Miniconda3\\envs\\gputest\\lib\\site-packages\\sklearn\\model_selection\\_search.py:841: DeprecationWarning: The default of the `iid` parameter will change from True to False in version 0.22 and will be removed in 0.24. This will change numeric results when test-set sizes are unequal.\n",
      "  DeprecationWarning)\n"
     ]
    },
    {
     "name": "stdout",
     "output_type": "stream",
     "text": [
      "Product_id:  55\n",
      "MAPE Score:  -20.51418950421463\n"
     ]
    },
    {
     "name": "stderr",
     "output_type": "stream",
     "text": [
      "C:\\Users\\Bruker\\Miniconda3\\envs\\gputest\\lib\\site-packages\\sklearn\\model_selection\\_search.py:841: DeprecationWarning: The default of the `iid` parameter will change from True to False in version 0.22 and will be removed in 0.24. This will change numeric results when test-set sizes are unequal.\n",
      "  DeprecationWarning)\n"
     ]
    },
    {
     "name": "stdout",
     "output_type": "stream",
     "text": [
      "Product_id:  292\n",
      "MAPE Score:  -23.391177028890674\n"
     ]
    },
    {
     "name": "stderr",
     "output_type": "stream",
     "text": [
      "C:\\Users\\Bruker\\Miniconda3\\envs\\gputest\\lib\\site-packages\\sklearn\\model_selection\\_search.py:841: DeprecationWarning: The default of the `iid` parameter will change from True to False in version 0.22 and will be removed in 0.24. This will change numeric results when test-set sizes are unequal.\n",
      "  DeprecationWarning)\n"
     ]
    },
    {
     "name": "stdout",
     "output_type": "stream",
     "text": [
      "Product_id:  280\n",
      "MAPE Score:  -21.479815403850928\n"
     ]
    },
    {
     "name": "stderr",
     "output_type": "stream",
     "text": [
      "C:\\Users\\Bruker\\Miniconda3\\envs\\gputest\\lib\\site-packages\\sklearn\\model_selection\\_search.py:841: DeprecationWarning: The default of the `iid` parameter will change from True to False in version 0.22 and will be removed in 0.24. This will change numeric results when test-set sizes are unequal.\n",
      "  DeprecationWarning)\n"
     ]
    },
    {
     "name": "stdout",
     "output_type": "stream",
     "text": [
      "Product_id:  123\n",
      "MAPE Score:  -21.9692557975681\n"
     ]
    },
    {
     "name": "stderr",
     "output_type": "stream",
     "text": [
      "C:\\Users\\Bruker\\Miniconda3\\envs\\gputest\\lib\\site-packages\\sklearn\\model_selection\\_search.py:841: DeprecationWarning: The default of the `iid` parameter will change from True to False in version 0.22 and will be removed in 0.24. This will change numeric results when test-set sizes are unequal.\n",
      "  DeprecationWarning)\n"
     ]
    },
    {
     "name": "stdout",
     "output_type": "stream",
     "text": [
      "Product_id:  140\n",
      "MAPE Score:  -23.58622404683349\n"
     ]
    },
    {
     "name": "stderr",
     "output_type": "stream",
     "text": [
      "C:\\Users\\Bruker\\Miniconda3\\envs\\gputest\\lib\\site-packages\\sklearn\\model_selection\\_search.py:841: DeprecationWarning: The default of the `iid` parameter will change from True to False in version 0.22 and will be removed in 0.24. This will change numeric results when test-set sizes are unequal.\n",
      "  DeprecationWarning)\n"
     ]
    },
    {
     "name": "stdout",
     "output_type": "stream",
     "text": [
      "Product_id:  128\n",
      "MAPE Score:  -22.898576082856206\n"
     ]
    },
    {
     "name": "stderr",
     "output_type": "stream",
     "text": [
      "C:\\Users\\Bruker\\Miniconda3\\envs\\gputest\\lib\\site-packages\\sklearn\\model_selection\\_search.py:841: DeprecationWarning: The default of the `iid` parameter will change from True to False in version 0.22 and will be removed in 0.24. This will change numeric results when test-set sizes are unequal.\n",
      "  DeprecationWarning)\n"
     ]
    },
    {
     "name": "stdout",
     "output_type": "stream",
     "text": [
      "Product_id:  197\n",
      "MAPE Score:  -20.93108617746596\n"
     ]
    },
    {
     "name": "stderr",
     "output_type": "stream",
     "text": [
      "C:\\Users\\Bruker\\Miniconda3\\envs\\gputest\\lib\\site-packages\\sklearn\\model_selection\\_search.py:841: DeprecationWarning: The default of the `iid` parameter will change from True to False in version 0.22 and will be removed in 0.24. This will change numeric results when test-set sizes are unequal.\n",
      "  DeprecationWarning)\n"
     ]
    },
    {
     "name": "stdout",
     "output_type": "stream",
     "text": [
      "Product_id:  20\n",
      "MAPE Score:  -23.620755787621345\n"
     ]
    },
    {
     "name": "stderr",
     "output_type": "stream",
     "text": [
      "C:\\Users\\Bruker\\Miniconda3\\envs\\gputest\\lib\\site-packages\\sklearn\\model_selection\\_search.py:841: DeprecationWarning: The default of the `iid` parameter will change from True to False in version 0.22 and will be removed in 0.24. This will change numeric results when test-set sizes are unequal.\n",
      "  DeprecationWarning)\n"
     ]
    },
    {
     "name": "stdout",
     "output_type": "stream",
     "text": [
      "Product_id:  32\n",
      "MAPE Score:  -23.270640660060113\n"
     ]
    },
    {
     "name": "stderr",
     "output_type": "stream",
     "text": [
      "C:\\Users\\Bruker\\Miniconda3\\envs\\gputest\\lib\\site-packages\\sklearn\\model_selection\\_search.py:841: DeprecationWarning: The default of the `iid` parameter will change from True to False in version 0.22 and will be removed in 0.24. This will change numeric results when test-set sizes are unequal.\n",
      "  DeprecationWarning)\n"
     ]
    },
    {
     "name": "stdout",
     "output_type": "stream",
     "text": [
      "Product_id:  206\n",
      "MAPE Score:  -21.404681058889235\n"
     ]
    },
    {
     "name": "stderr",
     "output_type": "stream",
     "text": [
      "C:\\Users\\Bruker\\Miniconda3\\envs\\gputest\\lib\\site-packages\\sklearn\\model_selection\\_search.py:841: DeprecationWarning: The default of the `iid` parameter will change from True to False in version 0.22 and will be removed in 0.24. This will change numeric results when test-set sizes are unequal.\n",
      "  DeprecationWarning)\n"
     ]
    },
    {
     "name": "stdout",
     "output_type": "stream",
     "text": [
      "Product_id:  244\n",
      "MAPE Score:  -22.003183231738987\n"
     ]
    },
    {
     "name": "stderr",
     "output_type": "stream",
     "text": [
      "C:\\Users\\Bruker\\Miniconda3\\envs\\gputest\\lib\\site-packages\\sklearn\\model_selection\\_search.py:841: DeprecationWarning: The default of the `iid` parameter will change from True to False in version 0.22 and will be removed in 0.24. This will change numeric results when test-set sizes are unequal.\n",
      "  DeprecationWarning)\n"
     ]
    },
    {
     "name": "stdout",
     "output_type": "stream",
     "text": [
      "Product_id:  257\n",
      "MAPE Score:  -20.653162240759602\n"
     ]
    },
    {
     "name": "stderr",
     "output_type": "stream",
     "text": [
      "C:\\Users\\Bruker\\Miniconda3\\envs\\gputest\\lib\\site-packages\\sklearn\\model_selection\\_search.py:841: DeprecationWarning: The default of the `iid` parameter will change from True to False in version 0.22 and will be removed in 0.24. This will change numeric results when test-set sizes are unequal.\n",
      "  DeprecationWarning)\n"
     ]
    },
    {
     "name": "stdout",
     "output_type": "stream",
     "text": [
      "Product_id:  132\n",
      "MAPE Score:  -20.76743294762626\n",
      "Product_id:  145\n",
      "MAPE Score:  -20.489057811227575\n"
     ]
    },
    {
     "name": "stderr",
     "output_type": "stream",
     "text": [
      "C:\\Users\\Bruker\\Miniconda3\\envs\\gputest\\lib\\site-packages\\sklearn\\model_selection\\_search.py:841: DeprecationWarning: The default of the `iid` parameter will change from True to False in version 0.22 and will be removed in 0.24. This will change numeric results when test-set sizes are unequal.\n",
      "  DeprecationWarning)\n"
     ]
    },
    {
     "name": "stdout",
     "output_type": "stream",
     "text": [
      "Product_id:  207\n",
      "MAPE Score:  -22.606051982811458\n"
     ]
    },
    {
     "name": "stderr",
     "output_type": "stream",
     "text": [
      "C:\\Users\\Bruker\\Miniconda3\\envs\\gputest\\lib\\site-packages\\sklearn\\model_selection\\_search.py:841: DeprecationWarning: The default of the `iid` parameter will change from True to False in version 0.22 and will be removed in 0.24. This will change numeric results when test-set sizes are unequal.\n",
      "  DeprecationWarning)\n"
     ]
    },
    {
     "name": "stdout",
     "output_type": "stream",
     "text": [
      "Product_id:  186\n",
      "MAPE Score:  -21.292521820515095\n"
     ]
    },
    {
     "name": "stderr",
     "output_type": "stream",
     "text": [
      "C:\\Users\\Bruker\\Miniconda3\\envs\\gputest\\lib\\site-packages\\sklearn\\model_selection\\_search.py:841: DeprecationWarning: The default of the `iid` parameter will change from True to False in version 0.22 and will be removed in 0.24. This will change numeric results when test-set sizes are unequal.\n",
      "  DeprecationWarning)\n"
     ]
    },
    {
     "name": "stdout",
     "output_type": "stream",
     "text": [
      "Product_id:  88\n",
      "MAPE Score:  -22.62726356808848\n"
     ]
    },
    {
     "name": "stderr",
     "output_type": "stream",
     "text": [
      "C:\\Users\\Bruker\\Miniconda3\\envs\\gputest\\lib\\site-packages\\sklearn\\model_selection\\_search.py:841: DeprecationWarning: The default of the `iid` parameter will change from True to False in version 0.22 and will be removed in 0.24. This will change numeric results when test-set sizes are unequal.\n",
      "  DeprecationWarning)\n"
     ]
    },
    {
     "name": "stdout",
     "output_type": "stream",
     "text": [
      "Product_id:  114\n",
      "MAPE Score:  -21.121199720375426\n"
     ]
    },
    {
     "name": "stderr",
     "output_type": "stream",
     "text": [
      "C:\\Users\\Bruker\\Miniconda3\\envs\\gputest\\lib\\site-packages\\sklearn\\model_selection\\_search.py:841: DeprecationWarning: The default of the `iid` parameter will change from True to False in version 0.22 and will be removed in 0.24. This will change numeric results when test-set sizes are unequal.\n",
      "  DeprecationWarning)\n"
     ]
    },
    {
     "name": "stdout",
     "output_type": "stream",
     "text": [
      "Product_id:  218\n",
      "MAPE Score:  -22.789245557796118\n",
      "Product_id:  248\n",
      "MAPE Score:  -24.784485758280198\n"
     ]
    },
    {
     "name": "stderr",
     "output_type": "stream",
     "text": [
      "C:\\Users\\Bruker\\Miniconda3\\envs\\gputest\\lib\\site-packages\\sklearn\\model_selection\\_search.py:841: DeprecationWarning: The default of the `iid` parameter will change from True to False in version 0.22 and will be removed in 0.24. This will change numeric results when test-set sizes are unequal.\n",
      "  DeprecationWarning)\n"
     ]
    },
    {
     "name": "stdout",
     "output_type": "stream",
     "text": [
      "Product_id:  97\n",
      "MAPE Score:  -26.280894198678652\n"
     ]
    },
    {
     "name": "stderr",
     "output_type": "stream",
     "text": [
      "C:\\Users\\Bruker\\Miniconda3\\envs\\gputest\\lib\\site-packages\\sklearn\\model_selection\\_search.py:841: DeprecationWarning: The default of the `iid` parameter will change from True to False in version 0.22 and will be removed in 0.24. This will change numeric results when test-set sizes are unequal.\n",
      "  DeprecationWarning)\n"
     ]
    },
    {
     "name": "stdout",
     "output_type": "stream",
     "text": [
      "Product_id:  103\n",
      "MAPE Score:  -21.131716546575923\n"
     ]
    },
    {
     "name": "stderr",
     "output_type": "stream",
     "text": [
      "C:\\Users\\Bruker\\Miniconda3\\envs\\gputest\\lib\\site-packages\\sklearn\\model_selection\\_search.py:841: DeprecationWarning: The default of the `iid` parameter will change from True to False in version 0.22 and will be removed in 0.24. This will change numeric results when test-set sizes are unequal.\n",
      "  DeprecationWarning)\n"
     ]
    },
    {
     "name": "stdout",
     "output_type": "stream",
     "text": [
      "Product_id:  193\n",
      "MAPE Score:  -23.05587819784683\n"
     ]
    },
    {
     "name": "stderr",
     "output_type": "stream",
     "text": [
      "C:\\Users\\Bruker\\Miniconda3\\envs\\gputest\\lib\\site-packages\\sklearn\\model_selection\\_search.py:841: DeprecationWarning: The default of the `iid` parameter will change from True to False in version 0.22 and will be removed in 0.24. This will change numeric results when test-set sizes are unequal.\n",
      "  DeprecationWarning)\n"
     ]
    },
    {
     "name": "stdout",
     "output_type": "stream",
     "text": [
      "Product_id:  250\n",
      "MAPE Score:  -19.813229643234603\n"
     ]
    },
    {
     "name": "stderr",
     "output_type": "stream",
     "text": [
      "C:\\Users\\Bruker\\Miniconda3\\envs\\gputest\\lib\\site-packages\\sklearn\\model_selection\\_search.py:841: DeprecationWarning: The default of the `iid` parameter will change from True to False in version 0.22 and will be removed in 0.24. This will change numeric results when test-set sizes are unequal.\n",
      "  DeprecationWarning)\n"
     ]
    },
    {
     "name": "stdout",
     "output_type": "stream",
     "text": [
      "Product_id:  265\n",
      "MAPE Score:  -21.512957226367995\n"
     ]
    },
    {
     "name": "stderr",
     "output_type": "stream",
     "text": [
      "C:\\Users\\Bruker\\Miniconda3\\envs\\gputest\\lib\\site-packages\\sklearn\\model_selection\\_search.py:841: DeprecationWarning: The default of the `iid` parameter will change from True to False in version 0.22 and will be removed in 0.24. This will change numeric results when test-set sizes are unequal.\n",
      "  DeprecationWarning)\n"
     ]
    },
    {
     "name": "stdout",
     "output_type": "stream",
     "text": [
      "Product_id:  61\n",
      "MAPE Score:  -20.023809196568227\n"
     ]
    },
    {
     "name": "stderr",
     "output_type": "stream",
     "text": [
      "C:\\Users\\Bruker\\Miniconda3\\envs\\gputest\\lib\\site-packages\\sklearn\\model_selection\\_search.py:841: DeprecationWarning: The default of the `iid` parameter will change from True to False in version 0.22 and will be removed in 0.24. This will change numeric results when test-set sizes are unequal.\n",
      "  DeprecationWarning)\n"
     ]
    },
    {
     "name": "stdout",
     "output_type": "stream",
     "text": [
      "Product_id:  289\n",
      "MAPE Score:  -28.158271475898072\n"
     ]
    },
    {
     "name": "stderr",
     "output_type": "stream",
     "text": [
      "C:\\Users\\Bruker\\Miniconda3\\envs\\gputest\\lib\\site-packages\\sklearn\\model_selection\\_search.py:841: DeprecationWarning: The default of the `iid` parameter will change from True to False in version 0.22 and will be removed in 0.24. This will change numeric results when test-set sizes are unequal.\n",
      "  DeprecationWarning)\n"
     ]
    },
    {
     "name": "stdout",
     "output_type": "stream",
     "text": [
      "Product_id:  49\n",
      "MAPE Score:  -23.49460369314385\n"
     ]
    },
    {
     "name": "stderr",
     "output_type": "stream",
     "text": [
      "C:\\Users\\Bruker\\Miniconda3\\envs\\gputest\\lib\\site-packages\\sklearn\\model_selection\\_search.py:841: DeprecationWarning: The default of the `iid` parameter will change from True to False in version 0.22 and will be removed in 0.24. This will change numeric results when test-set sizes are unequal.\n",
      "  DeprecationWarning)\n"
     ]
    },
    {
     "name": "stdout",
     "output_type": "stream",
     "text": [
      "Product_id:  180\n",
      "MAPE Score:  -22.952052382588665\n"
     ]
    },
    {
     "name": "stderr",
     "output_type": "stream",
     "text": [
      "C:\\Users\\Bruker\\Miniconda3\\envs\\gputest\\lib\\site-packages\\sklearn\\model_selection\\_search.py:841: DeprecationWarning: The default of the `iid` parameter will change from True to False in version 0.22 and will be removed in 0.24. This will change numeric results when test-set sizes are unequal.\n",
      "  DeprecationWarning)\n"
     ]
    },
    {
     "name": "stdout",
     "output_type": "stream",
     "text": [
      "Product_id:  73\n",
      "MAPE Score:  -22.04401896280124\n"
     ]
    },
    {
     "name": "stderr",
     "output_type": "stream",
     "text": [
      "C:\\Users\\Bruker\\Miniconda3\\envs\\gputest\\lib\\site-packages\\sklearn\\model_selection\\_search.py:841: DeprecationWarning: The default of the `iid` parameter will change from True to False in version 0.22 and will be removed in 0.24. This will change numeric results when test-set sizes are unequal.\n",
      "  DeprecationWarning)\n"
     ]
    },
    {
     "name": "stdout",
     "output_type": "stream",
     "text": [
      "Product_id:  243\n",
      "MAPE Score:  -22.90449664057095\n"
     ]
    },
    {
     "name": "stderr",
     "output_type": "stream",
     "text": [
      "C:\\Users\\Bruker\\Miniconda3\\envs\\gputest\\lib\\site-packages\\sklearn\\model_selection\\_search.py:841: DeprecationWarning: The default of the `iid` parameter will change from True to False in version 0.22 and will be removed in 0.24. This will change numeric results when test-set sizes are unequal.\n",
      "  DeprecationWarning)\n"
     ]
    },
    {
     "name": "stdout",
     "output_type": "stream",
     "text": [
      "Product_id:  177\n",
      "MAPE Score:  -25.853710539804464\n"
     ]
    },
    {
     "name": "stderr",
     "output_type": "stream",
     "text": [
      "C:\\Users\\Bruker\\Miniconda3\\envs\\gputest\\lib\\site-packages\\sklearn\\model_selection\\_search.py:841: DeprecationWarning: The default of the `iid` parameter will change from True to False in version 0.22 and will be removed in 0.24. This will change numeric results when test-set sizes are unequal.\n",
      "  DeprecationWarning)\n"
     ]
    },
    {
     "name": "stdout",
     "output_type": "stream",
     "text": [
      "Product_id:  151\n",
      "MAPE Score:  -22.44966146702026\n"
     ]
    },
    {
     "name": "stderr",
     "output_type": "stream",
     "text": [
      "C:\\Users\\Bruker\\Miniconda3\\envs\\gputest\\lib\\site-packages\\sklearn\\model_selection\\_search.py:841: DeprecationWarning: The default of the `iid` parameter will change from True to False in version 0.22 and will be removed in 0.24. This will change numeric results when test-set sizes are unequal.\n",
      "  DeprecationWarning)\n"
     ]
    },
    {
     "name": "stdout",
     "output_type": "stream",
     "text": [
      "Product_id:  290\n",
      "MAPE Score:  -21.680575075557403\n"
     ]
    },
    {
     "name": "stderr",
     "output_type": "stream",
     "text": [
      "C:\\Users\\Bruker\\Miniconda3\\envs\\gputest\\lib\\site-packages\\sklearn\\model_selection\\_search.py:841: DeprecationWarning: The default of the `iid` parameter will change from True to False in version 0.22 and will be removed in 0.24. This will change numeric results when test-set sizes are unequal.\n",
      "  DeprecationWarning)\n"
     ]
    },
    {
     "name": "stdout",
     "output_type": "stream",
     "text": [
      "Product_id:  178\n",
      "MAPE Score:  -22.467090201459047\n"
     ]
    },
    {
     "name": "stderr",
     "output_type": "stream",
     "text": [
      "C:\\Users\\Bruker\\Miniconda3\\envs\\gputest\\lib\\site-packages\\sklearn\\model_selection\\_search.py:841: DeprecationWarning: The default of the `iid` parameter will change from True to False in version 0.22 and will be removed in 0.24. This will change numeric results when test-set sizes are unequal.\n",
      "  DeprecationWarning)\n"
     ]
    },
    {
     "name": "stdout",
     "output_type": "stream",
     "text": [
      "Product_id:  104\n",
      "MAPE Score:  -21.91227817746412\n"
     ]
    },
    {
     "name": "stderr",
     "output_type": "stream",
     "text": [
      "C:\\Users\\Bruker\\Miniconda3\\envs\\gputest\\lib\\site-packages\\sklearn\\model_selection\\_search.py:841: DeprecationWarning: The default of the `iid` parameter will change from True to False in version 0.22 and will be removed in 0.24. This will change numeric results when test-set sizes are unequal.\n",
      "  DeprecationWarning)\n"
     ]
    },
    {
     "name": "stdout",
     "output_type": "stream",
     "text": [
      "Product_id:  308\n",
      "MAPE Score:  -20.81483406421535\n"
     ]
    },
    {
     "name": "stderr",
     "output_type": "stream",
     "text": [
      "C:\\Users\\Bruker\\Miniconda3\\envs\\gputest\\lib\\site-packages\\sklearn\\model_selection\\_search.py:841: DeprecationWarning: The default of the `iid` parameter will change from True to False in version 0.22 and will be removed in 0.24. This will change numeric results when test-set sizes are unequal.\n",
      "  DeprecationWarning)\n"
     ]
    },
    {
     "name": "stdout",
     "output_type": "stream",
     "text": [
      "Product_id:  69\n",
      "MAPE Score:  -21.18977435812882\n"
     ]
    },
    {
     "name": "stderr",
     "output_type": "stream",
     "text": [
      "C:\\Users\\Bruker\\Miniconda3\\envs\\gputest\\lib\\site-packages\\sklearn\\model_selection\\_search.py:841: DeprecationWarning: The default of the `iid` parameter will change from True to False in version 0.22 and will be removed in 0.24. This will change numeric results when test-set sizes are unequal.\n",
      "  DeprecationWarning)\n"
     ]
    },
    {
     "name": "stdout",
     "output_type": "stream",
     "text": [
      "Product_id:  189\n",
      "MAPE Score:  -21.3362269238522\n"
     ]
    },
    {
     "name": "stderr",
     "output_type": "stream",
     "text": [
      "C:\\Users\\Bruker\\Miniconda3\\envs\\gputest\\lib\\site-packages\\sklearn\\model_selection\\_search.py:841: DeprecationWarning: The default of the `iid` parameter will change from True to False in version 0.22 and will be removed in 0.24. This will change numeric results when test-set sizes are unequal.\n",
      "  DeprecationWarning)\n"
     ]
    },
    {
     "name": "stdout",
     "output_type": "stream",
     "text": [
      "Product_id:  231\n",
      "MAPE Score:  -20.881892317956574\n"
     ]
    },
    {
     "name": "stderr",
     "output_type": "stream",
     "text": [
      "C:\\Users\\Bruker\\Miniconda3\\envs\\gputest\\lib\\site-packages\\sklearn\\model_selection\\_search.py:841: DeprecationWarning: The default of the `iid` parameter will change from True to False in version 0.22 and will be removed in 0.24. This will change numeric results when test-set sizes are unequal.\n",
      "  DeprecationWarning)\n"
     ]
    },
    {
     "name": "stdout",
     "output_type": "stream",
     "text": [
      "Product_id:  74\n",
      "MAPE Score:  -20.675760918027674\n"
     ]
    },
    {
     "name": "stderr",
     "output_type": "stream",
     "text": [
      "C:\\Users\\Bruker\\Miniconda3\\envs\\gputest\\lib\\site-packages\\sklearn\\model_selection\\_search.py:841: DeprecationWarning: The default of the `iid` parameter will change from True to False in version 0.22 and will be removed in 0.24. This will change numeric results when test-set sizes are unequal.\n",
      "  DeprecationWarning)\n"
     ]
    },
    {
     "name": "stdout",
     "output_type": "stream",
     "text": [
      "Product_id:  282\n",
      "MAPE Score:  -19.826810701304712\n"
     ]
    },
    {
     "name": "stderr",
     "output_type": "stream",
     "text": [
      "C:\\Users\\Bruker\\Miniconda3\\envs\\gputest\\lib\\site-packages\\sklearn\\model_selection\\_search.py:841: DeprecationWarning: The default of the `iid` parameter will change from True to False in version 0.22 and will be removed in 0.24. This will change numeric results when test-set sizes are unequal.\n",
      "  DeprecationWarning)\n"
     ]
    },
    {
     "name": "stdout",
     "output_type": "stream",
     "text": [
      "Product_id:  3\n",
      "MAPE Score:  -21.214302550792887\n"
     ]
    },
    {
     "name": "stderr",
     "output_type": "stream",
     "text": [
      "C:\\Users\\Bruker\\Miniconda3\\envs\\gputest\\lib\\site-packages\\sklearn\\model_selection\\_search.py:841: DeprecationWarning: The default of the `iid` parameter will change from True to False in version 0.22 and will be removed in 0.24. This will change numeric results when test-set sizes are unequal.\n",
      "  DeprecationWarning)\n"
     ]
    },
    {
     "name": "stdout",
     "output_type": "stream",
     "text": [
      "Product_id:  182\n",
      "MAPE Score:  -20.081101550492146\n"
     ]
    },
    {
     "name": "stderr",
     "output_type": "stream",
     "text": [
      "C:\\Users\\Bruker\\Miniconda3\\envs\\gputest\\lib\\site-packages\\sklearn\\model_selection\\_search.py:841: DeprecationWarning: The default of the `iid` parameter will change from True to False in version 0.22 and will be removed in 0.24. This will change numeric results when test-set sizes are unequal.\n",
      "  DeprecationWarning)\n"
     ]
    },
    {
     "name": "stdout",
     "output_type": "stream",
     "text": [
      "Product_id:  247\n",
      "MAPE Score:  -24.443032865166547\n"
     ]
    },
    {
     "name": "stderr",
     "output_type": "stream",
     "text": [
      "C:\\Users\\Bruker\\Miniconda3\\envs\\gputest\\lib\\site-packages\\sklearn\\model_selection\\_search.py:841: DeprecationWarning: The default of the `iid` parameter will change from True to False in version 0.22 and will be removed in 0.24. This will change numeric results when test-set sizes are unequal.\n",
      "  DeprecationWarning)\n"
     ]
    },
    {
     "name": "stdout",
     "output_type": "stream",
     "text": [
      "Product_id:  2\n",
      "MAPE Score:  -21.356161666895137\n"
     ]
    },
    {
     "name": "stderr",
     "output_type": "stream",
     "text": [
      "C:\\Users\\Bruker\\Miniconda3\\envs\\gputest\\lib\\site-packages\\sklearn\\model_selection\\_search.py:841: DeprecationWarning: The default of the `iid` parameter will change from True to False in version 0.22 and will be removed in 0.24. This will change numeric results when test-set sizes are unequal.\n",
      "  DeprecationWarning)\n"
     ]
    },
    {
     "name": "stdout",
     "output_type": "stream",
     "text": [
      "Product_id:  148\n",
      "MAPE Score:  -23.186028916938135\n"
     ]
    },
    {
     "name": "stderr",
     "output_type": "stream",
     "text": [
      "C:\\Users\\Bruker\\Miniconda3\\envs\\gputest\\lib\\site-packages\\sklearn\\model_selection\\_search.py:841: DeprecationWarning: The default of the `iid` parameter will change from True to False in version 0.22 and will be removed in 0.24. This will change numeric results when test-set sizes are unequal.\n",
      "  DeprecationWarning)\n"
     ]
    },
    {
     "name": "stdout",
     "output_type": "stream",
     "text": [
      "Product_id:  306\n",
      "MAPE Score:  -21.72957505903925\n"
     ]
    },
    {
     "name": "stderr",
     "output_type": "stream",
     "text": [
      "C:\\Users\\Bruker\\Miniconda3\\envs\\gputest\\lib\\site-packages\\sklearn\\model_selection\\_search.py:841: DeprecationWarning: The default of the `iid` parameter will change from True to False in version 0.22 and will be removed in 0.24. This will change numeric results when test-set sizes are unequal.\n",
      "  DeprecationWarning)\n"
     ]
    },
    {
     "name": "stdout",
     "output_type": "stream",
     "text": [
      "Product_id:  85\n",
      "MAPE Score:  -22.920297777482403\n"
     ]
    },
    {
     "name": "stderr",
     "output_type": "stream",
     "text": [
      "C:\\Users\\Bruker\\Miniconda3\\envs\\gputest\\lib\\site-packages\\sklearn\\model_selection\\_search.py:841: DeprecationWarning: The default of the `iid` parameter will change from True to False in version 0.22 and will be removed in 0.24. This will change numeric results when test-set sizes are unequal.\n",
      "  DeprecationWarning)\n"
     ]
    },
    {
     "name": "stdout",
     "output_type": "stream",
     "text": [
      "Product_id:  89\n",
      "MAPE Score:  -21.20119628222948\n"
     ]
    },
    {
     "name": "stderr",
     "output_type": "stream",
     "text": [
      "C:\\Users\\Bruker\\Miniconda3\\envs\\gputest\\lib\\site-packages\\sklearn\\model_selection\\_search.py:841: DeprecationWarning: The default of the `iid` parameter will change from True to False in version 0.22 and will be removed in 0.24. This will change numeric results when test-set sizes are unequal.\n",
      "  DeprecationWarning)\n"
     ]
    },
    {
     "name": "stdout",
     "output_type": "stream",
     "text": [
      "Product_id:  37\n",
      "MAPE Score:  -21.88705702928525\n"
     ]
    },
    {
     "name": "stderr",
     "output_type": "stream",
     "text": [
      "C:\\Users\\Bruker\\Miniconda3\\envs\\gputest\\lib\\site-packages\\sklearn\\model_selection\\_search.py:841: DeprecationWarning: The default of the `iid` parameter will change from True to False in version 0.22 and will be removed in 0.24. This will change numeric results when test-set sizes are unequal.\n",
      "  DeprecationWarning)\n"
     ]
    },
    {
     "name": "stdout",
     "output_type": "stream",
     "text": [
      "Product_id:  173\n",
      "MAPE Score:  -19.635442363892988\n"
     ]
    },
    {
     "name": "stderr",
     "output_type": "stream",
     "text": [
      "C:\\Users\\Bruker\\Miniconda3\\envs\\gputest\\lib\\site-packages\\sklearn\\model_selection\\_search.py:841: DeprecationWarning: The default of the `iid` parameter will change from True to False in version 0.22 and will be removed in 0.24. This will change numeric results when test-set sizes are unequal.\n",
      "  DeprecationWarning)\n"
     ]
    },
    {
     "name": "stdout",
     "output_type": "stream",
     "text": [
      "Product_id:  185\n",
      "MAPE Score:  -19.796578054393304\n"
     ]
    },
    {
     "name": "stderr",
     "output_type": "stream",
     "text": [
      "C:\\Users\\Bruker\\Miniconda3\\envs\\gputest\\lib\\site-packages\\sklearn\\model_selection\\_search.py:841: DeprecationWarning: The default of the `iid` parameter will change from True to False in version 0.22 and will be removed in 0.24. This will change numeric results when test-set sizes are unequal.\n",
      "  DeprecationWarning)\n"
     ]
    },
    {
     "name": "stdout",
     "output_type": "stream",
     "text": [
      "Product_id:  227\n",
      "MAPE Score:  -21.559984516200338\n"
     ]
    },
    {
     "name": "stderr",
     "output_type": "stream",
     "text": [
      "C:\\Users\\Bruker\\Miniconda3\\envs\\gputest\\lib\\site-packages\\sklearn\\model_selection\\_search.py:841: DeprecationWarning: The default of the `iid` parameter will change from True to False in version 0.22 and will be removed in 0.24. This will change numeric results when test-set sizes are unequal.\n",
      "  DeprecationWarning)\n"
     ]
    },
    {
     "name": "stdout",
     "output_type": "stream",
     "text": [
      "Product_id:  98\n",
      "MAPE Score:  -21.484991119562018\n"
     ]
    },
    {
     "name": "stderr",
     "output_type": "stream",
     "text": [
      "C:\\Users\\Bruker\\Miniconda3\\envs\\gputest\\lib\\site-packages\\sklearn\\model_selection\\_search.py:841: DeprecationWarning: The default of the `iid` parameter will change from True to False in version 0.22 and will be removed in 0.24. This will change numeric results when test-set sizes are unequal.\n",
      "  DeprecationWarning)\n"
     ]
    },
    {
     "name": "stdout",
     "output_type": "stream",
     "text": [
      "Product_id:  183\n",
      "MAPE Score:  -21.124394025220898\n"
     ]
    },
    {
     "name": "stderr",
     "output_type": "stream",
     "text": [
      "C:\\Users\\Bruker\\Miniconda3\\envs\\gputest\\lib\\site-packages\\sklearn\\model_selection\\_search.py:841: DeprecationWarning: The default of the `iid` parameter will change from True to False in version 0.22 and will be removed in 0.24. This will change numeric results when test-set sizes are unequal.\n",
      "  DeprecationWarning)\n"
     ]
    },
    {
     "name": "stdout",
     "output_type": "stream",
     "text": [
      "Product_id:  17\n",
      "MAPE Score:  -18.65086784188933\n"
     ]
    },
    {
     "name": "stderr",
     "output_type": "stream",
     "text": [
      "C:\\Users\\Bruker\\Miniconda3\\envs\\gputest\\lib\\site-packages\\sklearn\\model_selection\\_search.py:841: DeprecationWarning: The default of the `iid` parameter will change from True to False in version 0.22 and will be removed in 0.24. This will change numeric results when test-set sizes are unequal.\n",
      "  DeprecationWarning)\n"
     ]
    },
    {
     "name": "stdout",
     "output_type": "stream",
     "text": [
      "Product_id:  6\n",
      "MAPE Score:  -21.04004648339758\n"
     ]
    },
    {
     "name": "stderr",
     "output_type": "stream",
     "text": [
      "C:\\Users\\Bruker\\Miniconda3\\envs\\gputest\\lib\\site-packages\\sklearn\\model_selection\\_search.py:841: DeprecationWarning: The default of the `iid` parameter will change from True to False in version 0.22 and will be removed in 0.24. This will change numeric results when test-set sizes are unequal.\n",
      "  DeprecationWarning)\n"
     ]
    },
    {
     "name": "stdout",
     "output_type": "stream",
     "text": [
      "Product_id:  181\n",
      "MAPE Score:  -20.624758946270557\n"
     ]
    },
    {
     "name": "stderr",
     "output_type": "stream",
     "text": [
      "C:\\Users\\Bruker\\Miniconda3\\envs\\gputest\\lib\\site-packages\\sklearn\\model_selection\\_search.py:841: DeprecationWarning: The default of the `iid` parameter will change from True to False in version 0.22 and will be removed in 0.24. This will change numeric results when test-set sizes are unequal.\n",
      "  DeprecationWarning)\n"
     ]
    },
    {
     "name": "stdout",
     "output_type": "stream",
     "text": [
      "Product_id:  156\n",
      "MAPE Score:  -23.08044294449767\n"
     ]
    },
    {
     "name": "stderr",
     "output_type": "stream",
     "text": [
      "C:\\Users\\Bruker\\Miniconda3\\envs\\gputest\\lib\\site-packages\\sklearn\\model_selection\\_search.py:841: DeprecationWarning: The default of the `iid` parameter will change from True to False in version 0.22 and will be removed in 0.24. This will change numeric results when test-set sizes are unequal.\n",
      "  DeprecationWarning)\n"
     ]
    },
    {
     "name": "stdout",
     "output_type": "stream",
     "text": [
      "Product_id:  64\n",
      "MAPE Score:  -22.423109933909885\n"
     ]
    },
    {
     "name": "stderr",
     "output_type": "stream",
     "text": [
      "C:\\Users\\Bruker\\Miniconda3\\envs\\gputest\\lib\\site-packages\\sklearn\\model_selection\\_search.py:841: DeprecationWarning: The default of the `iid` parameter will change from True to False in version 0.22 and will be removed in 0.24. This will change numeric results when test-set sizes are unequal.\n",
      "  DeprecationWarning)\n"
     ]
    },
    {
     "name": "stdout",
     "output_type": "stream",
     "text": [
      "Product_id:  134\n",
      "MAPE Score:  -24.534005798833775\n"
     ]
    },
    {
     "name": "stderr",
     "output_type": "stream",
     "text": [
      "C:\\Users\\Bruker\\Miniconda3\\envs\\gputest\\lib\\site-packages\\sklearn\\model_selection\\_search.py:841: DeprecationWarning: The default of the `iid` parameter will change from True to False in version 0.22 and will be removed in 0.24. This will change numeric results when test-set sizes are unequal.\n",
      "  DeprecationWarning)\n"
     ]
    },
    {
     "name": "stdout",
     "output_type": "stream",
     "text": [
      "Product_id:  8\n",
      "MAPE Score:  -21.13475702676031\n"
     ]
    },
    {
     "name": "stderr",
     "output_type": "stream",
     "text": [
      "C:\\Users\\Bruker\\Miniconda3\\envs\\gputest\\lib\\site-packages\\sklearn\\model_selection\\_search.py:841: DeprecationWarning: The default of the `iid` parameter will change from True to False in version 0.22 and will be removed in 0.24. This will change numeric results when test-set sizes are unequal.\n",
      "  DeprecationWarning)\n"
     ]
    },
    {
     "name": "stdout",
     "output_type": "stream",
     "text": [
      "Product_id:  162\n",
      "MAPE Score:  -23.728725804900794\n"
     ]
    },
    {
     "name": "stderr",
     "output_type": "stream",
     "text": [
      "C:\\Users\\Bruker\\Miniconda3\\envs\\gputest\\lib\\site-packages\\sklearn\\model_selection\\_search.py:841: DeprecationWarning: The default of the `iid` parameter will change from True to False in version 0.22 and will be removed in 0.24. This will change numeric results when test-set sizes are unequal.\n",
      "  DeprecationWarning)\n"
     ]
    },
    {
     "name": "stdout",
     "output_type": "stream",
     "text": [
      "Product_id:  170\n",
      "MAPE Score:  -21.813474085913214\n"
     ]
    },
    {
     "name": "stderr",
     "output_type": "stream",
     "text": [
      "C:\\Users\\Bruker\\Miniconda3\\envs\\gputest\\lib\\site-packages\\sklearn\\model_selection\\_search.py:841: DeprecationWarning: The default of the `iid` parameter will change from True to False in version 0.22 and will be removed in 0.24. This will change numeric results when test-set sizes are unequal.\n",
      "  DeprecationWarning)\n"
     ]
    },
    {
     "name": "stdout",
     "output_type": "stream",
     "text": [
      "Product_id:  299\n",
      "MAPE Score:  -22.45399280208309\n"
     ]
    },
    {
     "name": "stderr",
     "output_type": "stream",
     "text": [
      "C:\\Users\\Bruker\\Miniconda3\\envs\\gputest\\lib\\site-packages\\sklearn\\model_selection\\_search.py:841: DeprecationWarning: The default of the `iid` parameter will change from True to False in version 0.22 and will be removed in 0.24. This will change numeric results when test-set sizes are unequal.\n",
      "  DeprecationWarning)\n"
     ]
    },
    {
     "name": "stdout",
     "output_type": "stream",
     "text": [
      "Product_id:  44\n",
      "MAPE Score:  -21.933495068561985\n"
     ]
    },
    {
     "name": "stderr",
     "output_type": "stream",
     "text": [
      "C:\\Users\\Bruker\\Miniconda3\\envs\\gputest\\lib\\site-packages\\sklearn\\model_selection\\_search.py:841: DeprecationWarning: The default of the `iid` parameter will change from True to False in version 0.22 and will be removed in 0.24. This will change numeric results when test-set sizes are unequal.\n",
      "  DeprecationWarning)\n"
     ]
    },
    {
     "name": "stdout",
     "output_type": "stream",
     "text": [
      "Product_id:  295\n",
      "MAPE Score:  -25.712207009871516\n"
     ]
    },
    {
     "name": "stderr",
     "output_type": "stream",
     "text": [
      "C:\\Users\\Bruker\\Miniconda3\\envs\\gputest\\lib\\site-packages\\sklearn\\model_selection\\_search.py:841: DeprecationWarning: The default of the `iid` parameter will change from True to False in version 0.22 and will be removed in 0.24. This will change numeric results when test-set sizes are unequal.\n",
      "  DeprecationWarning)\n"
     ]
    },
    {
     "name": "stdout",
     "output_type": "stream",
     "text": [
      "Product_id:  154\n",
      "MAPE Score:  -21.4328533664343\n"
     ]
    },
    {
     "name": "stderr",
     "output_type": "stream",
     "text": [
      "C:\\Users\\Bruker\\Miniconda3\\envs\\gputest\\lib\\site-packages\\sklearn\\model_selection\\_search.py:841: DeprecationWarning: The default of the `iid` parameter will change from True to False in version 0.22 and will be removed in 0.24. This will change numeric results when test-set sizes are unequal.\n",
      "  DeprecationWarning)\n"
     ]
    },
    {
     "name": "stdout",
     "output_type": "stream",
     "text": [
      "Product_id:  245\n",
      "MAPE Score:  -31.124612664551048\n"
     ]
    },
    {
     "name": "stderr",
     "output_type": "stream",
     "text": [
      "C:\\Users\\Bruker\\Miniconda3\\envs\\gputest\\lib\\site-packages\\sklearn\\model_selection\\_search.py:841: DeprecationWarning: The default of the `iid` parameter will change from True to False in version 0.22 and will be removed in 0.24. This will change numeric results when test-set sizes are unequal.\n",
      "  DeprecationWarning)\n"
     ]
    },
    {
     "name": "stdout",
     "output_type": "stream",
     "text": [
      "Product_id:  11\n",
      "MAPE Score:  -20.42184167830052\n"
     ]
    },
    {
     "name": "stderr",
     "output_type": "stream",
     "text": [
      "C:\\Users\\Bruker\\Miniconda3\\envs\\gputest\\lib\\site-packages\\sklearn\\model_selection\\_search.py:841: DeprecationWarning: The default of the `iid` parameter will change from True to False in version 0.22 and will be removed in 0.24. This will change numeric results when test-set sizes are unequal.\n",
      "  DeprecationWarning)\n"
     ]
    },
    {
     "name": "stdout",
     "output_type": "stream",
     "text": [
      "Product_id:  238\n",
      "MAPE Score:  -24.50809410798328\n"
     ]
    },
    {
     "name": "stderr",
     "output_type": "stream",
     "text": [
      "C:\\Users\\Bruker\\Miniconda3\\envs\\gputest\\lib\\site-packages\\sklearn\\model_selection\\_search.py:841: DeprecationWarning: The default of the `iid` parameter will change from True to False in version 0.22 and will be removed in 0.24. This will change numeric results when test-set sizes are unequal.\n",
      "  DeprecationWarning)\n"
     ]
    },
    {
     "name": "stdout",
     "output_type": "stream",
     "text": [
      "Product_id:  15\n",
      "MAPE Score:  -19.254122430279253\n"
     ]
    },
    {
     "name": "stderr",
     "output_type": "stream",
     "text": [
      "C:\\Users\\Bruker\\Miniconda3\\envs\\gputest\\lib\\site-packages\\sklearn\\model_selection\\_search.py:841: DeprecationWarning: The default of the `iid` parameter will change from True to False in version 0.22 and will be removed in 0.24. This will change numeric results when test-set sizes are unequal.\n",
      "  DeprecationWarning)\n"
     ]
    },
    {
     "name": "stdout",
     "output_type": "stream",
     "text": [
      "Product_id:  80\n",
      "MAPE Score:  -22.176811873369015\n"
     ]
    },
    {
     "name": "stderr",
     "output_type": "stream",
     "text": [
      "C:\\Users\\Bruker\\Miniconda3\\envs\\gputest\\lib\\site-packages\\sklearn\\model_selection\\_search.py:841: DeprecationWarning: The default of the `iid` parameter will change from True to False in version 0.22 and will be removed in 0.24. This will change numeric results when test-set sizes are unequal.\n",
      "  DeprecationWarning)\n"
     ]
    },
    {
     "name": "stdout",
     "output_type": "stream",
     "text": [
      "Product_id:  272\n",
      "MAPE Score:  -21.858920549727717\n"
     ]
    },
    {
     "name": "stderr",
     "output_type": "stream",
     "text": [
      "C:\\Users\\Bruker\\Miniconda3\\envs\\gputest\\lib\\site-packages\\sklearn\\model_selection\\_search.py:841: DeprecationWarning: The default of the `iid` parameter will change from True to False in version 0.22 and will be removed in 0.24. This will change numeric results when test-set sizes are unequal.\n",
      "  DeprecationWarning)\n"
     ]
    },
    {
     "name": "stdout",
     "output_type": "stream",
     "text": [
      "Product_id:  106\n",
      "MAPE Score:  -21.356574666798476\n"
     ]
    },
    {
     "name": "stderr",
     "output_type": "stream",
     "text": [
      "C:\\Users\\Bruker\\Miniconda3\\envs\\gputest\\lib\\site-packages\\sklearn\\model_selection\\_search.py:841: DeprecationWarning: The default of the `iid` parameter will change from True to False in version 0.22 and will be removed in 0.24. This will change numeric results when test-set sizes are unequal.\n",
      "  DeprecationWarning)\n"
     ]
    },
    {
     "name": "stdout",
     "output_type": "stream",
     "text": [
      "Product_id:  174\n",
      "MAPE Score:  -21.795327579796616\n"
     ]
    },
    {
     "name": "stderr",
     "output_type": "stream",
     "text": [
      "C:\\Users\\Bruker\\Miniconda3\\envs\\gputest\\lib\\site-packages\\sklearn\\model_selection\\_search.py:841: DeprecationWarning: The default of the `iid` parameter will change from True to False in version 0.22 and will be removed in 0.24. This will change numeric results when test-set sizes are unequal.\n",
      "  DeprecationWarning)\n"
     ]
    },
    {
     "name": "stdout",
     "output_type": "stream",
     "text": [
      "Product_id:  255\n",
      "MAPE Score:  -19.7251717569569\n"
     ]
    },
    {
     "name": "stderr",
     "output_type": "stream",
     "text": [
      "C:\\Users\\Bruker\\Miniconda3\\envs\\gputest\\lib\\site-packages\\sklearn\\model_selection\\_search.py:841: DeprecationWarning: The default of the `iid` parameter will change from True to False in version 0.22 and will be removed in 0.24. This will change numeric results when test-set sizes are unequal.\n",
      "  DeprecationWarning)\n"
     ]
    },
    {
     "name": "stdout",
     "output_type": "stream",
     "text": [
      "Product_id:  202\n",
      "MAPE Score:  -27.97642380035731\n"
     ]
    },
    {
     "name": "stderr",
     "output_type": "stream",
     "text": [
      "C:\\Users\\Bruker\\Miniconda3\\envs\\gputest\\lib\\site-packages\\sklearn\\model_selection\\_search.py:841: DeprecationWarning: The default of the `iid` parameter will change from True to False in version 0.22 and will be removed in 0.24. This will change numeric results when test-set sizes are unequal.\n",
      "  DeprecationWarning)\n"
     ]
    },
    {
     "name": "stdout",
     "output_type": "stream",
     "text": [
      "Product_id:  266\n",
      "MAPE Score:  -21.16829366103121\n"
     ]
    },
    {
     "name": "stderr",
     "output_type": "stream",
     "text": [
      "C:\\Users\\Bruker\\Miniconda3\\envs\\gputest\\lib\\site-packages\\sklearn\\model_selection\\_search.py:841: DeprecationWarning: The default of the `iid` parameter will change from True to False in version 0.22 and will be removed in 0.24. This will change numeric results when test-set sizes are unequal.\n",
      "  DeprecationWarning)\n"
     ]
    },
    {
     "name": "stdout",
     "output_type": "stream",
     "text": [
      "Product_id:  68\n",
      "MAPE Score:  -21.75547046389255\n"
     ]
    },
    {
     "name": "stderr",
     "output_type": "stream",
     "text": [
      "C:\\Users\\Bruker\\Miniconda3\\envs\\gputest\\lib\\site-packages\\sklearn\\model_selection\\_search.py:841: DeprecationWarning: The default of the `iid` parameter will change from True to False in version 0.22 and will be removed in 0.24. This will change numeric results when test-set sizes are unequal.\n",
      "  DeprecationWarning)\n"
     ]
    },
    {
     "name": "stdout",
     "output_type": "stream",
     "text": [
      "Product_id:  303\n",
      "MAPE Score:  -22.40161376294848\n"
     ]
    },
    {
     "name": "stderr",
     "output_type": "stream",
     "text": [
      "C:\\Users\\Bruker\\Miniconda3\\envs\\gputest\\lib\\site-packages\\sklearn\\model_selection\\_search.py:841: DeprecationWarning: The default of the `iid` parameter will change from True to False in version 0.22 and will be removed in 0.24. This will change numeric results when test-set sizes are unequal.\n",
      "  DeprecationWarning)\n"
     ]
    },
    {
     "name": "stdout",
     "output_type": "stream",
     "text": [
      "Product_id:  158\n",
      "MAPE Score:  -26.493929042969537\n"
     ]
    },
    {
     "name": "stderr",
     "output_type": "stream",
     "text": [
      "C:\\Users\\Bruker\\Miniconda3\\envs\\gputest\\lib\\site-packages\\sklearn\\model_selection\\_search.py:841: DeprecationWarning: The default of the `iid` parameter will change from True to False in version 0.22 and will be removed in 0.24. This will change numeric results when test-set sizes are unequal.\n",
      "  DeprecationWarning)\n"
     ]
    },
    {
     "name": "stdout",
     "output_type": "stream",
     "text": [
      "Product_id:  146\n",
      "MAPE Score:  -24.16235449785471\n"
     ]
    },
    {
     "name": "stderr",
     "output_type": "stream",
     "text": [
      "C:\\Users\\Bruker\\Miniconda3\\envs\\gputest\\lib\\site-packages\\sklearn\\model_selection\\_search.py:841: DeprecationWarning: The default of the `iid` parameter will change from True to False in version 0.22 and will be removed in 0.24. This will change numeric results when test-set sizes are unequal.\n",
      "  DeprecationWarning)\n"
     ]
    },
    {
     "name": "stdout",
     "output_type": "stream",
     "text": [
      "Product_id:  40\n",
      "MAPE Score:  -27.417338978845002\n"
     ]
    },
    {
     "name": "stderr",
     "output_type": "stream",
     "text": [
      "C:\\Users\\Bruker\\Miniconda3\\envs\\gputest\\lib\\site-packages\\sklearn\\model_selection\\_search.py:841: DeprecationWarning: The default of the `iid` parameter will change from True to False in version 0.22 and will be removed in 0.24. This will change numeric results when test-set sizes are unequal.\n",
      "  DeprecationWarning)\n"
     ]
    },
    {
     "name": "stdout",
     "output_type": "stream",
     "text": [
      "Product_id:  317\n",
      "MAPE Score:  -41.50038822526017\n"
     ]
    },
    {
     "name": "stderr",
     "output_type": "stream",
     "text": [
      "C:\\Users\\Bruker\\Miniconda3\\envs\\gputest\\lib\\site-packages\\sklearn\\model_selection\\_search.py:841: DeprecationWarning: The default of the `iid` parameter will change from True to False in version 0.22 and will be removed in 0.24. This will change numeric results when test-set sizes are unequal.\n",
      "  DeprecationWarning)\n"
     ]
    },
    {
     "name": "stdout",
     "output_type": "stream",
     "text": [
      "Product_id:  254\n",
      "MAPE Score:  -22.094096502218466\n"
     ]
    },
    {
     "name": "stderr",
     "output_type": "stream",
     "text": [
      "C:\\Users\\Bruker\\Miniconda3\\envs\\gputest\\lib\\site-packages\\sklearn\\model_selection\\_search.py:841: DeprecationWarning: The default of the `iid` parameter will change from True to False in version 0.22 and will be removed in 0.24. This will change numeric results when test-set sizes are unequal.\n",
      "  DeprecationWarning)\n"
     ]
    },
    {
     "name": "stdout",
     "output_type": "stream",
     "text": [
      "Product_id:  135\n",
      "MAPE Score:  -21.302383107789062\n"
     ]
    },
    {
     "name": "stderr",
     "output_type": "stream",
     "text": [
      "C:\\Users\\Bruker\\Miniconda3\\envs\\gputest\\lib\\site-packages\\sklearn\\model_selection\\_search.py:841: DeprecationWarning: The default of the `iid` parameter will change from True to False in version 0.22 and will be removed in 0.24. This will change numeric results when test-set sizes are unequal.\n",
      "  DeprecationWarning)\n"
     ]
    },
    {
     "name": "stdout",
     "output_type": "stream",
     "text": [
      "Product_id:  199\n",
      "MAPE Score:  -25.20215769271892\n"
     ]
    },
    {
     "name": "stderr",
     "output_type": "stream",
     "text": [
      "C:\\Users\\Bruker\\Miniconda3\\envs\\gputest\\lib\\site-packages\\sklearn\\model_selection\\_search.py:841: DeprecationWarning: The default of the `iid` parameter will change from True to False in version 0.22 and will be removed in 0.24. This will change numeric results when test-set sizes are unequal.\n",
      "  DeprecationWarning)\n"
     ]
    },
    {
     "name": "stdout",
     "output_type": "stream",
     "text": [
      "Product_id:  277\n",
      "MAPE Score:  -20.835547236380037\n"
     ]
    },
    {
     "name": "stderr",
     "output_type": "stream",
     "text": [
      "C:\\Users\\Bruker\\Miniconda3\\envs\\gputest\\lib\\site-packages\\sklearn\\model_selection\\_search.py:841: DeprecationWarning: The default of the `iid` parameter will change from True to False in version 0.22 and will be removed in 0.24. This will change numeric results when test-set sizes are unequal.\n",
      "  DeprecationWarning)\n"
     ]
    },
    {
     "name": "stdout",
     "output_type": "stream",
     "text": [
      "Product_id:  109\n",
      "MAPE Score:  -21.438111406913972\n"
     ]
    },
    {
     "name": "stderr",
     "output_type": "stream",
     "text": [
      "C:\\Users\\Bruker\\Miniconda3\\envs\\gputest\\lib\\site-packages\\sklearn\\model_selection\\_search.py:841: DeprecationWarning: The default of the `iid` parameter will change from True to False in version 0.22 and will be removed in 0.24. This will change numeric results when test-set sizes are unequal.\n",
      "  DeprecationWarning)\n"
     ]
    },
    {
     "name": "stdout",
     "output_type": "stream",
     "text": [
      "Product_id:  122\n",
      "MAPE Score:  -23.555382604304\n"
     ]
    },
    {
     "name": "stderr",
     "output_type": "stream",
     "text": [
      "C:\\Users\\Bruker\\Miniconda3\\envs\\gputest\\lib\\site-packages\\sklearn\\model_selection\\_search.py:841: DeprecationWarning: The default of the `iid` parameter will change from True to False in version 0.22 and will be removed in 0.24. This will change numeric results when test-set sizes are unequal.\n",
      "  DeprecationWarning)\n"
     ]
    },
    {
     "name": "stdout",
     "output_type": "stream",
     "text": [
      "Product_id:  214\n",
      "MAPE Score:  -19.68851124235304\n"
     ]
    },
    {
     "name": "stderr",
     "output_type": "stream",
     "text": [
      "C:\\Users\\Bruker\\Miniconda3\\envs\\gputest\\lib\\site-packages\\sklearn\\model_selection\\_search.py:841: DeprecationWarning: The default of the `iid` parameter will change from True to False in version 0.22 and will be removed in 0.24. This will change numeric results when test-set sizes are unequal.\n",
      "  DeprecationWarning)\n"
     ]
    },
    {
     "name": "stdout",
     "output_type": "stream",
     "text": [
      "Product_id:  312\n",
      "MAPE Score:  -22.266520868601734\n"
     ]
    },
    {
     "name": "stderr",
     "output_type": "stream",
     "text": [
      "C:\\Users\\Bruker\\Miniconda3\\envs\\gputest\\lib\\site-packages\\sklearn\\model_selection\\_search.py:841: DeprecationWarning: The default of the `iid` parameter will change from True to False in version 0.22 and will be removed in 0.24. This will change numeric results when test-set sizes are unequal.\n",
      "  DeprecationWarning)\n"
     ]
    },
    {
     "name": "stdout",
     "output_type": "stream",
     "text": [
      "Product_id:  300\n",
      "MAPE Score:  -24.003145023670797\n"
     ]
    },
    {
     "name": "stderr",
     "output_type": "stream",
     "text": [
      "C:\\Users\\Bruker\\Miniconda3\\envs\\gputest\\lib\\site-packages\\sklearn\\model_selection\\_search.py:841: DeprecationWarning: The default of the `iid` parameter will change from True to False in version 0.22 and will be removed in 0.24. This will change numeric results when test-set sizes are unequal.\n",
      "  DeprecationWarning)\n"
     ]
    },
    {
     "name": "stdout",
     "output_type": "stream",
     "text": [
      "Product_id:  120\n",
      "MAPE Score:  -23.04131987943451\n"
     ]
    },
    {
     "name": "stderr",
     "output_type": "stream",
     "text": [
      "C:\\Users\\Bruker\\Miniconda3\\envs\\gputest\\lib\\site-packages\\sklearn\\model_selection\\_search.py:841: DeprecationWarning: The default of the `iid` parameter will change from True to False in version 0.22 and will be removed in 0.24. This will change numeric results when test-set sizes are unequal.\n",
      "  DeprecationWarning)\n"
     ]
    },
    {
     "name": "stdout",
     "output_type": "stream",
     "text": [
      "Product_id:  275\n",
      "MAPE Score:  -21.556380903090215\n"
     ]
    },
    {
     "name": "stderr",
     "output_type": "stream",
     "text": [
      "C:\\Users\\Bruker\\Miniconda3\\envs\\gputest\\lib\\site-packages\\sklearn\\model_selection\\_search.py:841: DeprecationWarning: The default of the `iid` parameter will change from True to False in version 0.22 and will be removed in 0.24. This will change numeric results when test-set sizes are unequal.\n",
      "  DeprecationWarning)\n"
     ]
    },
    {
     "name": "stdout",
     "output_type": "stream",
     "text": [
      "Product_id:  216\n",
      "MAPE Score:  -23.718381783793305\n"
     ]
    },
    {
     "name": "stderr",
     "output_type": "stream",
     "text": [
      "C:\\Users\\Bruker\\Miniconda3\\envs\\gputest\\lib\\site-packages\\sklearn\\model_selection\\_search.py:841: DeprecationWarning: The default of the `iid` parameter will change from True to False in version 0.22 and will be removed in 0.24. This will change numeric results when test-set sizes are unequal.\n",
      "  DeprecationWarning)\n"
     ]
    },
    {
     "name": "stdout",
     "output_type": "stream",
     "text": [
      "Product_id:  301\n",
      "MAPE Score:  -22.59129707222933\n"
     ]
    },
    {
     "name": "stderr",
     "output_type": "stream",
     "text": [
      "C:\\Users\\Bruker\\Miniconda3\\envs\\gputest\\lib\\site-packages\\sklearn\\model_selection\\_search.py:841: DeprecationWarning: The default of the `iid` parameter will change from True to False in version 0.22 and will be removed in 0.24. This will change numeric results when test-set sizes are unequal.\n",
      "  DeprecationWarning)\n"
     ]
    },
    {
     "name": "stdout",
     "output_type": "stream",
     "text": [
      "Product_id:  224\n",
      "MAPE Score:  -20.965664584163022\n"
     ]
    },
    {
     "name": "stderr",
     "output_type": "stream",
     "text": [
      "C:\\Users\\Bruker\\Miniconda3\\envs\\gputest\\lib\\site-packages\\sklearn\\model_selection\\_search.py:841: DeprecationWarning: The default of the `iid` parameter will change from True to False in version 0.22 and will be removed in 0.24. This will change numeric results when test-set sizes are unequal.\n",
      "  DeprecationWarning)\n"
     ]
    },
    {
     "name": "stdout",
     "output_type": "stream",
     "text": [
      "Product_id:  215\n",
      "MAPE Score:  -21.031463843137477\n"
     ]
    },
    {
     "name": "stderr",
     "output_type": "stream",
     "text": [
      "C:\\Users\\Bruker\\Miniconda3\\envs\\gputest\\lib\\site-packages\\sklearn\\model_selection\\_search.py:841: DeprecationWarning: The default of the `iid` parameter will change from True to False in version 0.22 and will be removed in 0.24. This will change numeric results when test-set sizes are unequal.\n",
      "  DeprecationWarning)\n"
     ]
    },
    {
     "name": "stdout",
     "output_type": "stream",
     "text": [
      "Product_id:  286\n",
      "MAPE Score:  -19.531773843637158\n"
     ]
    },
    {
     "name": "stderr",
     "output_type": "stream",
     "text": [
      "C:\\Users\\Bruker\\Miniconda3\\envs\\gputest\\lib\\site-packages\\sklearn\\model_selection\\_search.py:841: DeprecationWarning: The default of the `iid` parameter will change from True to False in version 0.22 and will be removed in 0.24. This will change numeric results when test-set sizes are unequal.\n",
      "  DeprecationWarning)\n"
     ]
    },
    {
     "name": "stdout",
     "output_type": "stream",
     "text": [
      "Product_id:  293\n",
      "MAPE Score:  -27.113808705246367\n"
     ]
    },
    {
     "name": "stderr",
     "output_type": "stream",
     "text": [
      "C:\\Users\\Bruker\\Miniconda3\\envs\\gputest\\lib\\site-packages\\sklearn\\model_selection\\_search.py:841: DeprecationWarning: The default of the `iid` parameter will change from True to False in version 0.22 and will be removed in 0.24. This will change numeric results when test-set sizes are unequal.\n",
      "  DeprecationWarning)\n"
     ]
    },
    {
     "name": "stdout",
     "output_type": "stream",
     "text": [
      "Product_id:  31\n",
      "MAPE Score:  -52.66332790955671\n"
     ]
    },
    {
     "name": "stderr",
     "output_type": "stream",
     "text": [
      "C:\\Users\\Bruker\\Miniconda3\\envs\\gputest\\lib\\site-packages\\sklearn\\model_selection\\_search.py:841: DeprecationWarning: The default of the `iid` parameter will change from True to False in version 0.22 and will be removed in 0.24. This will change numeric results when test-set sizes are unequal.\n",
      "  DeprecationWarning)\n"
     ]
    },
    {
     "name": "stdout",
     "output_type": "stream",
     "text": [
      "Product_id:  262\n",
      "MAPE Score:  -19.24935522888602\n"
     ]
    },
    {
     "name": "stderr",
     "output_type": "stream",
     "text": [
      "C:\\Users\\Bruker\\Miniconda3\\envs\\gputest\\lib\\site-packages\\sklearn\\model_selection\\_search.py:841: DeprecationWarning: The default of the `iid` parameter will change from True to False in version 0.22 and will be removed in 0.24. This will change numeric results when test-set sizes are unequal.\n",
      "  DeprecationWarning)\n"
     ]
    },
    {
     "name": "stdout",
     "output_type": "stream",
     "text": [
      "Product_id:  102\n",
      "MAPE Score:  -23.718864867792476\n"
     ]
    },
    {
     "name": "stderr",
     "output_type": "stream",
     "text": [
      "C:\\Users\\Bruker\\Miniconda3\\envs\\gputest\\lib\\site-packages\\sklearn\\model_selection\\_search.py:841: DeprecationWarning: The default of the `iid` parameter will change from True to False in version 0.22 and will be removed in 0.24. This will change numeric results when test-set sizes are unequal.\n",
      "  DeprecationWarning)\n"
     ]
    },
    {
     "name": "stdout",
     "output_type": "stream",
     "text": [
      "Product_id:  261\n",
      "MAPE Score:  -19.768947052803117\n"
     ]
    },
    {
     "name": "stderr",
     "output_type": "stream",
     "text": [
      "C:\\Users\\Bruker\\Miniconda3\\envs\\gputest\\lib\\site-packages\\sklearn\\model_selection\\_search.py:841: DeprecationWarning: The default of the `iid` parameter will change from True to False in version 0.22 and will be removed in 0.24. This will change numeric results when test-set sizes are unequal.\n",
      "  DeprecationWarning)\n"
     ]
    },
    {
     "name": "stdout",
     "output_type": "stream",
     "text": [
      "Product_id:  294\n",
      "MAPE Score:  -21.051954789086007\n"
     ]
    },
    {
     "name": "stderr",
     "output_type": "stream",
     "text": [
      "C:\\Users\\Bruker\\Miniconda3\\envs\\gputest\\lib\\site-packages\\sklearn\\model_selection\\_search.py:841: DeprecationWarning: The default of the `iid` parameter will change from True to False in version 0.22 and will be removed in 0.24. This will change numeric results when test-set sizes are unequal.\n",
      "  DeprecationWarning)\n"
     ]
    },
    {
     "name": "stdout",
     "output_type": "stream",
     "text": [
      "Product_id:  43\n",
      "MAPE Score:  -21.59429981257786\n"
     ]
    },
    {
     "name": "stderr",
     "output_type": "stream",
     "text": [
      "C:\\Users\\Bruker\\Miniconda3\\envs\\gputest\\lib\\site-packages\\sklearn\\model_selection\\_search.py:841: DeprecationWarning: The default of the `iid` parameter will change from True to False in version 0.22 and will be removed in 0.24. This will change numeric results when test-set sizes are unequal.\n",
      "  DeprecationWarning)\n"
     ]
    },
    {
     "name": "stdout",
     "output_type": "stream",
     "text": [
      "Product_id:  285\n",
      "MAPE Score:  -26.669742801287743\n"
     ]
    },
    {
     "name": "stderr",
     "output_type": "stream",
     "text": [
      "C:\\Users\\Bruker\\Miniconda3\\envs\\gputest\\lib\\site-packages\\sklearn\\model_selection\\_search.py:841: DeprecationWarning: The default of the `iid` parameter will change from True to False in version 0.22 and will be removed in 0.24. This will change numeric results when test-set sizes are unequal.\n",
      "  DeprecationWarning)\n"
     ]
    },
    {
     "name": "stdout",
     "output_type": "stream",
     "text": [
      "Product_id:  160\n",
      "MAPE Score:  -20.877335306444532\n"
     ]
    },
    {
     "name": "stderr",
     "output_type": "stream",
     "text": [
      "C:\\Users\\Bruker\\Miniconda3\\envs\\gputest\\lib\\site-packages\\sklearn\\model_selection\\_search.py:841: DeprecationWarning: The default of the `iid` parameter will change from True to False in version 0.22 and will be removed in 0.24. This will change numeric results when test-set sizes are unequal.\n",
      "  DeprecationWarning)\n"
     ]
    },
    {
     "name": "stdout",
     "output_type": "stream",
     "text": [
      "Product_id:  107\n",
      "MAPE Score:  -21.79047177712288\n"
     ]
    },
    {
     "name": "stderr",
     "output_type": "stream",
     "text": [
      "C:\\Users\\Bruker\\Miniconda3\\envs\\gputest\\lib\\site-packages\\sklearn\\model_selection\\_search.py:841: DeprecationWarning: The default of the `iid` parameter will change from True to False in version 0.22 and will be removed in 0.24. This will change numeric results when test-set sizes are unequal.\n",
      "  DeprecationWarning)\n"
     ]
    },
    {
     "name": "stdout",
     "output_type": "stream",
     "text": [
      "Product_id:  95\n",
      "MAPE Score:  -20.385291829118557\n"
     ]
    },
    {
     "name": "stderr",
     "output_type": "stream",
     "text": [
      "C:\\Users\\Bruker\\Miniconda3\\envs\\gputest\\lib\\site-packages\\sklearn\\model_selection\\_search.py:841: DeprecationWarning: The default of the `iid` parameter will change from True to False in version 0.22 and will be removed in 0.24. This will change numeric results when test-set sizes are unequal.\n",
      "  DeprecationWarning)\n"
     ]
    },
    {
     "name": "stdout",
     "output_type": "stream",
     "text": [
      "Product_id:  283\n",
      "MAPE Score:  -24.722942901006547\n",
      "Product_id:  284\n",
      "MAPE Score:  -22.424545184012604\n"
     ]
    },
    {
     "name": "stderr",
     "output_type": "stream",
     "text": [
      "C:\\Users\\Bruker\\Miniconda3\\envs\\gputest\\lib\\site-packages\\sklearn\\model_selection\\_search.py:841: DeprecationWarning: The default of the `iid` parameter will change from True to False in version 0.22 and will be removed in 0.24. This will change numeric results when test-set sizes are unequal.\n",
      "  DeprecationWarning)\n"
     ]
    },
    {
     "name": "stdout",
     "output_type": "stream",
     "text": [
      "Product_id:  50\n",
      "MAPE Score:  -22.688411059575543\n"
     ]
    },
    {
     "name": "stderr",
     "output_type": "stream",
     "text": [
      "C:\\Users\\Bruker\\Miniconda3\\envs\\gputest\\lib\\site-packages\\sklearn\\model_selection\\_search.py:841: DeprecationWarning: The default of the `iid` parameter will change from True to False in version 0.22 and will be removed in 0.24. This will change numeric results when test-set sizes are unequal.\n",
      "  DeprecationWarning)\n"
     ]
    },
    {
     "name": "stdout",
     "output_type": "stream",
     "text": [
      "Product_id:  112\n",
      "MAPE Score:  -19.729812262854935\n"
     ]
    },
    {
     "name": "stderr",
     "output_type": "stream",
     "text": [
      "C:\\Users\\Bruker\\Miniconda3\\envs\\gputest\\lib\\site-packages\\sklearn\\model_selection\\_search.py:841: DeprecationWarning: The default of the `iid` parameter will change from True to False in version 0.22 and will be removed in 0.24. This will change numeric results when test-set sizes are unequal.\n",
      "  DeprecationWarning)\n"
     ]
    },
    {
     "name": "stdout",
     "output_type": "stream",
     "text": [
      "Product_id:  211\n",
      "MAPE Score:  -130.775107424657\n"
     ]
    },
    {
     "name": "stderr",
     "output_type": "stream",
     "text": [
      "C:\\Users\\Bruker\\Miniconda3\\envs\\gputest\\lib\\site-packages\\sklearn\\model_selection\\_search.py:841: DeprecationWarning: The default of the `iid` parameter will change from True to False in version 0.22 and will be removed in 0.24. This will change numeric results when test-set sizes are unequal.\n",
      "  DeprecationWarning)\n"
     ]
    },
    {
     "name": "stdout",
     "output_type": "stream",
     "text": [
      "Product_id:  33\n",
      "MAPE Score:  -20.759777784466547\n"
     ]
    },
    {
     "name": "stderr",
     "output_type": "stream",
     "text": [
      "C:\\Users\\Bruker\\Miniconda3\\envs\\gputest\\lib\\site-packages\\sklearn\\model_selection\\_search.py:841: DeprecationWarning: The default of the `iid` parameter will change from True to False in version 0.22 and will be removed in 0.24. This will change numeric results when test-set sizes are unequal.\n",
      "  DeprecationWarning)\n"
     ]
    },
    {
     "name": "stdout",
     "output_type": "stream",
     "text": [
      "Product_id:  139\n",
      "MAPE Score:  -24.135326507693755\n"
     ]
    },
    {
     "name": "stderr",
     "output_type": "stream",
     "text": [
      "C:\\Users\\Bruker\\Miniconda3\\envs\\gputest\\lib\\site-packages\\sklearn\\model_selection\\_search.py:841: DeprecationWarning: The default of the `iid` parameter will change from True to False in version 0.22 and will be removed in 0.24. This will change numeric results when test-set sizes are unequal.\n",
      "  DeprecationWarning)\n"
     ]
    },
    {
     "name": "stdout",
     "output_type": "stream",
     "text": [
      "Product_id:  56\n",
      "MAPE Score:  -22.94439515881541\n"
     ]
    },
    {
     "name": "stderr",
     "output_type": "stream",
     "text": [
      "C:\\Users\\Bruker\\Miniconda3\\envs\\gputest\\lib\\site-packages\\sklearn\\model_selection\\_search.py:841: DeprecationWarning: The default of the `iid` parameter will change from True to False in version 0.22 and will be removed in 0.24. This will change numeric results when test-set sizes are unequal.\n",
      "  DeprecationWarning)\n"
     ]
    },
    {
     "name": "stdout",
     "output_type": "stream",
     "text": [
      "Product_id:  118\n",
      "MAPE Score:  -21.63020568537484\n"
     ]
    },
    {
     "name": "stderr",
     "output_type": "stream",
     "text": [
      "C:\\Users\\Bruker\\Miniconda3\\envs\\gputest\\lib\\site-packages\\sklearn\\model_selection\\_search.py:841: DeprecationWarning: The default of the `iid` parameter will change from True to False in version 0.22 and will be removed in 0.24. This will change numeric results when test-set sizes are unequal.\n",
      "  DeprecationWarning)\n"
     ]
    },
    {
     "name": "stdout",
     "output_type": "stream",
     "text": [
      "Product_id:  1\n",
      "MAPE Score:  -20.250667555707615\n"
     ]
    },
    {
     "name": "stderr",
     "output_type": "stream",
     "text": [
      "C:\\Users\\Bruker\\Miniconda3\\envs\\gputest\\lib\\site-packages\\sklearn\\model_selection\\_search.py:841: DeprecationWarning: The default of the `iid` parameter will change from True to False in version 0.22 and will be removed in 0.24. This will change numeric results when test-set sizes are unequal.\n",
      "  DeprecationWarning)\n"
     ]
    },
    {
     "name": "stdout",
     "output_type": "stream",
     "text": [
      "Product_id:  229\n",
      "MAPE Score:  -20.801379771912234\n"
     ]
    },
    {
     "name": "stderr",
     "output_type": "stream",
     "text": [
      "C:\\Users\\Bruker\\Miniconda3\\envs\\gputest\\lib\\site-packages\\sklearn\\model_selection\\_search.py:841: DeprecationWarning: The default of the `iid` parameter will change from True to False in version 0.22 and will be removed in 0.24. This will change numeric results when test-set sizes are unequal.\n",
      "  DeprecationWarning)\n"
     ]
    },
    {
     "name": "stdout",
     "output_type": "stream",
     "text": [
      "Product_id:  116\n",
      "MAPE Score:  -21.27214417976547\n"
     ]
    },
    {
     "name": "stderr",
     "output_type": "stream",
     "text": [
      "C:\\Users\\Bruker\\Miniconda3\\envs\\gputest\\lib\\site-packages\\sklearn\\model_selection\\_search.py:841: DeprecationWarning: The default of the `iid` parameter will change from True to False in version 0.22 and will be removed in 0.24. This will change numeric results when test-set sizes are unequal.\n",
      "  DeprecationWarning)\n"
     ]
    },
    {
     "name": "stdout",
     "output_type": "stream",
     "text": [
      "Product_id:  194\n",
      "MAPE Score:  -24.547434591833877\n"
     ]
    },
    {
     "name": "stderr",
     "output_type": "stream",
     "text": [
      "C:\\Users\\Bruker\\Miniconda3\\envs\\gputest\\lib\\site-packages\\sklearn\\model_selection\\_search.py:841: DeprecationWarning: The default of the `iid` parameter will change from True to False in version 0.22 and will be removed in 0.24. This will change numeric results when test-set sizes are unequal.\n",
      "  DeprecationWarning)\n"
     ]
    },
    {
     "name": "stdout",
     "output_type": "stream",
     "text": [
      "Product_id:  209\n",
      "MAPE Score:  -25.14351901922445\n"
     ]
    },
    {
     "name": "stderr",
     "output_type": "stream",
     "text": [
      "C:\\Users\\Bruker\\Miniconda3\\envs\\gputest\\lib\\site-packages\\sklearn\\model_selection\\_search.py:841: DeprecationWarning: The default of the `iid` parameter will change from True to False in version 0.22 and will be removed in 0.24. This will change numeric results when test-set sizes are unequal.\n",
      "  DeprecationWarning)\n"
     ]
    },
    {
     "name": "stdout",
     "output_type": "stream",
     "text": [
      "Product_id:  45\n",
      "MAPE Score:  -22.743856375981373\n",
      "Product_id:  217\n",
      "MAPE Score:  -22.82855728100666\n"
     ]
    },
    {
     "name": "stderr",
     "output_type": "stream",
     "text": [
      "C:\\Users\\Bruker\\Miniconda3\\envs\\gputest\\lib\\site-packages\\sklearn\\model_selection\\_search.py:841: DeprecationWarning: The default of the `iid` parameter will change from True to False in version 0.22 and will be removed in 0.24. This will change numeric results when test-set sizes are unequal.\n",
      "  DeprecationWarning)\n"
     ]
    },
    {
     "name": "stdout",
     "output_type": "stream",
     "text": [
      "Product_id:  318\n",
      "MAPE Score:  -22.21116789752279\n"
     ]
    },
    {
     "name": "stderr",
     "output_type": "stream",
     "text": [
      "C:\\Users\\Bruker\\Miniconda3\\envs\\gputest\\lib\\site-packages\\sklearn\\model_selection\\_search.py:841: DeprecationWarning: The default of the `iid` parameter will change from True to False in version 0.22 and will be removed in 0.24. This will change numeric results when test-set sizes are unequal.\n",
      "  DeprecationWarning)\n"
     ]
    },
    {
     "name": "stdout",
     "output_type": "stream",
     "text": [
      "Product_id:  147\n",
      "MAPE Score:  -22.503006717164645\n"
     ]
    },
    {
     "name": "stderr",
     "output_type": "stream",
     "text": [
      "C:\\Users\\Bruker\\Miniconda3\\envs\\gputest\\lib\\site-packages\\sklearn\\model_selection\\_search.py:841: DeprecationWarning: The default of the `iid` parameter will change from True to False in version 0.22 and will be removed in 0.24. This will change numeric results when test-set sizes are unequal.\n",
      "  DeprecationWarning)\n"
     ]
    },
    {
     "name": "stdout",
     "output_type": "stream",
     "text": [
      "Product_id:  276\n",
      "MAPE Score:  -21.317614094529688\n"
     ]
    },
    {
     "name": "stderr",
     "output_type": "stream",
     "text": [
      "C:\\Users\\Bruker\\Miniconda3\\envs\\gputest\\lib\\site-packages\\sklearn\\model_selection\\_search.py:841: DeprecationWarning: The default of the `iid` parameter will change from True to False in version 0.22 and will be removed in 0.24. This will change numeric results when test-set sizes are unequal.\n",
      "  DeprecationWarning)\n"
     ]
    },
    {
     "name": "stdout",
     "output_type": "stream",
     "text": [
      "Product_id:  291\n",
      "MAPE Score:  -20.119367139759362\n"
     ]
    },
    {
     "name": "stderr",
     "output_type": "stream",
     "text": [
      "C:\\Users\\Bruker\\Miniconda3\\envs\\gputest\\lib\\site-packages\\sklearn\\model_selection\\_search.py:841: DeprecationWarning: The default of the `iid` parameter will change from True to False in version 0.22 and will be removed in 0.24. This will change numeric results when test-set sizes are unequal.\n",
      "  DeprecationWarning)\n"
     ]
    },
    {
     "name": "stdout",
     "output_type": "stream",
     "text": [
      "Product_id:  184\n",
      "MAPE Score:  -23.713097587038053\n"
     ]
    },
    {
     "name": "stderr",
     "output_type": "stream",
     "text": [
      "C:\\Users\\Bruker\\Miniconda3\\envs\\gputest\\lib\\site-packages\\sklearn\\model_selection\\_search.py:841: DeprecationWarning: The default of the `iid` parameter will change from True to False in version 0.22 and will be removed in 0.24. This will change numeric results when test-set sizes are unequal.\n",
      "  DeprecationWarning)\n"
     ]
    },
    {
     "name": "stdout",
     "output_type": "stream",
     "text": [
      "Product_id:  159\n",
      "MAPE Score:  -22.14631972876893\n"
     ]
    },
    {
     "name": "stderr",
     "output_type": "stream",
     "text": [
      "C:\\Users\\Bruker\\Miniconda3\\envs\\gputest\\lib\\site-packages\\sklearn\\model_selection\\_search.py:841: DeprecationWarning: The default of the `iid` parameter will change from True to False in version 0.22 and will be removed in 0.24. This will change numeric results when test-set sizes are unequal.\n",
      "  DeprecationWarning)\n"
     ]
    },
    {
     "name": "stdout",
     "output_type": "stream",
     "text": [
      "Product_id:  127\n",
      "MAPE Score:  -22.172053371594888\n"
     ]
    },
    {
     "name": "stderr",
     "output_type": "stream",
     "text": [
      "C:\\Users\\Bruker\\Miniconda3\\envs\\gputest\\lib\\site-packages\\sklearn\\model_selection\\_search.py:841: DeprecationWarning: The default of the `iid` parameter will change from True to False in version 0.22 and will be removed in 0.24. This will change numeric results when test-set sizes are unequal.\n",
      "  DeprecationWarning)\n"
     ]
    },
    {
     "name": "stdout",
     "output_type": "stream",
     "text": [
      "Product_id:  27\n",
      "MAPE Score:  -21.099383031266587\n",
      "Product_id:  70\n",
      "MAPE Score:  -24.214383178883406\n"
     ]
    },
    {
     "name": "stderr",
     "output_type": "stream",
     "text": [
      "C:\\Users\\Bruker\\Miniconda3\\envs\\gputest\\lib\\site-packages\\sklearn\\model_selection\\_search.py:841: DeprecationWarning: The default of the `iid` parameter will change from True to False in version 0.22 and will be removed in 0.24. This will change numeric results when test-set sizes are unequal.\n",
      "  DeprecationWarning)\n"
     ]
    }
   ],
   "source": [
    "bestModels = []\n",
    "bestScores = [] \n",
    "product_ids = train_X_norm['product_id'].unique()\n",
    "\n",
    "train_pred = pd.DataFrame(columns=['ID','prediction'])\n",
    "test_pred = pd.DataFrame(columns=['ID','TARGET'])\n",
    "\n",
    "for product_id in product_ids:\n",
    "#for product_id in range(1,10):\n",
    "#for product_id in range(165,166):    \n",
    "\n",
    "    df_slice_train = train_features_norm[train_features_norm['product_id'] == product_id]\n",
    "    df_slice_test = test_features_norm[test_features_norm['product_id'] == product_id]\n",
    "    grid_result = grid.fit(df_slice_train[regression_cols], df_slice_train['TARGET'])\n",
    "    \n",
    "    \n",
    "    print(\"Product_id: \",product_id)\n",
    "    print(\"MAPE Score: \",grid_result.best_score_)\n",
    "    bestModels.append(grid_result.best_estimator_)\n",
    "    bestScores.append(grid_result.best_score_)\n",
    "    \n",
    "    train_pred = train_pred.append(pd.DataFrame({'ID': df_slice_train['ID'],'prediction': np.maximum(grid_result.best_estimator_.predict(df_slice_train[regression_cols]),0.0)}))\n",
    "    test_pred = test_pred.append(pd.DataFrame({'ID': df_slice_test['ID'],'TARGET': np.maximum(grid_result.best_estimator_.predict(df_slice_test[regression_cols]),0.0)}))   \n",
    "\n",
    "    "
   ]
  },
  {
   "cell_type": "code",
   "execution_count": 102,
   "metadata": {},
   "outputs": [],
   "source": [
    "train_pred['ID'] = train_pred['ID'].astype(np.int64)"
   ]
  },
  {
   "cell_type": "code",
   "execution_count": 103,
   "metadata": {},
   "outputs": [
    {
     "name": "stdout",
     "output_type": "stream",
     "text": [
      "Train error SGD regressor = 22.5878 %\n"
     ]
    },
    {
     "data": {
      "text/plain": [
       "[<matplotlib.lines.Line2D at 0x194f6d31400>]"
      ]
     },
     "execution_count": 103,
     "metadata": {},
     "output_type": "execute_result"
    },
    {
     "data": {
      "image/png": "[encoded data removed]",
      "text/plain": [
       "<Figure size 432x288 with 1 Axes>"
      ]
     },
     "metadata": {
      "needs_background": "light"
     },
     "output_type": "display_data"
    }
   ],
   "source": [
    "temp = train_features_norm.merge(train_pred,on='ID',how = \"left\").set_index(train_features_norm.index)\n",
    "print('Train error SGD regressor =', round(MAPE(temp['TARGET'],temp['prediction']), 4), '%')\n",
    "plt.plot(MAPE_per_obs(temp['TARGET'],temp['prediction']))"
   ]
  },
  {
   "cell_type": "code",
   "execution_count": 104,
   "metadata": {},
   "outputs": [],
   "source": [
    "test_pred = test_pred.set_index('ID')\n",
    "test_pred.loc[test_X['ID']].to_csv('results/local_SGD_regressor_new_last.csv', sep=';', index=True)"
   ]
  },
  {
   "cell_type": "code",
   "execution_count": null,
   "metadata": {},
   "outputs": [],
   "source": [
    "epsilons = []\n",
    "l1_ratios = []\n",
    "alphas = []\n",
    "for mod in bestModels:\n",
    "    epsilons.append(mod.epsilon)\n",
    "    l1_ratios.append(mod.l1_ratio)\n",
    "    alphas.append(mod.alpha)"
   ]
  },
  {
   "cell_type": "code",
   "execution_count": null,
   "metadata": {},
   "outputs": [],
   "source": []
  },
  {
   "cell_type": "code",
   "execution_count": null,
   "metadata": {},
   "outputs": [],
   "source": [
    "plt.plot(bestScores)"
   ]
  },
  {
   "cell_type": "code",
   "execution_count": null,
   "metadata": {},
   "outputs": [],
   "source": [
    "np.mean(bestScores)"
   ]
  },
  {
   "cell_type": "code",
   "execution_count": null,
   "metadata": {},
   "outputs": [],
   "source": [
    "plt.hist(epsilons)"
   ]
  },
  {
   "cell_type": "code",
   "execution_count": null,
   "metadata": {},
   "outputs": [],
   "source": [
    "plt.hist(alphas)"
   ]
  },
  {
   "cell_type": "code",
   "execution_count": null,
   "metadata": {},
   "outputs": [],
   "source": [
    "plt.hist(l1_ratios)"
   ]
  },
  {
   "cell_type": "markdown",
   "metadata": {},
   "source": [
    "##### Fit local models"
   ]
  },
  {
   "cell_type": "markdown",
   "metadata": {},
   "source": []
  },
  {
   "cell_type": "markdown",
   "metadata": {},
   "source": []
  },
  {
   "cell_type": "code",
   "execution_count": null,
   "metadata": {},
   "outputs": [],
   "source": []
  },
  {
   "cell_type": "code",
   "execution_count": null,
   "metadata": {},
   "outputs": [],
   "source": []
  },
  {
   "cell_type": "code",
   "execution_count": null,
   "metadata": {},
   "outputs": [],
   "source": []
  },
  {
   "cell_type": "code",
   "execution_count": null,
   "metadata": {},
   "outputs": [],
   "source": []
  },
  {
   "cell_type": "markdown",
   "metadata": {},
   "source": [
    "### XGboost"
   ]
  },
  {
   "cell_type": "code",
   "execution_count": null,
   "metadata": {},
   "outputs": [],
   "source": [
    "import xgboost"
   ]
  },
  {
   "cell_type": "code",
   "execution_count": null,
   "metadata": {},
   "outputs": [],
   "source": [
    "def print_results(estimator,train_target,test_target,X_train,X_test,keras =False,preprocess_func=lambda x:x):\n",
    "    score_train = score_function(train_target, estimator.predict(preprocess_func(X_train)))\n",
    "    score_test = score_function(test_target, estimator.predict(preprocess_func(X_test)))\n",
    "    if keras == False:\n",
    "        print(\"best_params\",estimator.best_params_)\n",
    "    print(\"train: \", score_train)\n",
    "    print(\"test: \", score_test)"
   ]
  },
  {
   "cell_type": "code",
   "execution_count": null,
   "metadata": {},
   "outputs": [],
   "source": [
    "xgb = xgboost.XGBRegressor()\n",
    "param_grid = {\n",
    "    'max_depth': [2,4,6],\n",
    "    'n_estimators': [50,100,200]\n",
    "}"
   ]
  },
  {
   "cell_type": "code",
   "execution_count": null,
   "metadata": {},
   "outputs": [],
   "source": [
    "xgb = GridSearchCV(xgb, param_grid=param_grid, cv=5, scoring=mape, n_jobs=-1)\n",
    "%time xgb.fit(train_features_norm[regression_cols], train_features_norm['TARGET'])\n",
    "\n"
   ]
  },
  {
   "cell_type": "code",
   "execution_count": null,
   "metadata": {},
   "outputs": [],
   "source": [
    "print(\"Best: %f using %s\" % (xgb.best_score_, xgb.best_params_))\n"
   ]
  },
  {
   "cell_type": "code",
   "execution_count": null,
   "metadata": {},
   "outputs": [],
   "source": [
    "fig, ax = plt.subplots(figsize=(h, w))\n",
    "xgboost.plot_importance(..., ax=ax)"
   ]
  },
  {
   "cell_type": "code",
   "execution_count": null,
   "metadata": {},
   "outputs": [],
   "source": [
    "best_model =xgb.best_estimator_\n",
    "fitted_model = best_model.fit(train_features_norm[regression_cols],train_features_norm['TARGET'])"
   ]
  },
  {
   "cell_type": "code",
   "execution_count": null,
   "metadata": {},
   "outputs": [],
   "source": [
    "from xgboost import plot_importance\n",
    "fig, ax = plt.subplots(figsize=(20, 20))\n",
    "plot_importance(xgb.best_estimator_,ax=ax)"
   ]
  },
  {
   "cell_type": "code",
   "execution_count": null,
   "metadata": {},
   "outputs": [],
   "source": [
    "print('Train error SGD regressor =', round(MAPE(train_features_norm['TARGET'], np.maximum(fitted_model.predict(train_features_norm[regression_cols]),0)), 4), '%')"
   ]
  },
  {
   "cell_type": "code",
   "execution_count": null,
   "metadata": {},
   "outputs": [],
   "source": [
    "predictions = pd.DataFrame({'ID': test_features_norm['ID'],'TARGET': np.maximum(fitted_model.predict(test_features_norm[regression_cols]),0)})\n",
    "predictions.to_csv('results/global_XGB_regressor.csv', sep=';', index=False)"
   ]
  },
  {
   "cell_type": "markdown",
   "metadata": {},
   "source": [
    "### Neural Net"
   ]
  },
  {
   "cell_type": "code",
   "execution_count": 159,
   "metadata": {},
   "outputs": [],
   "source": [
    "from sklearn import datasets, linear_model\n",
    "from sklearn.model_selection import cross_val_score, KFold, GridSearchCV\n",
    "from keras.models import Sequential\n",
    "from sklearn.metrics import accuracy_score\n",
    "from keras.layers import Dense, Dropout, Activation\n",
    "from keras.wrappers.scikit_learn import KerasRegressor\n",
    "from keras.callbacks import ModelCheckpoint\n",
    "import keras.backend as K\n",
    "from sklearn.utils import parallel_backend\n",
    "seed = 43"
   ]
  },
  {
   "cell_type": "code",
   "execution_count": 160,
   "metadata": {},
   "outputs": [],
   "source": [
    "from keras import regularizers\n",
    "from keras.utils import plot_model\n",
    "import pydot\n",
    "from keras.optimizers import SGD\n"
   ]
  },
  {
   "cell_type": "code",
   "execution_count": 161,
   "metadata": {},
   "outputs": [
    {
     "name": "stdout",
     "output_type": "stream",
     "text": [
      "TensorFlow Version: 1.13.1\n",
      "Default GPU Device: /device:GPU:0\n"
     ]
    }
   ],
   "source": [
    "from distutils.version import LooseVersion\n",
    "import warnings\n",
    "import tensorflow as tf\n",
    "\n",
    "# Check TensorFlow Version\n",
    "assert LooseVersion(tf.__version__) >= LooseVersion('1.0'), 'Please use TensorFlow version 1.0 or newer.  You are using {}'.format(tf.__version__)\n",
    "print('TensorFlow Version: {}'.format(tf.__version__))\n",
    "\n",
    "# Check for a GPU\n",
    "if not tf.test.gpu_device_name():\n",
    "    warnings.warn('No GPU found. Please ensure you have installed TensorFlow correctly')\n",
    "else:\n",
    "    print('Default GPU Device: {}'.format(tf.test.gpu_device_name()))"
   ]
  },
  {
   "cell_type": "code",
   "execution_count": null,
   "metadata": {},
   "outputs": [],
   "source": []
  },
  {
   "cell_type": "code",
   "execution_count": null,
   "metadata": {},
   "outputs": [],
   "source": []
  },
  {
   "cell_type": "markdown",
   "metadata": {},
   "source": [
    "Reduce to two layers with size 20, look at chollet book regarding LSTM, run on Microsoft Azure notebooks"
   ]
  },
  {
   "cell_type": "code",
   "execution_count": 162,
   "metadata": {},
   "outputs": [],
   "source": [
    "##Define model\n",
    "def custom_loss(y_true, y_pred):\n",
    "    return K.mean(np.abs((y_true - y_pred) / y_true))* 100\n",
    "\n",
    "def baseline_model(l1=30,l2=10, l3=5):\n",
    "    model = Sequential()\n",
    "    model.add(Dense(l1, name='Layer_1', input_dim=len(regression_cols), activation='relu',kernel_initializer='normal'))\n",
    "    model.add(Dense(l2, name='Layer_2', activation='relu',kernel_initializer='normal'))\n",
    "    model.add(Dense(l3, name='Layer_3', activation='relu',kernel_initializer='normal'))\n",
    "    model.add(Dense(1,name='Output',activation='relu',kernel_initializer='normal'))\n",
    "   \n",
    "    \n",
    "    \n",
    "    model.compile(loss=custom_loss,optimizer='Adagrad', metrics=[custom_loss])\n",
    "    return model"
   ]
  },
  {
   "cell_type": "code",
   "execution_count": 25,
   "metadata": {},
   "outputs": [],
   "source": [
    "##Define model\n",
    "def custom_loss(y_true, y_pred):\n",
    "    return K.mean(np.abs((y_true - y_pred) / y_true))* 100\n",
    "\n",
    "def baseline_model(l1=100,l2=10):\n",
    "    model = Sequential()\n",
    "    model.add(Dense(l1, name='Layer_1', input_dim=len(regression_cols), activation='relu',kernel_initializer='he_normal'))\n",
    "    model.add(Dense(l2, name='Layer_2', activation='relu',kernel_initializer='he_normal'))\n",
    "    model.add(Dense(1,name='Output',activation='relu',kernel_initializer='he_normal'))   \n",
    "    \n",
    "    \n",
    "    model.compile(loss=custom_loss,optimizer='Adagrad', metrics=[custom_loss])\n",
    "    return model"
   ]
  },
  {
   "cell_type": "code",
   "execution_count": 57,
   "metadata": {},
   "outputs": [
    {
     "data": {
      "text/plain": [
       "<function __main__.baseline_model(l1=100, l2=10)>"
      ]
     },
     "execution_count": 57,
     "metadata": {},
     "output_type": "execute_result"
    }
   ],
   "source": []
  },
  {
   "cell_type": "code",
   "execution_count": 163,
   "metadata": {},
   "outputs": [
    {
     "ename": "NameError",
     "evalue": "name 'test_model' is not defined",
     "output_type": "error",
     "traceback": [
      "\u001b[1;31m---------------------------------------------------------------------------\u001b[0m",
      "\u001b[1;31mNameError\u001b[0m                                 Traceback (most recent call last)",
      "\u001b[1;32m<ipython-input-163-661828804f5c>\u001b[0m in \u001b[0;36m<module>\u001b[1;34m\u001b[0m\n\u001b[0;32m      1\u001b[0m \u001b[1;32mfrom\u001b[0m \u001b[0mkeras\u001b[0m\u001b[1;33m.\u001b[0m\u001b[0mutils\u001b[0m \u001b[1;32mimport\u001b[0m \u001b[0mplot_model\u001b[0m\u001b[1;33m\u001b[0m\u001b[1;33m\u001b[0m\u001b[0m\n\u001b[1;32m----> 2\u001b[1;33m \u001b[0mplot_model\u001b[0m\u001b[1;33m(\u001b[0m\u001b[0mtest_model\u001b[0m\u001b[1;33m,\u001b[0m \u001b[0mto_file\u001b[0m\u001b[1;33m=\u001b[0m\u001b[1;34m'plots\\model.png'\u001b[0m\u001b[1;33m,\u001b[0m\u001b[0mshow_shapes\u001b[0m \u001b[1;33m=\u001b[0m \u001b[1;32mTrue\u001b[0m\u001b[1;33m,\u001b[0m\u001b[0mshow_layer_names\u001b[0m \u001b[1;33m=\u001b[0m\u001b[1;32mTrue\u001b[0m\u001b[1;33m)\u001b[0m\u001b[1;33m\u001b[0m\u001b[1;33m\u001b[0m\u001b[0m\n\u001b[0m",
      "\u001b[1;31mNameError\u001b[0m: name 'test_model' is not defined"
     ]
    }
   ],
   "source": [
    "from keras.utils import plot_model\n",
    "plot_model(test_model, to_file='plots\\model.png',show_shapes = True,show_layer_names =True) "
   ]
  },
  {
   "cell_type": "code",
   "execution_count": null,
   "metadata": {},
   "outputs": [],
   "source": []
  },
  {
   "cell_type": "code",
   "execution_count": 43,
   "metadata": {},
   "outputs": [
    {
     "data": {
      "text/plain": [
       "[<keras.engine.input_layer.InputLayer at 0x1b969cda748>,\n",
       " <keras.layers.core.Dense at 0x1b969cda160>,\n",
       " <keras.layers.core.Dense at 0x1b969cdaa58>,\n",
       " <keras.layers.core.Dense at 0x1b969cda6a0>]"
      ]
     },
     "execution_count": 43,
     "metadata": {},
     "output_type": "execute_result"
    }
   ],
   "source": [
    "test_model._layers"
   ]
  },
  {
   "cell_type": "code",
   "execution_count": 51,
   "metadata": {},
   "outputs": [],
   "source": []
  },
  {
   "cell_type": "code",
   "execution_count": 23,
   "metadata": {},
   "outputs": [],
   "source": [
    "estimator = KerasRegressor(build_fn=baseline_model, epochs=10, batch_size=1000, verbose=True)\n",
    "#filepath=\"results\\weights\\weights-improvement-{epoch:02d}-{loss:.4f}.hdf5\"\n",
    "#checkpoint = ModelCheckpoint(filepath, monitor='loss', verbose=1, save_best_only=True, mode='min')\n",
    "#callbacks_list = [checkpoint]"
   ]
  },
  {
   "cell_type": "code",
   "execution_count": null,
   "metadata": {},
   "outputs": [],
   "source": [
    "estimator.fit(train_features_norm[regression_cols], train_features_norm['TARGET'], callbacks=callbacks_list)"
   ]
  },
  {
   "cell_type": "markdown",
   "metadata": {},
   "source": []
  },
  {
   "cell_type": "code",
   "execution_count": 164,
   "metadata": {},
   "outputs": [
    {
     "name": "stdout",
     "output_type": "stream",
     "text": [
      "Epoch 1/20\n",
      "509050/509050 [==============================] - 3s 6us/step - loss: 26.9381 - custom_loss: 26.9381\n",
      "Epoch 2/20\n",
      "509050/509050 [==============================] - 1s 3us/step - loss: 22.3235 - custom_loss: 22.3235\n",
      "Epoch 3/20\n",
      "509050/509050 [==============================] - 1s 3us/step - loss: 22.0205 - custom_loss: 22.0205\n",
      "Epoch 4/20\n",
      "509050/509050 [==============================] - 1s 3us/step - loss: 21.8876 - custom_loss: 21.8876\n",
      "Epoch 5/20\n",
      "509050/509050 [==============================] - 1s 3us/step - loss: 21.8196 - custom_loss: 21.8196\n",
      "Epoch 6/20\n",
      "509050/509050 [==============================] - 1s 3us/step - loss: 21.7399 - custom_loss: 21.7399\n",
      "Epoch 7/20\n",
      "509050/509050 [==============================] - 2s 3us/step - loss: 21.6998 - custom_loss: 21.6998\n",
      "Epoch 8/20\n",
      "509050/509050 [==============================] - 2s 3us/step - loss: 21.6680 - custom_loss: 21.6680\n",
      "Epoch 9/20\n",
      "509050/509050 [==============================] - 2s 3us/step - loss: 21.6427 - custom_loss: 21.6427\n",
      "Epoch 10/20\n",
      "509050/509050 [==============================] - 1s 3us/step - loss: 21.6201 - custom_loss: 21.6201\n",
      "Epoch 11/20\n",
      "509050/509050 [==============================] - 1s 3us/step - loss: 21.6074 - custom_loss: 21.6074\n",
      "Epoch 12/20\n",
      "509050/509050 [==============================] - 2s 3us/step - loss: 21.5826 - custom_loss: 21.5826\n",
      "Epoch 13/20\n",
      "509050/509050 [==============================] - 1s 3us/step - loss: 21.5570 - custom_loss: 21.5570\n",
      "Epoch 14/20\n",
      "509050/509050 [==============================] - 1s 3us/step - loss: 21.5329 - custom_loss: 21.5329\n",
      "Epoch 15/20\n",
      "509050/509050 [==============================] - 1s 3us/step - loss: 21.5248 - custom_loss: 21.5248\n",
      "Epoch 16/20\n",
      "509050/509050 [==============================] - 1s 3us/step - loss: 21.5064 - custom_loss: 21.5064\n",
      "Epoch 17/20\n",
      "509050/509050 [==============================] - 1s 3us/step - loss: 21.4902 - custom_loss: 21.4902\n",
      "Epoch 18/20\n",
      "509050/509050 [==============================] - 1s 3us/step - loss: 21.4717 - custom_loss: 21.4717\n",
      "Epoch 19/20\n",
      "509050/509050 [==============================] - 1s 3us/step - loss: 21.4536 - custom_loss: 21.4536\n",
      "Epoch 20/20\n",
      "509050/509050 [==============================] - 1s 3us/step - loss: 21.4446 - custom_loss: 21.4446\n",
      "127263/127263 [==============================] - 1s 7us/step\n",
      "509050/509050 [==============================] - 0s 1us/step\n",
      "Epoch 1/20\n",
      "509050/509050 [==============================] - 3s 7us/step - loss: 27.7951 - custom_loss: 27.7951\n",
      "Epoch 2/20\n",
      "509050/509050 [==============================] - 1s 3us/step - loss: 22.4648 - custom_loss: 22.4648\n",
      "Epoch 3/20\n",
      "509050/509050 [==============================] - 1s 3us/step - loss: 22.1679 - custom_loss: 22.1679\n",
      "Epoch 4/20\n",
      "509050/509050 [==============================] - 1s 3us/step - loss: 22.0077 - custom_loss: 22.0077\n",
      "Epoch 5/20\n",
      "509050/509050 [==============================] - 1s 3us/step - loss: 21.9131 - custom_loss: 21.9131\n",
      "Epoch 6/20\n",
      "509050/509050 [==============================] - 1s 3us/step - loss: 21.8741 - custom_loss: 21.8741\n",
      "Epoch 7/20\n",
      "509050/509050 [==============================] - 1s 3us/step - loss: 21.8059 - custom_loss: 21.8059\n",
      "Epoch 8/20\n",
      "509050/509050 [==============================] - 1s 3us/step - loss: 21.7885 - custom_loss: 21.7885\n",
      "Epoch 9/20\n",
      "509050/509050 [==============================] - 1s 3us/step - loss: 21.7713 - custom_loss: 21.7713\n",
      "Epoch 10/20\n",
      "509050/509050 [==============================] - 1s 3us/step - loss: 21.7114 - custom_loss: 21.7114\n",
      "Epoch 11/20\n",
      "509050/509050 [==============================] - 1s 3us/step - loss: 21.6827 - custom_loss: 21.6827\n",
      "Epoch 12/20\n",
      "509050/509050 [==============================] - 1s 3us/step - loss: 21.6683 - custom_loss: 21.6683\n",
      "Epoch 13/20\n",
      "509050/509050 [==============================] - 1s 3us/step - loss: 21.6284 - custom_loss: 21.6284\n",
      "Epoch 14/20\n",
      "509050/509050 [==============================] - 1s 3us/step - loss: 21.6157 - custom_loss: 21.6157\n",
      "Epoch 15/20\n",
      "509050/509050 [==============================] - 1s 3us/step - loss: 21.5921 - custom_loss: 21.5921\n",
      "Epoch 16/20\n",
      "509050/509050 [==============================] - 1s 3us/step - loss: 21.5777 - custom_loss: 21.5777\n",
      "Epoch 17/20\n",
      "509050/509050 [==============================] - 1s 3us/step - loss: 21.5580 - custom_loss: 21.5580\n",
      "Epoch 18/20\n",
      "509050/509050 [==============================] - 1s 3us/step - loss: 21.5493 - custom_loss: 21.5493\n",
      "Epoch 19/20\n",
      "509050/509050 [==============================] - 1s 3us/step - loss: 21.5245 - custom_loss: 21.5245\n",
      "Epoch 20/20\n",
      "509050/509050 [==============================] - 1s 3us/step - loss: 21.5101 - custom_loss: 21.5101\n",
      "127263/127263 [==============================] - 1s 7us/step\n",
      "509050/509050 [==============================] - 0s 1us/step\n",
      "Epoch 1/20\n",
      "509050/509050 [==============================] - 3s 7us/step - loss: 26.7429 - custom_loss: 26.7429\n",
      "Epoch 2/20\n",
      "509050/509050 [==============================] - 1s 3us/step - loss: 22.6626 - custom_loss: 22.6626\n",
      "Epoch 3/20\n",
      "509050/509050 [==============================] - 1s 3us/step - loss: 22.3316 - custom_loss: 22.3316\n",
      "Epoch 4/20\n",
      "509050/509050 [==============================] - 1s 3us/step - loss: 22.1941 - custom_loss: 22.1941\n",
      "Epoch 5/20\n",
      "509050/509050 [==============================] - 2s 3us/step - loss: 22.0904 - custom_loss: 22.0904\n",
      "Epoch 6/20\n",
      "509050/509050 [==============================] - 1s 3us/step - loss: 22.0389 - custom_loss: 22.0389\n",
      "Epoch 7/20\n",
      "509050/509050 [==============================] - 1s 3us/step - loss: 21.9498 - custom_loss: 21.9498\n",
      "Epoch 8/20\n",
      "509050/509050 [==============================] - 1s 3us/step - loss: 21.9221 - custom_loss: 21.9221\n",
      "Epoch 9/20\n",
      "509050/509050 [==============================] - 1s 3us/step - loss: 21.8818 - custom_loss: 21.8818\n",
      "Epoch 10/20\n",
      "509050/509050 [==============================] - 2s 3us/step - loss: 21.8260 - custom_loss: 21.8260\n",
      "Epoch 11/20\n",
      "509050/509050 [==============================] - 1s 3us/step - loss: 21.7876 - custom_loss: 21.7876\n",
      "Epoch 12/20\n",
      "509050/509050 [==============================] - 1s 3us/step - loss: 21.7729 - custom_loss: 21.7729\n",
      "Epoch 13/20\n",
      "509050/509050 [==============================] - 1s 3us/step - loss: 21.7245 - custom_loss: 21.7245\n",
      "Epoch 14/20\n",
      "509050/509050 [==============================] - 1s 3us/step - loss: 21.7058 - custom_loss: 21.7058\n",
      "Epoch 15/20\n",
      "509050/509050 [==============================] - 1s 3us/step - loss: 21.6721 - custom_loss: 21.6721\n",
      "Epoch 16/20\n",
      "509050/509050 [==============================] - 2s 3us/step - loss: 21.6451 - custom_loss: 21.6451\n",
      "Epoch 17/20\n",
      "509050/509050 [==============================] - 2s 3us/step - loss: 21.6135 - custom_loss: 21.6135\n",
      "Epoch 18/20\n",
      "509050/509050 [==============================] - 1s 3us/step - loss: 21.6113 - custom_loss: 21.6113\n",
      "Epoch 19/20\n",
      "509050/509050 [==============================] - 1s 3us/step - loss: 21.5778 - custom_loss: 21.5778A: 0s - loss: 21.5720 - custom_lo\n",
      "Epoch 20/20\n",
      "509050/509050 [==============================] - 1s 3us/step - loss: 21.5404 - custom_loss: 21.5404\n",
      "127263/127263 [==============================] - 1s 8us/step\n",
      "509050/509050 [==============================] - 0s 1us/step\n",
      "Epoch 1/20\n",
      "509051/509051 [==============================] - 3s 7us/step - loss: 26.9267 - custom_loss: 26.9267\n",
      "Epoch 2/20\n",
      "509051/509051 [==============================] - 1s 2us/step - loss: 22.5123 - custom_loss: 22.5123\n",
      "Epoch 3/20\n",
      "509051/509051 [==============================] - 1s 3us/step - loss: 22.1659 - custom_loss: 22.1659A: 0s - loss: 22.2051 - custom_loss: \n",
      "Epoch 4/20\n",
      "509051/509051 [==============================] - 1s 2us/step - loss: 22.0082 - custom_loss: 22.0082\n",
      "Epoch 5/20\n",
      "509051/509051 [==============================] - 1s 2us/step - loss: 21.9083 - custom_loss: 21.9083\n",
      "Epoch 6/20\n",
      "509051/509051 [==============================] - 1s 3us/step - loss: 21.8403 - custom_loss: 21.8403\n",
      "Epoch 7/20\n",
      "509051/509051 [==============================] - 1s 2us/step - loss: 21.7937 - custom_loss: 21.7937\n",
      "Epoch 8/20\n",
      "509051/509051 [==============================] - 1s 2us/step - loss: 21.7523 - custom_loss: 21.7523\n",
      "Epoch 9/20\n",
      "509051/509051 [==============================] - 1s 3us/step - loss: 21.7098 - custom_loss: 21.7098\n",
      "Epoch 10/20\n"
     ]
    },
    {
     "name": "stdout",
     "output_type": "stream",
     "text": [
      "509051/509051 [==============================] - 1s 2us/step - loss: 21.6915 - custom_loss: 21.6915\n",
      "Epoch 11/20\n",
      "509051/509051 [==============================] - 1s 3us/step - loss: 21.6711 - custom_loss: 21.6711\n",
      "Epoch 12/20\n",
      "509051/509051 [==============================] - 1s 2us/step - loss: 21.6336 - custom_loss: 21.6336\n",
      "Epoch 13/20\n",
      "509051/509051 [==============================] - 1s 2us/step - loss: 21.6010 - custom_loss: 21.6010\n",
      "Epoch 14/20\n",
      "509051/509051 [==============================] - 1s 2us/step - loss: 21.5954 - custom_loss: 21.5954\n",
      "Epoch 15/20\n",
      "509051/509051 [==============================] - 1s 2us/step - loss: 21.5623 - custom_loss: 21.5623\n",
      "Epoch 16/20\n",
      "509051/509051 [==============================] - 1s 2us/step - loss: 21.5367 - custom_loss: 21.5367\n",
      "Epoch 17/20\n",
      "509051/509051 [==============================] - 1s 2us/step - loss: 21.5282 - custom_loss: 21.5282\n",
      "Epoch 18/20\n",
      "509051/509051 [==============================] - 1s 2us/step - loss: 21.5133 - custom_loss: 21.5133\n",
      "Epoch 19/20\n",
      "509051/509051 [==============================] - 1s 2us/step - loss: 21.4984 - custom_loss: 21.4984\n",
      "Epoch 20/20\n",
      "509051/509051 [==============================] - 1s 2us/step - loss: 21.4743 - custom_loss: 21.4743\n",
      "127262/127262 [==============================] - 1s 7us/step\n",
      "509051/509051 [==============================] - 0s 1us/step\n",
      "Epoch 1/20\n",
      "509051/509051 [==============================] - 3s 6us/step - loss: 27.0676 - custom_loss: 27.0676\n",
      "Epoch 2/20\n",
      "509051/509051 [==============================] - 1s 2us/step - loss: 22.4730 - custom_loss: 22.4730\n",
      "Epoch 3/20\n",
      "509051/509051 [==============================] - 1s 2us/step - loss: 22.0971 - custom_loss: 22.0971\n",
      "Epoch 4/20\n",
      "509051/509051 [==============================] - 1s 3us/step - loss: 22.0069 - custom_loss: 22.0069\n",
      "Epoch 5/20\n",
      "509051/509051 [==============================] - 1s 2us/step - loss: 21.8979 - custom_loss: 21.8979\n",
      "Epoch 6/20\n",
      "509051/509051 [==============================] - 1s 2us/step - loss: 21.8502 - custom_loss: 21.8502\n",
      "Epoch 7/20\n",
      "509051/509051 [==============================] - 1s 2us/step - loss: 21.7769 - custom_loss: 21.7769\n",
      "Epoch 8/20\n",
      "509051/509051 [==============================] - 1s 2us/step - loss: 21.7296 - custom_loss: 21.7296\n",
      "Epoch 9/20\n",
      "509051/509051 [==============================] - 1s 2us/step - loss: 21.7344 - custom_loss: 21.7344\n",
      "Epoch 10/20\n",
      "509051/509051 [==============================] - 1s 2us/step - loss: 21.6940 - custom_loss: 21.6940\n",
      "Epoch 11/20\n",
      "509051/509051 [==============================] - 1s 2us/step - loss: 21.6593 - custom_loss: 21.6593\n",
      "Epoch 12/20\n",
      "509051/509051 [==============================] - 1s 2us/step - loss: 21.6346 - custom_loss: 21.6346\n",
      "Epoch 13/20\n",
      "509051/509051 [==============================] - 1s 2us/step - loss: 21.6196 - custom_loss: 21.6196\n",
      "Epoch 14/20\n",
      "509051/509051 [==============================] - 1s 2us/step - loss: 21.5876 - custom_loss: 21.5876A: 1s - loss: 21.6277 - cu\n",
      "Epoch 15/20\n",
      "509051/509051 [==============================] - 1s 2us/step - loss: 21.5653 - custom_loss: 21.5653\n",
      "Epoch 16/20\n",
      "509051/509051 [==============================] - 1s 3us/step - loss: 21.5525 - custom_loss: 21.5525\n",
      "Epoch 17/20\n",
      "509051/509051 [==============================] - 1s 2us/step - loss: 21.5329 - custom_loss: 21.5329\n",
      "Epoch 18/20\n",
      "509051/509051 [==============================] - 1s 2us/step - loss: 21.4989 - custom_loss: 21.4989\n",
      "Epoch 19/20\n",
      "509051/509051 [==============================] - 1s 2us/step - loss: 21.5048 - custom_loss: 21.5048\n",
      "Epoch 20/20\n",
      "509051/509051 [==============================] - 1s 2us/step - loss: 21.4662 - custom_loss: 21.4662\n",
      "127262/127262 [==============================] - 1s 7us/step\n",
      "509051/509051 [==============================] - 0s 1us/step\n",
      "Epoch 1/20\n",
      "509050/509050 [==============================] - 3s 6us/step - loss: 26.9858 - custom_loss: 26.9858\n",
      "Epoch 2/20\n",
      "509050/509050 [==============================] - 1s 2us/step - loss: 22.4593 - custom_loss: 22.4593A: 0s - loss: 22.5216 - custom_loss: \n",
      "Epoch 3/20\n",
      "509050/509050 [==============================] - 1s 2us/step - loss: 22.1319 - custom_loss: 22.1319\n",
      "Epoch 4/20\n",
      "509050/509050 [==============================] - 1s 3us/step - loss: 21.9871 - custom_loss: 21.9871\n",
      "Epoch 5/20\n",
      "509050/509050 [==============================] - 1s 2us/step - loss: 21.8768 - custom_loss: 21.8768\n",
      "Epoch 6/20\n",
      "509050/509050 [==============================] - 1s 3us/step - loss: 21.8079 - custom_loss: 21.8079\n",
      "Epoch 7/20\n",
      "509050/509050 [==============================] - 1s 2us/step - loss: 21.7604 - custom_loss: 21.7604\n",
      "Epoch 8/20\n",
      "509050/509050 [==============================] - 1s 3us/step - loss: 21.7294 - custom_loss: 21.7294\n",
      "Epoch 9/20\n",
      "509050/509050 [==============================] - 1s 2us/step - loss: 21.6889 - custom_loss: 21.6889\n",
      "Epoch 10/20\n",
      "509050/509050 [==============================] - 1s 3us/step - loss: 21.6558 - custom_loss: 21.6558\n",
      "Epoch 11/20\n",
      "509050/509050 [==============================] - 1s 3us/step - loss: 21.6170 - custom_loss: 21.6170A: 0s - loss: 21.6559 - custom_loss\n",
      "Epoch 12/20\n",
      "509050/509050 [==============================] - 1s 2us/step - loss: 21.5985 - custom_loss: 21.5985\n",
      "Epoch 13/20\n",
      "509050/509050 [==============================] - 1s 3us/step - loss: 21.5762 - custom_loss: 21.5762\n",
      "Epoch 14/20\n",
      "509050/509050 [==============================] - 1s 2us/step - loss: 21.5593 - custom_loss: 21.5593\n",
      "Epoch 15/20\n",
      "509050/509050 [==============================] - 1s 3us/step - loss: 21.5371 - custom_loss: 21.5371\n",
      "Epoch 16/20\n",
      "509050/509050 [==============================] - 1s 3us/step - loss: 21.5196 - custom_loss: 21.5196\n",
      "Epoch 17/20\n",
      "509050/509050 [==============================] - 1s 2us/step - loss: 21.5116 - custom_loss: 21.5116A: 0s - loss: 21.5156 - custom_loss: 21.51\n",
      "Epoch 18/20\n",
      "509050/509050 [==============================] - 1s 2us/step - loss: 21.4908 - custom_loss: 21.4908\n",
      "Epoch 19/20\n",
      "509050/509050 [==============================] - 1s 2us/step - loss: 21.4832 - custom_loss: 21.4832\n",
      "Epoch 20/20\n",
      "509050/509050 [==============================] - 1s 2us/step - loss: 21.4500 - custom_loss: 21.4500\n",
      "127263/127263 [==============================] - 1s 7us/step\n",
      "509050/509050 [==============================] - 0s 1us/step\n",
      "Epoch 1/20\n",
      "509050/509050 [==============================] - 3s 7us/step - loss: 28.2079 - custom_loss: 28.2079\n",
      "Epoch 2/20\n",
      "509050/509050 [==============================] - 1s 3us/step - loss: 22.8339 - custom_loss: 22.8339\n",
      "Epoch 3/20\n",
      "509050/509050 [==============================] - 1s 2us/step - loss: 22.4390 - custom_loss: 22.4390\n",
      "Epoch 4/20\n",
      "509050/509050 [==============================] - 1s 3us/step - loss: 22.2680 - custom_loss: 22.2680\n",
      "Epoch 5/20\n",
      "509050/509050 [==============================] - 1s 3us/step - loss: 22.1087 - custom_loss: 22.1087\n",
      "Epoch 6/20\n",
      "509050/509050 [==============================] - 1s 3us/step - loss: 22.0433 - custom_loss: 22.0433\n",
      "Epoch 7/20\n",
      "509050/509050 [==============================] - 1s 3us/step - loss: 21.9891 - custom_loss: 21.9891\n",
      "Epoch 8/20\n",
      "509050/509050 [==============================] - 1s 3us/step - loss: 21.9296 - custom_loss: 21.9296\n",
      "Epoch 9/20\n",
      "509050/509050 [==============================] - 1s 2us/step - loss: 21.8637 - custom_loss: 21.8637\n",
      "Epoch 10/20\n",
      "509050/509050 [==============================] - 1s 3us/step - loss: 21.8396 - custom_loss: 21.8396\n",
      "Epoch 11/20\n",
      "509050/509050 [==============================] - 1s 3us/step - loss: 21.7934 - custom_loss: 21.7934\n",
      "Epoch 12/20\n",
      "509050/509050 [==============================] - 1s 3us/step - loss: 21.8012 - custom_loss: 21.8012\n",
      "Epoch 13/20\n",
      "509050/509050 [==============================] - 1s 2us/step - loss: 21.7502 - custom_loss: 21.7502\n",
      "Epoch 14/20\n",
      "509050/509050 [==============================] - 1s 3us/step - loss: 21.7268 - custom_loss: 21.7268\n",
      "Epoch 15/20\n",
      "509050/509050 [==============================] - 1s 2us/step - loss: 21.7107 - custom_loss: 21.7107\n",
      "Epoch 16/20\n",
      "509050/509050 [==============================] - 1s 3us/step - loss: 21.6918 - custom_loss: 21.6918\n",
      "Epoch 17/20\n",
      "509050/509050 [==============================] - 1s 3us/step - loss: 21.6853 - custom_loss: 21.6853\n",
      "Epoch 18/20\n",
      "509050/509050 [==============================] - 1s 2us/step - loss: 21.6521 - custom_loss: 21.6521\n"
     ]
    },
    {
     "name": "stdout",
     "output_type": "stream",
     "text": [
      "Epoch 19/20\n",
      "509050/509050 [==============================] - 1s 3us/step - loss: 21.6377 - custom_loss: 21.6377\n",
      "Epoch 20/20\n",
      "509050/509050 [==============================] - 1s 3us/step - loss: 21.6166 - custom_loss: 21.6166\n",
      "127263/127263 [==============================] - 1s 7us/step\n",
      "509050/509050 [==============================] - 0s 1us/step\n",
      "Epoch 1/20\n",
      "509050/509050 [==============================] - 3s 7us/step - loss: 27.0050 - custom_loss: 27.0050\n",
      "Epoch 2/20\n",
      "509050/509050 [==============================] - 1s 3us/step - loss: 22.5929 - custom_loss: 22.5929\n",
      "Epoch 3/20\n",
      "509050/509050 [==============================] - 1s 2us/step - loss: 22.2914 - custom_loss: 22.2914\n",
      "Epoch 4/20\n",
      "509050/509050 [==============================] - 1s 3us/step - loss: 22.1362 - custom_loss: 22.1362\n",
      "Epoch 5/20\n",
      "509050/509050 [==============================] - 1s 3us/step - loss: 22.0274 - custom_loss: 22.0274\n",
      "Epoch 6/20\n",
      "509050/509050 [==============================] - 1s 2us/step - loss: 21.9697 - custom_loss: 21.9697\n",
      "Epoch 7/20\n",
      "509050/509050 [==============================] - 1s 2us/step - loss: 21.9370 - custom_loss: 21.9370\n",
      "Epoch 8/20\n",
      "509050/509050 [==============================] - 1s 2us/step - loss: 21.8841 - custom_loss: 21.8841\n",
      "Epoch 9/20\n",
      "509050/509050 [==============================] - 1s 3us/step - loss: 21.8522 - custom_loss: 21.8522\n",
      "Epoch 10/20\n",
      "509050/509050 [==============================] - 1s 2us/step - loss: 21.8085 - custom_loss: 21.8085\n",
      "Epoch 11/20\n",
      "509050/509050 [==============================] - 1s 2us/step - loss: 21.8053 - custom_loss: 21.8053\n",
      "Epoch 12/20\n",
      "509050/509050 [==============================] - 1s 3us/step - loss: 21.7945 - custom_loss: 21.7945\n",
      "Epoch 13/20\n",
      "509050/509050 [==============================] - 1s 2us/step - loss: 21.7527 - custom_loss: 21.7527\n",
      "Epoch 14/20\n",
      "509050/509050 [==============================] - 1s 3us/step - loss: 21.7318 - custom_loss: 21.7318\n",
      "Epoch 15/20\n",
      "509050/509050 [==============================] - 1s 3us/step - loss: 21.7283 - custom_loss: 21.7283A: 0s - loss: 21.7287 - custom_loss: 21.728\n",
      "Epoch 16/20\n",
      "509050/509050 [==============================] - 1s 3us/step - loss: 21.6905 - custom_loss: 21.6905\n",
      "Epoch 17/20\n",
      "509050/509050 [==============================] - 1s 3us/step - loss: 21.6851 - custom_loss: 21.6851\n",
      "Epoch 18/20\n",
      "509050/509050 [==============================] - 1s 2us/step - loss: 21.6534 - custom_loss: 21.6534A: 0s - loss: 21.6567 - custom_lo\n",
      "Epoch 19/20\n",
      "509050/509050 [==============================] - 1s 2us/step - loss: 21.6417 - custom_loss: 21.6417\n",
      "Epoch 20/20\n",
      "509050/509050 [==============================] - 1s 2us/step - loss: 21.6166 - custom_loss: 21.6166\n",
      "127263/127263 [==============================] - 1s 8us/step\n",
      "509050/509050 [==============================] - 0s 1us/step\n",
      "Epoch 1/20\n",
      "509051/509051 [==============================] - 3s 7us/step - loss: 100.0000 - custom_loss: 100.0000\n",
      "Epoch 2/20\n",
      "509051/509051 [==============================] - 1s 3us/step - loss: 100.0000 - custom_loss: 100.0000\n",
      "Epoch 3/20\n",
      "509051/509051 [==============================] - 1s 3us/step - loss: 100.0000 - custom_loss: 100.0000\n",
      "Epoch 4/20\n",
      "509051/509051 [==============================] - 1s 3us/step - loss: 100.0000 - custom_loss: 100.0000\n",
      "Epoch 5/20\n",
      "509051/509051 [==============================] - 1s 3us/step - loss: 100.0000 - custom_loss: 100.0000\n",
      "Epoch 6/20\n",
      "509051/509051 [==============================] - 1s 3us/step - loss: 100.0000 - custom_loss: 100.0000A: 0s - loss: 100.0000 - custom_loss\n",
      "Epoch 7/20\n",
      "509051/509051 [==============================] - 1s 3us/step - loss: 100.0000 - custom_loss: 100.0000\n",
      "Epoch 8/20\n",
      "509051/509051 [==============================] - 1s 2us/step - loss: 100.0000 - custom_loss: 100.0000\n",
      "Epoch 9/20\n",
      "509051/509051 [==============================] - 1s 3us/step - loss: 100.0000 - custom_loss: 100.0000\n",
      "Epoch 10/20\n",
      "509051/509051 [==============================] - 1s 2us/step - loss: 100.0000 - custom_loss: 100.0000\n",
      "Epoch 11/20\n",
      "509051/509051 [==============================] - 1s 3us/step - loss: 100.0000 - custom_loss: 100.0000\n",
      "Epoch 12/20\n",
      "509051/509051 [==============================] - 1s 2us/step - loss: 100.0000 - custom_loss: 100.0000\n",
      "Epoch 13/20\n",
      "509051/509051 [==============================] - 1s 2us/step - loss: 100.0000 - custom_loss: 100.0000\n",
      "Epoch 14/20\n",
      "509051/509051 [==============================] - 1s 3us/step - loss: 100.0000 - custom_loss: 100.0000\n",
      "Epoch 15/20\n",
      "509051/509051 [==============================] - 1s 2us/step - loss: 100.0000 - custom_loss: 100.0000\n",
      "Epoch 16/20\n",
      "509051/509051 [==============================] - 1s 3us/step - loss: 100.0000 - custom_loss: 100.0000\n",
      "Epoch 17/20\n",
      "509051/509051 [==============================] - 1s 3us/step - loss: 100.0000 - custom_loss: 100.0000\n",
      "Epoch 18/20\n",
      "509051/509051 [==============================] - 1s 3us/step - loss: 100.0000 - custom_loss: 100.0000\n",
      "Epoch 19/20\n",
      "509051/509051 [==============================] - 1s 3us/step - loss: 100.0000 - custom_loss: 100.0000\n",
      "Epoch 20/20\n",
      "509051/509051 [==============================] - 1s 2us/step - loss: 100.0000 - custom_loss: 100.0000A: 0s - loss: 100.0000 - custom_loss - ETA: 0s - loss: 100.0000 - custom_loss: 100\n",
      "127262/127262 [==============================] - 1s 8us/step\n",
      "509051/509051 [==============================] - 0s 1us/step\n",
      "Epoch 1/20\n",
      "509051/509051 [==============================] - 3s 7us/step - loss: 28.0291 - custom_loss: 28.0291\n",
      "Epoch 2/20\n",
      "509051/509051 [==============================] - 1s 3us/step - loss: 22.6306 - custom_loss: 22.6306\n",
      "Epoch 3/20\n",
      "509051/509051 [==============================] - 1s 2us/step - loss: 22.1703 - custom_loss: 22.1703\n",
      "Epoch 4/20\n",
      "509051/509051 [==============================] - 1s 3us/step - loss: 22.0549 - custom_loss: 22.0549\n",
      "Epoch 5/20\n",
      "509051/509051 [==============================] - 1s 2us/step - loss: 21.9263 - custom_loss: 21.9263\n",
      "Epoch 6/20\n",
      "509051/509051 [==============================] - 1s 2us/step - loss: 21.8508 - custom_loss: 21.8508\n",
      "Epoch 7/20\n",
      "509051/509051 [==============================] - 1s 3us/step - loss: 21.8188 - custom_loss: 21.8188\n",
      "Epoch 8/20\n",
      "509051/509051 [==============================] - 1s 3us/step - loss: 21.7758 - custom_loss: 21.7758\n",
      "Epoch 9/20\n",
      "509051/509051 [==============================] - 1s 3us/step - loss: 21.7496 - custom_loss: 21.7496\n",
      "Epoch 10/20\n",
      "509051/509051 [==============================] - 1s 3us/step - loss: 21.7063 - custom_loss: 21.7063\n",
      "Epoch 11/20\n",
      "509051/509051 [==============================] - 1s 3us/step - loss: 21.6893 - custom_loss: 21.6893\n",
      "Epoch 12/20\n",
      "509051/509051 [==============================] - 1s 3us/step - loss: 21.6603 - custom_loss: 21.6603\n",
      "Epoch 13/20\n",
      "509051/509051 [==============================] - 1s 3us/step - loss: 21.6407 - custom_loss: 21.6407\n",
      "Epoch 14/20\n",
      "509051/509051 [==============================] - 1s 3us/step - loss: 21.6208 - custom_loss: 21.6208\n",
      "Epoch 15/20\n",
      "509051/509051 [==============================] - 1s 3us/step - loss: 21.5988 - custom_loss: 21.5988\n",
      "Epoch 16/20\n",
      "509051/509051 [==============================] - 1s 2us/step - loss: 21.6061 - custom_loss: 21.6061\n",
      "Epoch 17/20\n",
      "509051/509051 [==============================] - 1s 2us/step - loss: 21.5744 - custom_loss: 21.5744\n",
      "Epoch 18/20\n",
      "509051/509051 [==============================] - 1s 2us/step - loss: 21.5569 - custom_loss: 21.5569\n",
      "Epoch 19/20\n",
      "509051/509051 [==============================] - 1s 3us/step - loss: 21.5515 - custom_loss: 21.5515\n",
      "Epoch 20/20\n",
      "509051/509051 [==============================] - 1s 3us/step - loss: 21.5393 - custom_loss: 21.5393A: 0s - loss: 21.5313 - custom_loss: 2\n",
      "127262/127262 [==============================] - 1s 8us/step\n",
      "509051/509051 [==============================] - 0s 1us/step\n",
      "Epoch 1/20\n",
      "509050/509050 [==============================] - 3s 7us/step - loss: 27.8361 - custom_loss: 27.8361\n",
      "Epoch 2/20\n",
      "509050/509050 [==============================] - 1s 3us/step - loss: 22.4511 - custom_loss: 22.4511\n",
      "Epoch 3/20\n",
      "509050/509050 [==============================] - 1s 2us/step - loss: 22.1093 - custom_loss: 22.1093\n",
      "Epoch 4/20\n",
      "509050/509050 [==============================] - 1s 3us/step - loss: 21.9734 - custom_loss: 21.9734\n",
      "Epoch 5/20\n"
     ]
    },
    {
     "name": "stdout",
     "output_type": "stream",
     "text": [
      "509050/509050 [==============================] - 1s 2us/step - loss: 21.9017 - custom_loss: 21.9017\n",
      "Epoch 6/20\n",
      "509050/509050 [==============================] - 1s 2us/step - loss: 21.8292 - custom_loss: 21.8292\n",
      "Epoch 7/20\n",
      "509050/509050 [==============================] - 1s 2us/step - loss: 21.7786 - custom_loss: 21.7786\n",
      "Epoch 8/20\n",
      "509050/509050 [==============================] - 1s 2us/step - loss: 21.7596 - custom_loss: 21.7596\n",
      "Epoch 9/20\n",
      "509050/509050 [==============================] - 1s 2us/step - loss: 21.7065 - custom_loss: 21.7065\n",
      "Epoch 10/20\n",
      "509050/509050 [==============================] - 1s 2us/step - loss: 21.6801 - custom_loss: 21.6801\n",
      "Epoch 11/20\n",
      "509050/509050 [==============================] - 1s 2us/step - loss: 21.6594 - custom_loss: 21.6594\n",
      "Epoch 12/20\n",
      "509050/509050 [==============================] - 1s 2us/step - loss: 21.6258 - custom_loss: 21.6258\n",
      "Epoch 13/20\n",
      "509050/509050 [==============================] - 1s 2us/step - loss: 21.6162 - custom_loss: 21.6162\n",
      "Epoch 14/20\n",
      "509050/509050 [==============================] - 1s 2us/step - loss: 21.5916 - custom_loss: 21.5916\n",
      "Epoch 15/20\n",
      "509050/509050 [==============================] - 1s 2us/step - loss: 21.5767 - custom_loss: 21.5767\n",
      "Epoch 16/20\n",
      "509050/509050 [==============================] - 1s 2us/step - loss: 21.5593 - custom_loss: 21.5593\n",
      "Epoch 17/20\n",
      "509050/509050 [==============================] - 1s 2us/step - loss: 21.5376 - custom_loss: 21.5376\n",
      "Epoch 18/20\n",
      "509050/509050 [==============================] - 1s 2us/step - loss: 21.5181 - custom_loss: 21.5181\n",
      "Epoch 19/20\n",
      "509050/509050 [==============================] - 1s 2us/step - loss: 21.5060 - custom_loss: 21.5060\n",
      "Epoch 20/20\n",
      "509050/509050 [==============================] - 1s 2us/step - loss: 21.5032 - custom_loss: 21.5032\n",
      "127263/127263 [==============================] - 1s 8us/step\n",
      "509050/509050 [==============================] - 0s 1us/step\n",
      "Epoch 1/20\n",
      "509050/509050 [==============================] - 3s 7us/step - loss: 28.1213 - custom_loss: 28.1213\n",
      "Epoch 2/20\n",
      "509050/509050 [==============================] - 1s 2us/step - loss: 22.6258 - custom_loss: 22.6258\n",
      "Epoch 3/20\n",
      "509050/509050 [==============================] - 1s 3us/step - loss: 22.2913 - custom_loss: 22.2913\n",
      "Epoch 4/20\n",
      "509050/509050 [==============================] - 1s 3us/step - loss: 22.1558 - custom_loss: 22.1558\n",
      "Epoch 5/20\n",
      "509050/509050 [==============================] - 1s 3us/step - loss: 22.0608 - custom_loss: 22.0608\n",
      "Epoch 6/20\n",
      "509050/509050 [==============================] - 1s 3us/step - loss: 21.9783 - custom_loss: 21.9783\n",
      "Epoch 7/20\n",
      "509050/509050 [==============================] - 1s 3us/step - loss: 21.9136 - custom_loss: 21.9136\n",
      "Epoch 8/20\n",
      "509050/509050 [==============================] - 1s 2us/step - loss: 21.8815 - custom_loss: 21.8815\n",
      "Epoch 9/20\n",
      "509050/509050 [==============================] - 1s 2us/step - loss: 21.8331 - custom_loss: 21.8331\n",
      "Epoch 10/20\n",
      "509050/509050 [==============================] - 1s 2us/step - loss: 21.8138 - custom_loss: 21.8138\n",
      "Epoch 11/20\n",
      "509050/509050 [==============================] - 1s 3us/step - loss: 21.7882 - custom_loss: 21.7882\n",
      "Epoch 12/20\n",
      "509050/509050 [==============================] - 1s 2us/step - loss: 21.7432 - custom_loss: 21.7432\n",
      "Epoch 13/20\n",
      "509050/509050 [==============================] - 1s 2us/step - loss: 21.7072 - custom_loss: 21.7072\n",
      "Epoch 14/20\n",
      "509050/509050 [==============================] - 1s 2us/step - loss: 21.6824 - custom_loss: 21.6824\n",
      "Epoch 15/20\n",
      "509050/509050 [==============================] - 1s 2us/step - loss: 21.6807 - custom_loss: 21.6807\n",
      "Epoch 16/20\n",
      "509050/509050 [==============================] - 1s 2us/step - loss: 21.6393 - custom_loss: 21.6393\n",
      "Epoch 17/20\n",
      "509050/509050 [==============================] - 1s 3us/step - loss: 21.6197 - custom_loss: 21.6197\n",
      "Epoch 18/20\n",
      "509050/509050 [==============================] - 1s 2us/step - loss: 21.5929 - custom_loss: 21.5929\n",
      "Epoch 19/20\n",
      "509050/509050 [==============================] - 1s 3us/step - loss: 21.5761 - custom_loss: 21.5761\n",
      "Epoch 20/20\n",
      "509050/509050 [==============================] - 1s 3us/step - loss: 21.5605 - custom_loss: 21.5605\n",
      "127263/127263 [==============================] - 1s 8us/step\n",
      "509050/509050 [==============================] - 0s 1us/step\n",
      "Epoch 1/20\n",
      "509050/509050 [==============================] - 4s 7us/step - loss: 27.6234 - custom_loss: 27.6234\n",
      "Epoch 2/20\n",
      "509050/509050 [==============================] - 1s 2us/step - loss: 22.6843 - custom_loss: 22.6843\n",
      "Epoch 3/20\n",
      "509050/509050 [==============================] - 1s 2us/step - loss: 22.3964 - custom_loss: 22.3964\n",
      "Epoch 4/20\n",
      "509050/509050 [==============================] - 1s 2us/step - loss: 22.2602 - custom_loss: 22.2602\n",
      "Epoch 5/20\n",
      "509050/509050 [==============================] - 1s 3us/step - loss: 22.1642 - custom_loss: 22.1642\n",
      "Epoch 6/20\n",
      "509050/509050 [==============================] - 1s 2us/step - loss: 22.0846 - custom_loss: 22.0846\n",
      "Epoch 7/20\n",
      "509050/509050 [==============================] - 1s 3us/step - loss: 22.0518 - custom_loss: 22.0518\n",
      "Epoch 8/20\n",
      "509050/509050 [==============================] - 1s 2us/step - loss: 22.0181 - custom_loss: 22.0181\n",
      "Epoch 9/20\n",
      "509050/509050 [==============================] - 1s 2us/step - loss: 21.9744 - custom_loss: 21.9744\n",
      "Epoch 10/20\n",
      "509050/509050 [==============================] - 1s 2us/step - loss: 21.9398 - custom_loss: 21.9398\n",
      "Epoch 11/20\n",
      "509050/509050 [==============================] - 1s 3us/step - loss: 21.9050 - custom_loss: 21.9050\n",
      "Epoch 12/20\n",
      "509050/509050 [==============================] - 1s 2us/step - loss: 21.8803 - custom_loss: 21.8803\n",
      "Epoch 13/20\n",
      "509050/509050 [==============================] - 1s 2us/step - loss: 21.8599 - custom_loss: 21.8599\n",
      "Epoch 14/20\n",
      "509050/509050 [==============================] - 1s 2us/step - loss: 21.8283 - custom_loss: 21.8283\n",
      "Epoch 15/20\n",
      "509050/509050 [==============================] - 1s 3us/step - loss: 21.8036 - custom_loss: 21.8036\n",
      "Epoch 16/20\n",
      "509050/509050 [==============================] - 1s 2us/step - loss: 21.7820 - custom_loss: 21.7820\n",
      "Epoch 17/20\n",
      "509050/509050 [==============================] - 1s 3us/step - loss: 21.7778 - custom_loss: 21.7778\n",
      "Epoch 18/20\n",
      "509050/509050 [==============================] - 1s 2us/step - loss: 21.7574 - custom_loss: 21.7574\n",
      "Epoch 19/20\n",
      "509050/509050 [==============================] - 1s 2us/step - loss: 21.7292 - custom_loss: 21.7292\n",
      "Epoch 20/20\n",
      "509050/509050 [==============================] - 1s 3us/step - loss: 21.7163 - custom_loss: 21.7163\n",
      "127263/127263 [==============================] - 1s 8us/step\n",
      "509050/509050 [==============================] - 0s 1us/step\n",
      "Epoch 1/20\n",
      "509051/509051 [==============================] - 4s 7us/step - loss: 27.5311 - custom_loss: 27.5311\n",
      "Epoch 2/20\n",
      "509051/509051 [==============================] - 1s 2us/step - loss: 22.7048 - custom_loss: 22.7048\n",
      "Epoch 3/20\n",
      "509051/509051 [==============================] - 1s 3us/step - loss: 22.3754 - custom_loss: 22.3754\n",
      "Epoch 4/20\n",
      "509051/509051 [==============================] - 1s 3us/step - loss: 22.2143 - custom_loss: 22.2143\n",
      "Epoch 5/20\n",
      "509051/509051 [==============================] - 1s 2us/step - loss: 22.1074 - custom_loss: 22.1074\n",
      "Epoch 6/20\n",
      "509051/509051 [==============================] - 1s 3us/step - loss: 22.0141 - custom_loss: 22.0141A: 0s - loss: 21.9782 - custom_loss: 21.\n",
      "Epoch 7/20\n",
      "509051/509051 [==============================] - 1s 3us/step - loss: 21.9482 - custom_loss: 21.9482\n",
      "Epoch 8/20\n",
      "509051/509051 [==============================] - 1s 3us/step - loss: 21.9213 - custom_loss: 21.9213\n",
      "Epoch 9/20\n",
      "509051/509051 [==============================] - 1s 3us/step - loss: 21.8672 - custom_loss: 21.8672\n",
      "Epoch 10/20\n",
      "509051/509051 [==============================] - 1s 3us/step - loss: 21.8399 - custom_loss: 21.8399\n",
      "Epoch 11/20\n",
      "509051/509051 [==============================] - 1s 3us/step - loss: 21.8046 - custom_loss: 21.8046\n",
      "Epoch 12/20\n",
      "509051/509051 [==============================] - 1s 3us/step - loss: 21.7884 - custom_loss: 21.7884\n",
      "Epoch 13/20\n",
      "509051/509051 [==============================] - 1s 2us/step - loss: 21.7621 - custom_loss: 21.7621\n",
      "Epoch 14/20\n"
     ]
    },
    {
     "name": "stdout",
     "output_type": "stream",
     "text": [
      "509051/509051 [==============================] - 1s 2us/step - loss: 21.7330 - custom_loss: 21.7330\n",
      "Epoch 15/20\n",
      "509051/509051 [==============================] - 1s 3us/step - loss: 21.6981 - custom_loss: 21.6981\n",
      "Epoch 16/20\n",
      "509051/509051 [==============================] - 1s 3us/step - loss: 21.6828 - custom_loss: 21.6828\n",
      "Epoch 17/20\n",
      "509051/509051 [==============================] - 1s 2us/step - loss: 21.6545 - custom_loss: 21.6545\n",
      "Epoch 18/20\n",
      "509051/509051 [==============================] - 1s 3us/step - loss: 21.6401 - custom_loss: 21.6401\n",
      "Epoch 19/20\n",
      "509051/509051 [==============================] - 1s 3us/step - loss: 21.6187 - custom_loss: 21.6187\n",
      "Epoch 20/20\n",
      "509051/509051 [==============================] - 1s 3us/step - loss: 21.6251 - custom_loss: 21.6251\n",
      "127262/127262 [==============================] - 1s 8us/step\n",
      "509051/509051 [==============================] - 0s 1us/step\n",
      "Epoch 1/20\n",
      "509051/509051 [==============================] - 4s 7us/step - loss: 100.0000 - custom_loss: 100.0000\n",
      "Epoch 2/20\n",
      "509051/509051 [==============================] - 1s 2us/step - loss: 100.0000 - custom_loss: 100.0000\n",
      "Epoch 3/20\n",
      "509051/509051 [==============================] - 1s 2us/step - loss: 100.0000 - custom_loss: 100.0000\n",
      "Epoch 4/20\n",
      "509051/509051 [==============================] - 1s 2us/step - loss: 100.0000 - custom_loss: 100.0000\n",
      "Epoch 5/20\n",
      "509051/509051 [==============================] - 1s 2us/step - loss: 100.0000 - custom_loss: 100.0000\n",
      "Epoch 6/20\n",
      "509051/509051 [==============================] - 1s 2us/step - loss: 100.0000 - custom_loss: 100.0000\n",
      "Epoch 7/20\n",
      "509051/509051 [==============================] - 1s 2us/step - loss: 100.0000 - custom_loss: 100.0000\n",
      "Epoch 8/20\n",
      "509051/509051 [==============================] - 1s 2us/step - loss: 100.0000 - custom_loss: 100.0000\n",
      "Epoch 9/20\n",
      "509051/509051 [==============================] - 1s 3us/step - loss: 100.0000 - custom_loss: 100.0000\n",
      "Epoch 10/20\n",
      "509051/509051 [==============================] - 1s 2us/step - loss: 100.0000 - custom_loss: 100.0000\n",
      "Epoch 11/20\n",
      "509051/509051 [==============================] - 1s 2us/step - loss: 100.0000 - custom_loss: 100.0000A: 0s - loss: 100.0000 - custom_loss:\n",
      "Epoch 12/20\n",
      "509051/509051 [==============================] - 1s 3us/step - loss: 100.0000 - custom_loss: 100.0000\n",
      "Epoch 13/20\n",
      "509051/509051 [==============================] - 1s 2us/step - loss: 100.0000 - custom_loss: 100.0000\n",
      "Epoch 14/20\n",
      "509051/509051 [==============================] - 1s 2us/step - loss: 100.0000 - custom_loss: 100.0000\n",
      "Epoch 15/20\n",
      "509051/509051 [==============================] - 1s 2us/step - loss: 100.0000 - custom_loss: 100.0000\n",
      "Epoch 16/20\n",
      "509051/509051 [==============================] - 1s 2us/step - loss: 100.0000 - custom_loss: 100.0000\n",
      "Epoch 17/20\n",
      "509051/509051 [==============================] - 1s 2us/step - loss: 100.0000 - custom_loss: 100.0000\n",
      "Epoch 18/20\n",
      "509051/509051 [==============================] - 1s 2us/step - loss: 100.0000 - custom_loss: 100.0000\n",
      "Epoch 19/20\n",
      "509051/509051 [==============================] - 1s 3us/step - loss: 100.0000 - custom_loss: 100.0000\n",
      "Epoch 20/20\n",
      "509051/509051 [==============================] - 1s 2us/step - loss: 100.0000 - custom_loss: 100.0000\n",
      "127262/127262 [==============================] - 1s 8us/step\n",
      "509051/509051 [==============================] - 0s 1us/step\n",
      "Epoch 1/20\n",
      "509050/509050 [==============================] - 4s 7us/step - loss: 28.0357 - custom_loss: 28.0357\n",
      "Epoch 2/20\n",
      "509050/509050 [==============================] - 1s 3us/step - loss: 22.6757 - custom_loss: 22.6757\n",
      "Epoch 3/20\n",
      "509050/509050 [==============================] - 1s 2us/step - loss: 22.2659 - custom_loss: 22.2659\n",
      "Epoch 4/20\n",
      "509050/509050 [==============================] - 1s 3us/step - loss: 22.0757 - custom_loss: 22.0757\n",
      "Epoch 5/20\n",
      "509050/509050 [==============================] - 1s 3us/step - loss: 22.0158 - custom_loss: 22.0158\n",
      "Epoch 6/20\n",
      "509050/509050 [==============================] - 1s 3us/step - loss: 21.8777 - custom_loss: 21.8777A: 0s - loss: 21.8300 - custom_loss: 21. - ETA: 0s - loss: 21.9510 - custom_l\n",
      "Epoch 7/20\n",
      "509050/509050 [==============================] - 1s 3us/step - loss: 21.8372 - custom_loss: 21.8372\n",
      "Epoch 8/20\n",
      "509050/509050 [==============================] - 1s 3us/step - loss: 21.8031 - custom_loss: 21.8031\n",
      "Epoch 9/20\n",
      "509050/509050 [==============================] - 1s 3us/step - loss: 21.7637 - custom_loss: 21.7637\n",
      "Epoch 10/20\n",
      "509050/509050 [==============================] - 1s 3us/step - loss: 21.7298 - custom_loss: 21.7298\n",
      "Epoch 11/20\n",
      "509050/509050 [==============================] - 1s 3us/step - loss: 21.6944 - custom_loss: 21.6944\n",
      "Epoch 12/20\n",
      "509050/509050 [==============================] - 1s 3us/step - loss: 21.6801 - custom_loss: 21.6801\n",
      "Epoch 13/20\n",
      "509050/509050 [==============================] - 1s 3us/step - loss: 21.6478 - custom_loss: 21.6478\n",
      "Epoch 14/20\n",
      "509050/509050 [==============================] - 1s 2us/step - loss: 21.6320 - custom_loss: 21.6320\n",
      "Epoch 15/20\n",
      "509050/509050 [==============================] - 1s 3us/step - loss: 21.6025 - custom_loss: 21.6025\n",
      "Epoch 16/20\n",
      "509050/509050 [==============================] - 1s 2us/step - loss: 21.5864 - custom_loss: 21.5864A: 0s - loss: 21.4516 - cus\n",
      "Epoch 17/20\n",
      "509050/509050 [==============================] - 1s 2us/step - loss: 21.5695 - custom_loss: 21.5695\n",
      "Epoch 18/20\n",
      "509050/509050 [==============================] - 1s 3us/step - loss: 21.5555 - custom_loss: 21.5555\n",
      "Epoch 19/20\n",
      "509050/509050 [==============================] - 1s 3us/step - loss: 21.5394 - custom_loss: 21.5394\n",
      "Epoch 20/20\n",
      "509050/509050 [==============================] - 1s 3us/step - loss: 21.5297 - custom_loss: 21.5297\n",
      "127263/127263 [==============================] - 1s 8us/step\n",
      "509050/509050 [==============================] - 0s 1us/step\n",
      "Epoch 1/20\n",
      "509050/509050 [==============================] - 4s 7us/step - loss: 27.1306 - custom_loss: 27.1306\n",
      "Epoch 2/20\n",
      "509050/509050 [==============================] - 1s 3us/step - loss: 22.4897 - custom_loss: 22.4897\n",
      "Epoch 3/20\n",
      "509050/509050 [==============================] - 1s 3us/step - loss: 22.1361 - custom_loss: 22.1361\n",
      "Epoch 4/20\n",
      "509050/509050 [==============================] - 1s 2us/step - loss: 22.0186 - custom_loss: 22.0186A: 0s - loss: 22.2743 - custo\n",
      "Epoch 5/20\n",
      "509050/509050 [==============================] - 1s 3us/step - loss: 21.9124 - custom_loss: 21.9124\n",
      "Epoch 6/20\n",
      "509050/509050 [==============================] - 1s 3us/step - loss: 21.8686 - custom_loss: 21.8686\n",
      "Epoch 7/20\n",
      "509050/509050 [==============================] - 1s 3us/step - loss: 21.7711 - custom_loss: 21.7711\n",
      "Epoch 8/20\n",
      "509050/509050 [==============================] - 1s 3us/step - loss: 21.7331 - custom_loss: 21.7331\n",
      "Epoch 9/20\n",
      "509050/509050 [==============================] - 1s 2us/step - loss: 21.7287 - custom_loss: 21.7287\n",
      "Epoch 10/20\n",
      "509050/509050 [==============================] - 1s 3us/step - loss: 21.6796 - custom_loss: 21.6796\n",
      "Epoch 11/20\n",
      "509050/509050 [==============================] - 1s 2us/step - loss: 21.6366 - custom_loss: 21.6366\n",
      "Epoch 12/20\n",
      "509050/509050 [==============================] - 1s 2us/step - loss: 21.6254 - custom_loss: 21.6254\n",
      "Epoch 13/20\n",
      "509050/509050 [==============================] - 1s 3us/step - loss: 21.6063 - custom_loss: 21.6063\n",
      "Epoch 14/20\n",
      "509050/509050 [==============================] - 1s 2us/step - loss: 21.5765 - custom_loss: 21.5765\n",
      "Epoch 15/20\n",
      "509050/509050 [==============================] - 1s 2us/step - loss: 21.5692 - custom_loss: 21.5692\n",
      "Epoch 16/20\n",
      "509050/509050 [==============================] - 1s 2us/step - loss: 21.5603 - custom_loss: 21.5603\n",
      "Epoch 17/20\n",
      "509050/509050 [==============================] - 1s 2us/step - loss: 21.5204 - custom_loss: 21.5204\n",
      "Epoch 18/20\n",
      "509050/509050 [==============================] - 1s 3us/step - loss: 21.5211 - custom_loss: 21.5211\n",
      "Epoch 19/20\n",
      "509050/509050 [==============================] - 1s 2us/step - loss: 21.5037 - custom_loss: 21.5037\n",
      "Epoch 20/20\n",
      "509050/509050 [==============================] - 1s 2us/step - loss: 21.4756 - custom_loss: 21.4756\n",
      "127263/127263 [==============================] - 1s 8us/step\n",
      "509050/509050 [==============================] - 0s 1us/step\n",
      "Epoch 1/20\n"
     ]
    },
    {
     "name": "stdout",
     "output_type": "stream",
     "text": [
      "509050/509050 [==============================] - 4s 7us/step - loss: 27.5646 - custom_loss: 27.5646\n",
      "Epoch 2/20\n",
      "509050/509050 [==============================] - 1s 3us/step - loss: 22.6429 - custom_loss: 22.6429\n",
      "Epoch 3/20\n",
      "509050/509050 [==============================] - 1s 3us/step - loss: 22.3128 - custom_loss: 22.3128\n",
      "Epoch 4/20\n",
      "509050/509050 [==============================] - 1s 3us/step - loss: 22.1632 - custom_loss: 22.1632A: 0s - loss: 22.1441 - custom\n",
      "Epoch 5/20\n",
      "509050/509050 [==============================] - 1s 3us/step - loss: 22.0592 - custom_loss: 22.0592\n",
      "Epoch 6/20\n",
      "509050/509050 [==============================] - 1s 3us/step - loss: 21.9677 - custom_loss: 21.9677\n",
      "Epoch 7/20\n",
      "509050/509050 [==============================] - 1s 3us/step - loss: 21.9313 - custom_loss: 21.9313\n",
      "Epoch 8/20\n",
      "509050/509050 [==============================] - 1s 3us/step - loss: 21.8704 - custom_loss: 21.8704\n",
      "Epoch 9/20\n",
      "509050/509050 [==============================] - 1s 3us/step - loss: 21.8663 - custom_loss: 21.8663\n",
      "Epoch 10/20\n",
      "509050/509050 [==============================] - 1s 3us/step - loss: 21.7977 - custom_loss: 21.7977\n",
      "Epoch 11/20\n",
      "509050/509050 [==============================] - 1s 2us/step - loss: 21.7920 - custom_loss: 21.7920\n",
      "Epoch 12/20\n",
      "509050/509050 [==============================] - 1s 3us/step - loss: 21.7546 - custom_loss: 21.7546\n",
      "Epoch 13/20\n",
      "509050/509050 [==============================] - 1s 2us/step - loss: 21.7412 - custom_loss: 21.7412\n",
      "Epoch 14/20\n",
      "509050/509050 [==============================] - 1s 3us/step - loss: 21.7153 - custom_loss: 21.7153\n",
      "Epoch 15/20\n",
      "509050/509050 [==============================] - 1s 3us/step - loss: 21.6987 - custom_loss: 21.6987\n",
      "Epoch 16/20\n",
      "509050/509050 [==============================] - 1s 3us/step - loss: 21.6676 - custom_loss: 21.6676\n",
      "Epoch 17/20\n",
      "509050/509050 [==============================] - 1s 2us/step - loss: 21.6556 - custom_loss: 21.6556\n",
      "Epoch 18/20\n",
      "509050/509050 [==============================] - 1s 3us/step - loss: 21.6271 - custom_loss: 21.6271\n",
      "Epoch 19/20\n",
      "509050/509050 [==============================] - 1s 3us/step - loss: 21.6289 - custom_loss: 21.6289\n",
      "Epoch 20/20\n",
      "509050/509050 [==============================] - 1s 3us/step - loss: 21.5971 - custom_loss: 21.5971A: 0s - loss: 21.5661 - cus\n",
      "127263/127263 [==============================] - 1s 8us/step\n",
      "509050/509050 [==============================] - 0s 1us/step\n",
      "Epoch 1/20\n",
      "509051/509051 [==============================] - 4s 7us/step - loss: 27.2392 - custom_loss: 27.2392\n",
      "Epoch 2/20\n",
      "509051/509051 [==============================] - 1s 2us/step - loss: 22.5425 - custom_loss: 22.5425\n",
      "Epoch 3/20\n",
      "509051/509051 [==============================] - 1s 2us/step - loss: 22.2244 - custom_loss: 22.2244\n",
      "Epoch 4/20\n",
      "509051/509051 [==============================] - 1s 2us/step - loss: 22.0630 - custom_loss: 22.0630\n",
      "Epoch 5/20\n",
      "509051/509051 [==============================] - 1s 2us/step - loss: 21.9547 - custom_loss: 21.9547\n",
      "Epoch 6/20\n",
      "509051/509051 [==============================] - 1s 3us/step - loss: 21.8915 - custom_loss: 21.8915\n",
      "Epoch 7/20\n",
      "509051/509051 [==============================] - 1s 3us/step - loss: 21.8444 - custom_loss: 21.8444\n",
      "Epoch 8/20\n",
      "509051/509051 [==============================] - 1s 2us/step - loss: 21.8030 - custom_loss: 21.8030\n",
      "Epoch 9/20\n",
      "509051/509051 [==============================] - 1s 3us/step - loss: 21.7951 - custom_loss: 21.7951\n",
      "Epoch 10/20\n",
      "509051/509051 [==============================] - 1s 3us/step - loss: 21.7429 - custom_loss: 21.7429\n",
      "Epoch 11/20\n",
      "509051/509051 [==============================] - 1s 3us/step - loss: 21.6970 - custom_loss: 21.6970\n",
      "Epoch 12/20\n",
      "509051/509051 [==============================] - 1s 2us/step - loss: 21.6980 - custom_loss: 21.6980\n",
      "Epoch 13/20\n",
      "509051/509051 [==============================] - 1s 3us/step - loss: 21.6510 - custom_loss: 21.6510\n",
      "Epoch 14/20\n",
      "509051/509051 [==============================] - 1s 2us/step - loss: 21.7001 - custom_loss: 21.7001\n",
      "Epoch 15/20\n",
      "509051/509051 [==============================] - 1s 2us/step - loss: 21.6397 - custom_loss: 21.6397\n",
      "Epoch 16/20\n",
      "509051/509051 [==============================] - 1s 3us/step - loss: 21.6180 - custom_loss: 21.6180\n",
      "Epoch 17/20\n",
      "509051/509051 [==============================] - 1s 3us/step - loss: 21.6107 - custom_loss: 21.6107\n",
      "Epoch 18/20\n",
      "509051/509051 [==============================] - 1s 2us/step - loss: 21.5839 - custom_loss: 21.5839\n",
      "Epoch 19/20\n",
      "509051/509051 [==============================] - 1s 2us/step - loss: 21.5678 - custom_loss: 21.5678\n",
      "Epoch 20/20\n",
      "509051/509051 [==============================] - 1s 2us/step - loss: 21.5599 - custom_loss: 21.5599\n",
      "127262/127262 [==============================] - 1s 8us/step\n",
      "509051/509051 [==============================] - 0s 1us/step\n",
      "Epoch 1/20\n",
      "509051/509051 [==============================] - 4s 7us/step - loss: 27.2183 - custom_loss: 27.2183\n",
      "Epoch 2/20\n",
      "509051/509051 [==============================] - 1s 3us/step - loss: 22.5015 - custom_loss: 22.5015\n",
      "Epoch 3/20\n",
      "509051/509051 [==============================] - 1s 3us/step - loss: 22.2105 - custom_loss: 22.2105\n",
      "Epoch 4/20\n",
      "509051/509051 [==============================] - 1s 3us/step - loss: 22.0878 - custom_loss: 22.0878\n",
      "Epoch 5/20\n",
      "509051/509051 [==============================] - 1s 2us/step - loss: 21.9866 - custom_loss: 21.9866\n",
      "Epoch 6/20\n",
      "509051/509051 [==============================] - 1s 2us/step - loss: 21.9248 - custom_loss: 21.9248\n",
      "Epoch 7/20\n",
      "509051/509051 [==============================] - 1s 2us/step - loss: 21.8735 - custom_loss: 21.8735\n",
      "Epoch 8/20\n",
      "509051/509051 [==============================] - 1s 3us/step - loss: 21.8253 - custom_loss: 21.8253\n",
      "Epoch 9/20\n",
      "509051/509051 [==============================] - 1s 2us/step - loss: 21.7711 - custom_loss: 21.7711\n",
      "Epoch 10/20\n",
      "509051/509051 [==============================] - 1s 3us/step - loss: 21.7691 - custom_loss: 21.7691\n",
      "Epoch 11/20\n",
      "509051/509051 [==============================] - 1s 2us/step - loss: 21.7276 - custom_loss: 21.7276\n",
      "Epoch 12/20\n",
      "509051/509051 [==============================] - 1s 2us/step - loss: 21.7062 - custom_loss: 21.7062\n",
      "Epoch 13/20\n",
      "509051/509051 [==============================] - 1s 2us/step - loss: 21.6877 - custom_loss: 21.6877\n",
      "Epoch 14/20\n",
      "509051/509051 [==============================] - 1s 3us/step - loss: 21.6617 - custom_loss: 21.6617\n",
      "Epoch 15/20\n",
      "509051/509051 [==============================] - 1s 2us/step - loss: 21.6371 - custom_loss: 21.6371\n",
      "Epoch 16/20\n",
      "509051/509051 [==============================] - 1s 3us/step - loss: 21.6155 - custom_loss: 21.6155\n",
      "Epoch 17/20\n",
      "509051/509051 [==============================] - 1s 2us/step - loss: 21.6056 - custom_loss: 21.6056\n",
      "Epoch 18/20\n",
      "509051/509051 [==============================] - 1s 3us/step - loss: 21.5852 - custom_loss: 21.5852\n",
      "Epoch 19/20\n",
      "509051/509051 [==============================] - 1s 2us/step - loss: 21.5639 - custom_loss: 21.5639\n",
      "Epoch 20/20\n",
      "509051/509051 [==============================] - 1s 2us/step - loss: 21.5689 - custom_loss: 21.5689\n",
      "127262/127262 [==============================] - 1s 9us/step\n",
      "509051/509051 [==============================] - 0s 1us/step\n",
      "Epoch 1/20\n",
      "509050/509050 [==============================] - 4s 7us/step - loss: 27.8851 - custom_loss: 27.8851TA: 7s - loss: 38.8659 - cus\n",
      "Epoch 2/20\n",
      "509050/509050 [==============================] - 1s 3us/step - loss: 22.3804 - custom_loss: 22.3804\n",
      "Epoch 3/20\n",
      "509050/509050 [==============================] - 1s 2us/step - loss: 22.0682 - custom_loss: 22.0682\n",
      "Epoch 4/20\n",
      "509050/509050 [==============================] - 1s 3us/step - loss: 21.9440 - custom_loss: 21.9440\n",
      "Epoch 5/20\n",
      "509050/509050 [==============================] - 1s 3us/step - loss: 21.8756 - custom_loss: 21.8756\n",
      "Epoch 6/20\n",
      "509050/509050 [==============================] - 1s 2us/step - loss: 21.8093 - custom_loss: 21.8093\n",
      "Epoch 7/20\n",
      "509050/509050 [==============================] - 1s 3us/step - loss: 21.7634 - custom_loss: 21.7634\n",
      "Epoch 8/20\n",
      "509050/509050 [==============================] - 1s 3us/step - loss: 21.7326 - custom_loss: 21.7326\n",
      "Epoch 9/20\n",
      "509050/509050 [==============================] - 1s 3us/step - loss: 21.6984 - custom_loss: 21.6984\n",
      "Epoch 10/20\n"
     ]
    },
    {
     "name": "stdout",
     "output_type": "stream",
     "text": [
      "509050/509050 [==============================] - 1s 3us/step - loss: 21.6781 - custom_loss: 21.6781\n",
      "Epoch 11/20\n",
      "509050/509050 [==============================] - 1s 2us/step - loss: 21.6653 - custom_loss: 21.6653\n",
      "Epoch 12/20\n",
      "509050/509050 [==============================] - 1s 2us/step - loss: 21.6447 - custom_loss: 21.6447\n",
      "Epoch 13/20\n",
      "509050/509050 [==============================] - 1s 3us/step - loss: 21.6250 - custom_loss: 21.6250A: 0s - loss: 21.5261 - custom_lo\n",
      "Epoch 14/20\n",
      "509050/509050 [==============================] - 1s 3us/step - loss: 21.6105 - custom_loss: 21.6105\n",
      "Epoch 15/20\n",
      "509050/509050 [==============================] - 1s 3us/step - loss: 21.5996 - custom_loss: 21.5996\n",
      "Epoch 16/20\n",
      "509050/509050 [==============================] - 1s 3us/step - loss: 21.5915 - custom_loss: 21.5915\n",
      "Epoch 17/20\n",
      "509050/509050 [==============================] - 1s 3us/step - loss: 21.5730 - custom_loss: 21.5730\n",
      "Epoch 18/20\n",
      "509050/509050 [==============================] - 1s 3us/step - loss: 21.5605 - custom_loss: 21.5605\n",
      "Epoch 19/20\n",
      "509050/509050 [==============================] - 1s 2us/step - loss: 21.5531 - custom_loss: 21.5531\n",
      "Epoch 20/20\n",
      "509050/509050 [==============================] - 1s 3us/step - loss: 21.5442 - custom_loss: 21.5442\n",
      "127263/127263 [==============================] - 1s 9us/step\n",
      "509050/509050 [==============================] - 0s 1us/step\n",
      "Epoch 1/20\n",
      "509050/509050 [==============================] - 4s 7us/step - loss: 27.9148 - custom_loss: 27.9148\n",
      "Epoch 2/20\n",
      "509050/509050 [==============================] - 1s 3us/step - loss: 22.6964 - custom_loss: 22.6964\n",
      "Epoch 3/20\n",
      "509050/509050 [==============================] - 1s 3us/step - loss: 22.3771 - custom_loss: 22.3771\n",
      "Epoch 4/20\n",
      "509050/509050 [==============================] - 1s 3us/step - loss: 22.2228 - custom_loss: 22.2228\n",
      "Epoch 5/20\n",
      "509050/509050 [==============================] - 1s 3us/step - loss: 22.1068 - custom_loss: 22.1068\n",
      "Epoch 6/20\n",
      "509050/509050 [==============================] - 1s 3us/step - loss: 22.0168 - custom_loss: 22.0168\n",
      "Epoch 7/20\n",
      "509050/509050 [==============================] - 1s 3us/step - loss: 21.9690 - custom_loss: 21.9690\n",
      "Epoch 8/20\n",
      "509050/509050 [==============================] - 1s 3us/step - loss: 21.9079 - custom_loss: 21.9079\n",
      "Epoch 9/20\n",
      "509050/509050 [==============================] - 1s 3us/step - loss: 21.9005 - custom_loss: 21.9005\n",
      "Epoch 10/20\n",
      "509050/509050 [==============================] - 1s 3us/step - loss: 21.8492 - custom_loss: 21.8492\n",
      "Epoch 11/20\n",
      "509050/509050 [==============================] - 1s 3us/step - loss: 21.8282 - custom_loss: 21.8282\n",
      "Epoch 12/20\n",
      "509050/509050 [==============================] - 1s 3us/step - loss: 21.7789 - custom_loss: 21.7789\n",
      "Epoch 13/20\n",
      "509050/509050 [==============================] - 1s 3us/step - loss: 21.7872 - custom_loss: 21.7872\n",
      "Epoch 14/20\n",
      "509050/509050 [==============================] - 1s 3us/step - loss: 21.7535 - custom_loss: 21.7535\n",
      "Epoch 15/20\n",
      "509050/509050 [==============================] - 1s 2us/step - loss: 21.7339 - custom_loss: 21.7339\n",
      "Epoch 16/20\n",
      "509050/509050 [==============================] - 1s 3us/step - loss: 21.7067 - custom_loss: 21.7067\n",
      "Epoch 17/20\n",
      "509050/509050 [==============================] - 1s 2us/step - loss: 21.6793 - custom_loss: 21.6793\n",
      "Epoch 18/20\n",
      "509050/509050 [==============================] - 1s 2us/step - loss: 21.6683 - custom_loss: 21.6683\n",
      "Epoch 19/20\n",
      "509050/509050 [==============================] - 1s 3us/step - loss: 21.6420 - custom_loss: 21.6420\n",
      "Epoch 20/20\n",
      "509050/509050 [==============================] - 1s 3us/step - loss: 21.6203 - custom_loss: 21.6203\n",
      "127263/127263 [==============================] - 1s 9us/step\n",
      "509050/509050 [==============================] - 0s 1us/step\n",
      "Epoch 1/20\n",
      "509050/509050 [==============================] - 4s 8us/step - loss: 27.5582 - custom_loss: 27.5582\n",
      "Epoch 2/20\n",
      "509050/509050 [==============================] - ETA: 0s - loss: 22.9036 - custom_loss: 22.903 - 1s 2us/step - loss: 22.8881 - custom_loss: 22.8881\n",
      "Epoch 3/20\n",
      "509050/509050 [==============================] - 1s 3us/step - loss: 22.5071 - custom_loss: 22.5071\n",
      "Epoch 4/20\n",
      "509050/509050 [==============================] - 1s 3us/step - loss: 22.3387 - custom_loss: 22.3387\n",
      "Epoch 5/20\n",
      "509050/509050 [==============================] - 1s 2us/step - loss: 22.2321 - custom_loss: 22.2321\n",
      "Epoch 6/20\n",
      "509050/509050 [==============================] - 1s 3us/step - loss: 22.1408 - custom_loss: 22.1408\n",
      "Epoch 7/20\n",
      "509050/509050 [==============================] - 1s 2us/step - loss: 22.0876 - custom_loss: 22.0876\n",
      "Epoch 8/20\n",
      "509050/509050 [==============================] - 1s 3us/step - loss: 22.0430 - custom_loss: 22.0430\n",
      "Epoch 9/20\n",
      "509050/509050 [==============================] - 1s 3us/step - loss: 21.9946 - custom_loss: 21.9946\n",
      "Epoch 10/20\n",
      "509050/509050 [==============================] - 1s 3us/step - loss: 21.9716 - custom_loss: 21.9716\n",
      "Epoch 11/20\n",
      "509050/509050 [==============================] - 1s 2us/step - loss: 21.9146 - custom_loss: 21.9146\n",
      "Epoch 12/20\n",
      "509050/509050 [==============================] - 1s 3us/step - loss: 21.9120 - custom_loss: 21.9120\n",
      "Epoch 13/20\n",
      "509050/509050 [==============================] - 1s 3us/step - loss: 21.8655 - custom_loss: 21.8655\n",
      "Epoch 14/20\n",
      "509050/509050 [==============================] - 1s 3us/step - loss: 21.8460 - custom_loss: 21.8460\n",
      "Epoch 15/20\n",
      "509050/509050 [==============================] - 1s 2us/step - loss: 21.8237 - custom_loss: 21.8237\n",
      "Epoch 16/20\n",
      "509050/509050 [==============================] - 1s 3us/step - loss: 21.8050 - custom_loss: 21.8050\n",
      "Epoch 17/20\n",
      "509050/509050 [==============================] - 1s 2us/step - loss: 21.7793 - custom_loss: 21.7793\n",
      "Epoch 18/20\n",
      "509050/509050 [==============================] - 1s 3us/step - loss: 21.7635 - custom_loss: 21.7635\n",
      "Epoch 19/20\n",
      "509050/509050 [==============================] - 1s 2us/step - loss: 21.7462 - custom_loss: 21.7462\n",
      "Epoch 20/20\n",
      "509050/509050 [==============================] - 1s 3us/step - loss: 21.7280 - custom_loss: 21.7280A: 0s - loss: 21.7109 - custom_loss\n",
      "127263/127263 [==============================] - 1s 9us/step\n",
      "509050/509050 [==============================] - 0s 1us/step\n",
      "Epoch 1/20\n",
      "509051/509051 [==============================] - 4s 8us/step - loss: 27.5955 - custom_loss: 27.5955\n",
      "Epoch 2/20\n",
      "509051/509051 [==============================] - 1s 3us/step - loss: 22.7911 - custom_loss: 22.7911\n",
      "Epoch 3/20\n",
      "509051/509051 [==============================] - 1s 3us/step - loss: 22.4529 - custom_loss: 22.4529\n",
      "Epoch 4/20\n",
      "509051/509051 [==============================] - 1s 3us/step - loss: 22.2793 - custom_loss: 22.2793\n",
      "Epoch 5/20\n",
      "509051/509051 [==============================] - 1s 3us/step - loss: 22.1643 - custom_loss: 22.1643\n",
      "Epoch 6/20\n",
      "509051/509051 [==============================] - 1s 2us/step - loss: 22.0913 - custom_loss: 22.0913\n",
      "Epoch 7/20\n",
      "509051/509051 [==============================] - 1s 3us/step - loss: 22.0393 - custom_loss: 22.0393\n",
      "Epoch 8/20\n",
      "509051/509051 [==============================] - 1s 2us/step - loss: 21.9687 - custom_loss: 21.9687\n",
      "Epoch 9/20\n",
      "509051/509051 [==============================] - 1s 3us/step - loss: 21.9203 - custom_loss: 21.9203A: 0s - loss: 21.8561 - custom_loss\n",
      "Epoch 10/20\n",
      "509051/509051 [==============================] - 1s 3us/step - loss: 21.9041 - custom_loss: 21.9041\n",
      "Epoch 11/20\n",
      "509051/509051 [==============================] - 1s 3us/step - loss: 21.8457 - custom_loss: 21.8457\n",
      "Epoch 12/20\n",
      "509051/509051 [==============================] - 1s 3us/step - loss: 21.8235 - custom_loss: 21.8235\n",
      "Epoch 13/20\n",
      "509051/509051 [==============================] - 1s 3us/step - loss: 21.7805 - custom_loss: 21.7805A: 0s - loss: 21.7277 - custom_loss: \n",
      "Epoch 14/20\n",
      "509051/509051 [==============================] - 1s 3us/step - loss: 21.7568 - custom_loss: 21.7568\n",
      "Epoch 15/20\n",
      "509051/509051 [==============================] - 1s 3us/step - loss: 21.7278 - custom_loss: 21.7278\n",
      "Epoch 16/20\n",
      "509051/509051 [==============================] - 1s 3us/step - loss: 21.7201 - custom_loss: 21.7201\n",
      "Epoch 17/20\n",
      "509051/509051 [==============================] - 1s 2us/step - loss: 21.6811 - custom_loss: 21.6811\n",
      "Epoch 18/20\n"
     ]
    },
    {
     "name": "stdout",
     "output_type": "stream",
     "text": [
      "509051/509051 [==============================] - 1s 3us/step - loss: 21.6681 - custom_loss: 21.6681\n",
      "Epoch 19/20\n",
      "509051/509051 [==============================] - 1s 3us/step - loss: 21.6490 - custom_loss: 21.6490\n",
      "Epoch 20/20\n",
      "509051/509051 [==============================] - 1s 2us/step - loss: 21.6421 - custom_loss: 21.6421\n",
      "127262/127262 [==============================] - 1s 9us/step\n",
      "509051/509051 [==============================] - 0s 1us/step\n",
      "Epoch 1/20\n",
      "509051/509051 [==============================] - 4s 8us/step - loss: 100.0000 - custom_loss: 100.0000\n",
      "Epoch 2/20\n",
      "509051/509051 [==============================] - 1s 2us/step - loss: 100.0000 - custom_loss: 100.0000\n",
      "Epoch 3/20\n",
      "509051/509051 [==============================] - 1s 2us/step - loss: 100.0000 - custom_loss: 100.0000\n",
      "Epoch 4/20\n",
      "509051/509051 [==============================] - 1s 2us/step - loss: 100.0000 - custom_loss: 100.0000\n",
      "Epoch 5/20\n",
      "509051/509051 [==============================] - 1s 2us/step - loss: 100.0000 - custom_loss: 100.0000\n",
      "Epoch 6/20\n",
      "509051/509051 [==============================] - 1s 2us/step - loss: 100.0000 - custom_loss: 100.0000\n",
      "Epoch 7/20\n",
      "509051/509051 [==============================] - 1s 3us/step - loss: 100.0000 - custom_loss: 100.0000\n",
      "Epoch 8/20\n",
      "509051/509051 [==============================] - 1s 3us/step - loss: 100.0000 - custom_loss: 100.0000\n",
      "Epoch 9/20\n",
      "509051/509051 [==============================] - 1s 2us/step - loss: 100.0000 - custom_loss: 100.0000\n",
      "Epoch 10/20\n",
      "509051/509051 [==============================] - 1s 2us/step - loss: 100.0000 - custom_loss: 100.0000\n",
      "Epoch 11/20\n",
      "509051/509051 [==============================] - 1s 2us/step - loss: 100.0000 - custom_loss: 100.0000A: 0s - loss: 100.0000 - custom_loss:\n",
      "Epoch 12/20\n",
      "509051/509051 [==============================] - 1s 2us/step - loss: 100.0000 - custom_loss: 100.0000\n",
      "Epoch 13/20\n",
      "509051/509051 [==============================] - 1s 2us/step - loss: 100.0000 - custom_loss: 100.0000\n",
      "Epoch 14/20\n",
      "509051/509051 [==============================] - 1s 2us/step - loss: 100.0000 - custom_loss: 100.0000\n",
      "Epoch 15/20\n",
      "509051/509051 [==============================] - 1s 3us/step - loss: 100.0000 - custom_loss: 100.0000\n",
      "Epoch 16/20\n",
      "509051/509051 [==============================] - 1s 3us/step - loss: 100.0000 - custom_loss: 100.0000\n",
      "Epoch 17/20\n",
      "509051/509051 [==============================] - 1s 2us/step - loss: 100.0000 - custom_loss: 100.0000A: 0s - loss: 100.0000 - custom_loss:  - ETA: 0s - loss: 100.0000 - custom_loss: 100.00\n",
      "Epoch 18/20\n",
      "509051/509051 [==============================] - 1s 3us/step - loss: 100.0000 - custom_loss: 100.0000\n",
      "Epoch 19/20\n",
      "509051/509051 [==============================] - 1s 2us/step - loss: 100.0000 - custom_loss: 100.0000\n",
      "Epoch 20/20\n",
      "509051/509051 [==============================] - 1s 3us/step - loss: 100.0000 - custom_loss: 100.0000\n",
      "127262/127262 [==============================] - 1s 10us/step\n",
      "509051/509051 [==============================] - 0s 1us/step\n",
      "Epoch 1/20\n",
      "509050/509050 [==============================] - 4s 8us/step - loss: 28.2209 - custom_loss: 28.2209\n",
      "Epoch 2/20\n",
      "509050/509050 [==============================] - 1s 3us/step - loss: 22.5002 - custom_loss: 22.5002\n",
      "Epoch 3/20\n",
      "509050/509050 [==============================] - 1s 3us/step - loss: 22.1902 - custom_loss: 22.1902\n",
      "Epoch 4/20\n",
      "509050/509050 [==============================] - 1s 3us/step - loss: 22.0524 - custom_loss: 22.0524\n",
      "Epoch 5/20\n",
      "509050/509050 [==============================] - 1s 3us/step - loss: 21.9741 - custom_loss: 21.9741\n",
      "Epoch 6/20\n",
      "509050/509050 [==============================] - 1s 3us/step - loss: 21.9160 - custom_loss: 21.9160\n",
      "Epoch 7/20\n",
      "509050/509050 [==============================] - 1s 2us/step - loss: 21.8673 - custom_loss: 21.8673\n",
      "Epoch 8/20\n",
      "509050/509050 [==============================] - 1s 3us/step - loss: 21.8269 - custom_loss: 21.8269\n",
      "Epoch 9/20\n",
      "509050/509050 [==============================] - 1s 3us/step - loss: 21.7900 - custom_loss: 21.7900\n",
      "Epoch 10/20\n",
      "509050/509050 [==============================] - 1s 3us/step - loss: 21.7590 - custom_loss: 21.7590\n",
      "Epoch 11/20\n",
      "509050/509050 [==============================] - 1s 3us/step - loss: 21.7351 - custom_loss: 21.7351\n",
      "Epoch 12/20\n",
      "509050/509050 [==============================] - 1s 2us/step - loss: 21.6971 - custom_loss: 21.6971\n",
      "Epoch 13/20\n",
      "509050/509050 [==============================] - 1s 3us/step - loss: 21.6837 - custom_loss: 21.6837\n",
      "Epoch 14/20\n",
      "509050/509050 [==============================] - 1s 3us/step - loss: 21.6634 - custom_loss: 21.6634\n",
      "Epoch 15/20\n",
      "509050/509050 [==============================] - 1s 3us/step - loss: 21.6373 - custom_loss: 21.6373A: 0s - loss: 21.5841 - custom_loss: 21 - ETA: 0s - loss: 21.5839 - custom_loss:\n",
      "Epoch 16/20\n",
      "509050/509050 [==============================] - 1s 3us/step - loss: 21.6266 - custom_loss: 21.6266\n",
      "Epoch 17/20\n",
      "509050/509050 [==============================] - 1s 3us/step - loss: 21.6092 - custom_loss: 21.6092\n",
      "Epoch 18/20\n",
      "509050/509050 [==============================] - 1s 3us/step - loss: 21.5903 - custom_loss: 21.5903\n",
      "Epoch 19/20\n",
      "509050/509050 [==============================] - 1s 3us/step - loss: 21.5763 - custom_loss: 21.5763\n",
      "Epoch 20/20\n",
      "509050/509050 [==============================] - 1s 3us/step - loss: 21.5616 - custom_loss: 21.5616\n",
      "127263/127263 [==============================] - 1s 9us/step\n",
      "509050/509050 [==============================] - 0s 1us/step\n",
      "Epoch 1/20\n",
      "509050/509050 [==============================] - 4s 8us/step - loss: 100.0000 - custom_loss: 100.0000\n",
      "Epoch 2/20\n",
      "509050/509050 [==============================] - 1s 3us/step - loss: 100.0000 - custom_loss: 100.0000\n",
      "Epoch 3/20\n",
      "509050/509050 [==============================] - 1s 3us/step - loss: 100.0000 - custom_loss: 100.0000\n",
      "Epoch 4/20\n",
      "509050/509050 [==============================] - 1s 3us/step - loss: 100.0000 - custom_loss: 100.0000\n",
      "Epoch 5/20\n",
      "509050/509050 [==============================] - 1s 3us/step - loss: 100.0000 - custom_loss: 100.0000\n",
      "Epoch 6/20\n",
      "509050/509050 [==============================] - 1s 3us/step - loss: 100.0000 - custom_loss: 100.0000\n",
      "Epoch 7/20\n",
      "509050/509050 [==============================] - 1s 3us/step - loss: 100.0000 - custom_loss: 100.0000\n",
      "Epoch 8/20\n",
      "509050/509050 [==============================] - 1s 3us/step - loss: 100.0000 - custom_loss: 100.0000\n",
      "Epoch 9/20\n",
      "509050/509050 [==============================] - ETA: 0s - loss: 100.0000 - custom_loss: 100.000 - 1s 3us/step - loss: 100.0000 - custom_loss: 100.0000\n",
      "Epoch 10/20\n",
      "509050/509050 [==============================] - 1s 3us/step - loss: 100.0000 - custom_loss: 100.0000\n",
      "Epoch 11/20\n",
      "509050/509050 [==============================] - 1s 2us/step - loss: 100.0000 - custom_loss: 100.0000\n",
      "Epoch 12/20\n",
      "509050/509050 [==============================] - 1s 3us/step - loss: 100.0000 - custom_loss: 100.0000\n",
      "Epoch 13/20\n",
      "509050/509050 [==============================] - 1s 3us/step - loss: 100.0000 - custom_loss: 100.0000\n",
      "Epoch 14/20\n",
      "509050/509050 [==============================] - 1s 3us/step - loss: 100.0000 - custom_loss: 100.0000\n",
      "Epoch 15/20\n",
      "509050/509050 [==============================] - 1s 3us/step - loss: 100.0000 - custom_loss: 100.0000\n",
      "Epoch 16/20\n",
      "509050/509050 [==============================] - 1s 3us/step - loss: 100.0000 - custom_loss: 100.0000\n",
      "Epoch 17/20\n",
      "509050/509050 [==============================] - 1s 3us/step - loss: 100.0000 - custom_loss: 100.0000\n",
      "Epoch 18/20\n",
      "509050/509050 [==============================] - 1s 3us/step - loss: 100.0000 - custom_loss: 100.0000\n",
      "Epoch 19/20\n",
      "509050/509050 [==============================] - 1s 3us/step - loss: 100.0000 - custom_loss: 100.0000\n",
      "Epoch 20/20\n",
      "509050/509050 [==============================] - 1s 3us/step - loss: 100.0000 - custom_loss: 100.0000\n",
      "127263/127263 [==============================] - 1s 9us/step\n",
      "509050/509050 [==============================] - 0s 1us/step\n",
      "Epoch 1/20\n",
      "509050/509050 [==============================] - 4s 8us/step - loss: 27.7884 - custom_loss: 27.7884\n",
      "Epoch 2/20\n",
      "509050/509050 [==============================] - 1s 3us/step - loss: 22.6082 - custom_loss: 22.6082\n",
      "Epoch 3/20\n",
      "509050/509050 [==============================] - 1s 3us/step - loss: 22.3269 - custom_loss: 22.3269\n",
      "Epoch 4/20\n"
     ]
    },
    {
     "name": "stdout",
     "output_type": "stream",
     "text": [
      "509050/509050 [==============================] - 1s 3us/step - loss: 22.1690 - custom_loss: 22.1690\n",
      "Epoch 5/20\n",
      "509050/509050 [==============================] - 1s 2us/step - loss: 22.0779 - custom_loss: 22.0779\n",
      "Epoch 6/20\n",
      "509050/509050 [==============================] - 1s 2us/step - loss: 22.0266 - custom_loss: 22.0266\n",
      "Epoch 7/20\n",
      "509050/509050 [==============================] - 1s 3us/step - loss: 21.9646 - custom_loss: 21.9646\n",
      "Epoch 8/20\n",
      "509050/509050 [==============================] - 1s 3us/step - loss: 21.9126 - custom_loss: 21.9126\n",
      "Epoch 9/20\n",
      "509050/509050 [==============================] - 1s 3us/step - loss: 21.8742 - custom_loss: 21.8742\n",
      "Epoch 10/20\n",
      "509050/509050 [==============================] - 1s 3us/step - loss: 21.8522 - custom_loss: 21.8522A: 0s - loss: 21.8911 - custom_lo\n",
      "Epoch 11/20\n",
      "509050/509050 [==============================] - 1s 3us/step - loss: 21.8061 - custom_loss: 21.8061\n",
      "Epoch 12/20\n",
      "509050/509050 [==============================] - 1s 2us/step - loss: 21.7926 - custom_loss: 21.7926\n",
      "Epoch 13/20\n",
      "509050/509050 [==============================] - 1s 2us/step - loss: 21.7593 - custom_loss: 21.7593\n",
      "Epoch 14/20\n",
      "509050/509050 [==============================] - 1s 2us/step - loss: 21.7433 - custom_loss: 21.7433\n",
      "Epoch 15/20\n",
      "509050/509050 [==============================] - 1s 3us/step - loss: 21.7129 - custom_loss: 21.7129\n",
      "Epoch 16/20\n",
      "509050/509050 [==============================] - 1s 3us/step - loss: 21.7252 - custom_loss: 21.7252\n",
      "Epoch 17/20\n",
      "509050/509050 [==============================] - 1s 3us/step - loss: 21.6713 - custom_loss: 21.6713\n",
      "Epoch 18/20\n",
      "509050/509050 [==============================] - 1s 3us/step - loss: 21.6546 - custom_loss: 21.6546\n",
      "Epoch 19/20\n",
      "509050/509050 [==============================] - 1s 3us/step - loss: 21.6593 - custom_loss: 21.6593\n",
      "Epoch 20/20\n",
      "509050/509050 [==============================] - 1s 3us/step - loss: 21.6410 - custom_loss: 21.6410\n",
      "127263/127263 [==============================] - 1s 9us/step\n",
      "509050/509050 [==============================] - 0s 1us/step\n",
      "Epoch 1/20\n",
      "509051/509051 [==============================] - 4s 8us/step - loss: 29.6700 - custom_loss: 29.6700\n",
      "Epoch 2/20\n",
      "509051/509051 [==============================] - 1s 3us/step - loss: 22.7832 - custom_loss: 22.7832\n",
      "Epoch 3/20\n",
      "509051/509051 [==============================] - 1s 3us/step - loss: 22.3200 - custom_loss: 22.3200A: 0s - loss: 22.3577 - cust\n",
      "Epoch 4/20\n",
      "509051/509051 [==============================] - 1s 3us/step - loss: 22.1718 - custom_loss: 22.1718\n",
      "Epoch 5/20\n",
      "509051/509051 [==============================] - 1s 3us/step - loss: 22.0596 - custom_loss: 22.0596\n",
      "Epoch 6/20\n",
      "509051/509051 [==============================] - 1s 3us/step - loss: 22.0086 - custom_loss: 22.0086\n",
      "Epoch 7/20\n",
      "509051/509051 [==============================] - 1s 3us/step - loss: 21.9408 - custom_loss: 21.9408\n",
      "Epoch 8/20\n",
      "509051/509051 [==============================] - 1s 3us/step - loss: 21.9074 - custom_loss: 21.9074\n",
      "Epoch 9/20\n",
      "509051/509051 [==============================] - 1s 3us/step - loss: 21.8724 - custom_loss: 21.8724\n",
      "Epoch 10/20\n",
      "509051/509051 [==============================] - 1s 3us/step - loss: 21.8459 - custom_loss: 21.8459\n",
      "Epoch 11/20\n",
      "509051/509051 [==============================] - 1s 3us/step - loss: 21.8241 - custom_loss: 21.8241\n",
      "Epoch 12/20\n",
      "509051/509051 [==============================] - 1s 3us/step - loss: 21.7978 - custom_loss: 21.7978\n",
      "Epoch 13/20\n",
      "509051/509051 [==============================] - 1s 3us/step - loss: 21.7809 - custom_loss: 21.7809\n",
      "Epoch 14/20\n",
      "509051/509051 [==============================] - 1s 3us/step - loss: 21.7604 - custom_loss: 21.7604\n",
      "Epoch 15/20\n",
      "509051/509051 [==============================] - 1s 3us/step - loss: 21.7604 - custom_loss: 21.7604\n",
      "Epoch 16/20\n",
      "509051/509051 [==============================] - 1s 3us/step - loss: 21.7248 - custom_loss: 21.7248\n",
      "Epoch 17/20\n",
      "509051/509051 [==============================] - 1s 3us/step - loss: 21.7180 - custom_loss: 21.7180\n",
      "Epoch 18/20\n",
      "509051/509051 [==============================] - 1s 3us/step - loss: 21.7018 - custom_loss: 21.7018\n",
      "Epoch 19/20\n",
      "509051/509051 [==============================] - 1s 3us/step - loss: 21.6899 - custom_loss: 21.6899\n",
      "Epoch 20/20\n",
      "509051/509051 [==============================] - 1s 3us/step - loss: 21.6807 - custom_loss: 21.6807\n",
      "127262/127262 [==============================] - 1s 9us/step\n",
      "509051/509051 [==============================] - 1s 1us/step\n",
      "Epoch 1/20\n",
      "509051/509051 [==============================] - 4s 8us/step - loss: 28.2965 - custom_loss: 28.2965\n",
      "Epoch 2/20\n",
      "509051/509051 [==============================] - 1s 3us/step - loss: 22.6257 - custom_loss: 22.6257\n",
      "Epoch 3/20\n",
      "509051/509051 [==============================] - 1s 3us/step - loss: 22.2499 - custom_loss: 22.2499\n",
      "Epoch 4/20\n",
      "509051/509051 [==============================] - 1s 3us/step - loss: 22.1172 - custom_loss: 22.1172\n",
      "Epoch 5/20\n",
      "509051/509051 [==============================] - 1s 3us/step - loss: 22.0083 - custom_loss: 22.0083\n",
      "Epoch 6/20\n",
      "509051/509051 [==============================] - 1s 3us/step - loss: 21.9448 - custom_loss: 21.9448\n",
      "Epoch 7/20\n",
      "509051/509051 [==============================] - 1s 3us/step - loss: 21.9015 - custom_loss: 21.9015\n",
      "Epoch 8/20\n",
      "509051/509051 [==============================] - 1s 3us/step - loss: 21.8392 - custom_loss: 21.8392\n",
      "Epoch 9/20\n",
      "509051/509051 [==============================] - 1s 3us/step - loss: 21.8165 - custom_loss: 21.8165\n",
      "Epoch 10/20\n",
      "509051/509051 [==============================] - 1s 3us/step - loss: 21.7804 - custom_loss: 21.7804\n",
      "Epoch 11/20\n",
      "509051/509051 [==============================] - 1s 3us/step - loss: 21.7630 - custom_loss: 21.7630A: 0s - loss: 21.7567 - custom_loss: \n",
      "Epoch 12/20\n",
      "509051/509051 [==============================] - 1s 3us/step - loss: 21.7344 - custom_loss: 21.7344\n",
      "Epoch 13/20\n",
      "509051/509051 [==============================] - 1s 3us/step - loss: 21.7318 - custom_loss: 21.7318\n",
      "Epoch 14/20\n",
      "509051/509051 [==============================] - 1s 3us/step - loss: 21.7009 - custom_loss: 21.7009\n",
      "Epoch 15/20\n",
      "509051/509051 [==============================] - 1s 3us/step - loss: 21.6761 - custom_loss: 21.6761\n",
      "Epoch 16/20\n",
      "509051/509051 [==============================] - 1s 3us/step - loss: 21.6752 - custom_loss: 21.6752\n",
      "Epoch 17/20\n",
      "509051/509051 [==============================] - 1s 2us/step - loss: 21.6584 - custom_loss: 21.6584\n",
      "Epoch 18/20\n",
      "509051/509051 [==============================] - 1s 3us/step - loss: 21.6330 - custom_loss: 21.6330\n",
      "Epoch 19/20\n",
      "509051/509051 [==============================] - 1s 3us/step - loss: 21.6277 - custom_loss: 21.6277\n",
      "Epoch 20/20\n",
      "509051/509051 [==============================] - 1s 3us/step - loss: 21.6220 - custom_loss: 21.6220A: 0s - loss: 21.6007 - custom_loss:\n",
      "127262/127262 [==============================] - 1s 10us/step\n",
      "509051/509051 [==============================] - 1s 1us/step\n",
      "Epoch 1/20\n",
      "509050/509050 [==============================] - 4s 8us/step - loss: 27.4102 - custom_loss: 27.4102\n",
      "Epoch 2/20\n",
      "509050/509050 [==============================] - 1s 3us/step - loss: 22.6291 - custom_loss: 22.6291\n",
      "Epoch 3/20\n",
      "509050/509050 [==============================] - 1s 3us/step - loss: 22.2803 - custom_loss: 22.2803\n",
      "Epoch 4/20\n",
      "509050/509050 [==============================] - 1s 3us/step - loss: 22.0709 - custom_loss: 22.0709\n",
      "Epoch 5/20\n",
      "509050/509050 [==============================] - 1s 3us/step - loss: 21.9644 - custom_loss: 21.9644\n",
      "Epoch 6/20\n",
      "509050/509050 [==============================] - 1s 3us/step - loss: 21.8810 - custom_loss: 21.8810\n",
      "Epoch 7/20\n",
      "509050/509050 [==============================] - 1s 3us/step - loss: 21.8188 - custom_loss: 21.8188\n",
      "Epoch 8/20\n",
      "509050/509050 [==============================] - 1s 3us/step - loss: 21.8057 - custom_loss: 21.8057\n",
      "Epoch 9/20\n",
      "509050/509050 [==============================] - 1s 3us/step - loss: 21.7545 - custom_loss: 21.7545\n",
      "Epoch 10/20\n",
      "509050/509050 [==============================] - 1s 3us/step - loss: 21.7194 - custom_loss: 21.7194\n",
      "Epoch 11/20\n",
      "509050/509050 [==============================] - 1s 3us/step - loss: 21.6966 - custom_loss: 21.6966\n",
      "Epoch 12/20\n",
      "509050/509050 [==============================] - 1s 3us/step - loss: 21.6758 - custom_loss: 21.6758\n",
      "Epoch 13/20\n"
     ]
    },
    {
     "name": "stdout",
     "output_type": "stream",
     "text": [
      "509050/509050 [==============================] - 1s 3us/step - loss: 21.6465 - custom_loss: 21.6465\n",
      "Epoch 14/20\n",
      "509050/509050 [==============================] - 1s 3us/step - loss: 21.6331 - custom_loss: 21.6331\n",
      "Epoch 15/20\n",
      "509050/509050 [==============================] - 1s 3us/step - loss: 21.6114 - custom_loss: 21.6114\n",
      "Epoch 16/20\n",
      "509050/509050 [==============================] - 1s 3us/step - loss: 21.5988 - custom_loss: 21.5988\n",
      "Epoch 17/20\n",
      "509050/509050 [==============================] - 1s 3us/step - loss: 21.5907 - custom_loss: 21.5907\n",
      "Epoch 18/20\n",
      "509050/509050 [==============================] - 1s 3us/step - loss: 21.5710 - custom_loss: 21.5710\n",
      "Epoch 19/20\n",
      "509050/509050 [==============================] - 1s 3us/step - loss: 21.5578 - custom_loss: 21.5578\n",
      "Epoch 20/20\n",
      "509050/509050 [==============================] - 1s 3us/step - loss: 21.5432 - custom_loss: 21.5432\n",
      "127263/127263 [==============================] - 1s 10us/step\n",
      "509050/509050 [==============================] - 0s 1us/step\n",
      "Epoch 1/20\n",
      "509050/509050 [==============================] - 4s 8us/step - loss: 27.4857 - custom_loss: 27.4857\n",
      "Epoch 2/20\n",
      "509050/509050 [==============================] - 1s 3us/step - loss: 22.4652 - custom_loss: 22.4652\n",
      "Epoch 3/20\n",
      "509050/509050 [==============================] - 1s 3us/step - loss: 22.1946 - custom_loss: 22.1946\n",
      "Epoch 4/20\n",
      "509050/509050 [==============================] - 1s 3us/step - loss: 22.0902 - custom_loss: 22.0902\n",
      "Epoch 5/20\n",
      "509050/509050 [==============================] - 1s 3us/step - loss: 22.0211 - custom_loss: 22.0211\n",
      "Epoch 6/20\n",
      "509050/509050 [==============================] - 1s 3us/step - loss: 21.9421 - custom_loss: 21.9421\n",
      "Epoch 7/20\n",
      "509050/509050 [==============================] - 1s 3us/step - loss: 21.9160 - custom_loss: 21.9160\n",
      "Epoch 8/20\n",
      "509050/509050 [==============================] - 1s 3us/step - loss: 21.8499 - custom_loss: 21.8499\n",
      "Epoch 9/20\n",
      "509050/509050 [==============================] - 1s 3us/step - loss: 21.8304 - custom_loss: 21.8304\n",
      "Epoch 10/20\n",
      "509050/509050 [==============================] - 1s 3us/step - loss: 21.7976 - custom_loss: 21.7976\n",
      "Epoch 11/20\n",
      "509050/509050 [==============================] - 1s 3us/step - loss: 21.8104 - custom_loss: 21.8104\n",
      "Epoch 12/20\n",
      "509050/509050 [==============================] - 1s 3us/step - loss: 21.7490 - custom_loss: 21.7490\n",
      "Epoch 13/20\n",
      "509050/509050 [==============================] - 1s 3us/step - loss: 21.7285 - custom_loss: 21.7285\n",
      "Epoch 14/20\n",
      "509050/509050 [==============================] - 1s 3us/step - loss: 21.7129 - custom_loss: 21.7129A: 1s - loss: 21.7799 - c\n",
      "Epoch 15/20\n",
      "509050/509050 [==============================] - 1s 3us/step - loss: 21.6794 - custom_loss: 21.6794\n",
      "Epoch 16/20\n",
      "509050/509050 [==============================] - 1s 3us/step - loss: 21.7010 - custom_loss: 21.7010\n",
      "Epoch 17/20\n",
      "509050/509050 [==============================] - 1s 3us/step - loss: 21.6414 - custom_loss: 21.6414\n",
      "Epoch 18/20\n",
      "509050/509050 [==============================] - 1s 3us/step - loss: 21.6261 - custom_loss: 21.6261\n",
      "Epoch 19/20\n",
      "509050/509050 [==============================] - 1s 3us/step - loss: 21.6277 - custom_loss: 21.6277\n",
      "Epoch 20/20\n",
      "509050/509050 [==============================] - 1s 3us/step - loss: 21.6044 - custom_loss: 21.6044\n",
      "127263/127263 [==============================] - 1s 10us/step\n",
      "509050/509050 [==============================] - 0s 1us/step\n",
      "Epoch 1/20\n",
      "509050/509050 [==============================] - 4s 8us/step - loss: 27.3653 - custom_loss: 27.3653\n",
      "Epoch 2/20\n",
      "509050/509050 [==============================] - 1s 3us/step - loss: 22.9405 - custom_loss: 22.9405\n",
      "Epoch 3/20\n",
      "509050/509050 [==============================] - 1s 3us/step - loss: 22.5358 - custom_loss: 22.5358\n",
      "Epoch 4/20\n",
      "509050/509050 [==============================] - 1s 3us/step - loss: 22.3735 - custom_loss: 22.3735A: 0s - loss: 22.3460 - custom_loss: 22.\n",
      "Epoch 5/20\n",
      "509050/509050 [==============================] - 1s 3us/step - loss: 22.2136 - custom_loss: 22.2136\n",
      "Epoch 6/20\n",
      "509050/509050 [==============================] - 1s 3us/step - loss: 22.1489 - custom_loss: 22.1489\n",
      "Epoch 7/20\n",
      "509050/509050 [==============================] - 1s 3us/step - loss: 22.1133 - custom_loss: 22.1133\n",
      "Epoch 8/20\n",
      "509050/509050 [==============================] - 1s 3us/step - loss: 22.0406 - custom_loss: 22.0406\n",
      "Epoch 9/20\n",
      "509050/509050 [==============================] - 1s 3us/step - loss: 21.9852 - custom_loss: 21.9852\n",
      "Epoch 10/20\n",
      "509050/509050 [==============================] - 1s 3us/step - loss: 21.9625 - custom_loss: 21.9625\n",
      "Epoch 11/20\n",
      "509050/509050 [==============================] - 1s 3us/step - loss: 21.9221 - custom_loss: 21.9221\n",
      "Epoch 12/20\n",
      "509050/509050 [==============================] - 1s 3us/step - loss: 21.8851 - custom_loss: 21.8851\n",
      "Epoch 13/20\n",
      "509050/509050 [==============================] - 1s 3us/step - loss: 21.8737 - custom_loss: 21.8737\n",
      "Epoch 14/20\n",
      "509050/509050 [==============================] - 1s 3us/step - loss: 21.8393 - custom_loss: 21.8393A: 0s - loss: 21.6966 - custom\n",
      "Epoch 15/20\n",
      "509050/509050 [==============================] - 1s 3us/step - loss: 21.8171 - custom_loss: 21.8171\n",
      "Epoch 16/20\n",
      "509050/509050 [==============================] - 1s 3us/step - loss: 21.7894 - custom_loss: 21.7894\n",
      "Epoch 17/20\n",
      "509050/509050 [==============================] - 1s 3us/step - loss: 21.7690 - custom_loss: 21.7690\n",
      "Epoch 18/20\n",
      "509050/509050 [==============================] - 1s 3us/step - loss: 21.7797 - custom_loss: 21.7797\n",
      "Epoch 19/20\n",
      "509050/509050 [==============================] - 1s 3us/step - loss: 21.7500 - custom_loss: 21.7500\n",
      "Epoch 20/20\n",
      "509050/509050 [==============================] - 1s 3us/step - loss: 21.7469 - custom_loss: 21.7469\n",
      "127263/127263 [==============================] - 1s 10us/step\n",
      "509050/509050 [==============================] - 0s 1us/step\n",
      "Epoch 1/20\n",
      "509051/509051 [==============================] - 4s 8us/step - loss: 28.3260 - custom_loss: 28.3260\n",
      "Epoch 2/20\n",
      "509051/509051 [==============================] - 1s 3us/step - loss: 22.5107 - custom_loss: 22.5107\n",
      "Epoch 3/20\n",
      "509051/509051 [==============================] - 1s 3us/step - loss: 22.2036 - custom_loss: 22.2036\n",
      "Epoch 4/20\n",
      "509051/509051 [==============================] - 1s 3us/step - loss: 22.0863 - custom_loss: 22.0863\n",
      "Epoch 5/20\n",
      "509051/509051 [==============================] - 1s 3us/step - loss: 21.9846 - custom_loss: 21.9846\n",
      "Epoch 6/20\n",
      "509051/509051 [==============================] - 1s 3us/step - loss: 21.9342 - custom_loss: 21.9342\n",
      "Epoch 7/20\n",
      "509051/509051 [==============================] - 1s 3us/step - loss: 21.8901 - custom_loss: 21.8901\n",
      "Epoch 8/20\n",
      "509051/509051 [==============================] - 1s 3us/step - loss: 21.8566 - custom_loss: 21.8566\n",
      "Epoch 9/20\n",
      "509051/509051 [==============================] - 1s 3us/step - loss: 21.8251 - custom_loss: 21.8251\n",
      "Epoch 10/20\n",
      "509051/509051 [==============================] - 1s 3us/step - loss: 21.8070 - custom_loss: 21.8070\n",
      "Epoch 11/20\n",
      "509051/509051 [==============================] - 1s 3us/step - loss: 21.7841 - custom_loss: 21.7841\n",
      "Epoch 12/20\n",
      "509051/509051 [==============================] - 1s 3us/step - loss: 21.7661 - custom_loss: 21.7661\n",
      "Epoch 13/20\n",
      "509051/509051 [==============================] - 1s 3us/step - loss: 21.7477 - custom_loss: 21.7477A: 1s - loss: 21.4078 - cu - ETA: 0s - loss: 21.7247 - custom_loss: 21.\n",
      "Epoch 14/20\n",
      "509051/509051 [==============================] - 1s 3us/step - loss: 21.7313 - custom_loss: 21.7313\n",
      "Epoch 15/20\n",
      "509051/509051 [==============================] - 1s 3us/step - loss: 21.7179 - custom_loss: 21.7179\n",
      "Epoch 16/20\n",
      "509051/509051 [==============================] - 1s 3us/step - loss: 21.6956 - custom_loss: 21.6956A: 0s - loss: 21.7265 - custom_loss\n",
      "Epoch 17/20\n",
      "509051/509051 [==============================] - 1s 3us/step - loss: 21.6812 - custom_loss: 21.6812\n",
      "Epoch 18/20\n",
      "509051/509051 [==============================] - 1s 3us/step - loss: 21.6604 - custom_loss: 21.6604\n",
      "Epoch 19/20\n",
      "509051/509051 [==============================] - 1s 3us/step - loss: 21.6512 - custom_loss: 21.6512A: 0s - loss: 21.7089 - custom_l\n",
      "Epoch 20/20\n",
      "509051/509051 [==============================] - 1s 3us/step - loss: 21.6399 - custom_loss: 21.6399\n"
     ]
    },
    {
     "name": "stdout",
     "output_type": "stream",
     "text": [
      "127262/127262 [==============================] - 1s 10us/step\n",
      "509051/509051 [==============================] - 0s 1us/step\n",
      "Epoch 1/20\n",
      "509051/509051 [==============================] - 4s 8us/step - loss: 28.2593 - custom_loss: 28.2593\n",
      "Epoch 2/20\n",
      "509051/509051 [==============================] - 1s 3us/step - loss: 22.3697 - custom_loss: 22.3697\n",
      "Epoch 3/20\n",
      "509051/509051 [==============================] - 1s 3us/step - loss: 22.0880 - custom_loss: 22.0880\n",
      "Epoch 4/20\n",
      "509051/509051 [==============================] - 1s 3us/step - loss: 21.9467 - custom_loss: 21.9467\n",
      "Epoch 5/20\n",
      "509051/509051 [==============================] - 1s 3us/step - loss: 21.8923 - custom_loss: 21.8923\n",
      "Epoch 6/20\n",
      "509051/509051 [==============================] - 1s 3us/step - loss: 21.8638 - custom_loss: 21.8638\n",
      "Epoch 7/20\n",
      "509051/509051 [==============================] - 1s 3us/step - loss: 21.8163 - custom_loss: 21.8163\n",
      "Epoch 8/20\n",
      "509051/509051 [==============================] - 1s 3us/step - loss: 21.7887 - custom_loss: 21.7887\n",
      "Epoch 9/20\n",
      "509051/509051 [==============================] - 1s 3us/step - loss: 21.7723 - custom_loss: 21.7723\n",
      "Epoch 10/20\n",
      "509051/509051 [==============================] - 1s 3us/step - loss: 21.7579 - custom_loss: 21.7579\n",
      "Epoch 11/20\n",
      "509051/509051 [==============================] - 1s 3us/step - loss: 21.7254 - custom_loss: 21.7254\n",
      "Epoch 12/20\n",
      "509051/509051 [==============================] - 1s 3us/step - loss: 21.7201 - custom_loss: 21.7201\n",
      "Epoch 13/20\n",
      "509051/509051 [==============================] - 1s 3us/step - loss: 21.6969 - custom_loss: 21.6969\n",
      "Epoch 14/20\n",
      "509051/509051 [==============================] - 1s 3us/step - loss: 21.6777 - custom_loss: 21.6777\n",
      "Epoch 15/20\n",
      "509051/509051 [==============================] - 1s 3us/step - loss: 21.6739 - custom_loss: 21.6739A: 0s - loss: 21.7277 - custom_los\n",
      "Epoch 16/20\n",
      "509051/509051 [==============================] - 1s 3us/step - loss: 21.6858 - custom_loss: 21.6858A: 1s - loss: 21.5422 - cu\n",
      "Epoch 17/20\n",
      "509051/509051 [==============================] - 1s 3us/step - loss: 21.6409 - custom_loss: 21.6409\n",
      "Epoch 18/20\n",
      "509051/509051 [==============================] - 1s 3us/step - loss: 21.6552 - custom_loss: 21.6552\n",
      "Epoch 19/20\n",
      "509051/509051 [==============================] - 1s 3us/step - loss: 21.6356 - custom_loss: 21.6356A: 0s - loss: 21.6313 - custom\n",
      "Epoch 20/20\n",
      "509051/509051 [==============================] - 1s 3us/step - loss: 21.6139 - custom_loss: 21.6139\n",
      "127262/127262 [==============================] - 1s 10us/step\n",
      "509051/509051 [==============================] - 1s 1us/step\n",
      "Epoch 1/20\n",
      "509050/509050 [==============================] - 4s 8us/step - loss: 28.2334 - custom_loss: 28.2334\n",
      "Epoch 2/20\n",
      "509050/509050 [==============================] - 1s 3us/step - loss: 22.6385 - custom_loss: 22.6385\n",
      "Epoch 3/20\n",
      "509050/509050 [==============================] - 1s 3us/step - loss: 22.2748 - custom_loss: 22.2748\n",
      "Epoch 4/20\n",
      "509050/509050 [==============================] - 1s 3us/step - loss: 22.1253 - custom_loss: 22.1253\n",
      "Epoch 5/20\n",
      "509050/509050 [==============================] - 1s 3us/step - loss: 21.9891 - custom_loss: 21.9891\n",
      "Epoch 6/20\n",
      "509050/509050 [==============================] - 1s 3us/step - loss: 21.9317 - custom_loss: 21.9317\n",
      "Epoch 7/20\n",
      "509050/509050 [==============================] - 1s 3us/step - loss: 21.8840 - custom_loss: 21.8840\n",
      "Epoch 8/20\n",
      "509050/509050 [==============================] - 1s 3us/step - loss: 21.8243 - custom_loss: 21.8243\n",
      "Epoch 9/20\n",
      "509050/509050 [==============================] - 1s 3us/step - loss: 21.7990 - custom_loss: 21.7990A: 0s - loss: 21.7687 - custom_loss: 21.76\n",
      "Epoch 10/20\n",
      "509050/509050 [==============================] - 1s 3us/step - loss: 21.7749 - custom_loss: 21.7749\n",
      "Epoch 11/20\n",
      "509050/509050 [==============================] - 1s 3us/step - loss: 21.7425 - custom_loss: 21.7425\n",
      "Epoch 12/20\n",
      "509050/509050 [==============================] - 1s 3us/step - loss: 21.7272 - custom_loss: 21.7272\n",
      "Epoch 13/20\n",
      "509050/509050 [==============================] - 1s 3us/step - loss: 21.7075 - custom_loss: 21.7075\n",
      "Epoch 14/20\n",
      "509050/509050 [==============================] - 1s 3us/step - loss: 21.6905 - custom_loss: 21.6905\n",
      "Epoch 15/20\n",
      "509050/509050 [==============================] - 1s 3us/step - loss: 21.6669 - custom_loss: 21.6669\n",
      "Epoch 16/20\n",
      "509050/509050 [==============================] - 1s 3us/step - loss: 21.6633 - custom_loss: 21.6633\n",
      "Epoch 17/20\n",
      "509050/509050 [==============================] - 1s 3us/step - loss: 21.6370 - custom_loss: 21.6370\n",
      "Epoch 18/20\n",
      "509050/509050 [==============================] - 1s 3us/step - loss: 21.6290 - custom_loss: 21.6290\n",
      "Epoch 19/20\n",
      "509050/509050 [==============================] - 1s 3us/step - loss: 21.6152 - custom_loss: 21.6152\n",
      "Epoch 20/20\n",
      "509050/509050 [==============================] - 1s 3us/step - loss: 21.6038 - custom_loss: 21.6038\n",
      "127263/127263 [==============================] - 1s 10us/step\n",
      "509050/509050 [==============================] - 1s 1us/step\n",
      "Epoch 1/20\n",
      "509050/509050 [==============================] - 4s 8us/step - loss: 28.3210 - custom_loss: 28.3210\n",
      "Epoch 2/20\n",
      "509050/509050 [==============================] - 1s 3us/step - loss: 22.9475 - custom_loss: 22.9475\n",
      "Epoch 3/20\n",
      "509050/509050 [==============================] - 1s 3us/step - loss: 22.5699 - custom_loss: 22.5699\n",
      "Epoch 4/20\n",
      "509050/509050 [==============================] - 1s 3us/step - loss: 22.3381 - custom_loss: 22.3381\n",
      "Epoch 5/20\n",
      "509050/509050 [==============================] - 1s 3us/step - loss: 22.1922 - custom_loss: 22.1922\n",
      "Epoch 6/20\n",
      "509050/509050 [==============================] - 1s 3us/step - loss: 22.1180 - custom_loss: 22.1180\n",
      "Epoch 7/20\n",
      "509050/509050 [==============================] - 1s 3us/step - loss: 22.0505 - custom_loss: 22.0505\n",
      "Epoch 8/20\n",
      "509050/509050 [==============================] - 1s 3us/step - loss: 22.0024 - custom_loss: 22.0024\n",
      "Epoch 9/20\n",
      "509050/509050 [==============================] - 1s 3us/step - loss: 21.9778 - custom_loss: 21.9778\n",
      "Epoch 10/20\n",
      "509050/509050 [==============================] - 1s 3us/step - loss: 21.9330 - custom_loss: 21.9330\n",
      "Epoch 11/20\n",
      "509050/509050 [==============================] - 1s 3us/step - loss: 21.9108 - custom_loss: 21.9108\n",
      "Epoch 12/20\n",
      "509050/509050 [==============================] - 1s 3us/step - loss: 21.8803 - custom_loss: 21.8803\n",
      "Epoch 13/20\n",
      "509050/509050 [==============================] - 1s 3us/step - loss: 21.8705 - custom_loss: 21.8705\n",
      "Epoch 14/20\n",
      "509050/509050 [==============================] - 1s 3us/step - loss: 21.8368 - custom_loss: 21.8368\n",
      "Epoch 15/20\n",
      "509050/509050 [==============================] - 1s 3us/step - loss: 21.8243 - custom_loss: 21.8243\n",
      "Epoch 16/20\n",
      "509050/509050 [==============================] - 1s 3us/step - loss: 21.8104 - custom_loss: 21.8104A: 0s - loss: 21.8449 - custom_l\n",
      "Epoch 17/20\n",
      "509050/509050 [==============================] - 1s 3us/step - loss: 21.8014 - custom_loss: 21.8014\n",
      "Epoch 18/20\n",
      "509050/509050 [==============================] - 1s 3us/step - loss: 21.7772 - custom_loss: 21.7772\n",
      "Epoch 19/20\n",
      "509050/509050 [==============================] - 1s 3us/step - loss: 21.7702 - custom_loss: 21.7702\n",
      "Epoch 20/20\n",
      "509050/509050 [==============================] - 1s 3us/step - loss: 21.7550 - custom_loss: 21.7550\n",
      "127263/127263 [==============================] - 1s 11us/step\n",
      "509050/509050 [==============================] - 0s 1us/step\n",
      "Epoch 1/20\n",
      "509050/509050 [==============================] - 4s 8us/step - loss: 29.4834 - custom_loss: 29.4834\n",
      "Epoch 2/20\n",
      "509050/509050 [==============================] - 1s 3us/step - loss: 22.6342 - custom_loss: 22.6342\n",
      "Epoch 3/20\n",
      "509050/509050 [==============================] - 1s 3us/step - loss: 22.3122 - custom_loss: 22.3122\n",
      "Epoch 4/20\n",
      "509050/509050 [==============================] - 1s 3us/step - loss: 22.1638 - custom_loss: 22.1638\n",
      "Epoch 5/20\n",
      "509050/509050 [==============================] - 1s 3us/step - loss: 22.0929 - custom_loss: 22.0929\n",
      "Epoch 6/20\n",
      "509050/509050 [==============================] - 1s 3us/step - loss: 22.0036 - custom_loss: 22.0036\n",
      "Epoch 7/20\n",
      "509050/509050 [==============================] - 1s 3us/step - loss: 21.9730 - custom_loss: 21.9730\n",
      "Epoch 8/20\n"
     ]
    },
    {
     "name": "stdout",
     "output_type": "stream",
     "text": [
      "509050/509050 [==============================] - 1s 3us/step - loss: 21.9345 - custom_loss: 21.9345\n",
      "Epoch 9/20\n",
      "509050/509050 [==============================] - 1s 3us/step - loss: 21.9105 - custom_loss: 21.9105\n",
      "Epoch 10/20\n",
      "509050/509050 [==============================] - 1s 3us/step - loss: 21.8783 - custom_loss: 21.8783\n",
      "Epoch 11/20\n",
      "509050/509050 [==============================] - 1s 3us/step - loss: 21.8569 - custom_loss: 21.8569\n",
      "Epoch 12/20\n",
      "509050/509050 [==============================] - 1s 3us/step - loss: 21.8379 - custom_loss: 21.8379\n",
      "Epoch 13/20\n",
      "509050/509050 [==============================] - 1s 3us/step - loss: 21.8248 - custom_loss: 21.8248\n",
      "Epoch 14/20\n",
      "509050/509050 [==============================] - 1s 3us/step - loss: 21.7950 - custom_loss: 21.7950\n",
      "Epoch 15/20\n",
      "509050/509050 [==============================] - 1s 3us/step - loss: 21.7854 - custom_loss: 21.7854\n",
      "Epoch 16/20\n",
      "509050/509050 [==============================] - 1s 3us/step - loss: 21.7674 - custom_loss: 21.7674\n",
      "Epoch 17/20\n",
      "509050/509050 [==============================] - 1s 3us/step - loss: 21.7656 - custom_loss: 21.7656\n",
      "Epoch 18/20\n",
      "509050/509050 [==============================] - 1s 3us/step - loss: 21.7442 - custom_loss: 21.7442\n",
      "Epoch 19/20\n",
      "509050/509050 [==============================] - 1s 3us/step - loss: 21.7349 - custom_loss: 21.7349\n",
      "Epoch 20/20\n",
      "509050/509050 [==============================] - 1s 3us/step - loss: 21.7391 - custom_loss: 21.7391\n",
      "127263/127263 [==============================] - 1s 11us/step\n",
      "509050/509050 [==============================] - 1s 1us/step\n",
      "Epoch 1/20\n",
      "509051/509051 [==============================] - 4s 8us/step - loss: 28.3613 - custom_loss: 28.3613\n",
      "Epoch 2/20\n",
      "509051/509051 [==============================] - 1s 3us/step - loss: 22.9630 - custom_loss: 22.9630\n",
      "Epoch 3/20\n",
      "509051/509051 [==============================] - 1s 3us/step - loss: 22.5456 - custom_loss: 22.5456\n",
      "Epoch 4/20\n",
      "509051/509051 [==============================] - 1s 3us/step - loss: 22.3078 - custom_loss: 22.3078\n",
      "Epoch 5/20\n",
      "509051/509051 [==============================] - ETA: 0s - loss: 22.2209 - custom_loss: 22.220 - 1s 3us/step - loss: 22.2161 - custom_loss: 22.2161\n",
      "Epoch 6/20\n",
      "509051/509051 [==============================] - 1s 3us/step - loss: 22.1174 - custom_loss: 22.1174\n",
      "Epoch 7/20\n",
      "509051/509051 [==============================] - 1s 3us/step - loss: 22.0590 - custom_loss: 22.0590\n",
      "Epoch 8/20\n",
      "509051/509051 [==============================] - 1s 3us/step - loss: 22.0021 - custom_loss: 22.0021\n",
      "Epoch 9/20\n",
      "509051/509051 [==============================] - 1s 3us/step - loss: 21.9555 - custom_loss: 21.9555\n",
      "Epoch 10/20\n",
      "509051/509051 [==============================] - 1s 3us/step - loss: 21.9448 - custom_loss: 21.9448\n",
      "Epoch 11/20\n",
      "509051/509051 [==============================] - 1s 3us/step - loss: 21.8963 - custom_loss: 21.8963\n",
      "Epoch 12/20\n",
      "509051/509051 [==============================] - 1s 3us/step - loss: 21.8747 - custom_loss: 21.8747\n",
      "Epoch 13/20\n",
      "509051/509051 [==============================] - 1s 3us/step - loss: 21.8547 - custom_loss: 21.8547\n",
      "Epoch 14/20\n",
      "509051/509051 [==============================] - 1s 3us/step - loss: 21.8252 - custom_loss: 21.8252\n",
      "Epoch 15/20\n",
      "509051/509051 [==============================] - 1s 3us/step - loss: 21.8397 - custom_loss: 21.8397\n",
      "Epoch 16/20\n",
      "509051/509051 [==============================] - 1s 3us/step - loss: 21.8176 - custom_loss: 21.8176\n",
      "Epoch 17/20\n",
      "509051/509051 [==============================] - 1s 3us/step - loss: 21.7941 - custom_loss: 21.7941\n",
      "Epoch 18/20\n",
      "509051/509051 [==============================] - 1s 3us/step - loss: 21.7977 - custom_loss: 21.7977\n",
      "Epoch 19/20\n",
      "509051/509051 [==============================] - 1s 3us/step - loss: 21.7651 - custom_loss: 21.7651\n",
      "Epoch 20/20\n",
      "509051/509051 [==============================] - 1s 3us/step - loss: 21.7602 - custom_loss: 21.7602\n",
      "127262/127262 [==============================] - 1s 11us/step\n",
      "509051/509051 [==============================] - 1s 1us/step\n",
      "Epoch 1/20\n",
      "509051/509051 [==============================] - 4s 8us/step - loss: 100.0000 - custom_loss: 100.0000\n",
      "Epoch 2/20\n",
      "509051/509051 [==============================] - 1s 3us/step - loss: 100.0000 - custom_loss: 100.0000\n",
      "Epoch 3/20\n",
      "509051/509051 [==============================] - 1s 3us/step - loss: 100.0000 - custom_loss: 100.0000\n",
      "Epoch 4/20\n",
      "509051/509051 [==============================] - 1s 3us/step - loss: 100.0000 - custom_loss: 100.0000\n",
      "Epoch 5/20\n",
      "509051/509051 [==============================] - 1s 3us/step - loss: 100.0000 - custom_loss: 100.0000\n",
      "Epoch 6/20\n",
      "509051/509051 [==============================] - 1s 3us/step - loss: 100.0000 - custom_loss: 100.0000\n",
      "Epoch 7/20\n",
      "509051/509051 [==============================] - 1s 3us/step - loss: 100.0000 - custom_loss: 100.0000\n",
      "Epoch 8/20\n",
      "509051/509051 [==============================] - 1s 3us/step - loss: 100.0000 - custom_loss: 100.0000\n",
      "Epoch 9/20\n",
      "509051/509051 [==============================] - 1s 3us/step - loss: 100.0000 - custom_loss: 100.0000\n",
      "Epoch 10/20\n",
      "509051/509051 [==============================] - 1s 3us/step - loss: 100.0000 - custom_loss: 100.0000\n",
      "Epoch 11/20\n",
      "509051/509051 [==============================] - 1s 3us/step - loss: 100.0000 - custom_loss: 100.0000\n",
      "Epoch 12/20\n",
      "509051/509051 [==============================] - 1s 3us/step - loss: 100.0000 - custom_loss: 100.0000\n",
      "Epoch 13/20\n",
      "509051/509051 [==============================] - 1s 3us/step - loss: 100.0000 - custom_loss: 100.0000\n",
      "Epoch 14/20\n",
      "509051/509051 [==============================] - 1s 3us/step - loss: 100.0000 - custom_loss: 100.0000\n",
      "Epoch 15/20\n",
      "509051/509051 [==============================] - 1s 3us/step - loss: 100.0000 - custom_loss: 100.0000\n",
      "Epoch 16/20\n",
      "509051/509051 [==============================] - 1s 3us/step - loss: 100.0000 - custom_loss: 100.0000\n",
      "Epoch 17/20\n",
      "509051/509051 [==============================] - 1s 3us/step - loss: 100.0000 - custom_loss: 100.0000\n",
      "Epoch 18/20\n",
      "509051/509051 [==============================] - 1s 3us/step - loss: 100.0000 - custom_loss: 100.0000\n",
      "Epoch 19/20\n",
      "509051/509051 [==============================] - 1s 3us/step - loss: 100.0000 - custom_loss: 100.0000\n",
      "Epoch 20/20\n",
      "509051/509051 [==============================] - 1s 3us/step - loss: 100.0000 - custom_loss: 100.0000\n",
      "127262/127262 [==============================] - 1s 10us/step\n",
      "509051/509051 [==============================] - 1s 1us/step\n",
      "Epoch 1/20\n",
      "509050/509050 [==============================] - 4s 9us/step - loss: 30.4402 - custom_loss: 30.4402\n",
      "Epoch 2/20\n",
      "509050/509050 [==============================] - 1s 3us/step - loss: 22.8389 - custom_loss: 22.8389\n",
      "Epoch 3/20\n",
      "509050/509050 [==============================] - 1s 3us/step - loss: 22.3986 - custom_loss: 22.3986\n",
      "Epoch 4/20\n",
      "509050/509050 [==============================] - 1s 3us/step - loss: 22.2177 - custom_loss: 22.2177\n",
      "Epoch 5/20\n",
      "509050/509050 [==============================] - 1s 3us/step - loss: 22.1052 - custom_loss: 22.1052\n",
      "Epoch 6/20\n",
      "509050/509050 [==============================] - 1s 3us/step - loss: 22.0445 - custom_loss: 22.0445\n",
      "Epoch 7/20\n",
      "509050/509050 [==============================] - 1s 3us/step - loss: 21.9932 - custom_loss: 21.9932\n",
      "Epoch 8/20\n",
      "509050/509050 [==============================] - 1s 3us/step - loss: 21.9552 - custom_loss: 21.9552\n",
      "Epoch 9/20\n",
      "509050/509050 [==============================] - 1s 3us/step - loss: 21.9365 - custom_loss: 21.9365\n",
      "Epoch 10/20\n",
      "509050/509050 [==============================] - 1s 3us/step - loss: 21.9042 - custom_loss: 21.9042\n",
      "Epoch 11/20\n",
      "509050/509050 [==============================] - 1s 3us/step - loss: 21.8852 - custom_loss: 21.8852\n",
      "Epoch 12/20\n",
      "509050/509050 [==============================] - 1s 3us/step - loss: 21.8575 - custom_loss: 21.8575\n",
      "Epoch 13/20\n",
      "509050/509050 [==============================] - 1s 3us/step - loss: 21.8458 - custom_loss: 21.8458\n",
      "Epoch 14/20\n",
      "509050/509050 [==============================] - 1s 3us/step - loss: 21.8270 - custom_loss: 21.8270\n",
      "Epoch 15/20\n",
      "509050/509050 [==============================] - 1s 3us/step - loss: 21.8222 - custom_loss: 21.8222\n",
      "Epoch 16/20\n",
      "509050/509050 [==============================] - 1s 3us/step - loss: 21.8001 - custom_loss: 21.8001\n",
      "Epoch 17/20\n"
     ]
    },
    {
     "name": "stdout",
     "output_type": "stream",
     "text": [
      "509050/509050 [==============================] - 1s 3us/step - loss: 21.8020 - custom_loss: 21.8020\n",
      "Epoch 18/20\n",
      "509050/509050 [==============================] - 1s 3us/step - loss: 21.7806 - custom_loss: 21.7806\n",
      "Epoch 19/20\n",
      "509050/509050 [==============================] - 1s 3us/step - loss: 21.7804 - custom_loss: 21.7804\n",
      "Epoch 20/20\n",
      "509050/509050 [==============================] - 1s 3us/step - loss: 21.7615 - custom_loss: 21.7615\n",
      "127263/127263 [==============================] - 1s 11us/step\n",
      "509050/509050 [==============================] - 1s 1us/step\n",
      "Epoch 1/20\n",
      "509050/509050 [==============================] - 5s 9us/step - loss: 29.7272 - custom_loss: 29.7272\n",
      "Epoch 2/20\n",
      "509050/509050 [==============================] - 1s 3us/step - loss: 22.8169 - custom_loss: 22.8169\n",
      "Epoch 3/20\n",
      "509050/509050 [==============================] - 1s 3us/step - loss: 22.4523 - custom_loss: 22.4523\n",
      "Epoch 4/20\n",
      "509050/509050 [==============================] - 1s 3us/step - loss: 22.2854 - custom_loss: 22.2854\n",
      "Epoch 5/20\n",
      "509050/509050 [==============================] - 1s 3us/step - loss: 22.2027 - custom_loss: 22.2027\n",
      "Epoch 6/20\n",
      "509050/509050 [==============================] - 1s 3us/step - loss: 22.1179 - custom_loss: 22.1179\n",
      "Epoch 7/20\n",
      "509050/509050 [==============================] - 1s 3us/step - loss: 22.0812 - custom_loss: 22.0812\n",
      "Epoch 8/20\n",
      "509050/509050 [==============================] - 1s 3us/step - loss: 22.0377 - custom_loss: 22.0377\n",
      "Epoch 9/20\n",
      "509050/509050 [==============================] - 1s 3us/step - loss: 21.9887 - custom_loss: 21.9887\n",
      "Epoch 10/20\n",
      "509050/509050 [==============================] - 1s 3us/step - loss: 21.9656 - custom_loss: 21.9656\n",
      "Epoch 11/20\n",
      "509050/509050 [==============================] - 1s 3us/step - loss: 21.9379 - custom_loss: 21.9379\n",
      "Epoch 12/20\n",
      "509050/509050 [==============================] - 1s 3us/step - loss: 21.9136 - custom_loss: 21.9136\n",
      "Epoch 13/20\n",
      "509050/509050 [==============================] - 1s 3us/step - loss: 21.8867 - custom_loss: 21.8867\n",
      "Epoch 14/20\n",
      "509050/509050 [==============================] - 1s 3us/step - loss: 21.8714 - custom_loss: 21.8714\n",
      "Epoch 15/20\n",
      "509050/509050 [==============================] - 1s 3us/step - loss: 21.8574 - custom_loss: 21.8574\n",
      "Epoch 16/20\n",
      "509050/509050 [==============================] - 1s 3us/step - loss: 21.8257 - custom_loss: 21.8257A: 1s - loss: 21.8051 - \n",
      "Epoch 17/20\n",
      "509050/509050 [==============================] - 1s 3us/step - loss: 21.8127 - custom_loss: 21.8127\n",
      "Epoch 18/20\n",
      "509050/509050 [==============================] - 1s 3us/step - loss: 21.7952 - custom_loss: 21.7952\n",
      "Epoch 19/20\n",
      "509050/509050 [==============================] - 1s 3us/step - loss: 21.7877 - custom_loss: 21.7877\n",
      "Epoch 20/20\n",
      "509050/509050 [==============================] - 1s 3us/step - loss: 21.7656 - custom_loss: 21.7656\n",
      "127263/127263 [==============================] - 1s 11us/step\n",
      "509050/509050 [==============================] - 0s 1us/step\n",
      "Epoch 1/20\n",
      "509050/509050 [==============================] - 4s 9us/step - loss: 30.4952 - custom_loss: 30.4952\n",
      "Epoch 2/20\n",
      "509050/509050 [==============================] - 1s 3us/step - loss: 22.6883 - custom_loss: 22.6883\n",
      "Epoch 3/20\n",
      "509050/509050 [==============================] - 1s 3us/step - loss: 22.3177 - custom_loss: 22.3177\n",
      "Epoch 4/20\n",
      "509050/509050 [==============================] - 1s 3us/step - loss: 22.1872 - custom_loss: 22.1872\n",
      "Epoch 5/20\n",
      "509050/509050 [==============================] - 1s 3us/step - loss: 22.1207 - custom_loss: 22.1207\n",
      "Epoch 6/20\n",
      "509050/509050 [==============================] - 1s 3us/step - loss: 22.0471 - custom_loss: 22.0471A: 0s - loss: 22.0748 - custom_loss: 2\n",
      "Epoch 7/20\n",
      "509050/509050 [==============================] - 1s 3us/step - loss: 22.0083 - custom_loss: 22.0083\n",
      "Epoch 8/20\n",
      "509050/509050 [==============================] - 1s 3us/step - loss: 21.9741 - custom_loss: 21.9741\n",
      "Epoch 9/20\n",
      "509050/509050 [==============================] - 1s 3us/step - loss: 21.9378 - custom_loss: 21.9378\n",
      "Epoch 10/20\n",
      "509050/509050 [==============================] - 1s 3us/step - loss: 21.9224 - custom_loss: 21.9224\n",
      "Epoch 11/20\n",
      "509050/509050 [==============================] - 1s 3us/step - loss: 21.8885 - custom_loss: 21.8885\n",
      "Epoch 12/20\n",
      "509050/509050 [==============================] - 1s 3us/step - loss: 21.8774 - custom_loss: 21.8774\n",
      "Epoch 13/20\n",
      "509050/509050 [==============================] - 1s 3us/step - loss: 21.8561 - custom_loss: 21.8561\n",
      "Epoch 14/20\n",
      "509050/509050 [==============================] - 1s 3us/step - loss: 21.8387 - custom_loss: 21.8387\n",
      "Epoch 15/20\n",
      "509050/509050 [==============================] - 1s 3us/step - loss: 21.8283 - custom_loss: 21.8283\n",
      "Epoch 16/20\n",
      "509050/509050 [==============================] - 1s 3us/step - loss: 21.8150 - custom_loss: 21.8150\n",
      "Epoch 17/20\n",
      "509050/509050 [==============================] - 1s 3us/step - loss: 21.8034 - custom_loss: 21.8034\n",
      "Epoch 18/20\n",
      "509050/509050 [==============================] - 1s 3us/step - loss: 21.7863 - custom_loss: 21.7863A: 1s - loss: 21.7306 - \n",
      "Epoch 19/20\n",
      "509050/509050 [==============================] - 1s 3us/step - loss: 21.7875 - custom_loss: 21.7875\n",
      "Epoch 20/20\n",
      "509050/509050 [==============================] - 1s 3us/step - loss: 21.7668 - custom_loss: 21.7668\n",
      "127263/127263 [==============================] - 1s 11us/step\n",
      "509050/509050 [==============================] - 0s 1us/step\n",
      "Epoch 1/20\n",
      "509051/509051 [==============================] - 4s 9us/step - loss: 100.0000 - custom_loss: 100.0000\n",
      "Epoch 2/20\n",
      "509051/509051 [==============================] - 1s 3us/step - loss: 100.0000 - custom_loss: 100.0000\n",
      "Epoch 3/20\n",
      "509051/509051 [==============================] - 1s 3us/step - loss: 100.0000 - custom_loss: 100.0000\n",
      "Epoch 4/20\n",
      "509051/509051 [==============================] - 1s 3us/step - loss: 100.0000 - custom_loss: 100.0000\n",
      "Epoch 5/20\n",
      "509051/509051 [==============================] - 1s 3us/step - loss: 100.0000 - custom_loss: 100.0000\n",
      "Epoch 6/20\n",
      "509051/509051 [==============================] - 1s 3us/step - loss: 100.0000 - custom_loss: 100.0000\n",
      "Epoch 7/20\n",
      "509051/509051 [==============================] - 1s 3us/step - loss: 100.0000 - custom_loss: 100.0000\n",
      "Epoch 8/20\n",
      "509051/509051 [==============================] - ETA: 0s - loss: 100.0000 - custom_loss: 100.000 - 1s 3us/step - loss: 100.0000 - custom_loss: 100.0000\n",
      "Epoch 9/20\n",
      "509051/509051 [==============================] - 1s 3us/step - loss: 100.0000 - custom_loss: 100.0000\n",
      "Epoch 10/20\n",
      "509051/509051 [==============================] - 2s 3us/step - loss: 100.0000 - custom_loss: 100.0000\n",
      "Epoch 11/20\n",
      "509051/509051 [==============================] - 1s 3us/step - loss: 100.0000 - custom_loss: 100.0000\n",
      "Epoch 12/20\n",
      "509051/509051 [==============================] - 1s 3us/step - loss: 100.0000 - custom_loss: 100.0000\n",
      "Epoch 13/20\n",
      "509051/509051 [==============================] - 1s 3us/step - loss: 100.0000 - custom_loss: 100.0000\n",
      "Epoch 14/20\n",
      "509051/509051 [==============================] - 1s 3us/step - loss: 100.0000 - custom_loss: 100.0000\n",
      "Epoch 15/20\n",
      "509051/509051 [==============================] - 1s 3us/step - loss: 100.0000 - custom_loss: 100.0000\n",
      "Epoch 16/20\n",
      "509051/509051 [==============================] - 1s 3us/step - loss: 100.0000 - custom_loss: 100.0000A: 0s - loss: 100.0000 - custom_\n",
      "Epoch 17/20\n",
      "509051/509051 [==============================] - 1s 3us/step - loss: 100.0000 - custom_loss: 100.0000\n",
      "Epoch 18/20\n",
      "509051/509051 [==============================] - 1s 3us/step - loss: 100.0000 - custom_loss: 100.0000\n",
      "Epoch 19/20\n",
      "509051/509051 [==============================] - 1s 3us/step - loss: 100.0000 - custom_loss: 100.0000\n",
      "Epoch 20/20\n",
      "509051/509051 [==============================] - 1s 3us/step - loss: 100.0000 - custom_loss: 100.0000\n",
      "127262/127262 [==============================] - 1s 11us/step\n",
      "509051/509051 [==============================] - 1s 1us/step\n",
      "Epoch 1/20\n",
      "509051/509051 [==============================] - 4s 9us/step - loss: 30.0794 - custom_loss: 30.0794\n",
      "Epoch 2/20\n",
      "509051/509051 [==============================] - 1s 3us/step - loss: 22.8448 - custom_loss: 22.8448\n",
      "Epoch 3/20\n",
      "509051/509051 [==============================] - 1s 3us/step - loss: 22.4688 - custom_loss: 22.4688\n",
      "Epoch 4/20\n"
     ]
    },
    {
     "name": "stdout",
     "output_type": "stream",
     "text": [
      "509051/509051 [==============================] - 1s 3us/step - loss: 22.3049 - custom_loss: 22.3049\n",
      "Epoch 5/20\n",
      "509051/509051 [==============================] - 1s 3us/step - loss: 22.2028 - custom_loss: 22.2028\n",
      "Epoch 6/20\n",
      "509051/509051 [==============================] - 1s 3us/step - loss: 22.1238 - custom_loss: 22.1238\n",
      "Epoch 7/20\n",
      "509051/509051 [==============================] - 1s 3us/step - loss: 22.0642 - custom_loss: 22.0642\n",
      "Epoch 8/20\n",
      "509051/509051 [==============================] - 1s 3us/step - loss: 22.0058 - custom_loss: 22.0058\n",
      "Epoch 9/20\n",
      "509051/509051 [==============================] - 1s 3us/step - loss: 21.9656 - custom_loss: 21.9656\n",
      "Epoch 10/20\n",
      "509051/509051 [==============================] - 1s 3us/step - loss: 21.9301 - custom_loss: 21.9301\n",
      "Epoch 11/20\n",
      "509051/509051 [==============================] - 1s 3us/step - loss: 21.8956 - custom_loss: 21.8956\n",
      "Epoch 12/20\n",
      "509051/509051 [==============================] - 1s 3us/step - loss: 21.8653 - custom_loss: 21.8653\n",
      "Epoch 13/20\n",
      "509051/509051 [==============================] - 1s 3us/step - loss: 21.8399 - custom_loss: 21.8399\n",
      "Epoch 14/20\n",
      "509051/509051 [==============================] - 1s 3us/step - loss: 21.8459 - custom_loss: 21.8459\n",
      "Epoch 15/20\n",
      "509051/509051 [==============================] - 1s 3us/step - loss: 21.8234 - custom_loss: 21.8234\n",
      "Epoch 16/20\n",
      "509051/509051 [==============================] - 1s 3us/step - loss: 21.7873 - custom_loss: 21.7873\n",
      "Epoch 17/20\n",
      "509051/509051 [==============================] - 1s 3us/step - loss: 21.7868 - custom_loss: 21.7868\n",
      "Epoch 18/20\n",
      "509051/509051 [==============================] - 1s 3us/step - loss: 21.7671 - custom_loss: 21.7671\n",
      "Epoch 19/20\n",
      "509051/509051 [==============================] - 1s 3us/step - loss: 21.7633 - custom_loss: 21.7633\n",
      "Epoch 20/20\n",
      "509051/509051 [==============================] - 1s 3us/step - loss: 21.7590 - custom_loss: 21.7590\n",
      "127262/127262 [==============================] - 1s 11us/step\n",
      "509051/509051 [==============================] - 1s 1us/step\n",
      "Epoch 1/20\n",
      "509050/509050 [==============================] - 5s 9us/step - loss: 27.0799 - custom_loss: 27.0799\n",
      "Epoch 2/20\n",
      "509050/509050 [==============================] - 1s 3us/step - loss: 22.8245 - custom_loss: 22.8245\n",
      "Epoch 3/20\n",
      "509050/509050 [==============================] - 1s 3us/step - loss: 22.3413 - custom_loss: 22.3413\n",
      "Epoch 4/20\n",
      "509050/509050 [==============================] - 1s 3us/step - loss: 22.1329 - custom_loss: 22.1329\n",
      "Epoch 5/20\n",
      "509050/509050 [==============================] - 1s 3us/step - loss: 22.0592 - custom_loss: 22.0592\n",
      "Epoch 6/20\n",
      "509050/509050 [==============================] - 1s 3us/step - loss: 21.9748 - custom_loss: 21.9748\n",
      "Epoch 7/20\n",
      "509050/509050 [==============================] - 1s 3us/step - loss: 21.9299 - custom_loss: 21.9299\n",
      "Epoch 8/20\n",
      "509050/509050 [==============================] - 1s 3us/step - loss: 21.8830 - custom_loss: 21.8830\n",
      "Epoch 9/20\n",
      "509050/509050 [==============================] - 1s 3us/step - loss: 21.8561 - custom_loss: 21.8561\n",
      "Epoch 10/20\n",
      "509050/509050 [==============================] - 1s 3us/step - loss: 21.8209 - custom_loss: 21.8209\n",
      "Epoch 11/20\n",
      "509050/509050 [==============================] - 1s 3us/step - loss: 21.7933 - custom_loss: 21.7933\n",
      "Epoch 12/20\n",
      "509050/509050 [==============================] - 1s 3us/step - loss: 21.7645 - custom_loss: 21.7645\n",
      "Epoch 13/20\n",
      "509050/509050 [==============================] - 1s 3us/step - loss: 21.7508 - custom_loss: 21.7508\n",
      "Epoch 14/20\n",
      "509050/509050 [==============================] - 1s 3us/step - loss: 21.7230 - custom_loss: 21.7230\n",
      "Epoch 15/20\n",
      "509050/509050 [==============================] - 1s 3us/step - loss: 21.7310 - custom_loss: 21.7310\n",
      "Epoch 16/20\n",
      "509050/509050 [==============================] - 1s 3us/step - loss: 21.7092 - custom_loss: 21.7092\n",
      "Epoch 17/20\n",
      "509050/509050 [==============================] - 1s 3us/step - loss: 21.6817 - custom_loss: 21.6817\n",
      "Epoch 18/20\n",
      "509050/509050 [==============================] - 1s 3us/step - loss: 21.6714 - custom_loss: 21.6714\n",
      "Epoch 19/20\n",
      "509050/509050 [==============================] - 1s 3us/step - loss: 21.6589 - custom_loss: 21.6589\n",
      "Epoch 20/20\n",
      "509050/509050 [==============================] - 1s 3us/step - loss: 21.6526 - custom_loss: 21.6526\n",
      "127263/127263 [==============================] - 1s 11us/step\n",
      "509050/509050 [==============================] - 0s 1us/step\n",
      "Epoch 1/20\n",
      "509050/509050 [==============================] - 4s 9us/step - loss: 27.0928 - custom_loss: 27.0928\n",
      "Epoch 2/20\n",
      "509050/509050 [==============================] - 1s 3us/step - loss: 22.4768 - custom_loss: 22.4768\n",
      "Epoch 3/20\n",
      "509050/509050 [==============================] - 1s 3us/step - loss: 22.1643 - custom_loss: 22.1643\n",
      "Epoch 4/20\n",
      "509050/509050 [==============================] - 1s 3us/step - loss: 22.0313 - custom_loss: 22.0313\n",
      "Epoch 5/20\n",
      "509050/509050 [==============================] - 1s 3us/step - loss: 21.9448 - custom_loss: 21.9448\n",
      "Epoch 6/20\n",
      "509050/509050 [==============================] - 1s 3us/step - loss: 21.8700 - custom_loss: 21.8700\n",
      "Epoch 7/20\n",
      "509050/509050 [==============================] - 1s 3us/step - loss: 21.8041 - custom_loss: 21.8041A: 0s - loss: 21.8453 - custom_loss: 2\n",
      "Epoch 8/20\n",
      "509050/509050 [==============================] - 1s 3us/step - loss: 21.8050 - custom_loss: 21.8050\n",
      "Epoch 9/20\n",
      "509050/509050 [==============================] - 1s 3us/step - loss: 21.7465 - custom_loss: 21.7465\n",
      "Epoch 10/20\n",
      "509050/509050 [==============================] - 1s 3us/step - loss: 21.7325 - custom_loss: 21.7325\n",
      "Epoch 11/20\n",
      "509050/509050 [==============================] - 1s 3us/step - loss: 21.7089 - custom_loss: 21.7089\n",
      "Epoch 12/20\n",
      "509050/509050 [==============================] - 1s 3us/step - loss: 21.6924 - custom_loss: 21.6924\n",
      "Epoch 13/20\n",
      "509050/509050 [==============================] - 1s 3us/step - loss: 21.6673 - custom_loss: 21.6673\n",
      "Epoch 14/20\n",
      "509050/509050 [==============================] - 1s 3us/step - loss: 21.6526 - custom_loss: 21.6526\n",
      "Epoch 15/20\n",
      "509050/509050 [==============================] - 1s 3us/step - loss: 21.6298 - custom_loss: 21.6298\n",
      "Epoch 16/20\n",
      "509050/509050 [==============================] - 1s 3us/step - loss: 21.6310 - custom_loss: 21.6310\n",
      "Epoch 17/20\n",
      "509050/509050 [==============================] - 1s 3us/step - loss: 21.6150 - custom_loss: 21.6150\n",
      "Epoch 18/20\n",
      "509050/509050 [==============================] - 1s 3us/step - loss: 21.5980 - custom_loss: 21.5980\n",
      "Epoch 19/20\n",
      "509050/509050 [==============================] - 1s 3us/step - loss: 21.5810 - custom_loss: 21.5810A: 1s - loss: 21.4864 -\n",
      "Epoch 20/20\n",
      "509050/509050 [==============================] - 1s 3us/step - loss: 21.5736 - custom_loss: 21.5736\n",
      "127263/127263 [==============================] - 1s 12us/step\n",
      "509050/509050 [==============================] - 1s 1us/step\n",
      "Epoch 1/20\n",
      "509050/509050 [==============================] - 5s 9us/step - loss: 27.0807 - custom_loss: 27.0807\n",
      "Epoch 2/20\n",
      "509050/509050 [==============================] - 1s 3us/step - loss: 22.5224 - custom_loss: 22.5224\n",
      "Epoch 3/20\n",
      "509050/509050 [==============================] - 1s 3us/step - loss: 22.2735 - custom_loss: 22.2735\n",
      "Epoch 4/20\n",
      "509050/509050 [==============================] - 1s 3us/step - loss: 22.1299 - custom_loss: 22.1299\n",
      "Epoch 5/20\n",
      "509050/509050 [==============================] - 1s 3us/step - loss: 22.0704 - custom_loss: 22.0704\n",
      "Epoch 6/20\n",
      "509050/509050 [==============================] - 1s 3us/step - loss: 22.0102 - custom_loss: 22.0102\n",
      "Epoch 7/20\n",
      "509050/509050 [==============================] - 1s 3us/step - loss: 21.9679 - custom_loss: 21.9679\n",
      "Epoch 8/20\n",
      "509050/509050 [==============================] - 1s 3us/step - loss: 21.9262 - custom_loss: 21.9262\n",
      "Epoch 9/20\n",
      "509050/509050 [==============================] - 1s 3us/step - loss: 21.8943 - custom_loss: 21.8943\n",
      "Epoch 10/20\n",
      "509050/509050 [==============================] - 1s 3us/step - loss: 21.8494 - custom_loss: 21.8494\n",
      "Epoch 11/20\n",
      "509050/509050 [==============================] - 1s 3us/step - loss: 21.8221 - custom_loss: 21.8221\n",
      "Epoch 12/20\n",
      "509050/509050 [==============================] - 1s 3us/step - loss: 21.8013 - custom_loss: 21.8013\n",
      "Epoch 13/20\n"
     ]
    },
    {
     "name": "stdout",
     "output_type": "stream",
     "text": [
      "509050/509050 [==============================] - 1s 3us/step - loss: 21.7696 - custom_loss: 21.7696A: 0s - loss: 21.7551 - custom_loss: \n",
      "Epoch 14/20\n",
      "509050/509050 [==============================] - 1s 3us/step - loss: 21.7471 - custom_loss: 21.7471\n",
      "Epoch 15/20\n",
      "509050/509050 [==============================] - 1s 3us/step - loss: 21.7270 - custom_loss: 21.7270\n",
      "Epoch 16/20\n",
      "509050/509050 [==============================] - 1s 3us/step - loss: 21.7030 - custom_loss: 21.7030\n",
      "Epoch 17/20\n",
      "509050/509050 [==============================] - 1s 3us/step - loss: 21.6804 - custom_loss: 21.6804\n",
      "Epoch 18/20\n",
      "509050/509050 [==============================] - 1s 3us/step - loss: 21.6762 - custom_loss: 21.6762\n",
      "Epoch 19/20\n",
      "509050/509050 [==============================] - 1s 3us/step - loss: 21.6593 - custom_loss: 21.6593\n",
      "Epoch 20/20\n",
      "509050/509050 [==============================] - 1s 3us/step - loss: 21.6369 - custom_loss: 21.6369\n",
      "127263/127263 [==============================] - 1s 11us/step\n",
      "509050/509050 [==============================] - 0s 1us/step\n",
      "Epoch 1/20\n",
      "509051/509051 [==============================] - 5s 9us/step - loss: 27.4054 - custom_loss: 27.4054\n",
      "Epoch 2/20\n",
      "509051/509051 [==============================] - 1s 3us/step - loss: 22.5267 - custom_loss: 22.5267\n",
      "Epoch 3/20\n",
      "509051/509051 [==============================] - 1s 3us/step - loss: 22.2306 - custom_loss: 22.2306\n",
      "Epoch 4/20\n",
      "509051/509051 [==============================] - 1s 3us/step - loss: 22.1226 - custom_loss: 22.1226\n",
      "Epoch 5/20\n",
      "509051/509051 [==============================] - 1s 3us/step - loss: 22.0244 - custom_loss: 22.0244\n",
      "Epoch 6/20\n",
      "509051/509051 [==============================] - 1s 3us/step - loss: 21.9674 - custom_loss: 21.9674\n",
      "Epoch 7/20\n",
      "509051/509051 [==============================] - 1s 3us/step - loss: 21.9108 - custom_loss: 21.9108\n",
      "Epoch 8/20\n",
      "509051/509051 [==============================] - 1s 3us/step - loss: 21.8683 - custom_loss: 21.8683\n",
      "Epoch 9/20\n",
      "509051/509051 [==============================] - 1s 3us/step - loss: 21.8472 - custom_loss: 21.8472\n",
      "Epoch 10/20\n",
      "509051/509051 [==============================] - 1s 3us/step - loss: 21.8308 - custom_loss: 21.8308\n",
      "Epoch 11/20\n",
      "509051/509051 [==============================] - 1s 3us/step - loss: 21.8022 - custom_loss: 21.8022\n",
      "Epoch 12/20\n",
      "509051/509051 [==============================] - 1s 3us/step - loss: 21.7698 - custom_loss: 21.7698\n",
      "Epoch 13/20\n",
      "509051/509051 [==============================] - 1s 3us/step - loss: 21.7643 - custom_loss: 21.7643\n",
      "Epoch 14/20\n",
      "509051/509051 [==============================] - 1s 3us/step - loss: 21.7456 - custom_loss: 21.7456\n",
      "Epoch 15/20\n",
      "509051/509051 [==============================] - 1s 3us/step - loss: 21.7285 - custom_loss: 21.7285\n",
      "Epoch 16/20\n",
      "509051/509051 [==============================] - 1s 3us/step - loss: 21.7055 - custom_loss: 21.7055\n",
      "Epoch 17/20\n",
      "509051/509051 [==============================] - 1s 3us/step - loss: 21.6990 - custom_loss: 21.6990\n",
      "Epoch 18/20\n",
      "509051/509051 [==============================] - 1s 3us/step - loss: 21.6853 - custom_loss: 21.6853\n",
      "Epoch 19/20\n",
      "509051/509051 [==============================] - 1s 3us/step - loss: 21.6580 - custom_loss: 21.6580\n",
      "Epoch 20/20\n",
      "509051/509051 [==============================] - 1s 3us/step - loss: 21.6652 - custom_loss: 21.6652\n",
      "127262/127262 [==============================] - 2s 12us/step\n",
      "509051/509051 [==============================] - 1s 1us/step\n",
      "Epoch 1/20\n",
      "509051/509051 [==============================] - 5s 9us/step - loss: 27.3832 - custom_loss: 27.3832\n",
      "Epoch 2/20\n",
      "509051/509051 [==============================] - 1s 3us/step - loss: 22.4870 - custom_loss: 22.4870\n",
      "Epoch 3/20\n",
      "509051/509051 [==============================] - 1s 3us/step - loss: 22.1925 - custom_loss: 22.1925\n",
      "Epoch 4/20\n",
      "509051/509051 [==============================] - 1s 3us/step - loss: 22.0364 - custom_loss: 22.0364\n",
      "Epoch 5/20\n",
      "509051/509051 [==============================] - 1s 3us/step - loss: 21.9328 - custom_loss: 21.9328\n",
      "Epoch 6/20\n",
      "509051/509051 [==============================] - 1s 3us/step - loss: 21.8975 - custom_loss: 21.8975\n",
      "Epoch 7/20\n",
      "509051/509051 [==============================] - 1s 3us/step - loss: 21.8379 - custom_loss: 21.8379\n",
      "Epoch 8/20\n",
      "509051/509051 [==============================] - 1s 3us/step - loss: 21.7958 - custom_loss: 21.7958\n",
      "Epoch 9/20\n",
      "509051/509051 [==============================] - 1s 3us/step - loss: 21.7809 - custom_loss: 21.7809\n",
      "Epoch 10/20\n",
      "509051/509051 [==============================] - 1s 3us/step - loss: 21.7176 - custom_loss: 21.7176\n",
      "Epoch 11/20\n",
      "509051/509051 [==============================] - 1s 3us/step - loss: 21.7322 - custom_loss: 21.7322\n",
      "Epoch 12/20\n",
      "509051/509051 [==============================] - 1s 3us/step - loss: 21.6733 - custom_loss: 21.6733\n",
      "Epoch 13/20\n",
      "509051/509051 [==============================] - 1s 3us/step - loss: 21.6523 - custom_loss: 21.6523\n",
      "Epoch 14/20\n",
      "509051/509051 [==============================] - 1s 3us/step - loss: 21.6478 - custom_loss: 21.6478\n",
      "Epoch 15/20\n",
      "509051/509051 [==============================] - 1s 3us/step - loss: 21.6441 - custom_loss: 21.6441\n",
      "Epoch 16/20\n",
      "509051/509051 [==============================] - 1s 3us/step - loss: 21.6213 - custom_loss: 21.6213\n",
      "Epoch 17/20\n",
      "509051/509051 [==============================] - 1s 3us/step - loss: 21.6185 - custom_loss: 21.6185\n",
      "Epoch 18/20\n",
      "509051/509051 [==============================] - 1s 3us/step - loss: 21.5910 - custom_loss: 21.5910\n",
      "Epoch 19/20\n",
      "509051/509051 [==============================] - 1s 3us/step - loss: 21.5732 - custom_loss: 21.5732\n",
      "Epoch 20/20\n",
      "509051/509051 [==============================] - 1s 3us/step - loss: 21.5665 - custom_loss: 21.5665\n",
      "127262/127262 [==============================] - 2s 12us/step\n",
      "509051/509051 [==============================] - 1s 1us/step\n",
      "Epoch 1/20\n",
      "509050/509050 [==============================] - 5s 9us/step - loss: 29.0494 - custom_loss: 29.0494\n",
      "Epoch 2/20\n",
      "509050/509050 [==============================] - 1s 3us/step - loss: 22.4806 - custom_loss: 22.4806\n",
      "Epoch 3/20\n",
      "509050/509050 [==============================] - 1s 3us/step - loss: 22.1301 - custom_loss: 22.1301\n",
      "Epoch 4/20\n",
      "509050/509050 [==============================] - 1s 3us/step - loss: 21.9786 - custom_loss: 21.9786\n",
      "Epoch 5/20\n",
      "509050/509050 [==============================] - 1s 3us/step - loss: 21.9004 - custom_loss: 21.9004\n",
      "Epoch 6/20\n",
      "509050/509050 [==============================] - 1s 3us/step - loss: 21.8264 - custom_loss: 21.8264\n",
      "Epoch 7/20\n",
      "509050/509050 [==============================] - 1s 3us/step - loss: 21.7880 - custom_loss: 21.7880\n",
      "Epoch 8/20\n",
      "509050/509050 [==============================] - 1s 3us/step - loss: 21.7520 - custom_loss: 21.7520\n",
      "Epoch 9/20\n",
      "509050/509050 [==============================] - 1s 3us/step - loss: 21.7309 - custom_loss: 21.7309\n",
      "Epoch 10/20\n",
      "509050/509050 [==============================] - 1s 3us/step - loss: 21.6966 - custom_loss: 21.6966\n",
      "Epoch 11/20\n",
      "509050/509050 [==============================] - 1s 3us/step - loss: 21.6854 - custom_loss: 21.6854\n",
      "Epoch 12/20\n",
      "509050/509050 [==============================] - 1s 3us/step - loss: 21.6639 - custom_loss: 21.6639\n",
      "Epoch 13/20\n",
      "509050/509050 [==============================] - 1s 3us/step - loss: 21.6483 - custom_loss: 21.6483\n",
      "Epoch 14/20\n",
      "509050/509050 [==============================] - 1s 3us/step - loss: 21.6355 - custom_loss: 21.6355\n",
      "Epoch 15/20\n",
      "509050/509050 [==============================] - 1s 3us/step - loss: 21.6229 - custom_loss: 21.6229\n",
      "Epoch 16/20\n",
      "509050/509050 [==============================] - 1s 3us/step - loss: 21.6216 - custom_loss: 21.6216\n",
      "Epoch 17/20\n",
      "509050/509050 [==============================] - 1s 3us/step - loss: 21.6025 - custom_loss: 21.6025A: 0s - loss: 21.6222 - custom_l\n",
      "Epoch 18/20\n",
      "509050/509050 [==============================] - 1s 3us/step - loss: 21.5954 - custom_loss: 21.5954\n",
      "Epoch 19/20\n",
      "509050/509050 [==============================] - 1s 3us/step - loss: 21.5815 - custom_loss: 21.5815\n",
      "Epoch 20/20\n",
      "509050/509050 [==============================] - 1s 3us/step - loss: 21.5726 - custom_loss: 21.5726\n",
      "127263/127263 [==============================] - 2s 12us/step\n",
      "509050/509050 [==============================] - 1s 1us/step\n",
      "Epoch 1/20\n"
     ]
    },
    {
     "name": "stdout",
     "output_type": "stream",
     "text": [
      "509050/509050 [==============================] - 5s 9us/step - loss: 28.4933 - custom_loss: 28.4933\n",
      "Epoch 2/20\n",
      "509050/509050 [==============================] - 1s 3us/step - loss: 22.6519 - custom_loss: 22.6519\n",
      "Epoch 3/20\n",
      "509050/509050 [==============================] - 1s 3us/step - loss: 22.3352 - custom_loss: 22.3352\n",
      "Epoch 4/20\n",
      "509050/509050 [==============================] - 1s 3us/step - loss: 22.1684 - custom_loss: 22.1684\n",
      "Epoch 5/20\n",
      "509050/509050 [==============================] - 1s 3us/step - loss: 22.0842 - custom_loss: 22.0842\n",
      "Epoch 6/20\n",
      "509050/509050 [==============================] - 1s 3us/step - loss: 21.9892 - custom_loss: 21.9892\n",
      "Epoch 7/20\n",
      "509050/509050 [==============================] - 1s 3us/step - loss: 21.9672 - custom_loss: 21.9672\n",
      "Epoch 8/20\n",
      "509050/509050 [==============================] - 1s 3us/step - loss: 21.9259 - custom_loss: 21.9259\n",
      "Epoch 9/20\n",
      "509050/509050 [==============================] - 1s 3us/step - loss: 21.8788 - custom_loss: 21.8788\n",
      "Epoch 10/20\n",
      "509050/509050 [==============================] - 1s 3us/step - loss: 21.8480 - custom_loss: 21.8480\n",
      "Epoch 11/20\n",
      "509050/509050 [==============================] - 1s 3us/step - loss: 21.8335 - custom_loss: 21.8335\n",
      "Epoch 12/20\n",
      "509050/509050 [==============================] - 1s 3us/step - loss: 21.8167 - custom_loss: 21.8167\n",
      "Epoch 13/20\n",
      "509050/509050 [==============================] - 1s 3us/step - loss: 21.7746 - custom_loss: 21.7746\n",
      "Epoch 14/20\n",
      "509050/509050 [==============================] - 1s 3us/step - loss: 21.7688 - custom_loss: 21.7688\n",
      "Epoch 15/20\n",
      "509050/509050 [==============================] - 1s 3us/step - loss: 21.7549 - custom_loss: 21.7549\n",
      "Epoch 16/20\n",
      "509050/509050 [==============================] - 1s 3us/step - loss: 21.7398 - custom_loss: 21.7398\n",
      "Epoch 17/20\n",
      "509050/509050 [==============================] - 1s 3us/step - loss: 21.7250 - custom_loss: 21.7250\n",
      "Epoch 18/20\n",
      "509050/509050 [==============================] - 1s 3us/step - loss: 21.7062 - custom_loss: 21.7062\n",
      "Epoch 19/20\n",
      "509050/509050 [==============================] - 1s 3us/step - loss: 21.7058 - custom_loss: 21.7058\n",
      "Epoch 20/20\n",
      "509050/509050 [==============================] - 1s 3us/step - loss: 21.6885 - custom_loss: 21.6885\n",
      "127263/127263 [==============================] - 1s 12us/step\n",
      "509050/509050 [==============================] - 1s 1us/step\n",
      "Epoch 1/20\n",
      "509050/509050 [==============================] - 5s 10us/step - loss: 27.9063 - custom_loss: 27.9063\n",
      "Epoch 2/20\n",
      "509050/509050 [==============================] - 1s 3us/step - loss: 22.8398 - custom_loss: 22.8398\n",
      "Epoch 3/20\n",
      "509050/509050 [==============================] - 1s 3us/step - loss: 22.4466 - custom_loss: 22.4466\n",
      "Epoch 4/20\n",
      "509050/509050 [==============================] - 1s 3us/step - loss: 22.2971 - custom_loss: 22.2971\n",
      "Epoch 5/20\n",
      "509050/509050 [==============================] - 1s 3us/step - loss: 22.1774 - custom_loss: 22.1774\n",
      "Epoch 6/20\n",
      "509050/509050 [==============================] - 1s 3us/step - loss: 22.1101 - custom_loss: 22.1101\n",
      "Epoch 7/20\n",
      "509050/509050 [==============================] - 1s 3us/step - loss: 22.0359 - custom_loss: 22.0359\n",
      "Epoch 8/20\n",
      "509050/509050 [==============================] - 1s 3us/step - loss: 21.9812 - custom_loss: 21.9812\n",
      "Epoch 9/20\n",
      "509050/509050 [==============================] - 1s 3us/step - loss: 21.9370 - custom_loss: 21.9370\n",
      "Epoch 10/20\n",
      "509050/509050 [==============================] - 1s 3us/step - loss: 21.9171 - custom_loss: 21.9171\n",
      "Epoch 11/20\n",
      "509050/509050 [==============================] - 1s 3us/step - loss: 21.8787 - custom_loss: 21.8787\n",
      "Epoch 12/20\n",
      "509050/509050 [==============================] - 1s 3us/step - loss: 21.8502 - custom_loss: 21.8502\n",
      "Epoch 13/20\n",
      "509050/509050 [==============================] - 1s 3us/step - loss: 21.8360 - custom_loss: 21.8360\n",
      "Epoch 14/20\n",
      "509050/509050 [==============================] - 1s 3us/step - loss: 21.7992 - custom_loss: 21.7992\n",
      "Epoch 15/20\n",
      "509050/509050 [==============================] - 1s 3us/step - loss: 21.7795 - custom_loss: 21.7795\n",
      "Epoch 16/20\n",
      "509050/509050 [==============================] - 1s 3us/step - loss: 21.7660 - custom_loss: 21.7660\n",
      "Epoch 17/20\n",
      "509050/509050 [==============================] - 1s 3us/step - loss: 21.7410 - custom_loss: 21.7410\n",
      "Epoch 18/20\n",
      "509050/509050 [==============================] - 1s 3us/step - loss: 21.7381 - custom_loss: 21.7381\n",
      "Epoch 19/20\n",
      "509050/509050 [==============================] - 1s 3us/step - loss: 21.7032 - custom_loss: 21.7032\n",
      "Epoch 20/20\n",
      "509050/509050 [==============================] - 1s 3us/step - loss: 21.7284 - custom_loss: 21.7284\n",
      "127263/127263 [==============================] - 2s 12us/step\n",
      "509050/509050 [==============================] - 1s 1us/step\n",
      "Epoch 1/20\n",
      "509051/509051 [==============================] - 5s 10us/step - loss: 28.1905 - custom_loss: 28.1905\n",
      "Epoch 2/20\n",
      "509051/509051 [==============================] - 1s 3us/step - loss: 22.6023 - custom_loss: 22.6023\n",
      "Epoch 3/20\n",
      "509051/509051 [==============================] - 1s 3us/step - loss: 22.2827 - custom_loss: 22.2827\n",
      "Epoch 4/20\n",
      "509051/509051 [==============================] - 1s 3us/step - loss: 22.1356 - custom_loss: 22.1356\n",
      "Epoch 5/20\n",
      "509051/509051 [==============================] - 1s 3us/step - loss: 22.0757 - custom_loss: 22.0757A: 1s - loss: 22.2433 - \n",
      "Epoch 6/20\n",
      "509051/509051 [==============================] - 1s 3us/step - loss: 21.9821 - custom_loss: 21.9821\n",
      "Epoch 7/20\n",
      "509051/509051 [==============================] - 1s 3us/step - loss: 21.9453 - custom_loss: 21.9453\n",
      "Epoch 8/20\n",
      "509051/509051 [==============================] - 1s 3us/step - loss: 21.9143 - custom_loss: 21.9143\n",
      "Epoch 9/20\n",
      "509051/509051 [==============================] - 1s 3us/step - loss: 21.8688 - custom_loss: 21.8688\n",
      "Epoch 10/20\n",
      "509051/509051 [==============================] - 1s 3us/step - loss: 21.8440 - custom_loss: 21.8440\n",
      "Epoch 11/20\n",
      "509051/509051 [==============================] - 1s 3us/step - loss: 21.8143 - custom_loss: 21.8143\n",
      "Epoch 12/20\n",
      "509051/509051 [==============================] - 1s 3us/step - loss: 21.7913 - custom_loss: 21.7913\n",
      "Epoch 13/20\n",
      "509051/509051 [==============================] - 1s 3us/step - loss: 21.7639 - custom_loss: 21.7639\n",
      "Epoch 14/20\n",
      "509051/509051 [==============================] - 1s 3us/step - loss: 21.7563 - custom_loss: 21.7563\n",
      "Epoch 15/20\n",
      "509051/509051 [==============================] - 1s 3us/step - loss: 21.7245 - custom_loss: 21.7245\n",
      "Epoch 16/20\n",
      "509051/509051 [==============================] - 1s 3us/step - loss: 21.7226 - custom_loss: 21.7226\n",
      "Epoch 17/20\n",
      "509051/509051 [==============================] - 1s 3us/step - loss: 21.6988 - custom_loss: 21.6988\n",
      "Epoch 18/20\n",
      "509051/509051 [==============================] - 1s 3us/step - loss: 21.6767 - custom_loss: 21.6767\n",
      "Epoch 19/20\n",
      "509051/509051 [==============================] - 1s 3us/step - loss: 21.6634 - custom_loss: 21.6634\n",
      "Epoch 20/20\n",
      "509051/509051 [==============================] - 1s 3us/step - loss: 21.6434 - custom_loss: 21.6434\n",
      "127262/127262 [==============================] - 2s 13us/step\n",
      "509051/509051 [==============================] - 1s 1us/step\n",
      "Epoch 1/20\n",
      "509051/509051 [==============================] - 5s 10us/step - loss: 28.5299 - custom_loss: 28.5299\n",
      "Epoch 2/20\n",
      "509051/509051 [==============================] - 1s 3us/step - loss: 22.6236 - custom_loss: 22.6236\n",
      "Epoch 3/20\n",
      "509051/509051 [==============================] - 1s 3us/step - loss: 22.2810 - custom_loss: 22.2810\n",
      "Epoch 4/20\n",
      "509051/509051 [==============================] - 1s 3us/step - loss: 22.1057 - custom_loss: 22.1057\n",
      "Epoch 5/20\n",
      "509051/509051 [==============================] - 1s 3us/step - loss: 22.0442 - custom_loss: 22.0442\n",
      "Epoch 6/20\n",
      "509051/509051 [==============================] - 1s 3us/step - loss: 21.9766 - custom_loss: 21.9766\n",
      "Epoch 7/20\n",
      "509051/509051 [==============================] - 1s 3us/step - loss: 21.9019 - custom_loss: 21.9019A: 0s - loss: 21.9276 - custom_loss\n",
      "Epoch 8/20\n",
      "509051/509051 [==============================] - 1s 3us/step - loss: 21.8642 - custom_loss: 21.8642\n",
      "Epoch 9/20\n",
      "509051/509051 [==============================] - 1s 3us/step - loss: 21.8157 - custom_loss: 21.8157\n",
      "Epoch 10/20\n"
     ]
    },
    {
     "name": "stdout",
     "output_type": "stream",
     "text": [
      "509051/509051 [==============================] - 1s 3us/step - loss: 21.8002 - custom_loss: 21.8002\n",
      "Epoch 11/20\n",
      "509051/509051 [==============================] - 1s 3us/step - loss: 21.7798 - custom_loss: 21.7798\n",
      "Epoch 12/20\n",
      "509051/509051 [==============================] - 1s 3us/step - loss: 21.7506 - custom_loss: 21.7506\n",
      "Epoch 13/20\n",
      "509051/509051 [==============================] - 1s 3us/step - loss: 21.7457 - custom_loss: 21.7457\n",
      "Epoch 14/20\n",
      "509051/509051 [==============================] - 1s 3us/step - loss: 21.7139 - custom_loss: 21.7139\n",
      "Epoch 15/20\n",
      "509051/509051 [==============================] - 1s 3us/step - loss: 21.7063 - custom_loss: 21.7063\n",
      "Epoch 16/20\n",
      "509051/509051 [==============================] - 1s 3us/step - loss: 21.6891 - custom_loss: 21.6891\n",
      "Epoch 17/20\n",
      "509051/509051 [==============================] - 1s 3us/step - loss: 21.6858 - custom_loss: 21.6858\n",
      "Epoch 18/20\n",
      "509051/509051 [==============================] - 1s 3us/step - loss: 21.6643 - custom_loss: 21.6643\n",
      "Epoch 19/20\n",
      "509051/509051 [==============================] - 1s 3us/step - loss: 21.6565 - custom_loss: 21.6565\n",
      "Epoch 20/20\n",
      "509051/509051 [==============================] - 1s 3us/step - loss: 21.6579 - custom_loss: 21.6579\n",
      "127262/127262 [==============================] - 2s 12us/step\n",
      "509051/509051 [==============================] - 1s 1us/step\n",
      "Epoch 1/20\n",
      "509050/509050 [==============================] - 5s 10us/step - loss: 28.3490 - custom_loss: 28.3490\n",
      "Epoch 2/20\n",
      "509050/509050 [==============================] - 1s 3us/step - loss: 22.5254 - custom_loss: 22.5254\n",
      "Epoch 3/20\n",
      "509050/509050 [==============================] - 1s 3us/step - loss: 22.1698 - custom_loss: 22.1698\n",
      "Epoch 4/20\n",
      "509050/509050 [==============================] - 1s 3us/step - loss: 22.0135 - custom_loss: 22.0135\n",
      "Epoch 5/20\n",
      "509050/509050 [==============================] - 1s 3us/step - loss: 21.9342 - custom_loss: 21.9342\n",
      "Epoch 6/20\n",
      "509050/509050 [==============================] - 1s 3us/step - loss: 21.8839 - custom_loss: 21.8839\n",
      "Epoch 7/20\n",
      "509050/509050 [==============================] - 1s 3us/step - loss: 21.8257 - custom_loss: 21.8257\n",
      "Epoch 8/20\n",
      "509050/509050 [==============================] - 1s 3us/step - loss: 21.8021 - custom_loss: 21.8021\n",
      "Epoch 9/20\n",
      "509050/509050 [==============================] - 1s 3us/step - loss: 21.7614 - custom_loss: 21.7614\n",
      "Epoch 10/20\n",
      "509050/509050 [==============================] - 1s 3us/step - loss: 21.7507 - custom_loss: 21.7507\n",
      "Epoch 11/20\n",
      "509050/509050 [==============================] - 1s 3us/step - loss: 21.7205 - custom_loss: 21.7205\n",
      "Epoch 12/20\n",
      "509050/509050 [==============================] - 1s 3us/step - loss: 21.6994 - custom_loss: 21.6994\n",
      "Epoch 13/20\n",
      "509050/509050 [==============================] - 1s 3us/step - loss: 21.6804 - custom_loss: 21.6804\n",
      "Epoch 14/20\n",
      "509050/509050 [==============================] - 1s 3us/step - loss: 21.6584 - custom_loss: 21.6584\n",
      "Epoch 15/20\n",
      "509050/509050 [==============================] - 1s 3us/step - loss: 21.6444 - custom_loss: 21.6444\n",
      "Epoch 16/20\n",
      "509050/509050 [==============================] - 1s 3us/step - loss: 21.6303 - custom_loss: 21.6303\n",
      "Epoch 17/20\n",
      "509050/509050 [==============================] - 1s 3us/step - loss: 21.6093 - custom_loss: 21.6093\n",
      "Epoch 18/20\n",
      "509050/509050 [==============================] - 1s 3us/step - loss: 21.5997 - custom_loss: 21.5997\n",
      "Epoch 19/20\n",
      "509050/509050 [==============================] - 1s 3us/step - loss: 21.5862 - custom_loss: 21.5862\n",
      "Epoch 20/20\n",
      "509050/509050 [==============================] - 1s 3us/step - loss: 21.5757 - custom_loss: 21.5757\n",
      "127263/127263 [==============================] - 2s 13us/step\n",
      "509050/509050 [==============================] - 1s 1us/step\n",
      "Epoch 1/20\n",
      "509050/509050 [==============================] - 5s 10us/step - loss: 28.7287 - custom_loss: 28.7287\n",
      "Epoch 2/20\n",
      "509050/509050 [==============================] - 1s 3us/step - loss: 22.9287 - custom_loss: 22.9287\n",
      "Epoch 3/20\n",
      "509050/509050 [==============================] - 1s 3us/step - loss: 22.4178 - custom_loss: 22.4178\n",
      "Epoch 4/20\n",
      "509050/509050 [==============================] - 1s 3us/step - loss: 22.2785 - custom_loss: 22.2785\n",
      "Epoch 5/20\n",
      "509050/509050 [==============================] - 1s 3us/step - loss: 22.1421 - custom_loss: 22.1421\n",
      "Epoch 6/20\n",
      "509050/509050 [==============================] - 1s 3us/step - loss: 22.0693 - custom_loss: 22.0693\n",
      "Epoch 7/20\n",
      "509050/509050 [==============================] - 1s 3us/step - loss: 22.0004 - custom_loss: 22.0004\n",
      "Epoch 8/20\n",
      "509050/509050 [==============================] - 1s 3us/step - loss: 21.9803 - custom_loss: 21.9803\n",
      "Epoch 9/20\n",
      "509050/509050 [==============================] - 1s 3us/step - loss: 21.9319 - custom_loss: 21.9319\n",
      "Epoch 10/20\n",
      "509050/509050 [==============================] - 1s 3us/step - loss: 21.8956 - custom_loss: 21.8956\n",
      "Epoch 11/20\n",
      "509050/509050 [==============================] - 1s 3us/step - loss: 21.8851 - custom_loss: 21.8851\n",
      "Epoch 12/20\n",
      "509050/509050 [==============================] - 1s 3us/step - loss: 21.8553 - custom_loss: 21.8553\n",
      "Epoch 13/20\n",
      "509050/509050 [==============================] - 1s 3us/step - loss: 21.8385 - custom_loss: 21.8385\n",
      "Epoch 14/20\n",
      "509050/509050 [==============================] - 1s 3us/step - loss: 21.8120 - custom_loss: 21.8120\n",
      "Epoch 15/20\n",
      "509050/509050 [==============================] - 1s 3us/step - loss: 21.8089 - custom_loss: 21.8089\n",
      "Epoch 16/20\n",
      "509050/509050 [==============================] - 1s 3us/step - loss: 21.7843 - custom_loss: 21.7843\n",
      "Epoch 17/20\n",
      "509050/509050 [==============================] - 1s 3us/step - loss: 21.7540 - custom_loss: 21.7540\n",
      "Epoch 18/20\n",
      "509050/509050 [==============================] - 1s 3us/step - loss: 21.7587 - custom_loss: 21.7587\n",
      "Epoch 19/20\n",
      "509050/509050 [==============================] - 1s 3us/step - loss: 21.7370 - custom_loss: 21.7370\n",
      "Epoch 20/20\n",
      "509050/509050 [==============================] - 1s 3us/step - loss: 21.7340 - custom_loss: 21.7340\n",
      "127263/127263 [==============================] - 2s 13us/step\n",
      "509050/509050 [==============================] - 1s 1us/step\n",
      "Epoch 1/20\n",
      "509050/509050 [==============================] - 5s 10us/step - loss: 28.6410 - custom_loss: 28.6410\n",
      "Epoch 2/20\n",
      "509050/509050 [==============================] - 1s 3us/step - loss: 22.7969 - custom_loss: 22.7969\n",
      "Epoch 3/20\n",
      "509050/509050 [==============================] - 1s 3us/step - loss: 22.4150 - custom_loss: 22.4150\n",
      "Epoch 4/20\n",
      "509050/509050 [==============================] - 1s 3us/step - loss: 22.2735 - custom_loss: 22.2735\n",
      "Epoch 5/20\n",
      "509050/509050 [==============================] - 1s 3us/step - loss: 22.2094 - custom_loss: 22.2094\n",
      "Epoch 6/20\n",
      "509050/509050 [==============================] - 1s 3us/step - loss: 22.1048 - custom_loss: 22.1048\n",
      "Epoch 7/20\n",
      "509050/509050 [==============================] - 1s 3us/step - loss: 22.0651 - custom_loss: 22.0651\n",
      "Epoch 8/20\n",
      "509050/509050 [==============================] - 1s 3us/step - loss: 21.9886 - custom_loss: 21.9886\n",
      "Epoch 9/20\n",
      "509050/509050 [==============================] - 1s 3us/step - loss: 21.9398 - custom_loss: 21.9398\n",
      "Epoch 10/20\n",
      "509050/509050 [==============================] - 1s 3us/step - loss: 21.9100 - custom_loss: 21.9100\n",
      "Epoch 11/20\n",
      "509050/509050 [==============================] - 1s 3us/step - loss: 21.8974 - custom_loss: 21.8974\n",
      "Epoch 12/20\n",
      "509050/509050 [==============================] - 1s 3us/step - loss: 21.8502 - custom_loss: 21.8502\n",
      "Epoch 13/20\n",
      "509050/509050 [==============================] - 1s 3us/step - loss: 21.8466 - custom_loss: 21.8466\n",
      "Epoch 14/20\n",
      "509050/509050 [==============================] - 1s 3us/step - loss: 21.8126 - custom_loss: 21.8126\n",
      "Epoch 15/20\n",
      "509050/509050 [==============================] - 1s 3us/step - loss: 21.8028 - custom_loss: 21.8028\n",
      "Epoch 16/20\n",
      "509050/509050 [==============================] - 1s 3us/step - loss: 21.7793 - custom_loss: 21.7793\n",
      "Epoch 17/20\n",
      "509050/509050 [==============================] - 1s 3us/step - loss: 21.7586 - custom_loss: 21.7586\n",
      "Epoch 18/20\n",
      "509050/509050 [==============================] - 1s 3us/step - loss: 21.7367 - custom_loss: 21.7367\n",
      "Epoch 19/20\n",
      "509050/509050 [==============================] - 1s 3us/step - loss: 21.7373 - custom_loss: 21.7373\n",
      "Epoch 20/20\n"
     ]
    },
    {
     "name": "stdout",
     "output_type": "stream",
     "text": [
      "509050/509050 [==============================] - 1s 3us/step - loss: 21.7263 - custom_loss: 21.7263\n",
      "127263/127263 [==============================] - 2s 13us/step\n",
      "509050/509050 [==============================] - 1s 1us/step\n",
      "Epoch 1/20\n",
      "509051/509051 [==============================] - 5s 10us/step - loss: 100.0000 - custom_loss: 100.0000\n",
      "Epoch 2/20\n",
      "509051/509051 [==============================] - 1s 3us/step - loss: 100.0000 - custom_loss: 100.0000\n",
      "Epoch 3/20\n",
      "509051/509051 [==============================] - 1s 3us/step - loss: 100.0000 - custom_loss: 100.0000\n",
      "Epoch 4/20\n",
      "509051/509051 [==============================] - 1s 3us/step - loss: 100.0000 - custom_loss: 100.0000\n",
      "Epoch 5/20\n",
      "509051/509051 [==============================] - 1s 3us/step - loss: 100.0000 - custom_loss: 100.0000\n",
      "Epoch 6/20\n",
      "509051/509051 [==============================] - 1s 3us/step - loss: 100.0000 - custom_loss: 100.0000\n",
      "Epoch 7/20\n",
      "509051/509051 [==============================] - 1s 3us/step - loss: 100.0000 - custom_loss: 100.0000\n",
      "Epoch 8/20\n",
      "509051/509051 [==============================] - 1s 3us/step - loss: 100.0000 - custom_loss: 100.0000\n",
      "Epoch 9/20\n",
      "509051/509051 [==============================] - 1s 3us/step - loss: 100.0000 - custom_loss: 100.0000\n",
      "Epoch 10/20\n",
      "509051/509051 [==============================] - 1s 3us/step - loss: 100.0000 - custom_loss: 100.0000\n",
      "Epoch 11/20\n",
      "509051/509051 [==============================] - 1s 3us/step - loss: 100.0000 - custom_loss: 100.0000\n",
      "Epoch 12/20\n",
      "509051/509051 [==============================] - 1s 3us/step - loss: 100.0000 - custom_loss: 100.0000\n",
      "Epoch 13/20\n",
      "509051/509051 [==============================] - 1s 3us/step - loss: 100.0000 - custom_loss: 100.0000\n",
      "Epoch 14/20\n",
      "509051/509051 [==============================] - 1s 3us/step - loss: 100.0000 - custom_loss: 100.0000\n",
      "Epoch 15/20\n",
      "509051/509051 [==============================] - 1s 3us/step - loss: 100.0000 - custom_loss: 100.0000\n",
      "Epoch 16/20\n",
      "509051/509051 [==============================] - 1s 3us/step - loss: 100.0000 - custom_loss: 100.0000\n",
      "Epoch 17/20\n",
      "509051/509051 [==============================] - 1s 3us/step - loss: 100.0000 - custom_loss: 100.0000\n",
      "Epoch 18/20\n",
      "509051/509051 [==============================] - 1s 3us/step - loss: 100.0000 - custom_loss: 100.0000\n",
      "Epoch 19/20\n",
      "509051/509051 [==============================] - 1s 3us/step - loss: 100.0000 - custom_loss: 100.0000\n",
      "Epoch 20/20\n",
      "509051/509051 [==============================] - 1s 3us/step - loss: 100.0000 - custom_loss: 100.0000\n",
      "127262/127262 [==============================] - 2s 13us/step\n",
      "509051/509051 [==============================] - 1s 1us/step\n",
      "Epoch 1/20\n",
      "509051/509051 [==============================] - 5s 10us/step - loss: 29.9440 - custom_loss: 29.9440\n",
      "Epoch 2/20\n",
      "509051/509051 [==============================] - 1s 3us/step - loss: 22.9281 - custom_loss: 22.9281\n",
      "Epoch 3/20\n",
      "509051/509051 [==============================] - 1s 3us/step - loss: 22.4390 - custom_loss: 22.4390\n",
      "Epoch 4/20\n",
      "509051/509051 [==============================] - 1s 3us/step - loss: 22.2254 - custom_loss: 22.2254\n",
      "Epoch 5/20\n",
      "509051/509051 [==============================] - 1s 3us/step - loss: 22.1293 - custom_loss: 22.1293\n",
      "Epoch 6/20\n",
      "509051/509051 [==============================] - 1s 3us/step - loss: 22.0542 - custom_loss: 22.0542\n",
      "Epoch 7/20\n",
      "509051/509051 [==============================] - 1s 3us/step - loss: 21.9684 - custom_loss: 21.9684\n",
      "Epoch 8/20\n",
      "509051/509051 [==============================] - 1s 3us/step - loss: 21.9286 - custom_loss: 21.9286\n",
      "Epoch 9/20\n",
      "509051/509051 [==============================] - 1s 3us/step - loss: 21.9225 - custom_loss: 21.9225\n",
      "Epoch 10/20\n",
      "509051/509051 [==============================] - 1s 3us/step - loss: 21.8598 - custom_loss: 21.8598\n",
      "Epoch 11/20\n",
      "509051/509051 [==============================] - 1s 3us/step - loss: 21.8240 - custom_loss: 21.8240\n",
      "Epoch 12/20\n",
      "509051/509051 [==============================] - 1s 3us/step - loss: 21.7950 - custom_loss: 21.7950\n",
      "Epoch 13/20\n",
      "509051/509051 [==============================] - 1s 3us/step - loss: 21.7784 - custom_loss: 21.7784\n",
      "Epoch 14/20\n",
      "509051/509051 [==============================] - 1s 3us/step - loss: 21.7794 - custom_loss: 21.7794\n",
      "Epoch 15/20\n",
      "509051/509051 [==============================] - 1s 3us/step - loss: 21.7372 - custom_loss: 21.7372\n",
      "Epoch 16/20\n",
      "509051/509051 [==============================] - 1s 3us/step - loss: 21.7264 - custom_loss: 21.7264\n",
      "Epoch 17/20\n",
      "509051/509051 [==============================] - 1s 3us/step - loss: 21.7371 - custom_loss: 21.7371\n",
      "Epoch 18/20\n",
      "509051/509051 [==============================] - 1s 3us/step - loss: 21.7122 - custom_loss: 21.7122\n",
      "Epoch 19/20\n",
      "509051/509051 [==============================] - 1s 3us/step - loss: 21.6858 - custom_loss: 21.6858\n",
      "Epoch 20/20\n",
      "509051/509051 [==============================] - 1s 3us/step - loss: 21.6738 - custom_loss: 21.6738\n",
      "127262/127262 [==============================] - 2s 13us/step\n",
      "509051/509051 [==============================] - 1s 1us/step\n",
      "Epoch 1/20\n",
      "509050/509050 [==============================] - 5s 10us/step - loss: 27.8467 - custom_loss: 27.8467\n",
      "Epoch 2/20\n",
      "509050/509050 [==============================] - 1s 3us/step - loss: 22.3445 - custom_loss: 22.3445\n",
      "Epoch 3/20\n",
      "509050/509050 [==============================] - 1s 3us/step - loss: 22.0721 - custom_loss: 22.0721\n",
      "Epoch 4/20\n",
      "509050/509050 [==============================] - 1s 3us/step - loss: 21.9760 - custom_loss: 21.9760\n",
      "Epoch 5/20\n",
      "509050/509050 [==============================] - 1s 3us/step - loss: 21.8854 - custom_loss: 21.8854\n",
      "Epoch 6/20\n",
      "509050/509050 [==============================] - 1s 3us/step - loss: 21.8367 - custom_loss: 21.8367\n",
      "Epoch 7/20\n",
      "509050/509050 [==============================] - 1s 3us/step - loss: 21.8090 - custom_loss: 21.8090\n",
      "Epoch 8/20\n",
      "509050/509050 [==============================] - 1s 3us/step - loss: 21.7746 - custom_loss: 21.7746\n",
      "Epoch 9/20\n",
      "509050/509050 [==============================] - 1s 3us/step - loss: 21.7335 - custom_loss: 21.7335\n",
      "Epoch 10/20\n",
      "509050/509050 [==============================] - 1s 3us/step - loss: 21.7142 - custom_loss: 21.7142\n",
      "Epoch 11/20\n",
      "509050/509050 [==============================] - 1s 3us/step - loss: 21.6985 - custom_loss: 21.6985\n",
      "Epoch 12/20\n",
      "509050/509050 [==============================] - 1s 3us/step - loss: 21.6820 - custom_loss: 21.6820A: 1s - loss: 21.4433\n",
      "Epoch 13/20\n",
      "509050/509050 [==============================] - 1s 3us/step - loss: 21.6789 - custom_loss: 21.6789\n",
      "Epoch 14/20\n",
      "509050/509050 [==============================] - 1s 3us/step - loss: 21.6438 - custom_loss: 21.6438\n",
      "Epoch 15/20\n",
      "509050/509050 [==============================] - 1s 3us/step - loss: 21.6296 - custom_loss: 21.6296\n",
      "Epoch 16/20\n",
      "509050/509050 [==============================] - 1s 3us/step - loss: 21.6207 - custom_loss: 21.6207\n",
      "Epoch 17/20\n",
      "509050/509050 [==============================] - 1s 3us/step - loss: 21.6115 - custom_loss: 21.6115\n",
      "Epoch 18/20\n",
      "509050/509050 [==============================] - 1s 3us/step - loss: 21.5963 - custom_loss: 21.5963\n",
      "Epoch 19/20\n",
      "509050/509050 [==============================] - 1s 3us/step - loss: 21.5844 - custom_loss: 21.5844\n",
      "Epoch 20/20\n",
      "509050/509050 [==============================] - 1s 3us/step - loss: 21.5721 - custom_loss: 21.5721\n",
      "127263/127263 [==============================] - 2s 13us/step\n",
      "509050/509050 [==============================] - 1s 1us/step\n",
      "Epoch 1/20\n",
      "509050/509050 [==============================] - 5s 10us/step - loss: 27.3118 - custom_loss: 27.3118\n",
      "Epoch 2/20\n",
      "509050/509050 [==============================] - 1s 3us/step - loss: 22.7402 - custom_loss: 22.7402\n",
      "Epoch 3/20\n",
      "509050/509050 [==============================] - 1s 3us/step - loss: 22.3796 - custom_loss: 22.3796\n",
      "Epoch 4/20\n",
      "509050/509050 [==============================] - 1s 3us/step - loss: 22.2474 - custom_loss: 22.2474\n",
      "Epoch 5/20\n",
      "509050/509050 [==============================] - 1s 3us/step - loss: 22.1518 - custom_loss: 22.1518\n",
      "Epoch 6/20\n",
      "509050/509050 [==============================] - 1s 3us/step - loss: 22.0547 - custom_loss: 22.0547\n",
      "Epoch 7/20\n",
      "509050/509050 [==============================] - 1s 3us/step - loss: 21.9986 - custom_loss: 21.9986\n",
      "Epoch 8/20\n"
     ]
    },
    {
     "name": "stdout",
     "output_type": "stream",
     "text": [
      "509050/509050 [==============================] - 1s 3us/step - loss: 21.9519 - custom_loss: 21.9519\n",
      "Epoch 9/20\n",
      "509050/509050 [==============================] - 1s 3us/step - loss: 21.9175 - custom_loss: 21.9175\n",
      "Epoch 10/20\n",
      "509050/509050 [==============================] - 1s 3us/step - loss: 21.8820 - custom_loss: 21.8820\n",
      "Epoch 11/20\n",
      "509050/509050 [==============================] - 1s 3us/step - loss: 21.8282 - custom_loss: 21.8282\n",
      "Epoch 12/20\n",
      "509050/509050 [==============================] - 1s 3us/step - loss: 21.8120 - custom_loss: 21.8120\n",
      "Epoch 13/20\n",
      "509050/509050 [==============================] - 1s 3us/step - loss: 21.7660 - custom_loss: 21.7660\n",
      "Epoch 14/20\n",
      "509050/509050 [==============================] - 1s 3us/step - loss: 21.7662 - custom_loss: 21.7662\n",
      "Epoch 15/20\n",
      "509050/509050 [==============================] - 1s 3us/step - loss: 21.7411 - custom_loss: 21.7411\n",
      "Epoch 16/20\n",
      "509050/509050 [==============================] - 1s 3us/step - loss: 21.7062 - custom_loss: 21.7062\n",
      "Epoch 17/20\n",
      "509050/509050 [==============================] - 1s 3us/step - loss: 21.6815 - custom_loss: 21.6815\n",
      "Epoch 18/20\n",
      "509050/509050 [==============================] - 1s 3us/step - loss: 21.6684 - custom_loss: 21.6684\n",
      "Epoch 19/20\n",
      "509050/509050 [==============================] - 1s 3us/step - loss: 21.6655 - custom_loss: 21.6655\n",
      "Epoch 20/20\n",
      "509050/509050 [==============================] - 1s 3us/step - loss: 21.6257 - custom_loss: 21.6257\n",
      "127263/127263 [==============================] - 2s 14us/step\n",
      "509050/509050 [==============================] - 1s 1us/step\n",
      "Epoch 1/20\n",
      "509050/509050 [==============================] - 5s 10us/step - loss: 27.9986 - custom_loss: 27.9986\n",
      "Epoch 2/20\n",
      "509050/509050 [==============================] - 1s 3us/step - loss: 22.8062 - custom_loss: 22.8062\n",
      "Epoch 3/20\n",
      "509050/509050 [==============================] - 1s 3us/step - loss: 22.4324 - custom_loss: 22.4324\n",
      "Epoch 4/20\n",
      "509050/509050 [==============================] - 1s 3us/step - loss: 22.2665 - custom_loss: 22.2665\n",
      "Epoch 5/20\n",
      "509050/509050 [==============================] - 1s 3us/step - loss: 22.1908 - custom_loss: 22.1908\n",
      "Epoch 6/20\n",
      "509050/509050 [==============================] - 1s 3us/step - loss: 22.1384 - custom_loss: 22.1384\n",
      "Epoch 7/20\n",
      "509050/509050 [==============================] - 1s 3us/step - loss: 22.0870 - custom_loss: 22.0870\n",
      "Epoch 8/20\n",
      "509050/509050 [==============================] - 1s 3us/step - loss: 22.0587 - custom_loss: 22.0587\n",
      "Epoch 9/20\n",
      "509050/509050 [==============================] - 1s 3us/step - loss: 22.0148 - custom_loss: 22.0148\n",
      "Epoch 10/20\n",
      "509050/509050 [==============================] - 1s 3us/step - loss: 21.9793 - custom_loss: 21.9793\n",
      "Epoch 11/20\n",
      "509050/509050 [==============================] - 1s 3us/step - loss: 21.9598 - custom_loss: 21.9598\n",
      "Epoch 12/20\n",
      "509050/509050 [==============================] - 1s 3us/step - loss: 21.9161 - custom_loss: 21.9161\n",
      "Epoch 13/20\n",
      "509050/509050 [==============================] - 1s 3us/step - loss: 21.9188 - custom_loss: 21.9188\n",
      "Epoch 14/20\n",
      "509050/509050 [==============================] - 1s 3us/step - loss: 21.9107 - custom_loss: 21.9107\n",
      "Epoch 15/20\n",
      "509050/509050 [==============================] - 1s 3us/step - loss: 21.8767 - custom_loss: 21.8767\n",
      "Epoch 16/20\n",
      "509050/509050 [==============================] - 1s 3us/step - loss: 21.8649 - custom_loss: 21.8649\n",
      "Epoch 17/20\n",
      "509050/509050 [==============================] - 1s 3us/step - loss: 21.8280 - custom_loss: 21.8280\n",
      "Epoch 18/20\n",
      "509050/509050 [==============================] - 1s 3us/step - loss: 21.8261 - custom_loss: 21.8261\n",
      "Epoch 19/20\n",
      "509050/509050 [==============================] - 1s 3us/step - loss: 21.8242 - custom_loss: 21.8242\n",
      "Epoch 20/20\n",
      "509050/509050 [==============================] - 1s 3us/step - loss: 21.8085 - custom_loss: 21.8085\n",
      "127263/127263 [==============================] - 2s 14us/step\n",
      "509050/509050 [==============================] - 1s 1us/step\n",
      "Epoch 1/20\n",
      "509051/509051 [==============================] - 5s 11us/step - loss: 27.4790 - custom_loss: 27.4790\n",
      "Epoch 2/20\n",
      "509051/509051 [==============================] - 1s 3us/step - loss: 22.8092 - custom_loss: 22.8092\n",
      "Epoch 3/20\n",
      "509051/509051 [==============================] - 1s 3us/step - loss: 22.4778 - custom_loss: 22.4778\n",
      "Epoch 4/20\n",
      "509051/509051 [==============================] - 1s 3us/step - loss: 22.2659 - custom_loss: 22.2659\n",
      "Epoch 5/20\n",
      "509051/509051 [==============================] - 1s 3us/step - loss: 22.1685 - custom_loss: 22.1685\n",
      "Epoch 6/20\n",
      "509051/509051 [==============================] - 1s 3us/step - loss: 22.1053 - custom_loss: 22.1053\n",
      "Epoch 7/20\n",
      "509051/509051 [==============================] - 1s 3us/step - loss: 22.0427 - custom_loss: 22.0427\n",
      "Epoch 8/20\n",
      "509051/509051 [==============================] - 1s 3us/step - loss: 22.0035 - custom_loss: 22.0035\n",
      "Epoch 9/20\n",
      "509051/509051 [==============================] - 1s 3us/step - loss: 21.9674 - custom_loss: 21.9674\n",
      "Epoch 10/20\n",
      "509051/509051 [==============================] - 1s 3us/step - loss: 21.9188 - custom_loss: 21.9188\n",
      "Epoch 11/20\n",
      "509051/509051 [==============================] - 1s 3us/step - loss: 21.9103 - custom_loss: 21.9103\n",
      "Epoch 12/20\n",
      "509051/509051 [==============================] - 1s 3us/step - loss: 21.8601 - custom_loss: 21.8601\n",
      "Epoch 13/20\n",
      "509051/509051 [==============================] - 1s 3us/step - loss: 21.8481 - custom_loss: 21.8481\n",
      "Epoch 14/20\n",
      "509051/509051 [==============================] - 1s 3us/step - loss: 21.8274 - custom_loss: 21.8274\n",
      "Epoch 15/20\n",
      "509051/509051 [==============================] - 1s 3us/step - loss: 21.8115 - custom_loss: 21.8115\n",
      "Epoch 16/20\n",
      "509051/509051 [==============================] - 1s 3us/step - loss: 21.7875 - custom_loss: 21.7875\n",
      "Epoch 17/20\n",
      "509051/509051 [==============================] - 1s 3us/step - loss: 21.7778 - custom_loss: 21.7778\n",
      "Epoch 18/20\n",
      "509051/509051 [==============================] - 1s 3us/step - loss: 21.7503 - custom_loss: 21.7503\n",
      "Epoch 19/20\n",
      "509051/509051 [==============================] - 1s 3us/step - loss: 21.7303 - custom_loss: 21.7303\n",
      "Epoch 20/20\n",
      "509051/509051 [==============================] - 1s 3us/step - loss: 21.7321 - custom_loss: 21.7321\n",
      "127262/127262 [==============================] - 2s 13us/step\n",
      "509051/509051 [==============================] - 1s 1us/step\n",
      "Epoch 1/20\n",
      "509051/509051 [==============================] - 5s 10us/step - loss: 27.4908 - custom_loss: 27.4908\n",
      "Epoch 2/20\n",
      "509051/509051 [==============================] - 1s 3us/step - loss: 22.4928 - custom_loss: 22.4928\n",
      "Epoch 3/20\n",
      "509051/509051 [==============================] - 1s 3us/step - loss: 22.1687 - custom_loss: 22.1687\n",
      "Epoch 4/20\n",
      "509051/509051 [==============================] - 1s 3us/step - loss: 22.0361 - custom_loss: 22.0361\n",
      "Epoch 5/20\n",
      "509051/509051 [==============================] - 1s 3us/step - loss: 21.9842 - custom_loss: 21.9842\n",
      "Epoch 6/20\n",
      "509051/509051 [==============================] - 1s 3us/step - loss: 21.9066 - custom_loss: 21.9066\n",
      "Epoch 7/20\n",
      "509051/509051 [==============================] - 1s 3us/step - loss: 21.8756 - custom_loss: 21.8756\n",
      "Epoch 8/20\n",
      "509051/509051 [==============================] - 1s 3us/step - loss: 21.8367 - custom_loss: 21.8367\n",
      "Epoch 9/20\n",
      "509051/509051 [==============================] - 1s 3us/step - loss: 21.8056 - custom_loss: 21.8056\n",
      "Epoch 10/20\n",
      "509051/509051 [==============================] - 1s 3us/step - loss: 21.7816 - custom_loss: 21.7816\n",
      "Epoch 11/20\n",
      "509051/509051 [==============================] - 1s 3us/step - loss: 21.7568 - custom_loss: 21.7568\n",
      "Epoch 12/20\n",
      "509051/509051 [==============================] - 1s 3us/step - loss: 21.7352 - custom_loss: 21.7352\n",
      "Epoch 13/20\n",
      "509051/509051 [==============================] - 1s 3us/step - loss: 21.7178 - custom_loss: 21.7178\n",
      "Epoch 14/20\n",
      "509051/509051 [==============================] - 1s 3us/step - loss: 21.6936 - custom_loss: 21.6936\n",
      "Epoch 15/20\n",
      "509051/509051 [==============================] - 1s 3us/step - loss: 21.6835 - custom_loss: 21.6835\n",
      "Epoch 16/20\n",
      "509051/509051 [==============================] - 1s 3us/step - loss: 21.6632 - custom_loss: 21.6632\n",
      "Epoch 17/20\n",
      "509051/509051 [==============================] - 1s 3us/step - loss: 21.6535 - custom_loss: 21.6535\n",
      "Epoch 18/20\n"
     ]
    },
    {
     "name": "stdout",
     "output_type": "stream",
     "text": [
      "509051/509051 [==============================] - 1s 3us/step - loss: 21.6247 - custom_loss: 21.6247\n",
      "Epoch 19/20\n",
      "509051/509051 [==============================] - 1s 3us/step - loss: 21.6145 - custom_loss: 21.6145\n",
      "Epoch 20/20\n",
      "509051/509051 [==============================] - 1s 3us/step - loss: 21.6064 - custom_loss: 21.6064\n",
      "127262/127262 [==============================] - 2s 14us/step\n",
      "509051/509051 [==============================] - 1s 1us/step\n",
      "Epoch 1/20\n",
      "509050/509050 [==============================] - 5s 11us/step - loss: 28.2013 - custom_loss: 28.2013\n",
      "Epoch 2/20\n",
      "509050/509050 [==============================] - 1s 3us/step - loss: 22.4232 - custom_loss: 22.4232\n",
      "Epoch 3/20\n",
      "509050/509050 [==============================] - 1s 3us/step - loss: 22.0934 - custom_loss: 22.0934\n",
      "Epoch 4/20\n",
      "509050/509050 [==============================] - 1s 3us/step - loss: 21.9374 - custom_loss: 21.9374\n",
      "Epoch 5/20\n",
      "509050/509050 [==============================] - 1s 3us/step - loss: 21.8531 - custom_loss: 21.8531\n",
      "Epoch 6/20\n",
      "509050/509050 [==============================] - 1s 3us/step - loss: 21.8041 - custom_loss: 21.8041\n",
      "Epoch 7/20\n",
      "509050/509050 [==============================] - 1s 3us/step - loss: 21.7641 - custom_loss: 21.7641\n",
      "Epoch 8/20\n",
      "509050/509050 [==============================] - 1s 3us/step - loss: 21.7393 - custom_loss: 21.7393\n",
      "Epoch 9/20\n",
      "509050/509050 [==============================] - 1s 3us/step - loss: 21.7164 - custom_loss: 21.7164\n",
      "Epoch 10/20\n",
      "509050/509050 [==============================] - 1s 3us/step - loss: 21.6996 - custom_loss: 21.6996\n",
      "Epoch 11/20\n",
      "509050/509050 [==============================] - 1s 3us/step - loss: 21.6795 - custom_loss: 21.6795\n",
      "Epoch 12/20\n",
      "509050/509050 [==============================] - 1s 3us/step - loss: 21.6695 - custom_loss: 21.6695\n",
      "Epoch 13/20\n",
      "509050/509050 [==============================] - 1s 3us/step - loss: 21.6519 - custom_loss: 21.6519\n",
      "Epoch 14/20\n",
      "509050/509050 [==============================] - 1s 3us/step - loss: 21.6365 - custom_loss: 21.6365\n",
      "Epoch 15/20\n",
      "509050/509050 [==============================] - 1s 3us/step - loss: 21.6254 - custom_loss: 21.6254\n",
      "Epoch 16/20\n",
      "509050/509050 [==============================] - 1s 3us/step - loss: 21.6146 - custom_loss: 21.6146\n",
      "Epoch 17/20\n",
      "509050/509050 [==============================] - 1s 3us/step - loss: 21.6002 - custom_loss: 21.6002\n",
      "Epoch 18/20\n",
      "509050/509050 [==============================] - 1s 3us/step - loss: 21.5949 - custom_loss: 21.5949\n",
      "Epoch 19/20\n",
      "509050/509050 [==============================] - 1s 3us/step - loss: 21.5818 - custom_loss: 21.5818\n",
      "Epoch 20/20\n",
      "509050/509050 [==============================] - 1s 3us/step - loss: 21.5766 - custom_loss: 21.5766\n",
      "127263/127263 [==============================] - 2s 14us/step\n",
      "509050/509050 [==============================] - 1s 1us/step\n",
      "Epoch 1/20\n",
      "509050/509050 [==============================] - 5s 10us/step - loss: 28.1960 - custom_loss: 28.1960\n",
      "Epoch 2/20\n",
      "509050/509050 [==============================] - 1s 3us/step - loss: 22.5203 - custom_loss: 22.5203\n",
      "Epoch 3/20\n",
      "509050/509050 [==============================] - 1s 3us/step - loss: 22.2280 - custom_loss: 22.2280\n",
      "Epoch 4/20\n",
      "509050/509050 [==============================] - 1s 3us/step - loss: 22.1052 - custom_loss: 22.1052\n",
      "Epoch 5/20\n",
      "509050/509050 [==============================] - 1s 3us/step - loss: 22.0054 - custom_loss: 22.0054\n",
      "Epoch 6/20\n",
      "509050/509050 [==============================] - 1s 3us/step - loss: 21.9655 - custom_loss: 21.9655\n",
      "Epoch 7/20\n",
      "509050/509050 [==============================] - 1s 3us/step - loss: 21.9209 - custom_loss: 21.9209\n",
      "Epoch 8/20\n",
      "509050/509050 [==============================] - 1s 3us/step - loss: 21.8859 - custom_loss: 21.8859\n",
      "Epoch 9/20\n",
      "509050/509050 [==============================] - 1s 3us/step - loss: 21.8459 - custom_loss: 21.8459\n",
      "Epoch 10/20\n",
      "509050/509050 [==============================] - 1s 3us/step - loss: 21.8334 - custom_loss: 21.8334\n",
      "Epoch 11/20\n",
      "509050/509050 [==============================] - 1s 3us/step - loss: 21.8028 - custom_loss: 21.8028\n",
      "Epoch 12/20\n",
      "509050/509050 [==============================] - 1s 3us/step - loss: 21.7913 - custom_loss: 21.7913\n",
      "Epoch 13/20\n",
      "509050/509050 [==============================] - 1s 3us/step - loss: 21.7638 - custom_loss: 21.7638\n",
      "Epoch 14/20\n",
      "509050/509050 [==============================] - 1s 3us/step - loss: 21.7436 - custom_loss: 21.7436\n",
      "Epoch 15/20\n",
      "509050/509050 [==============================] - 1s 3us/step - loss: 21.7173 - custom_loss: 21.7173\n",
      "Epoch 16/20\n",
      "509050/509050 [==============================] - 1s 3us/step - loss: 21.7159 - custom_loss: 21.7159\n",
      "Epoch 17/20\n",
      "509050/509050 [==============================] - 1s 3us/step - loss: 21.6934 - custom_loss: 21.6934\n",
      "Epoch 18/20\n",
      "509050/509050 [==============================] - 1s 3us/step - loss: 21.6749 - custom_loss: 21.6749\n",
      "Epoch 19/20\n",
      "509050/509050 [==============================] - 1s 3us/step - loss: 21.6696 - custom_loss: 21.6696\n",
      "Epoch 20/20\n",
      "509050/509050 [==============================] - 1s 3us/step - loss: 21.6448 - custom_loss: 21.6448\n",
      "127263/127263 [==============================] - 2s 14us/step\n",
      "509050/509050 [==============================] - 1s 1us/step\n",
      "Epoch 1/20\n",
      "509050/509050 [==============================] - 5s 11us/step - loss: 28.8430 - custom_loss: 28.8430\n",
      "Epoch 2/20\n",
      "509050/509050 [==============================] - 1s 3us/step - loss: 22.5779 - custom_loss: 22.5779\n",
      "Epoch 3/20\n",
      "509050/509050 [==============================] - 1s 3us/step - loss: 22.3164 - custom_loss: 22.3164\n",
      "Epoch 4/20\n",
      "509050/509050 [==============================] - 1s 3us/step - loss: 22.1900 - custom_loss: 22.1900\n",
      "Epoch 5/20\n",
      "509050/509050 [==============================] - 1s 3us/step - loss: 22.1113 - custom_loss: 22.1113\n",
      "Epoch 6/20\n",
      "509050/509050 [==============================] - 1s 3us/step - loss: 22.0603 - custom_loss: 22.0603\n",
      "Epoch 7/20\n",
      "509050/509050 [==============================] - 1s 3us/step - loss: 22.0072 - custom_loss: 22.0072\n",
      "Epoch 8/20\n",
      "509050/509050 [==============================] - 1s 3us/step - loss: 21.9765 - custom_loss: 21.9765\n",
      "Epoch 9/20\n",
      "509050/509050 [==============================] - 1s 3us/step - loss: 21.9517 - custom_loss: 21.9517\n",
      "Epoch 10/20\n",
      "509050/509050 [==============================] - 1s 3us/step - loss: 21.9238 - custom_loss: 21.9238\n",
      "Epoch 11/20\n",
      "509050/509050 [==============================] - 1s 3us/step - loss: 21.9032 - custom_loss: 21.9032\n",
      "Epoch 12/20\n",
      "509050/509050 [==============================] - 1s 3us/step - loss: 21.8762 - custom_loss: 21.8762\n",
      "Epoch 13/20\n",
      "509050/509050 [==============================] - 1s 3us/step - loss: 21.8677 - custom_loss: 21.8677\n",
      "Epoch 14/20\n",
      "509050/509050 [==============================] - 1s 3us/step - loss: 21.8478 - custom_loss: 21.8478\n",
      "Epoch 15/20\n",
      "509050/509050 [==============================] - 1s 3us/step - loss: 21.8293 - custom_loss: 21.8293\n",
      "Epoch 16/20\n",
      "509050/509050 [==============================] - 1s 3us/step - loss: 21.8176 - custom_loss: 21.8176\n",
      "Epoch 17/20\n",
      "509050/509050 [==============================] - 1s 3us/step - loss: 21.8101 - custom_loss: 21.8101\n",
      "Epoch 18/20\n",
      "509050/509050 [==============================] - 1s 3us/step - loss: 21.7976 - custom_loss: 21.7976\n",
      "Epoch 19/20\n",
      "509050/509050 [==============================] - 1s 3us/step - loss: 21.7891 - custom_loss: 21.7891\n",
      "Epoch 20/20\n",
      "509050/509050 [==============================] - 1s 3us/step - loss: 21.7760 - custom_loss: 21.7760\n",
      "127263/127263 [==============================] - 2s 14us/step\n",
      "509050/509050 [==============================] - 1s 1us/step\n",
      "Epoch 1/20\n",
      "509051/509051 [==============================] - 5s 11us/step - loss: 100.0000 - custom_loss: 100.0000\n",
      "Epoch 2/20\n",
      "509051/509051 [==============================] - 1s 3us/step - loss: 100.0000 - custom_loss: 100.0000\n",
      "Epoch 3/20\n",
      "509051/509051 [==============================] - 1s 3us/step - loss: 100.0000 - custom_loss: 100.0000\n",
      "Epoch 4/20\n",
      "509051/509051 [==============================] - 1s 3us/step - loss: 100.0000 - custom_loss: 100.0000\n",
      "Epoch 5/20\n",
      "509051/509051 [==============================] - 1s 3us/step - loss: 100.0000 - custom_loss: 100.0000\n",
      "Epoch 6/20\n",
      "509051/509051 [==============================] - 1s 3us/step - loss: 100.0000 - custom_loss: 100.0000\n",
      "Epoch 7/20\n"
     ]
    },
    {
     "name": "stdout",
     "output_type": "stream",
     "text": [
      "509051/509051 [==============================] - 1s 3us/step - loss: 100.0000 - custom_loss: 100.0000\n",
      "Epoch 8/20\n",
      "509051/509051 [==============================] - 1s 3us/step - loss: 100.0000 - custom_loss: 100.0000\n",
      "Epoch 9/20\n",
      "509051/509051 [==============================] - 1s 3us/step - loss: 100.0000 - custom_loss: 100.0000\n",
      "Epoch 10/20\n",
      "509051/509051 [==============================] - 1s 3us/step - loss: 100.0000 - custom_loss: 100.0000\n",
      "Epoch 11/20\n",
      "509051/509051 [==============================] - 1s 3us/step - loss: 100.0000 - custom_loss: 100.0000\n",
      "Epoch 12/20\n",
      "509051/509051 [==============================] - 1s 3us/step - loss: 100.0000 - custom_loss: 100.0000\n",
      "Epoch 13/20\n",
      "509051/509051 [==============================] - 1s 3us/step - loss: 100.0000 - custom_loss: 100.0000\n",
      "Epoch 14/20\n",
      "509051/509051 [==============================] - 1s 3us/step - loss: 100.0000 - custom_loss: 100.0000\n",
      "Epoch 15/20\n",
      "509051/509051 [==============================] - 1s 3us/step - loss: 100.0000 - custom_loss: 100.0000\n",
      "Epoch 16/20\n",
      "509051/509051 [==============================] - 1s 3us/step - loss: 100.0000 - custom_loss: 100.0000\n",
      "Epoch 17/20\n",
      "509051/509051 [==============================] - 1s 3us/step - loss: 100.0000 - custom_loss: 100.0000\n",
      "Epoch 18/20\n",
      "509051/509051 [==============================] - 1s 3us/step - loss: 100.0000 - custom_loss: 100.0000\n",
      "Epoch 19/20\n",
      "509051/509051 [==============================] - 1s 3us/step - loss: 100.0000 - custom_loss: 100.0000\n",
      "Epoch 20/20\n",
      "509051/509051 [==============================] - 1s 3us/step - loss: 100.0000 - custom_loss: 100.0000\n",
      "127262/127262 [==============================] - 2s 14us/step\n",
      "509051/509051 [==============================] - 1s 1us/step\n",
      "Epoch 1/20\n",
      "509051/509051 [==============================] - 5s 11us/step - loss: 29.5247 - custom_loss: 29.5247\n",
      "Epoch 2/20\n",
      "509051/509051 [==============================] - 1s 3us/step - loss: 22.8755 - custom_loss: 22.8755\n",
      "Epoch 3/20\n",
      "509051/509051 [==============================] - 1s 3us/step - loss: 22.4618 - custom_loss: 22.4618\n",
      "Epoch 4/20\n",
      "509051/509051 [==============================] - 1s 3us/step - loss: 22.2890 - custom_loss: 22.2890\n",
      "Epoch 5/20\n",
      "509051/509051 [==============================] - 1s 3us/step - loss: 22.2090 - custom_loss: 22.2090\n",
      "Epoch 6/20\n",
      "509051/509051 [==============================] - 1s 3us/step - loss: 22.1349 - custom_loss: 22.1349\n",
      "Epoch 7/20\n",
      "509051/509051 [==============================] - 1s 3us/step - loss: 22.0862 - custom_loss: 22.0862\n",
      "Epoch 8/20\n",
      "509051/509051 [==============================] - 1s 3us/step - loss: 22.0537 - custom_loss: 22.0537\n",
      "Epoch 9/20\n",
      "509051/509051 [==============================] - 1s 3us/step - loss: 22.0138 - custom_loss: 22.0138\n",
      "Epoch 10/20\n",
      "509051/509051 [==============================] - 1s 3us/step - loss: 21.9930 - custom_loss: 21.9930\n",
      "Epoch 11/20\n",
      "509051/509051 [==============================] - 1s 3us/step - loss: 21.9553 - custom_loss: 21.9553\n",
      "Epoch 12/20\n",
      "509051/509051 [==============================] - 1s 3us/step - loss: 21.9356 - custom_loss: 21.9356\n",
      "Epoch 13/20\n",
      "509051/509051 [==============================] - 1s 3us/step - loss: 21.8978 - custom_loss: 21.8978\n",
      "Epoch 14/20\n",
      "509051/509051 [==============================] - 1s 3us/step - loss: 21.8841 - custom_loss: 21.8841\n",
      "Epoch 15/20\n",
      "509051/509051 [==============================] - 1s 3us/step - loss: 21.8639 - custom_loss: 21.8639\n",
      "Epoch 16/20\n",
      "509051/509051 [==============================] - 1s 3us/step - loss: 21.8593 - custom_loss: 21.8593\n",
      "Epoch 17/20\n",
      "509051/509051 [==============================] - 1s 3us/step - loss: 21.8262 - custom_loss: 21.8262\n",
      "Epoch 18/20\n",
      "509051/509051 [==============================] - 1s 3us/step - loss: 21.8191 - custom_loss: 21.8191\n",
      "Epoch 19/20\n",
      "509051/509051 [==============================] - 1s 3us/step - loss: 21.7951 - custom_loss: 21.7951\n",
      "Epoch 20/20\n",
      "509051/509051 [==============================] - 1s 3us/step - loss: 21.7865 - custom_loss: 21.7865\n",
      "127262/127262 [==============================] - 2s 14us/step\n",
      "509051/509051 [==============================] - 1s 1us/step\n",
      "Epoch 1/20\n",
      "509050/509050 [==============================] - 5s 11us/step - loss: 100.0000 - custom_loss: 100.0000\n",
      "Epoch 2/20\n",
      "509050/509050 [==============================] - 1s 3us/step - loss: 100.0000 - custom_loss: 100.0000\n",
      "Epoch 3/20\n",
      "509050/509050 [==============================] - 1s 3us/step - loss: 100.0000 - custom_loss: 100.0000\n",
      "Epoch 4/20\n",
      "509050/509050 [==============================] - 1s 3us/step - loss: 100.0000 - custom_loss: 100.0000\n",
      "Epoch 5/20\n",
      "509050/509050 [==============================] - 1s 3us/step - loss: 100.0000 - custom_loss: 100.0000\n",
      "Epoch 6/20\n",
      "509050/509050 [==============================] - 1s 3us/step - loss: 100.0000 - custom_loss: 100.0000\n",
      "Epoch 7/20\n",
      "509050/509050 [==============================] - 1s 3us/step - loss: 100.0000 - custom_loss: 100.0000\n",
      "Epoch 8/20\n",
      "509050/509050 [==============================] - 1s 3us/step - loss: 100.0000 - custom_loss: 100.0000\n",
      "Epoch 9/20\n",
      "509050/509050 [==============================] - 1s 3us/step - loss: 100.0000 - custom_loss: 100.0000\n",
      "Epoch 10/20\n",
      "509050/509050 [==============================] - 1s 3us/step - loss: 100.0000 - custom_loss: 100.0000\n",
      "Epoch 11/20\n",
      "509050/509050 [==============================] - 1s 3us/step - loss: 100.0000 - custom_loss: 100.0000\n",
      "Epoch 12/20\n",
      "509050/509050 [==============================] - 1s 3us/step - loss: 100.0000 - custom_loss: 100.0000\n",
      "Epoch 13/20\n",
      "509050/509050 [==============================] - 1s 3us/step - loss: 100.0000 - custom_loss: 100.0000\n",
      "Epoch 14/20\n",
      "509050/509050 [==============================] - 1s 3us/step - loss: 100.0000 - custom_loss: 100.0000\n",
      "Epoch 15/20\n",
      "509050/509050 [==============================] - 1s 3us/step - loss: 100.0000 - custom_loss: 100.0000\n",
      "Epoch 16/20\n",
      "509050/509050 [==============================] - 1s 3us/step - loss: 100.0000 - custom_loss: 100.0000\n",
      "Epoch 17/20\n",
      "509050/509050 [==============================] - 1s 3us/step - loss: 100.0000 - custom_loss: 100.0000\n",
      "Epoch 18/20\n",
      "509050/509050 [==============================] - 1s 3us/step - loss: 100.0000 - custom_loss: 100.0000\n",
      "Epoch 19/20\n",
      "509050/509050 [==============================] - 1s 3us/step - loss: 100.0000 - custom_loss: 100.0000\n",
      "Epoch 20/20\n",
      "509050/509050 [==============================] - 1s 3us/step - loss: 100.0000 - custom_loss: 100.0000\n",
      "127263/127263 [==============================] - 2s 14us/step\n",
      "509050/509050 [==============================] - 1s 1us/step\n",
      "Epoch 1/20\n",
      "509050/509050 [==============================] - 6s 11us/step - loss: 28.5732 - custom_loss: 28.5732\n",
      "Epoch 2/20\n",
      "509050/509050 [==============================] - 1s 3us/step - loss: 22.6829 - custom_loss: 22.6829\n",
      "Epoch 3/20\n",
      "509050/509050 [==============================] - 1s 3us/step - loss: 22.3216 - custom_loss: 22.3216\n",
      "Epoch 4/20\n",
      "509050/509050 [==============================] - 1s 3us/step - loss: 22.1990 - custom_loss: 22.1990\n",
      "Epoch 5/20\n",
      "509050/509050 [==============================] - 1s 3us/step - loss: 22.0937 - custom_loss: 22.0937\n",
      "Epoch 6/20\n",
      "509050/509050 [==============================] - 1s 3us/step - loss: 22.0439 - custom_loss: 22.0439\n",
      "Epoch 7/20\n",
      "509050/509050 [==============================] - 1s 3us/step - loss: 22.0280 - custom_loss: 22.0280\n",
      "Epoch 8/20\n",
      "509050/509050 [==============================] - 1s 3us/step - loss: 21.9556 - custom_loss: 21.9556\n",
      "Epoch 9/20\n",
      "509050/509050 [==============================] - 1s 3us/step - loss: 21.9411 - custom_loss: 21.9411\n",
      "Epoch 10/20\n",
      "509050/509050 [==============================] - 1s 3us/step - loss: 21.9002 - custom_loss: 21.9002\n",
      "Epoch 11/20\n",
      "509050/509050 [==============================] - 1s 3us/step - loss: 21.8684 - custom_loss: 21.8684\n",
      "Epoch 12/20\n",
      "509050/509050 [==============================] - 1s 3us/step - loss: 21.8612 - custom_loss: 21.8612\n",
      "Epoch 13/20\n",
      "509050/509050 [==============================] - 1s 3us/step - loss: 21.8301 - custom_loss: 21.8301\n",
      "Epoch 14/20\n",
      "509050/509050 [==============================] - 1s 3us/step - loss: 21.8080 - custom_loss: 21.8080\n",
      "Epoch 15/20\n",
      "509050/509050 [==============================] - 1s 3us/step - loss: 21.7969 - custom_loss: 21.7969\n",
      "Epoch 16/20\n"
     ]
    },
    {
     "name": "stdout",
     "output_type": "stream",
     "text": [
      "509050/509050 [==============================] - 1s 3us/step - loss: 21.7669 - custom_loss: 21.7669\n",
      "Epoch 17/20\n",
      "509050/509050 [==============================] - 1s 3us/step - loss: 21.7652 - custom_loss: 21.7652\n",
      "Epoch 18/20\n",
      "509050/509050 [==============================] - 1s 3us/step - loss: 21.7430 - custom_loss: 21.7430\n",
      "Epoch 19/20\n",
      "509050/509050 [==============================] - 1s 3us/step - loss: 21.7272 - custom_loss: 21.7272\n",
      "Epoch 20/20\n",
      "509050/509050 [==============================] - 1s 3us/step - loss: 21.7171 - custom_loss: 21.7171\n",
      "127263/127263 [==============================] - 2s 14us/step\n",
      "509050/509050 [==============================] - 1s 1us/step\n",
      "Epoch 1/20\n",
      "509050/509050 [==============================] - 6s 11us/step - loss: 28.4164 - custom_loss: 28.4164\n",
      "Epoch 2/20\n",
      "509050/509050 [==============================] - 1s 3us/step - loss: 22.7194 - custom_loss: 22.7194\n",
      "Epoch 3/20\n",
      "509050/509050 [==============================] - 1s 3us/step - loss: 22.4522 - custom_loss: 22.4522\n",
      "Epoch 4/20\n",
      "509050/509050 [==============================] - 1s 3us/step - loss: 22.3340 - custom_loss: 22.3340\n",
      "Epoch 5/20\n",
      "509050/509050 [==============================] - 1s 3us/step - loss: 22.2694 - custom_loss: 22.2694\n",
      "Epoch 6/20\n",
      "509050/509050 [==============================] - 1s 3us/step - loss: 22.2120 - custom_loss: 22.2120\n",
      "Epoch 7/20\n",
      "509050/509050 [==============================] - 1s 3us/step - loss: 22.1748 - custom_loss: 22.1748\n",
      "Epoch 8/20\n",
      "509050/509050 [==============================] - 1s 3us/step - loss: 22.1148 - custom_loss: 22.1148\n",
      "Epoch 9/20\n",
      "509050/509050 [==============================] - ETA: 0s - loss: 22.0905 - custom_loss: 22.090 - 1s 3us/step - loss: 22.0869 - custom_loss: 22.0869\n",
      "Epoch 10/20\n",
      "509050/509050 [==============================] - 1s 3us/step - loss: 22.0627 - custom_loss: 22.0627\n",
      "Epoch 11/20\n",
      "509050/509050 [==============================] - 1s 3us/step - loss: 22.0228 - custom_loss: 22.0228\n",
      "Epoch 12/20\n",
      "509050/509050 [==============================] - 1s 3us/step - loss: 22.0009 - custom_loss: 22.0009\n",
      "Epoch 13/20\n",
      "509050/509050 [==============================] - 1s 3us/step - loss: 21.9884 - custom_loss: 21.9884\n",
      "Epoch 14/20\n",
      "509050/509050 [==============================] - 1s 3us/step - loss: 21.9811 - custom_loss: 21.9811\n",
      "Epoch 15/20\n",
      "509050/509050 [==============================] - 1s 3us/step - loss: 21.9637 - custom_loss: 21.9637\n",
      "Epoch 16/20\n",
      "509050/509050 [==============================] - 1s 3us/step - loss: 21.9467 - custom_loss: 21.9467\n",
      "Epoch 17/20\n",
      "509050/509050 [==============================] - 1s 3us/step - loss: 21.9370 - custom_loss: 21.9370\n",
      "Epoch 18/20\n",
      "509050/509050 [==============================] - 1s 3us/step - loss: 21.9298 - custom_loss: 21.9298\n",
      "Epoch 19/20\n",
      "509050/509050 [==============================] - 1s 3us/step - loss: 21.9110 - custom_loss: 21.9110\n",
      "Epoch 20/20\n",
      "509050/509050 [==============================] - 1s 3us/step - loss: 21.9048 - custom_loss: 21.9048\n",
      "127263/127263 [==============================] - 2s 14us/step\n",
      "509050/509050 [==============================] - 1s 1us/step\n",
      "Epoch 1/20\n",
      "509051/509051 [==============================] - 6s 11us/step - loss: 29.9005 - custom_loss: 29.9005\n",
      "Epoch 2/20\n",
      "509051/509051 [==============================] - 1s 3us/step - loss: 22.8470 - custom_loss: 22.8470\n",
      "Epoch 3/20\n",
      "509051/509051 [==============================] - 1s 3us/step - loss: 22.3376 - custom_loss: 22.3376\n",
      "Epoch 4/20\n",
      "509051/509051 [==============================] - 1s 3us/step - loss: 22.1749 - custom_loss: 22.1749\n",
      "Epoch 5/20\n",
      "509051/509051 [==============================] - 1s 3us/step - loss: 22.0813 - custom_loss: 22.0813\n",
      "Epoch 6/20\n",
      "509051/509051 [==============================] - 1s 3us/step - loss: 22.0017 - custom_loss: 22.0017\n",
      "Epoch 7/20\n",
      "509051/509051 [==============================] - 1s 3us/step - loss: 21.9634 - custom_loss: 21.9634\n",
      "Epoch 8/20\n",
      "509051/509051 [==============================] - 1s 3us/step - loss: 21.9130 - custom_loss: 21.9130A: 1s - loss: 21.857\n",
      "Epoch 9/20\n",
      "509051/509051 [==============================] - 1s 3us/step - loss: 21.8823 - custom_loss: 21.8823\n",
      "Epoch 10/20\n",
      "509051/509051 [==============================] - 1s 3us/step - loss: 21.8787 - custom_loss: 21.8787\n",
      "Epoch 11/20\n",
      "509051/509051 [==============================] - 1s 3us/step - loss: 21.8502 - custom_loss: 21.8502\n",
      "Epoch 12/20\n",
      "509051/509051 [==============================] - 1s 3us/step - loss: 21.8189 - custom_loss: 21.8189\n",
      "Epoch 13/20\n",
      "509051/509051 [==============================] - 1s 3us/step - loss: 21.8120 - custom_loss: 21.8120\n",
      "Epoch 14/20\n",
      "509051/509051 [==============================] - 1s 3us/step - loss: 21.7831 - custom_loss: 21.7831\n",
      "Epoch 15/20\n",
      "509051/509051 [==============================] - 1s 3us/step - loss: 21.7824 - custom_loss: 21.7824\n",
      "Epoch 16/20\n",
      "509051/509051 [==============================] - 1s 3us/step - loss: 21.7609 - custom_loss: 21.7609\n",
      "Epoch 17/20\n",
      "509051/509051 [==============================] - 1s 3us/step - loss: 21.7424 - custom_loss: 21.7424\n",
      "Epoch 18/20\n",
      "509051/509051 [==============================] - 1s 3us/step - loss: 21.7408 - custom_loss: 21.7408\n",
      "Epoch 19/20\n",
      "509051/509051 [==============================] - 1s 3us/step - loss: 21.7224 - custom_loss: 21.7224\n",
      "Epoch 20/20\n",
      "509051/509051 [==============================] - 1s 3us/step - loss: 21.7001 - custom_loss: 21.7001\n",
      "127262/127262 [==============================] - 2s 15us/step\n",
      "509051/509051 [==============================] - 1s 1us/step\n",
      "Epoch 1/20\n",
      "509051/509051 [==============================] - 6s 11us/step - loss: 28.8434 - custom_loss: 28.8434\n",
      "Epoch 2/20\n",
      "509051/509051 [==============================] - 1s 3us/step - loss: 22.8896 - custom_loss: 22.8896\n",
      "Epoch 3/20\n",
      "509051/509051 [==============================] - 1s 3us/step - loss: 22.4811 - custom_loss: 22.4811\n",
      "Epoch 4/20\n",
      "509051/509051 [==============================] - 1s 3us/step - loss: 22.3029 - custom_loss: 22.3029\n",
      "Epoch 5/20\n",
      "509051/509051 [==============================] - 1s 3us/step - loss: 22.2341 - custom_loss: 22.2341\n",
      "Epoch 6/20\n",
      "509051/509051 [==============================] - 1s 3us/step - loss: 22.1477 - custom_loss: 22.1477\n",
      "Epoch 7/20\n",
      "509051/509051 [==============================] - 1s 3us/step - loss: 22.0683 - custom_loss: 22.0683\n",
      "Epoch 8/20\n",
      "509051/509051 [==============================] - 1s 3us/step - loss: 22.0252 - custom_loss: 22.0252\n",
      "Epoch 9/20\n",
      "509051/509051 [==============================] - 1s 3us/step - loss: 21.9844 - custom_loss: 21.9844\n",
      "Epoch 10/20\n",
      "509051/509051 [==============================] - 1s 3us/step - loss: 21.9486 - custom_loss: 21.9486\n",
      "Epoch 11/20\n",
      "509051/509051 [==============================] - 1s 3us/step - loss: 21.9156 - custom_loss: 21.9156\n",
      "Epoch 12/20\n",
      "509051/509051 [==============================] - 1s 3us/step - loss: 21.9020 - custom_loss: 21.9020\n",
      "Epoch 13/20\n",
      "509051/509051 [==============================] - 1s 3us/step - loss: 21.8630 - custom_loss: 21.8630\n",
      "Epoch 14/20\n",
      "509051/509051 [==============================] - 1s 3us/step - loss: 21.8466 - custom_loss: 21.8466\n",
      "Epoch 15/20\n",
      "509051/509051 [==============================] - 1s 3us/step - loss: 21.8230 - custom_loss: 21.8230\n",
      "Epoch 16/20\n",
      "509051/509051 [==============================] - 1s 3us/step - loss: 21.8157 - custom_loss: 21.8157\n",
      "Epoch 17/20\n",
      "509051/509051 [==============================] - 1s 3us/step - loss: 21.7968 - custom_loss: 21.7968\n",
      "Epoch 18/20\n",
      "509051/509051 [==============================] - 1s 3us/step - loss: 21.7682 - custom_loss: 21.7682\n",
      "Epoch 19/20\n",
      "509051/509051 [==============================] - 1s 3us/step - loss: 21.7608 - custom_loss: 21.7608\n",
      "Epoch 20/20\n",
      "509051/509051 [==============================] - 1s 3us/step - loss: 21.7442 - custom_loss: 21.7442\n",
      "127262/127262 [==============================] - 2s 15us/step\n",
      "509051/509051 [==============================] - 1s 1us/step\n",
      "Epoch 1/20\n",
      "509050/509050 [==============================] - 6s 11us/step - loss: 27.1442 - custom_loss: 27.1442\n",
      "Epoch 2/20\n",
      "509050/509050 [==============================] - 1s 3us/step - loss: 22.5891 - custom_loss: 22.5891\n",
      "Epoch 3/20\n",
      "509050/509050 [==============================] - 1s 3us/step - loss: 22.2778 - custom_loss: 22.2778\n",
      "Epoch 4/20\n"
     ]
    },
    {
     "name": "stdout",
     "output_type": "stream",
     "text": [
      "509050/509050 [==============================] - 1s 3us/step - loss: 22.1482 - custom_loss: 22.1482\n",
      "Epoch 5/20\n",
      "509050/509050 [==============================] - 1s 3us/step - loss: 22.0910 - custom_loss: 22.0910\n",
      "Epoch 6/20\n",
      "509050/509050 [==============================] - 1s 3us/step - loss: 22.0121 - custom_loss: 22.0121\n",
      "Epoch 7/20\n",
      "509050/509050 [==============================] - 1s 3us/step - loss: 21.9889 - custom_loss: 21.9889\n",
      "Epoch 8/20\n",
      "509050/509050 [==============================] - 1s 3us/step - loss: 21.9401 - custom_loss: 21.9401\n",
      "Epoch 9/20\n",
      "509050/509050 [==============================] - 1s 3us/step - loss: 21.9003 - custom_loss: 21.9003\n",
      "Epoch 10/20\n",
      "509050/509050 [==============================] - 1s 3us/step - loss: 21.8762 - custom_loss: 21.8762\n",
      "Epoch 11/20\n",
      "509050/509050 [==============================] - 1s 3us/step - loss: 21.8423 - custom_loss: 21.8423\n",
      "Epoch 12/20\n",
      "509050/509050 [==============================] - 1s 3us/step - loss: 21.8128 - custom_loss: 21.8128\n",
      "Epoch 13/20\n",
      "509050/509050 [==============================] - 1s 3us/step - loss: 21.7892 - custom_loss: 21.7892\n",
      "Epoch 14/20\n",
      "509050/509050 [==============================] - 1s 3us/step - loss: 21.7646 - custom_loss: 21.7646\n",
      "Epoch 15/20\n",
      "509050/509050 [==============================] - 1s 3us/step - loss: 21.7582 - custom_loss: 21.7582\n",
      "Epoch 16/20\n",
      "509050/509050 [==============================] - 1s 3us/step - loss: 21.7352 - custom_loss: 21.7352\n",
      "Epoch 17/20\n",
      "509050/509050 [==============================] - 1s 3us/step - loss: 21.7128 - custom_loss: 21.7128\n",
      "Epoch 18/20\n",
      "509050/509050 [==============================] - 1s 3us/step - loss: 21.7025 - custom_loss: 21.7025\n",
      "Epoch 19/20\n",
      "509050/509050 [==============================] - 1s 3us/step - loss: 21.6921 - custom_loss: 21.6921\n",
      "Epoch 20/20\n",
      "509050/509050 [==============================] - 1s 3us/step - loss: 21.6804 - custom_loss: 21.6804\n",
      "127263/127263 [==============================] - 2s 15us/step\n",
      "509050/509050 [==============================] - 1s 1us/step\n",
      "Epoch 1/20\n",
      "509050/509050 [==============================] - 6s 11us/step - loss: 28.3713 - custom_loss: 28.3713\n",
      "Epoch 2/20\n",
      "509050/509050 [==============================] - 1s 3us/step - loss: 22.7540 - custom_loss: 22.7540\n",
      "Epoch 3/20\n",
      "509050/509050 [==============================] - 1s 3us/step - loss: 22.3166 - custom_loss: 22.3166\n",
      "Epoch 4/20\n",
      "509050/509050 [==============================] - 1s 3us/step - loss: 22.1693 - custom_loss: 22.1693\n",
      "Epoch 5/20\n",
      "509050/509050 [==============================] - 1s 3us/step - loss: 22.0748 - custom_loss: 22.0748\n",
      "Epoch 6/20\n",
      "509050/509050 [==============================] - 1s 3us/step - loss: 22.0211 - custom_loss: 22.0211\n",
      "Epoch 7/20\n",
      "509050/509050 [==============================] - 1s 3us/step - loss: 21.9618 - custom_loss: 21.9618\n",
      "Epoch 8/20\n",
      "509050/509050 [==============================] - 1s 3us/step - loss: 21.9406 - custom_loss: 21.9406\n",
      "Epoch 9/20\n",
      "509050/509050 [==============================] - 1s 3us/step - loss: 21.8905 - custom_loss: 21.8905\n",
      "Epoch 10/20\n",
      "509050/509050 [==============================] - 1s 3us/step - loss: 21.8626 - custom_loss: 21.8626\n",
      "Epoch 11/20\n",
      "509050/509050 [==============================] - 1s 3us/step - loss: 21.8441 - custom_loss: 21.8441\n",
      "Epoch 12/20\n",
      "509050/509050 [==============================] - 1s 3us/step - loss: 21.8216 - custom_loss: 21.8216\n",
      "Epoch 13/20\n",
      "509050/509050 [==============================] - 1s 3us/step - loss: 21.8023 - custom_loss: 21.8023\n",
      "Epoch 14/20\n",
      "509050/509050 [==============================] - 1s 3us/step - loss: 21.7782 - custom_loss: 21.7782\n",
      "Epoch 15/20\n",
      "509050/509050 [==============================] - 1s 3us/step - loss: 21.7671 - custom_loss: 21.7671\n",
      "Epoch 16/20\n",
      "509050/509050 [==============================] - 1s 3us/step - loss: 21.7677 - custom_loss: 21.7677\n",
      "Epoch 17/20\n",
      "509050/509050 [==============================] - 1s 3us/step - loss: 21.7343 - custom_loss: 21.7343\n",
      "Epoch 18/20\n",
      "509050/509050 [==============================] - 1s 3us/step - loss: 21.7345 - custom_loss: 21.7345\n",
      "Epoch 19/20\n",
      "509050/509050 [==============================] - 1s 3us/step - loss: 21.7146 - custom_loss: 21.7146\n",
      "Epoch 20/20\n",
      "509050/509050 [==============================] - 1s 3us/step - loss: 21.7012 - custom_loss: 21.7012\n",
      "127263/127263 [==============================] - 2s 15us/step\n",
      "509050/509050 [==============================] - 1s 1us/step\n",
      "Epoch 1/20\n",
      "509050/509050 [==============================] - 6s 11us/step - loss: 27.5296 - custom_loss: 27.5296\n",
      "Epoch 2/20\n",
      "509050/509050 [==============================] - 1s 3us/step - loss: 22.7143 - custom_loss: 22.7143\n",
      "Epoch 3/20\n",
      "509050/509050 [==============================] - 1s 3us/step - loss: 22.3147 - custom_loss: 22.3147\n",
      "Epoch 4/20\n",
      "509050/509050 [==============================] - 1s 3us/step - loss: 22.1518 - custom_loss: 22.1518\n",
      "Epoch 5/20\n",
      "509050/509050 [==============================] - 1s 3us/step - loss: 22.0496 - custom_loss: 22.0496\n",
      "Epoch 6/20\n",
      "509050/509050 [==============================] - 1s 3us/step - loss: 21.9845 - custom_loss: 21.9845\n",
      "Epoch 7/20\n",
      "509050/509050 [==============================] - 1s 3us/step - loss: 21.9393 - custom_loss: 21.9393\n",
      "Epoch 8/20\n",
      "509050/509050 [==============================] - 1s 3us/step - loss: 21.9065 - custom_loss: 21.9065\n",
      "Epoch 9/20\n",
      "509050/509050 [==============================] - 1s 3us/step - loss: 21.8592 - custom_loss: 21.8592\n",
      "Epoch 10/20\n",
      "509050/509050 [==============================] - 1s 3us/step - loss: 21.8749 - custom_loss: 21.8749\n",
      "Epoch 11/20\n",
      "509050/509050 [==============================] - 1s 3us/step - loss: 21.8156 - custom_loss: 21.8156\n",
      "Epoch 12/20\n",
      "509050/509050 [==============================] - 1s 3us/step - loss: 21.8229 - custom_loss: 21.8229\n",
      "Epoch 13/20\n",
      "509050/509050 [==============================] - 1s 3us/step - loss: 21.8193 - custom_loss: 21.8193\n",
      "Epoch 14/20\n",
      "509050/509050 [==============================] - 1s 3us/step - loss: 21.7819 - custom_loss: 21.7819\n",
      "Epoch 15/20\n",
      "509050/509050 [==============================] - 1s 3us/step - loss: 21.7793 - custom_loss: 21.7793\n",
      "Epoch 16/20\n",
      "509050/509050 [==============================] - 1s 3us/step - loss: 21.7707 - custom_loss: 21.7707\n",
      "Epoch 17/20\n",
      "509050/509050 [==============================] - 1s 3us/step - loss: 21.7518 - custom_loss: 21.7518\n",
      "Epoch 18/20\n",
      "509050/509050 [==============================] - 1s 3us/step - loss: 21.7366 - custom_loss: 21.7366\n",
      "Epoch 19/20\n",
      "509050/509050 [==============================] - 1s 3us/step - loss: 21.7472 - custom_loss: 21.7472\n",
      "Epoch 20/20\n",
      "509050/509050 [==============================] - 1s 3us/step - loss: 21.7297 - custom_loss: 21.7297\n",
      "127263/127263 [==============================] - 2s 15us/step\n",
      "509050/509050 [==============================] - 1s 1us/step\n",
      "Epoch 1/20\n",
      "509051/509051 [==============================] - 6s 12us/step - loss: 27.9354 - custom_loss: 27.9354\n",
      "Epoch 2/20\n",
      "509051/509051 [==============================] - 1s 3us/step - loss: 22.8852 - custom_loss: 22.8852\n",
      "Epoch 3/20\n",
      "509051/509051 [==============================] - 1s 3us/step - loss: 22.4869 - custom_loss: 22.4869\n",
      "Epoch 4/20\n",
      "509051/509051 [==============================] - 1s 3us/step - loss: 22.3073 - custom_loss: 22.3073\n",
      "Epoch 5/20\n",
      "509051/509051 [==============================] - 1s 3us/step - loss: 22.1841 - custom_loss: 22.1841\n",
      "Epoch 6/20\n",
      "509051/509051 [==============================] - 1s 3us/step - loss: 22.1227 - custom_loss: 22.1227\n",
      "Epoch 7/20\n",
      "509051/509051 [==============================] - 1s 3us/step - loss: 22.0587 - custom_loss: 22.0587\n",
      "Epoch 8/20\n",
      "509051/509051 [==============================] - 1s 3us/step - loss: 22.0329 - custom_loss: 22.0329\n",
      "Epoch 9/20\n",
      "509051/509051 [==============================] - 1s 3us/step - loss: 21.9867 - custom_loss: 21.9867\n",
      "Epoch 10/20\n",
      "509051/509051 [==============================] - 1s 3us/step - loss: 21.9656 - custom_loss: 21.9656\n",
      "Epoch 11/20\n",
      "509051/509051 [==============================] - 1s 3us/step - loss: 21.9329 - custom_loss: 21.9329\n",
      "Epoch 12/20\n",
      "509051/509051 [==============================] - 1s 3us/step - loss: 21.9152 - custom_loss: 21.9152\n",
      "Epoch 13/20\n",
      "509051/509051 [==============================] - 1s 3us/step - loss: 21.8977 - custom_loss: 21.8977\n",
      "Epoch 14/20\n"
     ]
    },
    {
     "name": "stdout",
     "output_type": "stream",
     "text": [
      "509051/509051 [==============================] - 1s 3us/step - loss: 21.8854 - custom_loss: 21.8854\n",
      "Epoch 15/20\n",
      "509051/509051 [==============================] - 1s 3us/step - loss: 21.8650 - custom_loss: 21.8650\n",
      "Epoch 16/20\n",
      "509051/509051 [==============================] - 1s 3us/step - loss: 21.8520 - custom_loss: 21.8520\n",
      "Epoch 17/20\n",
      "509051/509051 [==============================] - 1s 3us/step - loss: 21.8450 - custom_loss: 21.8450\n",
      "Epoch 18/20\n",
      "509051/509051 [==============================] - 1s 3us/step - loss: 21.8298 - custom_loss: 21.8298\n",
      "Epoch 19/20\n",
      "509051/509051 [==============================] - 1s 3us/step - loss: 21.8232 - custom_loss: 21.8232\n",
      "Epoch 20/20\n",
      "509051/509051 [==============================] - 1s 3us/step - loss: 21.8022 - custom_loss: 21.8022\n",
      "127262/127262 [==============================] - 2s 15us/step\n",
      "509051/509051 [==============================] - 1s 1us/step\n",
      "Epoch 1/20\n",
      "509051/509051 [==============================] - 6s 11us/step - loss: 27.5906 - custom_loss: 27.5906\n",
      "Epoch 2/20\n",
      "509051/509051 [==============================] - 1s 3us/step - loss: 22.5217 - custom_loss: 22.5217\n",
      "Epoch 3/20\n",
      "509051/509051 [==============================] - 1s 3us/step - loss: 22.2191 - custom_loss: 22.2191\n",
      "Epoch 4/20\n",
      "509051/509051 [==============================] - 1s 3us/step - loss: 22.0800 - custom_loss: 22.0800\n",
      "Epoch 5/20\n",
      "509051/509051 [==============================] - 1s 3us/step - loss: 22.0113 - custom_loss: 22.0113\n",
      "Epoch 6/20\n",
      "509051/509051 [==============================] - 1s 3us/step - loss: 21.9631 - custom_loss: 21.9631\n",
      "Epoch 7/20\n",
      "509051/509051 [==============================] - 1s 3us/step - loss: 21.9164 - custom_loss: 21.9164\n",
      "Epoch 8/20\n",
      "509051/509051 [==============================] - 1s 3us/step - loss: 21.8639 - custom_loss: 21.8639\n",
      "Epoch 9/20\n",
      "509051/509051 [==============================] - 1s 3us/step - loss: 21.8596 - custom_loss: 21.8596\n",
      "Epoch 10/20\n",
      "509051/509051 [==============================] - 1s 3us/step - loss: 21.8184 - custom_loss: 21.8184\n",
      "Epoch 11/20\n",
      "509051/509051 [==============================] - 1s 3us/step - loss: 21.8122 - custom_loss: 21.8122\n",
      "Epoch 12/20\n",
      "509051/509051 [==============================] - 1s 3us/step - loss: 21.7955 - custom_loss: 21.7955\n",
      "Epoch 13/20\n",
      "509051/509051 [==============================] - 1s 3us/step - loss: 21.7747 - custom_loss: 21.7747\n",
      "Epoch 14/20\n",
      "509051/509051 [==============================] - 1s 3us/step - loss: 21.7654 - custom_loss: 21.7654\n",
      "Epoch 15/20\n",
      "509051/509051 [==============================] - 1s 3us/step - loss: 21.7481 - custom_loss: 21.7481\n",
      "Epoch 16/20\n",
      "509051/509051 [==============================] - 1s 3us/step - loss: 21.7430 - custom_loss: 21.7430\n",
      "Epoch 17/20\n",
      "509051/509051 [==============================] - 1s 3us/step - loss: 21.7187 - custom_loss: 21.7187\n",
      "Epoch 18/20\n",
      "509051/509051 [==============================] - 1s 3us/step - loss: 21.7308 - custom_loss: 21.7308\n",
      "Epoch 19/20\n",
      "509051/509051 [==============================] - 1s 3us/step - loss: 21.7089 - custom_loss: 21.7089\n",
      "Epoch 20/20\n",
      "509051/509051 [==============================] - 1s 3us/step - loss: 21.7096 - custom_loss: 21.7096\n",
      "127262/127262 [==============================] - 2s 15us/step\n",
      "509051/509051 [==============================] - 1s 1us/step\n",
      "Epoch 1/20\n",
      "509050/509050 [==============================] - 6s 11us/step - loss: 29.2403 - custom_loss: 29.2403\n",
      "Epoch 2/20\n",
      "509050/509050 [==============================] - 1s 3us/step - loss: 22.3418 - custom_loss: 22.3418\n",
      "Epoch 3/20\n",
      "509050/509050 [==============================] - 1s 3us/step - loss: 22.0704 - custom_loss: 22.0704\n",
      "Epoch 4/20\n",
      "509050/509050 [==============================] - 1s 3us/step - loss: 21.9273 - custom_loss: 21.9273\n",
      "Epoch 5/20\n",
      "509050/509050 [==============================] - 1s 3us/step - loss: 21.8555 - custom_loss: 21.8555\n",
      "Epoch 6/20\n",
      "509050/509050 [==============================] - 1s 3us/step - loss: 21.8068 - custom_loss: 21.8068\n",
      "Epoch 7/20\n",
      "509050/509050 [==============================] - 1s 3us/step - loss: 21.7713 - custom_loss: 21.7713\n",
      "Epoch 8/20\n",
      "509050/509050 [==============================] - 1s 3us/step - loss: 21.7459 - custom_loss: 21.7459\n",
      "Epoch 9/20\n",
      "509050/509050 [==============================] - 1s 3us/step - loss: 21.7223 - custom_loss: 21.7223\n",
      "Epoch 10/20\n",
      "509050/509050 [==============================] - 1s 3us/step - loss: 21.7071 - custom_loss: 21.7071\n",
      "Epoch 11/20\n",
      "509050/509050 [==============================] - 1s 3us/step - loss: 21.6896 - custom_loss: 21.6896\n",
      "Epoch 12/20\n",
      "509050/509050 [==============================] - 1s 3us/step - loss: 21.6747 - custom_loss: 21.6747\n",
      "Epoch 13/20\n",
      "509050/509050 [==============================] - 1s 3us/step - loss: 21.6651 - custom_loss: 21.6651\n",
      "Epoch 14/20\n",
      "509050/509050 [==============================] - 1s 3us/step - loss: 21.6505 - custom_loss: 21.6505\n",
      "Epoch 15/20\n",
      "509050/509050 [==============================] - 1s 3us/step - loss: 21.6451 - custom_loss: 21.6451\n",
      "Epoch 16/20\n",
      "509050/509050 [==============================] - 1s 3us/step - loss: 21.6301 - custom_loss: 21.6301\n",
      "Epoch 17/20\n",
      "509050/509050 [==============================] - 1s 3us/step - loss: 21.6231 - custom_loss: 21.6231\n",
      "Epoch 18/20\n",
      "509050/509050 [==============================] - 1s 3us/step - loss: 21.6135 - custom_loss: 21.6135\n",
      "Epoch 19/20\n",
      "509050/509050 [==============================] - 1s 3us/step - loss: 21.6033 - custom_loss: 21.6033\n",
      "Epoch 20/20\n",
      "509050/509050 [==============================] - 1s 3us/step - loss: 21.6012 - custom_loss: 21.6012\n",
      "127263/127263 [==============================] - 2s 15us/step\n",
      "509050/509050 [==============================] - 1s 1us/step\n",
      "Epoch 1/20\n",
      "509050/509050 [==============================] - 6s 11us/step - loss: 29.4697 - custom_loss: 29.4697\n",
      "Epoch 2/20\n",
      "509050/509050 [==============================] - 1s 3us/step - loss: 23.0375 - custom_loss: 23.0375\n",
      "Epoch 3/20\n",
      "509050/509050 [==============================] - 1s 3us/step - loss: 22.4834 - custom_loss: 22.4834\n",
      "Epoch 4/20\n",
      "509050/509050 [==============================] - 1s 3us/step - loss: 22.3081 - custom_loss: 22.3081\n",
      "Epoch 5/20\n",
      "509050/509050 [==============================] - 1s 3us/step - loss: 22.2206 - custom_loss: 22.2206\n",
      "Epoch 6/20\n",
      "509050/509050 [==============================] - 1s 3us/step - loss: 22.1906 - custom_loss: 22.1906\n",
      "Epoch 7/20\n",
      "509050/509050 [==============================] - 1s 3us/step - loss: 22.1340 - custom_loss: 22.1340\n",
      "Epoch 8/20\n",
      "509050/509050 [==============================] - 1s 3us/step - loss: 22.1083 - custom_loss: 22.1083\n",
      "Epoch 9/20\n",
      "509050/509050 [==============================] - 1s 3us/step - loss: 22.0768 - custom_loss: 22.0768\n",
      "Epoch 10/20\n",
      "509050/509050 [==============================] - 1s 3us/step - loss: 22.0344 - custom_loss: 22.0344\n",
      "Epoch 11/20\n",
      "509050/509050 [==============================] - 1s 3us/step - loss: 22.0140 - custom_loss: 22.0140\n",
      "Epoch 12/20\n",
      "509050/509050 [==============================] - 1s 3us/step - loss: 21.9975 - custom_loss: 21.9975\n",
      "Epoch 13/20\n",
      "509050/509050 [==============================] - 1s 3us/step - loss: 21.9770 - custom_loss: 21.9770\n",
      "Epoch 14/20\n",
      "509050/509050 [==============================] - 1s 3us/step - loss: 21.9458 - custom_loss: 21.9458\n",
      "Epoch 15/20\n",
      "509050/509050 [==============================] - 1s 3us/step - loss: 21.9462 - custom_loss: 21.9462\n",
      "Epoch 16/20\n",
      "509050/509050 [==============================] - 1s 3us/step - loss: 21.9213 - custom_loss: 21.9213\n",
      "Epoch 17/20\n",
      "509050/509050 [==============================] - 1s 3us/step - loss: 21.9241 - custom_loss: 21.9241\n",
      "Epoch 18/20\n",
      "509050/509050 [==============================] - 1s 3us/step - loss: 21.9138 - custom_loss: 21.9138\n",
      "Epoch 19/20\n",
      "509050/509050 [==============================] - 1s 3us/step - loss: 21.8775 - custom_loss: 21.8775\n",
      "Epoch 20/20\n",
      "509050/509050 [==============================] - 1s 3us/step - loss: 21.8709 - custom_loss: 21.8709\n",
      "127263/127263 [==============================] - 2s 15us/step\n",
      "509050/509050 [==============================] - 1s 1us/step\n",
      "Epoch 1/20\n",
      "509050/509050 [==============================] - 6s 11us/step - loss: 28.4933 - custom_loss: 28.4933\n",
      "Epoch 2/20\n",
      "509050/509050 [==============================] - 1s 3us/step - loss: 22.6556 - custom_loss: 22.6556\n",
      "Epoch 3/20\n"
     ]
    },
    {
     "name": "stdout",
     "output_type": "stream",
     "text": [
      "509050/509050 [==============================] - 1s 3us/step - loss: 22.3506 - custom_loss: 22.3506\n",
      "Epoch 4/20\n",
      "509050/509050 [==============================] - 1s 3us/step - loss: 22.2266 - custom_loss: 22.2266\n",
      "Epoch 5/20\n",
      "509050/509050 [==============================] - 1s 3us/step - loss: 22.1289 - custom_loss: 22.1289\n",
      "Epoch 6/20\n",
      "509050/509050 [==============================] - 1s 3us/step - loss: 22.0787 - custom_loss: 22.0787\n",
      "Epoch 7/20\n",
      "509050/509050 [==============================] - 1s 3us/step - loss: 22.0304 - custom_loss: 22.0304\n",
      "Epoch 8/20\n",
      "509050/509050 [==============================] - 1s 3us/step - loss: 21.9797 - custom_loss: 21.9797\n",
      "Epoch 9/20\n",
      "509050/509050 [==============================] - 1s 3us/step - loss: 21.9649 - custom_loss: 21.9649\n",
      "Epoch 10/20\n",
      "509050/509050 [==============================] - 1s 3us/step - loss: 21.9323 - custom_loss: 21.9323\n",
      "Epoch 11/20\n",
      "509050/509050 [==============================] - 1s 3us/step - loss: 21.9045 - custom_loss: 21.9045\n",
      "Epoch 12/20\n",
      "509050/509050 [==============================] - 1s 3us/step - loss: 21.8972 - custom_loss: 21.8972\n",
      "Epoch 13/20\n",
      "509050/509050 [==============================] - 1s 3us/step - loss: 21.8758 - custom_loss: 21.8758\n",
      "Epoch 14/20\n",
      "509050/509050 [==============================] - 1s 3us/step - loss: 21.8467 - custom_loss: 21.8467\n",
      "Epoch 15/20\n",
      "509050/509050 [==============================] - 1s 3us/step - loss: 21.8327 - custom_loss: 21.8327\n",
      "Epoch 16/20\n",
      "509050/509050 [==============================] - 1s 3us/step - loss: 21.8252 - custom_loss: 21.8252\n",
      "Epoch 17/20\n",
      "509050/509050 [==============================] - 1s 3us/step - loss: 21.8069 - custom_loss: 21.8069\n",
      "Epoch 18/20\n",
      "509050/509050 [==============================] - 1s 3us/step - loss: 21.7945 - custom_loss: 21.7945\n",
      "Epoch 19/20\n",
      "509050/509050 [==============================] - 1s 3us/step - loss: 21.7724 - custom_loss: 21.7724\n",
      "Epoch 20/20\n",
      "509050/509050 [==============================] - 1s 3us/step - loss: 21.7575 - custom_loss: 21.7575\n",
      "127263/127263 [==============================] - 2s 16us/step\n",
      "509050/509050 [==============================] - 1s 1us/step\n",
      "Epoch 1/20\n",
      "509051/509051 [==============================] - 6s 11us/step - loss: 100.0000 - custom_loss: 100.0000\n",
      "Epoch 2/20\n",
      "509051/509051 [==============================] - 1s 3us/step - loss: 100.0000 - custom_loss: 100.0000\n",
      "Epoch 3/20\n",
      "509051/509051 [==============================] - 1s 3us/step - loss: 100.0000 - custom_loss: 100.0000\n",
      "Epoch 4/20\n",
      "509051/509051 [==============================] - 1s 3us/step - loss: 100.0000 - custom_loss: 100.0000\n",
      "Epoch 5/20\n",
      "509051/509051 [==============================] - 1s 3us/step - loss: 100.0000 - custom_loss: 100.0000\n",
      "Epoch 6/20\n",
      "509051/509051 [==============================] - 1s 3us/step - loss: 100.0000 - custom_loss: 100.0000\n",
      "Epoch 7/20\n",
      "509051/509051 [==============================] - 1s 3us/step - loss: 100.0000 - custom_loss: 100.0000\n",
      "Epoch 8/20\n",
      "509051/509051 [==============================] - 1s 3us/step - loss: 100.0000 - custom_loss: 100.0000\n",
      "Epoch 9/20\n",
      "509051/509051 [==============================] - 1s 3us/step - loss: 100.0000 - custom_loss: 100.0000\n",
      "Epoch 10/20\n",
      "509051/509051 [==============================] - 1s 3us/step - loss: 100.0000 - custom_loss: 100.0000\n",
      "Epoch 11/20\n",
      "509051/509051 [==============================] - 1s 3us/step - loss: 100.0000 - custom_loss: 100.0000\n",
      "Epoch 12/20\n",
      "509051/509051 [==============================] - 1s 3us/step - loss: 100.0000 - custom_loss: 100.0000\n",
      "Epoch 13/20\n",
      "509051/509051 [==============================] - 1s 3us/step - loss: 100.0000 - custom_loss: 100.0000\n",
      "Epoch 14/20\n",
      "509051/509051 [==============================] - 1s 3us/step - loss: 100.0000 - custom_loss: 100.0000\n",
      "Epoch 15/20\n",
      "509051/509051 [==============================] - 1s 3us/step - loss: 100.0000 - custom_loss: 100.0000\n",
      "Epoch 16/20\n",
      "509051/509051 [==============================] - 1s 3us/step - loss: 100.0000 - custom_loss: 100.0000\n",
      "Epoch 17/20\n",
      "509051/509051 [==============================] - 1s 3us/step - loss: 100.0000 - custom_loss: 100.0000\n",
      "Epoch 18/20\n",
      "509051/509051 [==============================] - 1s 3us/step - loss: 100.0000 - custom_loss: 100.0000\n",
      "Epoch 19/20\n",
      "509051/509051 [==============================] - 1s 3us/step - loss: 100.0000 - custom_loss: 100.0000\n",
      "Epoch 20/20\n",
      "509051/509051 [==============================] - 1s 3us/step - loss: 100.0000 - custom_loss: 100.0000\n",
      "127262/127262 [==============================] - 2s 15us/step\n",
      "509051/509051 [==============================] - 1s 1us/step\n",
      "Epoch 1/20\n",
      "509051/509051 [==============================] - 6s 11us/step - loss: 30.8674 - custom_loss: 30.8674\n",
      "Epoch 2/20\n",
      "509051/509051 [==============================] - 1s 3us/step - loss: 22.9496 - custom_loss: 22.9496\n",
      "Epoch 3/20\n",
      "509051/509051 [==============================] - 1s 3us/step - loss: 22.4075 - custom_loss: 22.4075\n",
      "Epoch 4/20\n",
      "509051/509051 [==============================] - 1s 3us/step - loss: 22.2183 - custom_loss: 22.2183\n",
      "Epoch 5/20\n",
      "509051/509051 [==============================] - 1s 3us/step - loss: 22.1289 - custom_loss: 22.1289\n",
      "Epoch 6/20\n",
      "509051/509051 [==============================] - 1s 3us/step - loss: 22.0771 - custom_loss: 22.0771\n",
      "Epoch 7/20\n",
      "509051/509051 [==============================] - 1s 3us/step - loss: 22.0184 - custom_loss: 22.0184\n",
      "Epoch 8/20\n",
      "509051/509051 [==============================] - 1s 3us/step - loss: 21.9894 - custom_loss: 21.9894\n",
      "Epoch 9/20\n",
      "509051/509051 [==============================] - 1s 3us/step - loss: 21.9711 - custom_loss: 21.9711\n",
      "Epoch 10/20\n",
      "509051/509051 [==============================] - 1s 3us/step - loss: 21.9368 - custom_loss: 21.9368\n",
      "Epoch 11/20\n",
      "509051/509051 [==============================] - 1s 3us/step - loss: 21.9216 - custom_loss: 21.9216\n",
      "Epoch 12/20\n",
      "509051/509051 [==============================] - 1s 3us/step - loss: 21.9029 - custom_loss: 21.9029\n",
      "Epoch 13/20\n",
      "509051/509051 [==============================] - 1s 3us/step - loss: 21.8868 - custom_loss: 21.8868\n",
      "Epoch 14/20\n",
      "509051/509051 [==============================] - 1s 3us/step - loss: 21.8830 - custom_loss: 21.8830\n",
      "Epoch 15/20\n",
      "509051/509051 [==============================] - 1s 3us/step - loss: 21.8541 - custom_loss: 21.8541\n",
      "Epoch 16/20\n",
      "509051/509051 [==============================] - 1s 3us/step - loss: 21.8455 - custom_loss: 21.8455\n",
      "Epoch 17/20\n",
      "509051/509051 [==============================] - 1s 3us/step - loss: 21.8415 - custom_loss: 21.8415\n",
      "Epoch 18/20\n",
      "509051/509051 [==============================] - 1s 3us/step - loss: 21.8126 - custom_loss: 21.8126\n",
      "Epoch 19/20\n",
      "509051/509051 [==============================] - 1s 3us/step - loss: 21.8319 - custom_loss: 21.8319\n",
      "Epoch 20/20\n",
      "509051/509051 [==============================] - 1s 3us/step - loss: 21.7978 - custom_loss: 21.7978\n",
      "127262/127262 [==============================] - 2s 15us/step\n",
      "509051/509051 [==============================] - 1s 1us/step\n",
      "Epoch 1/20\n",
      "509050/509050 [==============================] - 6s 11us/step - loss: 30.4147 - custom_loss: 30.4147\n",
      "Epoch 2/20\n",
      "509050/509050 [==============================] - 1s 3us/step - loss: 22.8043 - custom_loss: 22.8043\n",
      "Epoch 3/20\n",
      "509050/509050 [==============================] - 1s 3us/step - loss: 22.2512 - custom_loss: 22.2512\n",
      "Epoch 4/20\n",
      "509050/509050 [==============================] - 1s 3us/step - loss: 22.0998 - custom_loss: 22.0998\n",
      "Epoch 5/20\n",
      "509050/509050 [==============================] - 1s 3us/step - loss: 21.9995 - custom_loss: 21.9995\n",
      "Epoch 6/20\n",
      "509050/509050 [==============================] - 1s 3us/step - loss: 21.9577 - custom_loss: 21.9577\n",
      "Epoch 7/20\n",
      "509050/509050 [==============================] - 1s 3us/step - loss: 21.8980 - custom_loss: 21.8980\n",
      "Epoch 8/20\n",
      "509050/509050 [==============================] - 1s 3us/step - loss: 21.8708 - custom_loss: 21.8708\n",
      "Epoch 9/20\n",
      "509050/509050 [==============================] - 1s 3us/step - loss: 21.8348 - custom_loss: 21.8348\n",
      "Epoch 10/20\n",
      "509050/509050 [==============================] - 1s 3us/step - loss: 21.8153 - custom_loss: 21.8153\n",
      "Epoch 11/20\n",
      "509050/509050 [==============================] - 1s 3us/step - loss: 21.8000 - custom_loss: 21.8000\n",
      "Epoch 12/20\n"
     ]
    },
    {
     "name": "stdout",
     "output_type": "stream",
     "text": [
      "509050/509050 [==============================] - 1s 3us/step - loss: 21.7790 - custom_loss: 21.7790\n",
      "Epoch 13/20\n",
      "509050/509050 [==============================] - 1s 3us/step - loss: 21.7696 - custom_loss: 21.7696\n",
      "Epoch 14/20\n",
      "509050/509050 [==============================] - 1s 3us/step - loss: 21.7471 - custom_loss: 21.7471\n",
      "Epoch 15/20\n",
      "509050/509050 [==============================] - 1s 3us/step - loss: 21.7351 - custom_loss: 21.7351\n",
      "Epoch 16/20\n",
      "509050/509050 [==============================] - 1s 3us/step - loss: 21.7171 - custom_loss: 21.7171\n",
      "Epoch 17/20\n",
      "509050/509050 [==============================] - 1s 3us/step - loss: 21.7116 - custom_loss: 21.7116\n",
      "Epoch 18/20\n",
      "509050/509050 [==============================] - 1s 3us/step - loss: 21.6941 - custom_loss: 21.6941\n",
      "Epoch 19/20\n",
      "509050/509050 [==============================] - 1s 3us/step - loss: 21.6882 - custom_loss: 21.6882\n",
      "Epoch 20/20\n",
      "509050/509050 [==============================] - 1s 3us/step - loss: 21.6729 - custom_loss: 21.6729\n",
      "127263/127263 [==============================] - 2s 15us/step\n",
      "509050/509050 [==============================] - 1s 1us/step\n",
      "Epoch 1/20\n",
      "509050/509050 [==============================] - 6s 11us/step - loss: 29.9307 - custom_loss: 29.9307\n",
      "Epoch 2/20\n",
      "509050/509050 [==============================] - 1s 3us/step - loss: 22.9795 - custom_loss: 22.9795\n",
      "Epoch 3/20\n",
      "509050/509050 [==============================] - 1s 3us/step - loss: 22.5400 - custom_loss: 22.5400\n",
      "Epoch 4/20\n",
      "509050/509050 [==============================] - 1s 3us/step - loss: 22.3396 - custom_loss: 22.3396\n",
      "Epoch 5/20\n",
      "509050/509050 [==============================] - 1s 3us/step - loss: 22.2452 - custom_loss: 22.2452\n",
      "Epoch 6/20\n",
      "509050/509050 [==============================] - 1s 3us/step - loss: 22.1912 - custom_loss: 22.1912\n",
      "Epoch 7/20\n",
      "509050/509050 [==============================] - 1s 3us/step - loss: 22.1273 - custom_loss: 22.1273\n",
      "Epoch 8/20\n",
      "509050/509050 [==============================] - 1s 3us/step - loss: 22.1021 - custom_loss: 22.1021\n",
      "Epoch 9/20\n",
      "509050/509050 [==============================] - 1s 3us/step - loss: 22.0593 - custom_loss: 22.0593\n",
      "Epoch 10/20\n",
      "509050/509050 [==============================] - 1s 3us/step - loss: 22.0508 - custom_loss: 22.0508\n",
      "Epoch 11/20\n",
      "509050/509050 [==============================] - 1s 3us/step - loss: 22.0152 - custom_loss: 22.0152\n",
      "Epoch 12/20\n",
      "509050/509050 [==============================] - 1s 3us/step - loss: 21.9954 - custom_loss: 21.9954\n",
      "Epoch 13/20\n",
      "509050/509050 [==============================] - 1s 3us/step - loss: 21.9887 - custom_loss: 21.9887\n",
      "Epoch 14/20\n",
      "509050/509050 [==============================] - 1s 3us/step - loss: 21.9785 - custom_loss: 21.9785\n",
      "Epoch 15/20\n",
      "509050/509050 [==============================] - 1s 3us/step - loss: 21.9563 - custom_loss: 21.9563\n",
      "Epoch 16/20\n",
      "509050/509050 [==============================] - 1s 3us/step - loss: 21.9384 - custom_loss: 21.9384\n",
      "Epoch 17/20\n",
      "509050/509050 [==============================] - 1s 3us/step - loss: 21.9426 - custom_loss: 21.9426\n",
      "Epoch 18/20\n",
      "509050/509050 [==============================] - 1s 3us/step - loss: 21.9271 - custom_loss: 21.9271\n",
      "Epoch 19/20\n",
      "509050/509050 [==============================] - 1s 3us/step - loss: 21.9172 - custom_loss: 21.9172\n",
      "Epoch 20/20\n",
      "509050/509050 [==============================] - 1s 3us/step - loss: 21.9088 - custom_loss: 21.9088\n",
      "127263/127263 [==============================] - 2s 15us/step\n",
      "509050/509050 [==============================] - 1s 1us/step\n",
      "Epoch 1/20\n",
      "509050/509050 [==============================] - 6s 11us/step - loss: 100.0000 - custom_loss: 100.0000\n",
      "Epoch 2/20\n",
      "509050/509050 [==============================] - 1s 3us/step - loss: 100.0000 - custom_loss: 100.0000\n",
      "Epoch 3/20\n",
      "509050/509050 [==============================] - 1s 3us/step - loss: 100.0000 - custom_loss: 100.0000\n",
      "Epoch 4/20\n",
      "509050/509050 [==============================] - 1s 3us/step - loss: 100.0000 - custom_loss: 100.0000\n",
      "Epoch 5/20\n",
      "509050/509050 [==============================] - 1s 3us/step - loss: 100.0000 - custom_loss: 100.0000\n",
      "Epoch 6/20\n",
      "509050/509050 [==============================] - 1s 3us/step - loss: 100.0000 - custom_loss: 100.0000\n",
      "Epoch 7/20\n",
      "509050/509050 [==============================] - 1s 3us/step - loss: 100.0000 - custom_loss: 100.0000\n",
      "Epoch 8/20\n",
      "509050/509050 [==============================] - 1s 3us/step - loss: 100.0000 - custom_loss: 100.0000\n",
      "Epoch 9/20\n",
      "509050/509050 [==============================] - 1s 3us/step - loss: 100.0000 - custom_loss: 100.0000\n",
      "Epoch 10/20\n",
      "509050/509050 [==============================] - 1s 3us/step - loss: 100.0000 - custom_loss: 100.0000\n",
      "Epoch 11/20\n",
      "509050/509050 [==============================] - 1s 3us/step - loss: 100.0000 - custom_loss: 100.0000\n",
      "Epoch 12/20\n",
      "509050/509050 [==============================] - 1s 3us/step - loss: 100.0000 - custom_loss: 100.0000\n",
      "Epoch 13/20\n",
      "509050/509050 [==============================] - 1s 3us/step - loss: 100.0000 - custom_loss: 100.0000\n",
      "Epoch 14/20\n",
      "509050/509050 [==============================] - 1s 3us/step - loss: 100.0000 - custom_loss: 100.0000\n",
      "Epoch 15/20\n",
      "509050/509050 [==============================] - 1s 3us/step - loss: 100.0000 - custom_loss: 100.0000\n",
      "Epoch 16/20\n",
      "509050/509050 [==============================] - 1s 3us/step - loss: 100.0000 - custom_loss: 100.0000\n",
      "Epoch 17/20\n",
      "509050/509050 [==============================] - 1s 3us/step - loss: 100.0000 - custom_loss: 100.0000\n",
      "Epoch 18/20\n",
      "509050/509050 [==============================] - 1s 3us/step - loss: 100.0000 - custom_loss: 100.0000\n",
      "Epoch 19/20\n",
      "509050/509050 [==============================] - 1s 3us/step - loss: 100.0000 - custom_loss: 100.0000\n",
      "Epoch 20/20\n",
      "509050/509050 [==============================] - 1s 3us/step - loss: 100.0000 - custom_loss: 100.0000\n",
      "127263/127263 [==============================] - 2s 16us/step\n",
      "509050/509050 [==============================] - 1s 1us/step\n",
      "Epoch 1/20\n",
      "509051/509051 [==============================] - 6s 11us/step - loss: 29.2629 - custom_loss: 29.2629\n",
      "Epoch 2/20\n",
      "509051/509051 [==============================] - 1s 3us/step - loss: 22.9782 - custom_loss: 22.9782\n",
      "Epoch 3/20\n",
      "509051/509051 [==============================] - 1s 3us/step - loss: 22.5621 - custom_loss: 22.5621\n",
      "Epoch 4/20\n",
      "509051/509051 [==============================] - 1s 3us/step - loss: 22.4091 - custom_loss: 22.4091\n",
      "Epoch 5/20\n",
      "509051/509051 [==============================] - 1s 3us/step - loss: 22.3156 - custom_loss: 22.3156\n",
      "Epoch 6/20\n",
      "509051/509051 [==============================] - 1s 3us/step - loss: 22.2471 - custom_loss: 22.2471\n",
      "Epoch 7/20\n",
      "509051/509051 [==============================] - 1s 3us/step - loss: 22.2474 - custom_loss: 22.2474\n",
      "Epoch 8/20\n",
      "509051/509051 [==============================] - 1s 3us/step - loss: 22.1650 - custom_loss: 22.1650\n",
      "Epoch 9/20\n",
      "509051/509051 [==============================] - 1s 3us/step - loss: 22.1258 - custom_loss: 22.1258\n",
      "Epoch 10/20\n",
      "509051/509051 [==============================] - 1s 3us/step - loss: 22.1144 - custom_loss: 22.1144\n",
      "Epoch 11/20\n",
      "509051/509051 [==============================] - 1s 3us/step - loss: 22.0867 - custom_loss: 22.0867\n",
      "Epoch 12/20\n",
      "509051/509051 [==============================] - 1s 3us/step - loss: 22.0608 - custom_loss: 22.0608\n",
      "Epoch 13/20\n",
      "509051/509051 [==============================] - 1s 3us/step - loss: 22.0476 - custom_loss: 22.0476\n",
      "Epoch 14/20\n",
      "509051/509051 [==============================] - 1s 3us/step - loss: 22.0243 - custom_loss: 22.0243\n",
      "Epoch 15/20\n",
      "509051/509051 [==============================] - 1s 3us/step - loss: 22.0056 - custom_loss: 22.0056\n",
      "Epoch 16/20\n",
      "509051/509051 [==============================] - 1s 3us/step - loss: 21.9949 - custom_loss: 21.9949\n",
      "Epoch 17/20\n",
      "509051/509051 [==============================] - 1s 3us/step - loss: 21.9739 - custom_loss: 21.9739\n",
      "Epoch 18/20\n",
      "509051/509051 [==============================] - 1s 3us/step - loss: 21.9528 - custom_loss: 21.9528\n",
      "Epoch 19/20\n",
      "509051/509051 [==============================] - 1s 3us/step - loss: 21.9249 - custom_loss: 21.9249\n",
      "Epoch 20/20\n",
      "509051/509051 [==============================] - 1s 3us/step - loss: 21.9329 - custom_loss: 21.9329\n",
      "127262/127262 [==============================] - 2s 16us/step\n"
     ]
    },
    {
     "name": "stdout",
     "output_type": "stream",
     "text": [
      "509051/509051 [==============================] - 1s 1us/step\n",
      "Epoch 1/20\n",
      "509051/509051 [==============================] - 6s 12us/step - loss: 28.8577 - custom_loss: 28.8577\n",
      "Epoch 2/20\n",
      "509051/509051 [==============================] - 1s 3us/step - loss: 22.6686 - custom_loss: 22.6686\n",
      "Epoch 3/20\n",
      "509051/509051 [==============================] - 1s 3us/step - loss: 22.3327 - custom_loss: 22.3327\n",
      "Epoch 4/20\n",
      "509051/509051 [==============================] - 1s 3us/step - loss: 22.1927 - custom_loss: 22.1927\n",
      "Epoch 5/20\n",
      "509051/509051 [==============================] - 1s 3us/step - loss: 22.1406 - custom_loss: 22.1406\n",
      "Epoch 6/20\n",
      "509051/509051 [==============================] - 1s 3us/step - loss: 22.0788 - custom_loss: 22.0788\n",
      "Epoch 7/20\n",
      "509051/509051 [==============================] - 1s 3us/step - loss: 22.0265 - custom_loss: 22.0265\n",
      "Epoch 8/20\n",
      "509051/509051 [==============================] - 1s 3us/step - loss: 21.9856 - custom_loss: 21.9856\n",
      "Epoch 9/20\n",
      "509051/509051 [==============================] - 1s 3us/step - loss: 21.9608 - custom_loss: 21.9608\n",
      "Epoch 10/20\n",
      "509051/509051 [==============================] - 1s 3us/step - loss: 21.9524 - custom_loss: 21.9524\n",
      "Epoch 11/20\n",
      "509051/509051 [==============================] - 1s 3us/step - loss: 21.9253 - custom_loss: 21.9253\n",
      "Epoch 12/20\n",
      "509051/509051 [==============================] - 1s 3us/step - loss: 21.9108 - custom_loss: 21.9108\n",
      "Epoch 13/20\n",
      "509051/509051 [==============================] - 1s 3us/step - loss: 21.8793 - custom_loss: 21.8793\n",
      "Epoch 14/20\n",
      "509051/509051 [==============================] - 1s 3us/step - loss: 21.8850 - custom_loss: 21.8850\n",
      "Epoch 15/20\n",
      "509051/509051 [==============================] - 1s 3us/step - loss: 21.8576 - custom_loss: 21.8576\n",
      "Epoch 16/20\n",
      "509051/509051 [==============================] - 1s 3us/step - loss: 21.8428 - custom_loss: 21.8428\n",
      "Epoch 17/20\n",
      "509051/509051 [==============================] - 1s 3us/step - loss: 21.8501 - custom_loss: 21.8501\n",
      "Epoch 18/20\n",
      "509051/509051 [==============================] - 1s 3us/step - loss: 21.8227 - custom_loss: 21.8227\n",
      "Epoch 19/20\n",
      "509051/509051 [==============================] - 1s 3us/step - loss: 21.8184 - custom_loss: 21.8184\n",
      "Epoch 20/20\n",
      "509051/509051 [==============================] - 1s 3us/step - loss: 21.8038 - custom_loss: 21.8038\n",
      "127262/127262 [==============================] - 2s 16us/step\n",
      "509051/509051 [==============================] - 1s 1us/step\n",
      "Epoch 1/20\n",
      "509050/509050 [==============================] - 6s 12us/step - loss: 27.2455 - custom_loss: 27.2455\n",
      "Epoch 2/20\n",
      "509050/509050 [==============================] - 1s 3us/step - loss: 22.3967 - custom_loss: 22.3967\n",
      "Epoch 3/20\n",
      "509050/509050 [==============================] - 1s 3us/step - loss: 22.1092 - custom_loss: 22.1092\n",
      "Epoch 4/20\n",
      "509050/509050 [==============================] - 1s 3us/step - loss: 21.9838 - custom_loss: 21.9838\n",
      "Epoch 5/20\n",
      "509050/509050 [==============================] - 1s 3us/step - loss: 21.9117 - custom_loss: 21.9117\n",
      "Epoch 6/20\n",
      "509050/509050 [==============================] - 1s 3us/step - loss: 21.8570 - custom_loss: 21.8570\n",
      "Epoch 7/20\n",
      "509050/509050 [==============================] - 1s 3us/step - loss: 21.8347 - custom_loss: 21.8347\n",
      "Epoch 8/20\n",
      "509050/509050 [==============================] - 1s 3us/step - loss: 21.8014 - custom_loss: 21.8014\n",
      "Epoch 9/20\n",
      "509050/509050 [==============================] - 1s 3us/step - loss: 21.7681 - custom_loss: 21.7681\n",
      "Epoch 10/20\n",
      "509050/509050 [==============================] - 1s 3us/step - loss: 21.7531 - custom_loss: 21.7531\n",
      "Epoch 11/20\n",
      "509050/509050 [==============================] - 1s 3us/step - loss: 21.7318 - custom_loss: 21.7318\n",
      "Epoch 12/20\n",
      "509050/509050 [==============================] - 1s 3us/step - loss: 21.7222 - custom_loss: 21.7222\n",
      "Epoch 13/20\n",
      "509050/509050 [==============================] - 1s 3us/step - loss: 21.7069 - custom_loss: 21.7069\n",
      "Epoch 14/20\n",
      "509050/509050 [==============================] - 1s 3us/step - loss: 21.6883 - custom_loss: 21.6883\n",
      "Epoch 15/20\n",
      "509050/509050 [==============================] - 1s 3us/step - loss: 21.6744 - custom_loss: 21.6744\n",
      "Epoch 16/20\n",
      "509050/509050 [==============================] - 1s 3us/step - loss: 21.6641 - custom_loss: 21.6641\n",
      "Epoch 17/20\n",
      "509050/509050 [==============================] - 1s 3us/step - loss: 21.6514 - custom_loss: 21.6514\n",
      "Epoch 18/20\n",
      "509050/509050 [==============================] - 1s 3us/step - loss: 21.6429 - custom_loss: 21.6429\n",
      "Epoch 19/20\n",
      "509050/509050 [==============================] - 1s 3us/step - loss: 21.6291 - custom_loss: 21.6291\n",
      "Epoch 20/20\n",
      "509050/509050 [==============================] - 1s 3us/step - loss: 21.6233 - custom_loss: 21.6233\n",
      "127263/127263 [==============================] - 2s 16us/step\n",
      "509050/509050 [==============================] - 1s 1us/step\n",
      "Epoch 1/20\n",
      "509050/509050 [==============================] - 6s 12us/step - loss: 27.8042 - custom_loss: 27.8042\n",
      "Epoch 2/20\n",
      "509050/509050 [==============================] - 1s 3us/step - loss: 22.9197 - custom_loss: 22.9197\n",
      "Epoch 3/20\n",
      "509050/509050 [==============================] - 1s 3us/step - loss: 22.5190 - custom_loss: 22.5190\n",
      "Epoch 4/20\n",
      "509050/509050 [==============================] - 1s 3us/step - loss: 22.3279 - custom_loss: 22.3279\n",
      "Epoch 5/20\n",
      "509050/509050 [==============================] - 1s 3us/step - loss: 22.2311 - custom_loss: 22.2311\n",
      "Epoch 6/20\n",
      "509050/509050 [==============================] - 1s 3us/step - loss: 22.1343 - custom_loss: 22.1343\n",
      "Epoch 7/20\n",
      "509050/509050 [==============================] - 1s 3us/step - loss: 22.0918 - custom_loss: 22.0918\n",
      "Epoch 8/20\n",
      "509050/509050 [==============================] - 1s 3us/step - loss: 22.0396 - custom_loss: 22.0396\n",
      "Epoch 9/20\n",
      "509050/509050 [==============================] - 1s 3us/step - loss: 21.9849 - custom_loss: 21.9849\n",
      "Epoch 10/20\n",
      "509050/509050 [==============================] - 1s 3us/step - loss: 21.9668 - custom_loss: 21.9668\n",
      "Epoch 11/20\n",
      "509050/509050 [==============================] - 1s 3us/step - loss: 21.9186 - custom_loss: 21.9186\n",
      "Epoch 12/20\n",
      "509050/509050 [==============================] - 1s 3us/step - loss: 21.8995 - custom_loss: 21.8995\n",
      "Epoch 13/20\n",
      "509050/509050 [==============================] - 1s 3us/step - loss: 21.8658 - custom_loss: 21.8658\n",
      "Epoch 14/20\n",
      "509050/509050 [==============================] - 1s 3us/step - loss: 21.8439 - custom_loss: 21.8439\n",
      "Epoch 15/20\n",
      "509050/509050 [==============================] - 1s 3us/step - loss: 21.8038 - custom_loss: 21.8038\n",
      "Epoch 16/20\n",
      "509050/509050 [==============================] - 1s 3us/step - loss: 21.7839 - custom_loss: 21.7839\n",
      "Epoch 17/20\n",
      "509050/509050 [==============================] - 1s 3us/step - loss: 21.7713 - custom_loss: 21.7713\n",
      "Epoch 18/20\n",
      "509050/509050 [==============================] - 1s 3us/step - loss: 21.7512 - custom_loss: 21.7512\n",
      "Epoch 19/20\n",
      "509050/509050 [==============================] - 1s 3us/step - loss: 21.7332 - custom_loss: 21.7332\n",
      "Epoch 20/20\n",
      "509050/509050 [==============================] - 1s 3us/step - loss: 21.7294 - custom_loss: 21.7294\n",
      "127263/127263 [==============================] - 2s 16us/step\n",
      "509050/509050 [==============================] - 1s 1us/step\n",
      "Epoch 1/20\n",
      "509050/509050 [==============================] - 6s 12us/step - loss: 27.7908 - custom_loss: 27.7908\n",
      "Epoch 2/20\n",
      "509050/509050 [==============================] - 1s 3us/step - loss: 22.6509 - custom_loss: 22.6509\n",
      "Epoch 3/20\n",
      "509050/509050 [==============================] - 1s 3us/step - loss: 22.3535 - custom_loss: 22.3535\n",
      "Epoch 4/20\n",
      "509050/509050 [==============================] - 1s 3us/step - loss: 22.2308 - custom_loss: 22.2308\n",
      "Epoch 5/20\n",
      "509050/509050 [==============================] - 1s 3us/step - loss: 22.1656 - custom_loss: 22.1656\n",
      "Epoch 6/20\n",
      "509050/509050 [==============================] - 1s 3us/step - loss: 22.1408 - custom_loss: 22.1408\n",
      "Epoch 7/20\n",
      "509050/509050 [==============================] - 1s 3us/step - loss: 22.0877 - custom_loss: 22.0877\n",
      "Epoch 8/20\n",
      "509050/509050 [==============================] - 1s 3us/step - loss: 22.0807 - custom_loss: 22.0807\n",
      "Epoch 9/20\n",
      "509050/509050 [==============================] - 1s 3us/step - loss: 22.0452 - custom_loss: 22.0452\n",
      "Epoch 10/20\n"
     ]
    },
    {
     "name": "stdout",
     "output_type": "stream",
     "text": [
      "509050/509050 [==============================] - 1s 3us/step - loss: 22.0015 - custom_loss: 22.0015\n",
      "Epoch 11/20\n",
      "509050/509050 [==============================] - 1s 3us/step - loss: 21.9916 - custom_loss: 21.9916\n",
      "Epoch 12/20\n",
      "509050/509050 [==============================] - 1s 3us/step - loss: 21.9589 - custom_loss: 21.9589\n",
      "Epoch 13/20\n",
      "509050/509050 [==============================] - 1s 3us/step - loss: 21.9361 - custom_loss: 21.9361\n",
      "Epoch 14/20\n",
      "509050/509050 [==============================] - 1s 3us/step - loss: 21.9193 - custom_loss: 21.9193\n",
      "Epoch 15/20\n",
      "509050/509050 [==============================] - 1s 3us/step - loss: 21.9180 - custom_loss: 21.9180\n",
      "Epoch 16/20\n",
      "509050/509050 [==============================] - 1s 3us/step - loss: 21.8917 - custom_loss: 21.8917\n",
      "Epoch 17/20\n",
      "509050/509050 [==============================] - 1s 3us/step - loss: 21.8805 - custom_loss: 21.8805\n",
      "Epoch 18/20\n",
      "509050/509050 [==============================] - 1s 3us/step - loss: 21.8661 - custom_loss: 21.8661\n",
      "Epoch 19/20\n",
      "509050/509050 [==============================] - 1s 3us/step - loss: 21.8510 - custom_loss: 21.8510\n",
      "Epoch 20/20\n",
      "509050/509050 [==============================] - 1s 3us/step - loss: 21.8486 - custom_loss: 21.8486\n",
      "127263/127263 [==============================] - 2s 16us/step\n",
      "509050/509050 [==============================] - 1s 1us/step\n",
      "Epoch 1/20\n",
      "509051/509051 [==============================] - 6s 12us/step - loss: 27.7222 - custom_loss: 27.7222\n",
      "Epoch 2/20\n",
      "509051/509051 [==============================] - 1s 3us/step - loss: 22.6085 - custom_loss: 22.6085\n",
      "Epoch 3/20\n",
      "509051/509051 [==============================] - 1s 3us/step - loss: 22.2880 - custom_loss: 22.2880\n",
      "Epoch 4/20\n",
      "509051/509051 [==============================] - 1s 3us/step - loss: 22.1618 - custom_loss: 22.1618\n",
      "Epoch 5/20\n",
      "509051/509051 [==============================] - 1s 3us/step - loss: 22.0725 - custom_loss: 22.0725\n",
      "Epoch 6/20\n",
      "509051/509051 [==============================] - 1s 3us/step - loss: 22.0167 - custom_loss: 22.0167\n",
      "Epoch 7/20\n",
      "509051/509051 [==============================] - 1s 3us/step - loss: 21.9799 - custom_loss: 21.9799\n",
      "Epoch 8/20\n",
      "509051/509051 [==============================] - 1s 3us/step - loss: 21.9471 - custom_loss: 21.9471\n",
      "Epoch 9/20\n",
      "509051/509051 [==============================] - 1s 3us/step - loss: 21.9079 - custom_loss: 21.9079\n",
      "Epoch 10/20\n",
      "509051/509051 [==============================] - 1s 3us/step - loss: 21.8856 - custom_loss: 21.8856\n",
      "Epoch 11/20\n",
      "509051/509051 [==============================] - 1s 3us/step - loss: 21.8618 - custom_loss: 21.8618\n",
      "Epoch 12/20\n",
      "509051/509051 [==============================] - 1s 3us/step - loss: 21.8412 - custom_loss: 21.8412\n",
      "Epoch 13/20\n",
      "509051/509051 [==============================] - 1s 3us/step - loss: 21.8219 - custom_loss: 21.8219\n",
      "Epoch 14/20\n",
      "509051/509051 [==============================] - 1s 3us/step - loss: 21.8076 - custom_loss: 21.8076\n",
      "Epoch 15/20\n",
      "509051/509051 [==============================] - 1s 3us/step - loss: 21.7826 - custom_loss: 21.7826\n",
      "Epoch 16/20\n",
      "509051/509051 [==============================] - 1s 3us/step - loss: 21.7655 - custom_loss: 21.7655\n",
      "Epoch 17/20\n",
      "509051/509051 [==============================] - 1s 3us/step - loss: 21.7605 - custom_loss: 21.7605\n",
      "Epoch 18/20\n",
      "509051/509051 [==============================] - 1s 3us/step - loss: 21.7342 - custom_loss: 21.7342\n",
      "Epoch 19/20\n",
      "509051/509051 [==============================] - 1s 3us/step - loss: 21.7246 - custom_loss: 21.7246\n",
      "Epoch 20/20\n",
      "509051/509051 [==============================] - 1s 3us/step - loss: 21.7045 - custom_loss: 21.7045\n",
      "127262/127262 [==============================] - 2s 17us/step\n",
      "509051/509051 [==============================] - 1s 1us/step\n",
      "Epoch 1/20\n",
      "509051/509051 [==============================] - 6s 12us/step - loss: 27.9445 - custom_loss: 27.9445\n",
      "Epoch 2/20\n",
      "509051/509051 [==============================] - 1s 3us/step - loss: 22.8335 - custom_loss: 22.8335\n",
      "Epoch 3/20\n",
      "509051/509051 [==============================] - 1s 3us/step - loss: 22.3554 - custom_loss: 22.3554\n",
      "Epoch 4/20\n",
      "509051/509051 [==============================] - 1s 3us/step - loss: 22.2073 - custom_loss: 22.2073\n",
      "Epoch 5/20\n",
      "509051/509051 [==============================] - 1s 3us/step - loss: 22.1038 - custom_loss: 22.1038\n",
      "Epoch 6/20\n",
      "509051/509051 [==============================] - 1s 3us/step - loss: 22.0394 - custom_loss: 22.0394\n",
      "Epoch 7/20\n",
      "509051/509051 [==============================] - 1s 3us/step - loss: 21.9774 - custom_loss: 21.9774\n",
      "Epoch 8/20\n",
      "509051/509051 [==============================] - 1s 3us/step - loss: 21.9432 - custom_loss: 21.9432\n",
      "Epoch 9/20\n",
      "509051/509051 [==============================] - 1s 3us/step - loss: 21.8992 - custom_loss: 21.8992\n",
      "Epoch 10/20\n",
      "509051/509051 [==============================] - 1s 3us/step - loss: 21.8675 - custom_loss: 21.8675\n",
      "Epoch 11/20\n",
      "509051/509051 [==============================] - 1s 3us/step - loss: 21.8544 - custom_loss: 21.8544\n",
      "Epoch 12/20\n",
      "509051/509051 [==============================] - 1s 3us/step - loss: 21.8276 - custom_loss: 21.8276\n",
      "Epoch 13/20\n",
      "509051/509051 [==============================] - 1s 3us/step - loss: 21.8193 - custom_loss: 21.8193\n",
      "Epoch 14/20\n",
      "509051/509051 [==============================] - 1s 3us/step - loss: 21.7933 - custom_loss: 21.7933\n",
      "Epoch 15/20\n",
      "509051/509051 [==============================] - 1s 3us/step - loss: 21.7741 - custom_loss: 21.7741\n",
      "Epoch 16/20\n",
      "509051/509051 [==============================] - 1s 3us/step - loss: 21.7589 - custom_loss: 21.7589\n",
      "Epoch 17/20\n",
      "509051/509051 [==============================] - 1s 3us/step - loss: 21.7518 - custom_loss: 21.7518\n",
      "Epoch 18/20\n",
      "509051/509051 [==============================] - 1s 3us/step - loss: 21.7392 - custom_loss: 21.7392\n",
      "Epoch 19/20\n",
      "509051/509051 [==============================] - 1s 3us/step - loss: 21.7341 - custom_loss: 21.7341\n",
      "Epoch 20/20\n",
      "509051/509051 [==============================] - 1s 3us/step - loss: 21.7211 - custom_loss: 21.7211\n",
      "127262/127262 [==============================] - 2s 16us/step\n",
      "509051/509051 [==============================] - 1s 1us/step\n",
      "Epoch 1/20\n",
      "509050/509050 [==============================] - 6s 12us/step - loss: 28.4001 - custom_loss: 28.4001\n",
      "Epoch 2/20\n",
      "509050/509050 [==============================] - 1s 3us/step - loss: 22.6659 - custom_loss: 22.6659\n",
      "Epoch 3/20\n",
      "509050/509050 [==============================] - 1s 3us/step - loss: 22.2529 - custom_loss: 22.2529\n",
      "Epoch 4/20\n",
      "509050/509050 [==============================] - 1s 3us/step - loss: 22.0862 - custom_loss: 22.0862\n",
      "Epoch 5/20\n",
      "509050/509050 [==============================] - 1s 3us/step - loss: 22.0090 - custom_loss: 22.0090\n",
      "Epoch 6/20\n",
      "509050/509050 [==============================] - 1s 3us/step - loss: 21.9499 - custom_loss: 21.9499\n",
      "Epoch 7/20\n",
      "509050/509050 [==============================] - 1s 3us/step - loss: 21.8935 - custom_loss: 21.8935\n",
      "Epoch 8/20\n",
      "509050/509050 [==============================] - 1s 3us/step - loss: 21.8536 - custom_loss: 21.8536\n",
      "Epoch 9/20\n",
      "509050/509050 [==============================] - 1s 3us/step - loss: 21.8171 - custom_loss: 21.8171\n",
      "Epoch 10/20\n",
      "509050/509050 [==============================] - 1s 3us/step - loss: 21.7722 - custom_loss: 21.7722\n",
      "Epoch 11/20\n",
      "509050/509050 [==============================] - 1s 3us/step - loss: 21.7477 - custom_loss: 21.7477\n",
      "Epoch 12/20\n",
      "509050/509050 [==============================] - 1s 3us/step - loss: 21.7240 - custom_loss: 21.7240\n",
      "Epoch 13/20\n",
      "509050/509050 [==============================] - 1s 3us/step - loss: 21.6979 - custom_loss: 21.6979\n",
      "Epoch 14/20\n",
      "509050/509050 [==============================] - 1s 3us/step - loss: 21.6829 - custom_loss: 21.6829\n",
      "Epoch 15/20\n",
      "509050/509050 [==============================] - 1s 3us/step - loss: 21.6663 - custom_loss: 21.6663\n",
      "Epoch 16/20\n",
      "509050/509050 [==============================] - 1s 3us/step - loss: 21.6467 - custom_loss: 21.6467\n",
      "Epoch 17/20\n",
      "509050/509050 [==============================] - 1s 3us/step - loss: 21.6375 - custom_loss: 21.6375\n",
      "Epoch 18/20\n",
      "509050/509050 [==============================] - 1s 3us/step - loss: 21.6230 - custom_loss: 21.6230\n",
      "Epoch 19/20\n",
      "509050/509050 [==============================] - 1s 3us/step - loss: 21.6102 - custom_loss: 21.6102\n",
      "Epoch 20/20\n"
     ]
    },
    {
     "name": "stdout",
     "output_type": "stream",
     "text": [
      "509050/509050 [==============================] - 1s 3us/step - loss: 21.6052 - custom_loss: 21.6052\n",
      "127263/127263 [==============================] - 2s 16us/step\n",
      "509050/509050 [==============================] - 1s 1us/step\n",
      "Epoch 1/20\n",
      "509050/509050 [==============================] - 6s 12us/step - loss: 28.2949 - custom_loss: 28.2949\n",
      "Epoch 2/20\n",
      "509050/509050 [==============================] - 1s 3us/step - loss: 22.7837 - custom_loss: 22.7837\n",
      "Epoch 3/20\n",
      "509050/509050 [==============================] - 1s 3us/step - loss: 22.4221 - custom_loss: 22.4221\n",
      "Epoch 4/20\n",
      "509050/509050 [==============================] - 1s 3us/step - loss: 22.2502 - custom_loss: 22.2502\n",
      "Epoch 5/20\n",
      "509050/509050 [==============================] - 1s 3us/step - loss: 22.1740 - custom_loss: 22.1740\n",
      "Epoch 6/20\n",
      "509050/509050 [==============================] - 1s 3us/step - loss: 22.1143 - custom_loss: 22.1143\n",
      "Epoch 7/20\n",
      "509050/509050 [==============================] - 1s 3us/step - loss: 22.0513 - custom_loss: 22.0513\n",
      "Epoch 8/20\n",
      "509050/509050 [==============================] - 1s 3us/step - loss: 22.0340 - custom_loss: 22.0340\n",
      "Epoch 9/20\n",
      "509050/509050 [==============================] - 1s 3us/step - loss: 21.9849 - custom_loss: 21.9849\n",
      "Epoch 10/20\n",
      "509050/509050 [==============================] - 1s 3us/step - loss: 21.9634 - custom_loss: 21.9634\n",
      "Epoch 11/20\n",
      "509050/509050 [==============================] - 1s 3us/step - loss: 21.9349 - custom_loss: 21.9349\n",
      "Epoch 12/20\n",
      "509050/509050 [==============================] - 1s 3us/step - loss: 21.9172 - custom_loss: 21.9172\n",
      "Epoch 13/20\n",
      "509050/509050 [==============================] - 1s 3us/step - loss: 21.8960 - custom_loss: 21.8960\n",
      "Epoch 14/20\n",
      "509050/509050 [==============================] - 1s 3us/step - loss: 21.8891 - custom_loss: 21.8891\n",
      "Epoch 15/20\n",
      "509050/509050 [==============================] - 1s 3us/step - loss: 21.8555 - custom_loss: 21.8555\n",
      "Epoch 16/20\n",
      "509050/509050 [==============================] - 1s 3us/step - loss: 21.8429 - custom_loss: 21.8429\n",
      "Epoch 17/20\n",
      "509050/509050 [==============================] - 1s 3us/step - loss: 21.8422 - custom_loss: 21.8422\n",
      "Epoch 18/20\n",
      "509050/509050 [==============================] - 1s 3us/step - loss: 21.8230 - custom_loss: 21.8230\n",
      "Epoch 19/20\n",
      "509050/509050 [==============================] - 1s 3us/step - loss: 21.8174 - custom_loss: 21.8174\n",
      "Epoch 20/20\n",
      "509050/509050 [==============================] - 1s 3us/step - loss: 21.7944 - custom_loss: 21.7944\n",
      "127263/127263 [==============================] - 2s 17us/step\n",
      "509050/509050 [==============================] - 1s 1us/step\n",
      "Epoch 1/20\n",
      "509050/509050 [==============================] - 6s 12us/step - loss: 28.6299 - custom_loss: 28.6299\n",
      "Epoch 2/20\n",
      "509050/509050 [==============================] - 1s 3us/step - loss: 22.5551 - custom_loss: 22.5551\n",
      "Epoch 3/20\n",
      "509050/509050 [==============================] - 1s 3us/step - loss: 22.2477 - custom_loss: 22.2477\n",
      "Epoch 4/20\n",
      "509050/509050 [==============================] - 1s 3us/step - loss: 22.1457 - custom_loss: 22.1457\n",
      "Epoch 5/20\n",
      "509050/509050 [==============================] - 1s 3us/step - loss: 22.0731 - custom_loss: 22.0731\n",
      "Epoch 6/20\n",
      "509050/509050 [==============================] - 1s 3us/step - loss: 22.0012 - custom_loss: 22.0012\n",
      "Epoch 7/20\n",
      "509050/509050 [==============================] - 1s 3us/step - loss: 21.9796 - custom_loss: 21.9796\n",
      "Epoch 8/20\n",
      "509050/509050 [==============================] - 1s 3us/step - loss: 21.9374 - custom_loss: 21.9374\n",
      "Epoch 9/20\n",
      "509050/509050 [==============================] - 1s 3us/step - loss: 21.9401 - custom_loss: 21.9401\n",
      "Epoch 10/20\n",
      "509050/509050 [==============================] - 1s 3us/step - loss: 21.9029 - custom_loss: 21.9029\n",
      "Epoch 11/20\n",
      "509050/509050 [==============================] - 1s 3us/step - loss: 21.8878 - custom_loss: 21.8878\n",
      "Epoch 12/20\n",
      "509050/509050 [==============================] - 1s 3us/step - loss: 21.8819 - custom_loss: 21.8819\n",
      "Epoch 13/20\n",
      "509050/509050 [==============================] - 1s 3us/step - loss: 21.8447 - custom_loss: 21.8447\n",
      "Epoch 14/20\n",
      "509050/509050 [==============================] - 1s 3us/step - loss: 21.8539 - custom_loss: 21.8539\n",
      "Epoch 15/20\n",
      "509050/509050 [==============================] - 1s 3us/step - loss: 21.8572 - custom_loss: 21.8572\n",
      "Epoch 16/20\n",
      "509050/509050 [==============================] - 1s 3us/step - loss: 21.8162 - custom_loss: 21.8162\n",
      "Epoch 17/20\n",
      "509050/509050 [==============================] - 1s 3us/step - loss: 21.7961 - custom_loss: 21.7961\n",
      "Epoch 18/20\n",
      "509050/509050 [==============================] - 1s 3us/step - loss: 21.7968 - custom_loss: 21.7968\n",
      "Epoch 19/20\n",
      "509050/509050 [==============================] - 1s 3us/step - loss: 21.7879 - custom_loss: 21.7879\n",
      "Epoch 20/20\n",
      "509050/509050 [==============================] - 1s 3us/step - loss: 21.7944 - custom_loss: 21.7944\n",
      "127263/127263 [==============================] - 2s 17us/step\n",
      "509050/509050 [==============================] - 1s 1us/step\n",
      "Epoch 1/20\n",
      "509051/509051 [==============================] - 6s 12us/step - loss: 28.2312 - custom_loss: 28.2312\n",
      "Epoch 2/20\n",
      "509051/509051 [==============================] - 1s 3us/step - loss: 22.6713 - custom_loss: 22.6713\n",
      "Epoch 3/20\n",
      "509051/509051 [==============================] - 1s 3us/step - loss: 22.3011 - custom_loss: 22.3011\n",
      "Epoch 4/20\n",
      "509051/509051 [==============================] - 1s 3us/step - loss: 22.1476 - custom_loss: 22.1476\n",
      "Epoch 5/20\n",
      "509051/509051 [==============================] - 1s 3us/step - loss: 22.0749 - custom_loss: 22.0749\n",
      "Epoch 6/20\n",
      "509051/509051 [==============================] - 1s 3us/step - loss: 22.0020 - custom_loss: 22.0020\n",
      "Epoch 7/20\n",
      "509051/509051 [==============================] - 1s 3us/step - loss: 21.9576 - custom_loss: 21.9576\n",
      "Epoch 8/20\n",
      "509051/509051 [==============================] - 1s 3us/step - loss: 21.9227 - custom_loss: 21.9227\n",
      "Epoch 9/20\n",
      "509051/509051 [==============================] - 1s 3us/step - loss: 21.8942 - custom_loss: 21.8942\n",
      "Epoch 10/20\n",
      "509051/509051 [==============================] - 1s 3us/step - loss: 21.8552 - custom_loss: 21.8552\n",
      "Epoch 11/20\n",
      "509051/509051 [==============================] - 1s 3us/step - loss: 21.8455 - custom_loss: 21.8455\n",
      "Epoch 12/20\n",
      "509051/509051 [==============================] - 1s 3us/step - loss: 21.8196 - custom_loss: 21.8196\n",
      "Epoch 13/20\n",
      "509051/509051 [==============================] - 1s 3us/step - loss: 21.8071 - custom_loss: 21.8071\n",
      "Epoch 14/20\n",
      "509051/509051 [==============================] - 1s 3us/step - loss: 21.7906 - custom_loss: 21.7906\n",
      "Epoch 15/20\n",
      "509051/509051 [==============================] - 1s 3us/step - loss: 21.7657 - custom_loss: 21.7657\n",
      "Epoch 16/20\n",
      "509051/509051 [==============================] - 1s 3us/step - loss: 21.7594 - custom_loss: 21.7594\n",
      "Epoch 17/20\n",
      "509051/509051 [==============================] - 1s 3us/step - loss: 21.7491 - custom_loss: 21.7491\n",
      "Epoch 18/20\n",
      "509051/509051 [==============================] - 1s 3us/step - loss: 21.7272 - custom_loss: 21.7272\n",
      "Epoch 19/20\n",
      "509051/509051 [==============================] - 1s 3us/step - loss: 21.7131 - custom_loss: 21.7131\n",
      "Epoch 20/20\n",
      "509051/509051 [==============================] - 1s 3us/step - loss: 21.7165 - custom_loss: 21.7165\n",
      "127262/127262 [==============================] - 2s 17us/step\n",
      "509051/509051 [==============================] - 1s 1us/step\n",
      "Epoch 1/20\n",
      "509051/509051 [==============================] - 6s 12us/step - loss: 28.0158 - custom_loss: 28.0158\n",
      "Epoch 2/20\n",
      "509051/509051 [==============================] - 1s 3us/step - loss: 22.5746 - custom_loss: 22.5746\n",
      "Epoch 3/20\n",
      "509051/509051 [==============================] - 1s 3us/step - loss: 22.2557 - custom_loss: 22.2557\n",
      "Epoch 4/20\n",
      "509051/509051 [==============================] - 1s 3us/step - loss: 22.1370 - custom_loss: 22.1370\n",
      "Epoch 5/20\n",
      "509051/509051 [==============================] - 1s 3us/step - loss: 22.0696 - custom_loss: 22.0696\n",
      "Epoch 6/20\n",
      "509051/509051 [==============================] - 1s 3us/step - loss: 22.0224 - custom_loss: 22.0224\n",
      "Epoch 7/20\n",
      "509051/509051 [==============================] - 1s 3us/step - loss: 21.9685 - custom_loss: 21.9685\n",
      "Epoch 8/20\n",
      "509051/509051 [==============================] - 1s 3us/step - loss: 21.9414 - custom_loss: 21.9414\n",
      "Epoch 9/20\n"
     ]
    },
    {
     "name": "stdout",
     "output_type": "stream",
     "text": [
      "509051/509051 [==============================] - 1s 3us/step - loss: 21.9186 - custom_loss: 21.9186\n",
      "Epoch 10/20\n",
      "509051/509051 [==============================] - 1s 3us/step - loss: 21.8930 - custom_loss: 21.8930\n",
      "Epoch 11/20\n",
      "509051/509051 [==============================] - 1s 3us/step - loss: 21.8658 - custom_loss: 21.8658\n",
      "Epoch 12/20\n",
      "509051/509051 [==============================] - 1s 3us/step - loss: 21.8472 - custom_loss: 21.8472\n",
      "Epoch 13/20\n",
      "509051/509051 [==============================] - 1s 3us/step - loss: 21.8264 - custom_loss: 21.8264\n",
      "Epoch 14/20\n",
      "509051/509051 [==============================] - 1s 3us/step - loss: 21.8107 - custom_loss: 21.8107\n",
      "Epoch 15/20\n",
      "509051/509051 [==============================] - 1s 3us/step - loss: 21.7977 - custom_loss: 21.7977\n",
      "Epoch 16/20\n",
      "509051/509051 [==============================] - 1s 3us/step - loss: 21.7874 - custom_loss: 21.7874\n",
      "Epoch 17/20\n",
      "509051/509051 [==============================] - 1s 3us/step - loss: 21.7651 - custom_loss: 21.7651\n",
      "Epoch 18/20\n",
      "509051/509051 [==============================] - 1s 3us/step - loss: 21.7516 - custom_loss: 21.7516\n",
      "Epoch 19/20\n",
      "509051/509051 [==============================] - 1s 3us/step - loss: 21.7391 - custom_loss: 21.7391\n",
      "Epoch 20/20\n",
      "509051/509051 [==============================] - 1s 3us/step - loss: 21.7290 - custom_loss: 21.7290\n",
      "127262/127262 [==============================] - 2s 17us/step\n",
      "509051/509051 [==============================] - 1s 1us/step\n",
      "Epoch 1/20\n",
      "509050/509050 [==============================] - 6s 12us/step - loss: 29.0385 - custom_loss: 29.0385\n",
      "Epoch 2/20\n",
      "509050/509050 [==============================] - 1s 3us/step - loss: 22.5928 - custom_loss: 22.5928\n",
      "Epoch 3/20\n",
      "509050/509050 [==============================] - 1s 3us/step - loss: 22.2368 - custom_loss: 22.2368\n",
      "Epoch 4/20\n",
      "509050/509050 [==============================] - 1s 3us/step - loss: 22.1040 - custom_loss: 22.1040\n",
      "Epoch 5/20\n",
      "509050/509050 [==============================] - 1s 3us/step - loss: 22.0329 - custom_loss: 22.0328\n",
      "Epoch 6/20\n",
      "509050/509050 [==============================] - 1s 3us/step - loss: 21.9777 - custom_loss: 21.9777\n",
      "Epoch 7/20\n",
      "509050/509050 [==============================] - 1s 3us/step - loss: 21.9401 - custom_loss: 21.9401\n",
      "Epoch 8/20\n",
      "509050/509050 [==============================] - 1s 3us/step - loss: 21.9088 - custom_loss: 21.9088\n",
      "Epoch 9/20\n",
      "509050/509050 [==============================] - 1s 3us/step - loss: 21.8739 - custom_loss: 21.8739\n",
      "Epoch 10/20\n",
      "509050/509050 [==============================] - 1s 3us/step - loss: 21.8550 - custom_loss: 21.8550\n",
      "Epoch 11/20\n",
      "509050/509050 [==============================] - 1s 3us/step - loss: 21.8335 - custom_loss: 21.8335\n",
      "Epoch 12/20\n",
      "509050/509050 [==============================] - 1s 3us/step - loss: 21.8139 - custom_loss: 21.8139\n",
      "Epoch 13/20\n",
      "509050/509050 [==============================] - 1s 3us/step - loss: 21.8013 - custom_loss: 21.8013\n",
      "Epoch 14/20\n",
      "509050/509050 [==============================] - 1s 3us/step - loss: 21.7874 - custom_loss: 21.7874\n",
      "Epoch 15/20\n",
      "509050/509050 [==============================] - 1s 3us/step - loss: 21.7677 - custom_loss: 21.7677\n",
      "Epoch 16/20\n",
      "509050/509050 [==============================] - 1s 3us/step - loss: 21.7518 - custom_loss: 21.7518\n",
      "Epoch 17/20\n",
      "509050/509050 [==============================] - 1s 3us/step - loss: 21.7424 - custom_loss: 21.7424\n",
      "Epoch 18/20\n",
      "509050/509050 [==============================] - 1s 3us/step - loss: 21.7318 - custom_loss: 21.7318\n",
      "Epoch 19/20\n",
      "509050/509050 [==============================] - 1s 3us/step - loss: 21.7220 - custom_loss: 21.7220\n",
      "Epoch 20/20\n",
      "509050/509050 [==============================] - 1s 3us/step - loss: 21.7156 - custom_loss: 21.7156\n",
      "127263/127263 [==============================] - 2s 17us/step\n",
      "509050/509050 [==============================] - 1s 1us/step\n",
      "Epoch 1/20\n",
      "509050/509050 [==============================] - 6s 12us/step - loss: 29.7550 - custom_loss: 29.7550\n",
      "Epoch 2/20\n",
      "509050/509050 [==============================] - 1s 3us/step - loss: 23.0150 - custom_loss: 23.0150\n",
      "Epoch 3/20\n",
      "509050/509050 [==============================] - 1s 3us/step - loss: 22.4839 - custom_loss: 22.4839\n",
      "Epoch 4/20\n",
      "509050/509050 [==============================] - 1s 3us/step - loss: 22.3222 - custom_loss: 22.3222\n",
      "Epoch 5/20\n",
      "509050/509050 [==============================] - 1s 3us/step - loss: 22.2037 - custom_loss: 22.2037\n",
      "Epoch 6/20\n",
      "509050/509050 [==============================] - 1s 3us/step - loss: 22.1481 - custom_loss: 22.1481\n",
      "Epoch 7/20\n",
      "509050/509050 [==============================] - 1s 3us/step - loss: 22.0913 - custom_loss: 22.0913\n",
      "Epoch 8/20\n",
      "509050/509050 [==============================] - 1s 3us/step - loss: 22.0408 - custom_loss: 22.0408\n",
      "Epoch 9/20\n",
      "509050/509050 [==============================] - 1s 3us/step - loss: 22.0091 - custom_loss: 22.0091\n",
      "Epoch 10/20\n",
      "509050/509050 [==============================] - 1s 3us/step - loss: 21.9811 - custom_loss: 21.9811\n",
      "Epoch 11/20\n",
      "509050/509050 [==============================] - 1s 3us/step - loss: 21.9533 - custom_loss: 21.9533\n",
      "Epoch 12/20\n",
      "509050/509050 [==============================] - 1s 3us/step - loss: 21.9331 - custom_loss: 21.9331\n",
      "Epoch 13/20\n",
      "509050/509050 [==============================] - 1s 3us/step - loss: 21.9136 - custom_loss: 21.9136\n",
      "Epoch 14/20\n",
      "509050/509050 [==============================] - 1s 3us/step - loss: 21.8994 - custom_loss: 21.8994\n",
      "Epoch 15/20\n",
      "509050/509050 [==============================] - 1s 3us/step - loss: 21.8771 - custom_loss: 21.8771\n",
      "Epoch 16/20\n",
      "509050/509050 [==============================] - 1s 3us/step - loss: 21.8699 - custom_loss: 21.8699\n",
      "Epoch 17/20\n",
      "509050/509050 [==============================] - 1s 3us/step - loss: 21.8572 - custom_loss: 21.8572\n",
      "Epoch 18/20\n",
      "509050/509050 [==============================] - 1s 3us/step - loss: 21.8395 - custom_loss: 21.8395\n",
      "Epoch 19/20\n",
      "509050/509050 [==============================] - 1s 3us/step - loss: 21.8368 - custom_loss: 21.8368\n",
      "Epoch 20/20\n",
      "509050/509050 [==============================] - 1s 3us/step - loss: 21.8246 - custom_loss: 21.8246\n",
      "127263/127263 [==============================] - 2s 17us/step\n",
      "509050/509050 [==============================] - 1s 1us/step\n",
      "Epoch 1/20\n",
      "509050/509050 [==============================] - 6s 12us/step - loss: 28.4628 - custom_loss: 28.4628\n",
      "Epoch 2/20\n",
      "509050/509050 [==============================] - 1s 3us/step - loss: 22.6546 - custom_loss: 22.6546\n",
      "Epoch 3/20\n",
      "509050/509050 [==============================] - 1s 3us/step - loss: 22.3686 - custom_loss: 22.3686\n",
      "Epoch 4/20\n",
      "509050/509050 [==============================] - 1s 3us/step - loss: 22.2382 - custom_loss: 22.2382\n",
      "Epoch 5/20\n",
      "509050/509050 [==============================] - 1s 3us/step - loss: 22.1859 - custom_loss: 22.1859\n",
      "Epoch 6/20\n",
      "509050/509050 [==============================] - 1s 3us/step - loss: 22.1459 - custom_loss: 22.1459\n",
      "Epoch 7/20\n",
      "509050/509050 [==============================] - 1s 3us/step - loss: 22.0975 - custom_loss: 22.0975\n",
      "Epoch 8/20\n",
      "509050/509050 [==============================] - 1s 3us/step - loss: 22.0625 - custom_loss: 22.0625\n",
      "Epoch 9/20\n",
      "509050/509050 [==============================] - 1s 3us/step - loss: 22.0438 - custom_loss: 22.0438\n",
      "Epoch 10/20\n",
      "509050/509050 [==============================] - 1s 3us/step - loss: 22.0091 - custom_loss: 22.0091\n",
      "Epoch 11/20\n",
      "509050/509050 [==============================] - 1s 3us/step - loss: 21.9886 - custom_loss: 21.9886\n",
      "Epoch 12/20\n",
      "509050/509050 [==============================] - 1s 3us/step - loss: 21.9722 - custom_loss: 21.9722\n",
      "Epoch 13/20\n",
      "509050/509050 [==============================] - 1s 3us/step - loss: 21.9546 - custom_loss: 21.9546\n",
      "Epoch 14/20\n",
      "509050/509050 [==============================] - 1s 3us/step - loss: 21.9293 - custom_loss: 21.9293\n",
      "Epoch 15/20\n",
      "509050/509050 [==============================] - 1s 3us/step - loss: 21.9352 - custom_loss: 21.9352\n",
      "Epoch 16/20\n",
      "509050/509050 [==============================] - 1s 3us/step - loss: 21.8873 - custom_loss: 21.8873\n",
      "Epoch 17/20\n",
      "509050/509050 [==============================] - 1s 3us/step - loss: 21.8799 - custom_loss: 21.8799\n",
      "Epoch 18/20\n",
      "509050/509050 [==============================] - 1s 3us/step - loss: 21.8593 - custom_loss: 21.8593\n",
      "Epoch 19/20\n"
     ]
    },
    {
     "name": "stdout",
     "output_type": "stream",
     "text": [
      "509050/509050 [==============================] - 1s 3us/step - loss: 21.8644 - custom_loss: 21.8644\n",
      "Epoch 20/20\n",
      "509050/509050 [==============================] - 1s 3us/step - loss: 21.8357 - custom_loss: 21.8357\n",
      "127263/127263 [==============================] - 2s 17us/step\n",
      "509050/509050 [==============================] - 1s 1us/step\n",
      "Epoch 1/20\n",
      "509051/509051 [==============================] - 6s 12us/step - loss: 30.5788 - custom_loss: 30.5788\n",
      "Epoch 2/20\n",
      "509051/509051 [==============================] - 1s 3us/step - loss: 23.0002 - custom_loss: 23.0002\n",
      "Epoch 3/20\n",
      "509051/509051 [==============================] - 1s 3us/step - loss: 22.5211 - custom_loss: 22.5211\n",
      "Epoch 4/20\n",
      "509051/509051 [==============================] - 1s 3us/step - loss: 22.3651 - custom_loss: 22.3651\n",
      "Epoch 5/20\n",
      "509051/509051 [==============================] - 1s 3us/step - loss: 22.2417 - custom_loss: 22.2417\n",
      "Epoch 6/20\n",
      "509051/509051 [==============================] - 1s 3us/step - loss: 22.1758 - custom_loss: 22.1758\n",
      "Epoch 7/20\n",
      "509051/509051 [==============================] - 1s 3us/step - loss: 22.1379 - custom_loss: 22.1379\n",
      "Epoch 8/20\n",
      "509051/509051 [==============================] - 1s 3us/step - loss: 22.0784 - custom_loss: 22.0784\n",
      "Epoch 9/20\n",
      "509051/509051 [==============================] - 1s 3us/step - loss: 22.0512 - custom_loss: 22.0512\n",
      "Epoch 10/20\n",
      "509051/509051 [==============================] - 1s 3us/step - loss: 22.0257 - custom_loss: 22.0257\n",
      "Epoch 11/20\n",
      "509051/509051 [==============================] - 1s 3us/step - loss: 22.0040 - custom_loss: 22.0040\n",
      "Epoch 12/20\n",
      "509051/509051 [==============================] - 1s 3us/step - loss: 21.9688 - custom_loss: 21.9688\n",
      "Epoch 13/20\n",
      "509051/509051 [==============================] - 1s 3us/step - loss: 21.9479 - custom_loss: 21.9479\n",
      "Epoch 14/20\n",
      "509051/509051 [==============================] - 1s 3us/step - loss: 21.9197 - custom_loss: 21.9197\n",
      "Epoch 15/20\n",
      "509051/509051 [==============================] - 1s 3us/step - loss: 21.8998 - custom_loss: 21.8998\n",
      "Epoch 16/20\n",
      "509051/509051 [==============================] - 1s 3us/step - loss: 21.9034 - custom_loss: 21.9034\n",
      "Epoch 17/20\n",
      "509051/509051 [==============================] - 1s 3us/step - loss: 21.8681 - custom_loss: 21.8681\n",
      "Epoch 18/20\n",
      "509051/509051 [==============================] - 1s 3us/step - loss: 21.8523 - custom_loss: 21.8523\n",
      "Epoch 19/20\n",
      "509051/509051 [==============================] - 1s 3us/step - loss: 21.8530 - custom_loss: 21.8530\n",
      "Epoch 20/20\n",
      "509051/509051 [==============================] - 1s 3us/step - loss: 21.8375 - custom_loss: 21.8375\n",
      "127262/127262 [==============================] - 2s 17us/step\n",
      "509051/509051 [==============================] - 1s 1us/step\n",
      "Epoch 1/20\n",
      "509051/509051 [==============================] - 6s 13us/step - loss: 27.3030 - custom_loss: 27.3030\n",
      "Epoch 2/20\n",
      "509051/509051 [==============================] - 1s 3us/step - loss: 22.6086 - custom_loss: 22.6086\n",
      "Epoch 3/20\n",
      "509051/509051 [==============================] - 1s 3us/step - loss: 22.3185 - custom_loss: 22.3185\n",
      "Epoch 4/20\n",
      "509051/509051 [==============================] - 1s 3us/step - loss: 22.2044 - custom_loss: 22.2044\n",
      "Epoch 5/20\n",
      "509051/509051 [==============================] - 1s 3us/step - loss: 22.1070 - custom_loss: 22.1070\n",
      "Epoch 6/20\n",
      "509051/509051 [==============================] - 1s 3us/step - loss: 22.0689 - custom_loss: 22.0689\n",
      "Epoch 7/20\n",
      "509051/509051 [==============================] - 1s 3us/step - loss: 22.0140 - custom_loss: 22.0140\n",
      "Epoch 8/20\n",
      "509051/509051 [==============================] - 1s 3us/step - loss: 21.9670 - custom_loss: 21.9670\n",
      "Epoch 9/20\n",
      "509051/509051 [==============================] - 1s 3us/step - loss: 21.9455 - custom_loss: 21.9455\n",
      "Epoch 10/20\n",
      "509051/509051 [==============================] - 1s 3us/step - loss: 21.9179 - custom_loss: 21.9179\n",
      "Epoch 11/20\n",
      "509051/509051 [==============================] - 1s 3us/step - loss: 21.8918 - custom_loss: 21.8918\n",
      "Epoch 12/20\n",
      "509051/509051 [==============================] - 1s 3us/step - loss: 21.8802 - custom_loss: 21.8802\n",
      "Epoch 13/20\n",
      "509051/509051 [==============================] - 1s 3us/step - loss: 21.8611 - custom_loss: 21.8611\n",
      "Epoch 14/20\n",
      "509051/509051 [==============================] - 1s 3us/step - loss: 21.8413 - custom_loss: 21.8413\n",
      "Epoch 15/20\n",
      "509051/509051 [==============================] - 1s 3us/step - loss: 21.8331 - custom_loss: 21.8331\n",
      "Epoch 16/20\n",
      "509051/509051 [==============================] - 1s 3us/step - loss: 21.8269 - custom_loss: 21.8269\n",
      "Epoch 17/20\n",
      "509051/509051 [==============================] - 1s 3us/step - loss: 21.8031 - custom_loss: 21.8031\n",
      "Epoch 18/20\n",
      "509051/509051 [==============================] - 1s 3us/step - loss: 21.7961 - custom_loss: 21.7961\n",
      "Epoch 19/20\n",
      "509051/509051 [==============================] - 1s 3us/step - loss: 21.7908 - custom_loss: 21.7908\n",
      "Epoch 20/20\n",
      "509051/509051 [==============================] - 1s 3us/step - loss: 21.7820 - custom_loss: 21.7820\n",
      "127262/127262 [==============================] - 2s 17us/step\n",
      "509051/509051 [==============================] - 1s 1us/step\n",
      "Epoch 1/20\n",
      "509050/509050 [==============================] - 6s 13us/step - loss: 28.3027 - custom_loss: 28.3027\n",
      "Epoch 2/20\n",
      "509050/509050 [==============================] - 1s 3us/step - loss: 22.5649 - custom_loss: 22.5649\n",
      "Epoch 3/20\n",
      "509050/509050 [==============================] - 1s 3us/step - loss: 22.2254 - custom_loss: 22.2254\n",
      "Epoch 4/20\n",
      "509050/509050 [==============================] - 1s 3us/step - loss: 22.0748 - custom_loss: 22.0748\n",
      "Epoch 5/20\n",
      "509050/509050 [==============================] - 1s 3us/step - loss: 22.0042 - custom_loss: 22.0042\n",
      "Epoch 6/20\n",
      "509050/509050 [==============================] - 1s 3us/step - loss: 21.9398 - custom_loss: 21.9398\n",
      "Epoch 7/20\n",
      "509050/509050 [==============================] - 1s 3us/step - loss: 21.8809 - custom_loss: 21.8809\n",
      "Epoch 8/20\n",
      "509050/509050 [==============================] - 1s 3us/step - loss: 21.8542 - custom_loss: 21.8542\n",
      "Epoch 9/20\n",
      "509050/509050 [==============================] - 1s 3us/step - loss: 21.8264 - custom_loss: 21.8264\n",
      "Epoch 10/20\n",
      "509050/509050 [==============================] - 1s 3us/step - loss: 21.8040 - custom_loss: 21.8040\n",
      "Epoch 11/20\n",
      "509050/509050 [==============================] - 1s 3us/step - loss: 21.7762 - custom_loss: 21.7762\n",
      "Epoch 12/20\n",
      "509050/509050 [==============================] - 1s 3us/step - loss: 21.7646 - custom_loss: 21.7646\n",
      "Epoch 13/20\n",
      "509050/509050 [==============================] - 1s 3us/step - loss: 21.7451 - custom_loss: 21.7451\n",
      "Epoch 14/20\n",
      "509050/509050 [==============================] - 1s 3us/step - loss: 21.7254 - custom_loss: 21.7254\n",
      "Epoch 15/20\n",
      "509050/509050 [==============================] - 1s 3us/step - loss: 21.7114 - custom_loss: 21.7114\n",
      "Epoch 16/20\n",
      "509050/509050 [==============================] - 1s 3us/step - loss: 21.6998 - custom_loss: 21.6998\n",
      "Epoch 17/20\n",
      "509050/509050 [==============================] - 1s 3us/step - loss: 21.6899 - custom_loss: 21.6899\n",
      "Epoch 18/20\n",
      "509050/509050 [==============================] - 1s 3us/step - loss: 21.6805 - custom_loss: 21.6805\n",
      "Epoch 19/20\n",
      "509050/509050 [==============================] - 1s 3us/step - loss: 21.6668 - custom_loss: 21.6668\n",
      "Epoch 20/20\n",
      "509050/509050 [==============================] - 1s 3us/step - loss: 21.6541 - custom_loss: 21.6541\n",
      "127263/127263 [==============================] - 2s 17us/step\n",
      "509050/509050 [==============================] - 1s 1us/step\n",
      "Epoch 1/20\n",
      "509050/509050 [==============================] - 7s 13us/step - loss: 28.2544 - custom_loss: 28.2544\n",
      "Epoch 2/20\n",
      "509050/509050 [==============================] - 1s 3us/step - loss: 22.6208 - custom_loss: 22.6208\n",
      "Epoch 3/20\n",
      "509050/509050 [==============================] - 1s 3us/step - loss: 22.3798 - custom_loss: 22.3798\n",
      "Epoch 4/20\n",
      "509050/509050 [==============================] - 1s 3us/step - loss: 22.2816 - custom_loss: 22.2816\n",
      "Epoch 5/20\n",
      "509050/509050 [==============================] - 1s 3us/step - loss: 22.2030 - custom_loss: 22.2030\n",
      "Epoch 6/20\n",
      "509050/509050 [==============================] - 1s 3us/step - loss: 22.1650 - custom_loss: 22.1650\n",
      "Epoch 7/20\n",
      "509050/509050 [==============================] - 1s 3us/step - loss: 22.1214 - custom_loss: 22.1214\n",
      "Epoch 8/20\n"
     ]
    },
    {
     "name": "stdout",
     "output_type": "stream",
     "text": [
      "509050/509050 [==============================] - 1s 3us/step - loss: 22.0891 - custom_loss: 22.0891\n",
      "Epoch 9/20\n",
      "509050/509050 [==============================] - 1s 3us/step - loss: 22.0477 - custom_loss: 22.0477\n",
      "Epoch 10/20\n",
      "509050/509050 [==============================] - 1s 3us/step - loss: 22.0160 - custom_loss: 22.0160A: 1s - loss: 22.1214\n",
      "Epoch 11/20\n",
      "509050/509050 [==============================] - 1s 3us/step - loss: 21.9902 - custom_loss: 21.9902\n",
      "Epoch 12/20\n",
      "509050/509050 [==============================] - 1s 3us/step - loss: 21.9533 - custom_loss: 21.9533\n",
      "Epoch 13/20\n",
      "509050/509050 [==============================] - 1s 3us/step - loss: 21.9364 - custom_loss: 21.9364\n",
      "Epoch 14/20\n",
      "509050/509050 [==============================] - 1s 3us/step - loss: 21.9226 - custom_loss: 21.9226\n",
      "Epoch 15/20\n",
      "509050/509050 [==============================] - 1s 3us/step - loss: 21.8950 - custom_loss: 21.8950\n",
      "Epoch 16/20\n",
      "509050/509050 [==============================] - 1s 3us/step - loss: 21.8657 - custom_loss: 21.8657\n",
      "Epoch 17/20\n",
      "509050/509050 [==============================] - 1s 3us/step - loss: 21.8674 - custom_loss: 21.8674\n",
      "Epoch 18/20\n",
      "509050/509050 [==============================] - 1s 3us/step - loss: 21.8367 - custom_loss: 21.8367\n",
      "Epoch 19/20\n",
      "509050/509050 [==============================] - 1s 3us/step - loss: 21.8287 - custom_loss: 21.8287\n",
      "Epoch 20/20\n",
      "509050/509050 [==============================] - 1s 3us/step - loss: 21.8088 - custom_loss: 21.8088\n",
      "127263/127263 [==============================] - 2s 18us/step\n",
      "509050/509050 [==============================] - 1s 1us/step\n",
      "Epoch 1/20\n",
      "509050/509050 [==============================] - 6s 13us/step - loss: 28.9728 - custom_loss: 28.9728\n",
      "Epoch 2/20\n",
      "509050/509050 [==============================] - 1s 3us/step - loss: 22.9305 - custom_loss: 22.9305\n",
      "Epoch 3/20\n",
      "509050/509050 [==============================] - 1s 3us/step - loss: 22.5610 - custom_loss: 22.5610\n",
      "Epoch 4/20\n",
      "509050/509050 [==============================] - 1s 3us/step - loss: 22.4114 - custom_loss: 22.4114\n",
      "Epoch 5/20\n",
      "509050/509050 [==============================] - 1s 3us/step - loss: 22.3253 - custom_loss: 22.3253\n",
      "Epoch 6/20\n",
      "509050/509050 [==============================] - 1s 3us/step - loss: 22.2447 - custom_loss: 22.2447\n",
      "Epoch 7/20\n",
      "509050/509050 [==============================] - 1s 3us/step - loss: 22.2184 - custom_loss: 22.2184\n",
      "Epoch 8/20\n",
      "509050/509050 [==============================] - 1s 3us/step - loss: 22.1541 - custom_loss: 22.1541\n",
      "Epoch 9/20\n",
      "509050/509050 [==============================] - 1s 3us/step - loss: 22.1210 - custom_loss: 22.1210\n",
      "Epoch 10/20\n",
      "509050/509050 [==============================] - 1s 3us/step - loss: 22.0901 - custom_loss: 22.0901\n",
      "Epoch 11/20\n",
      "509050/509050 [==============================] - 1s 3us/step - loss: 22.0857 - custom_loss: 22.0857\n",
      "Epoch 12/20\n",
      "509050/509050 [==============================] - 1s 3us/step - loss: 22.0657 - custom_loss: 22.0657\n",
      "Epoch 13/20\n",
      "509050/509050 [==============================] - 1s 3us/step - loss: 22.0451 - custom_loss: 22.0451\n",
      "Epoch 14/20\n",
      "509050/509050 [==============================] - 1s 3us/step - loss: 22.0310 - custom_loss: 22.0310\n",
      "Epoch 15/20\n",
      "509050/509050 [==============================] - 1s 3us/step - loss: 22.0253 - custom_loss: 22.0253\n",
      "Epoch 16/20\n",
      "509050/509050 [==============================] - 1s 3us/step - loss: 22.0097 - custom_loss: 22.0097\n",
      "Epoch 17/20\n",
      "509050/509050 [==============================] - 1s 3us/step - loss: 21.9992 - custom_loss: 21.9992\n",
      "Epoch 18/20\n",
      "509050/509050 [==============================] - 1s 3us/step - loss: 21.9927 - custom_loss: 21.9927\n",
      "Epoch 19/20\n",
      "509050/509050 [==============================] - 1s 3us/step - loss: 21.9787 - custom_loss: 21.9787\n",
      "Epoch 20/20\n",
      "509050/509050 [==============================] - 1s 3us/step - loss: 21.9724 - custom_loss: 21.9724\n",
      "127263/127263 [==============================] - 2s 18us/step\n",
      "509050/509050 [==============================] - 1s 1us/step\n",
      "Epoch 1/20\n",
      "509051/509051 [==============================] - 7s 13us/step - loss: 27.6495 - custom_loss: 27.6495\n",
      "Epoch 2/20\n",
      "509051/509051 [==============================] - 1s 3us/step - loss: 22.5977 - custom_loss: 22.5977\n",
      "Epoch 3/20\n",
      "509051/509051 [==============================] - 1s 3us/step - loss: 22.2869 - custom_loss: 22.2870\n",
      "Epoch 4/20\n",
      "509051/509051 [==============================] - 1s 3us/step - loss: 22.1561 - custom_loss: 22.1561\n",
      "Epoch 5/20\n",
      "509051/509051 [==============================] - 1s 3us/step - loss: 22.0680 - custom_loss: 22.0680\n",
      "Epoch 6/20\n",
      "509051/509051 [==============================] - 1s 3us/step - loss: 22.0436 - custom_loss: 22.0436\n",
      "Epoch 7/20\n",
      "509051/509051 [==============================] - 1s 3us/step - loss: 21.9984 - custom_loss: 21.9984\n",
      "Epoch 8/20\n",
      "509051/509051 [==============================] - 1s 3us/step - loss: 21.9745 - custom_loss: 21.9745\n",
      "Epoch 9/20\n",
      "509051/509051 [==============================] - 1s 3us/step - loss: 21.9385 - custom_loss: 21.9385\n",
      "Epoch 10/20\n",
      "509051/509051 [==============================] - 1s 3us/step - loss: 21.9123 - custom_loss: 21.9123\n",
      "Epoch 11/20\n",
      "509051/509051 [==============================] - 1s 3us/step - loss: 21.8924 - custom_loss: 21.8924\n",
      "Epoch 12/20\n",
      "509051/509051 [==============================] - 1s 3us/step - loss: 21.8789 - custom_loss: 21.8789\n",
      "Epoch 13/20\n",
      "509051/509051 [==============================] - 1s 3us/step - loss: 21.8548 - custom_loss: 21.8548\n",
      "Epoch 14/20\n",
      "509051/509051 [==============================] - 1s 3us/step - loss: 21.8308 - custom_loss: 21.8308\n",
      "Epoch 15/20\n",
      "509051/509051 [==============================] - 1s 3us/step - loss: 21.8247 - custom_loss: 21.8247\n",
      "Epoch 16/20\n",
      "509051/509051 [==============================] - 1s 3us/step - loss: 21.8115 - custom_loss: 21.8115\n",
      "Epoch 17/20\n",
      "509051/509051 [==============================] - 1s 3us/step - loss: 21.8113 - custom_loss: 21.8113\n",
      "Epoch 18/20\n",
      "509051/509051 [==============================] - 1s 3us/step - loss: 21.7871 - custom_loss: 21.7871\n",
      "Epoch 19/20\n",
      "509051/509051 [==============================] - 1s 3us/step - loss: 21.7932 - custom_loss: 21.7932\n",
      "Epoch 20/20\n",
      "509051/509051 [==============================] - 1s 3us/step - loss: 21.7740 - custom_loss: 21.7740\n",
      "127262/127262 [==============================] - 2s 18us/step\n",
      "509051/509051 [==============================] - 1s 1us/step\n",
      "Epoch 1/20\n",
      "509051/509051 [==============================] - 7s 13us/step - loss: 27.4708 - custom_loss: 27.4708\n",
      "Epoch 2/20\n",
      "509051/509051 [==============================] - 1s 3us/step - loss: 22.5366 - custom_loss: 22.5366\n",
      "Epoch 3/20\n",
      "509051/509051 [==============================] - 1s 3us/step - loss: 22.2010 - custom_loss: 22.2010\n",
      "Epoch 4/20\n",
      "509051/509051 [==============================] - 1s 3us/step - loss: 22.0788 - custom_loss: 22.0788\n",
      "Epoch 5/20\n",
      "509051/509051 [==============================] - 1s 3us/step - loss: 21.9756 - custom_loss: 21.9756\n",
      "Epoch 6/20\n",
      "509051/509051 [==============================] - 1s 3us/step - loss: 21.9258 - custom_loss: 21.9258\n",
      "Epoch 7/20\n",
      "509051/509051 [==============================] - 1s 3us/step - loss: 21.8818 - custom_loss: 21.8818\n",
      "Epoch 8/20\n",
      "509051/509051 [==============================] - 1s 3us/step - loss: 21.8376 - custom_loss: 21.8376\n",
      "Epoch 9/20\n",
      "509051/509051 [==============================] - 1s 3us/step - loss: 21.8355 - custom_loss: 21.8355\n",
      "Epoch 10/20\n",
      "509051/509051 [==============================] - 1s 3us/step - loss: 21.8156 - custom_loss: 21.8156\n",
      "Epoch 11/20\n",
      "509051/509051 [==============================] - 1s 3us/step - loss: 21.8012 - custom_loss: 21.8012\n",
      "Epoch 12/20\n",
      "509051/509051 [==============================] - 1s 3us/step - loss: 21.7755 - custom_loss: 21.7755\n",
      "Epoch 13/20\n",
      "509051/509051 [==============================] - 1s 3us/step - loss: 21.7539 - custom_loss: 21.7539\n",
      "Epoch 14/20\n",
      "509051/509051 [==============================] - 1s 3us/step - loss: 21.7448 - custom_loss: 21.7448\n",
      "Epoch 15/20\n",
      "509051/509051 [==============================] - 1s 3us/step - loss: 21.7317 - custom_loss: 21.7317\n",
      "Epoch 16/20\n",
      "509051/509051 [==============================] - 1s 3us/step - loss: 21.7295 - custom_loss: 21.7295\n",
      "Epoch 17/20\n",
      "509051/509051 [==============================] - 1s 3us/step - loss: 21.7144 - custom_loss: 21.7144\n"
     ]
    },
    {
     "name": "stdout",
     "output_type": "stream",
     "text": [
      "Epoch 18/20\n",
      "509051/509051 [==============================] - 1s 3us/step - loss: 21.7120 - custom_loss: 21.7120\n",
      "Epoch 19/20\n",
      "509051/509051 [==============================] - 1s 3us/step - loss: 21.6995 - custom_loss: 21.6995\n",
      "Epoch 20/20\n",
      "509051/509051 [==============================] - 1s 3us/step - loss: 21.6895 - custom_loss: 21.6895\n",
      "127262/127262 [==============================] - 2s 19us/step\n",
      "509051/509051 [==============================] - 1s 1us/step\n",
      "Epoch 1/20\n",
      "509050/509050 [==============================] - 7s 13us/step - loss: 29.0494 - custom_loss: 29.0494\n",
      "Epoch 2/20\n",
      "509050/509050 [==============================] - 1s 3us/step - loss: 22.5605 - custom_loss: 22.5605\n",
      "Epoch 3/20\n",
      "509050/509050 [==============================] - 1s 3us/step - loss: 22.1762 - custom_loss: 22.1762\n",
      "Epoch 4/20\n",
      "509050/509050 [==============================] - 1s 3us/step - loss: 22.0237 - custom_loss: 22.0237\n",
      "Epoch 5/20\n",
      "509050/509050 [==============================] - 1s 3us/step - loss: 21.9156 - custom_loss: 21.9156\n",
      "Epoch 6/20\n",
      "509050/509050 [==============================] - 1s 3us/step - loss: 21.8603 - custom_loss: 21.8603\n",
      "Epoch 7/20\n",
      "509050/509050 [==============================] - 1s 3us/step - loss: 21.8118 - custom_loss: 21.8118\n",
      "Epoch 8/20\n",
      "509050/509050 [==============================] - 1s 3us/step - loss: 21.7690 - custom_loss: 21.7690\n",
      "Epoch 9/20\n",
      "509050/509050 [==============================] - 1s 3us/step - loss: 21.7476 - custom_loss: 21.7476\n",
      "Epoch 10/20\n",
      "509050/509050 [==============================] - 1s 3us/step - loss: 21.7397 - custom_loss: 21.7397\n",
      "Epoch 11/20\n",
      "509050/509050 [==============================] - 1s 3us/step - loss: 21.7085 - custom_loss: 21.7085\n",
      "Epoch 12/20\n",
      "509050/509050 [==============================] - 1s 3us/step - loss: 21.7052 - custom_loss: 21.7052\n",
      "Epoch 13/20\n",
      "509050/509050 [==============================] - 1s 3us/step - loss: 21.6836 - custom_loss: 21.6836\n",
      "Epoch 14/20\n",
      "509050/509050 [==============================] - 1s 3us/step - loss: 21.6739 - custom_loss: 21.6739\n",
      "Epoch 15/20\n",
      "509050/509050 [==============================] - 1s 3us/step - loss: 21.6648 - custom_loss: 21.6648\n",
      "Epoch 16/20\n",
      "509050/509050 [==============================] - 1s 3us/step - loss: 21.6515 - custom_loss: 21.6515\n",
      "Epoch 17/20\n",
      "509050/509050 [==============================] - 1s 3us/step - loss: 21.6458 - custom_loss: 21.6458\n",
      "Epoch 18/20\n",
      "509050/509050 [==============================] - 1s 3us/step - loss: 21.6394 - custom_loss: 21.6394\n",
      "Epoch 19/20\n",
      "509050/509050 [==============================] - 1s 3us/step - loss: 21.6303 - custom_loss: 21.6303\n",
      "Epoch 20/20\n",
      "509050/509050 [==============================] - 1s 3us/step - loss: 21.6231 - custom_loss: 21.6231\n",
      "127263/127263 [==============================] - 2s 19us/step\n",
      "509050/509050 [==============================] - 1s 1us/step\n",
      "Epoch 1/20\n",
      "509050/509050 [==============================] - 7s 14us/step - loss: 28.9289 - custom_loss: 28.9289\n",
      "Epoch 2/20\n",
      "509050/509050 [==============================] - 1s 3us/step - loss: 22.5738 - custom_loss: 22.5738\n",
      "Epoch 3/20\n",
      "509050/509050 [==============================] - 1s 3us/step - loss: 22.3360 - custom_loss: 22.3360\n",
      "Epoch 4/20\n",
      "509050/509050 [==============================] - 1s 3us/step - loss: 22.2015 - custom_loss: 22.2015\n",
      "Epoch 5/20\n",
      "509050/509050 [==============================] - 1s 3us/step - loss: 22.1008 - custom_loss: 22.1008\n",
      "Epoch 6/20\n",
      "509050/509050 [==============================] - 1s 3us/step - loss: 22.0630 - custom_loss: 22.0630\n",
      "Epoch 7/20\n",
      "509050/509050 [==============================] - 1s 3us/step - loss: 22.0196 - custom_loss: 22.0196\n",
      "Epoch 8/20\n",
      "509050/509050 [==============================] - 1s 3us/step - loss: 21.9931 - custom_loss: 21.9931\n",
      "Epoch 9/20\n",
      "509050/509050 [==============================] - 1s 3us/step - loss: 21.9544 - custom_loss: 21.9544\n",
      "Epoch 10/20\n",
      "509050/509050 [==============================] - 1s 3us/step - loss: 21.9590 - custom_loss: 21.9590\n",
      "Epoch 11/20\n",
      "509050/509050 [==============================] - 1s 3us/step - loss: 21.9351 - custom_loss: 21.9351\n",
      "Epoch 12/20\n",
      "509050/509050 [==============================] - 1s 3us/step - loss: 21.9123 - custom_loss: 21.9123\n",
      "Epoch 13/20\n",
      "509050/509050 [==============================] - 1s 3us/step - loss: 21.8962 - custom_loss: 21.8962\n",
      "Epoch 14/20\n",
      "509050/509050 [==============================] - 1s 3us/step - loss: 21.8863 - custom_loss: 21.8863\n",
      "Epoch 15/20\n",
      "509050/509050 [==============================] - 1s 3us/step - loss: 21.8680 - custom_loss: 21.8680\n",
      "Epoch 16/20\n",
      "509050/509050 [==============================] - 1s 3us/step - loss: 21.8628 - custom_loss: 21.8628\n",
      "Epoch 17/20\n",
      "509050/509050 [==============================] - 1s 3us/step - loss: 21.8470 - custom_loss: 21.8470\n",
      "Epoch 18/20\n",
      "509050/509050 [==============================] - 1s 3us/step - loss: 21.8371 - custom_loss: 21.8371\n",
      "Epoch 19/20\n",
      "509050/509050 [==============================] - 1s 3us/step - loss: 21.8380 - custom_loss: 21.8380\n",
      "Epoch 20/20\n",
      "509050/509050 [==============================] - 1s 3us/step - loss: 21.8143 - custom_loss: 21.8143\n",
      "127263/127263 [==============================] - 2s 19us/step\n",
      "509050/509050 [==============================] - 1s 1us/step\n",
      "Epoch 1/20\n",
      "509050/509050 [==============================] - 7s 14us/step - loss: 28.5951 - custom_loss: 28.5951\n",
      "Epoch 2/20\n",
      "509050/509050 [==============================] - 1s 3us/step - loss: 22.7994 - custom_loss: 22.7994\n",
      "Epoch 3/20\n",
      "509050/509050 [==============================] - 1s 3us/step - loss: 22.4844 - custom_loss: 22.4844\n",
      "Epoch 4/20\n",
      "509050/509050 [==============================] - 1s 3us/step - loss: 22.3175 - custom_loss: 22.3175\n",
      "Epoch 5/20\n",
      "509050/509050 [==============================] - 1s 3us/step - loss: 22.2262 - custom_loss: 22.2262\n",
      "Epoch 6/20\n",
      "509050/509050 [==============================] - 1s 3us/step - loss: 22.1410 - custom_loss: 22.1410\n",
      "Epoch 7/20\n",
      "509050/509050 [==============================] - 1s 3us/step - loss: 22.1120 - custom_loss: 22.1120\n",
      "Epoch 8/20\n",
      "509050/509050 [==============================] - 1s 3us/step - loss: 22.0760 - custom_loss: 22.0760\n",
      "Epoch 9/20\n",
      "509050/509050 [==============================] - 1s 3us/step - loss: 22.0409 - custom_loss: 22.0409\n",
      "Epoch 10/20\n",
      "509050/509050 [==============================] - 1s 3us/step - loss: 22.0390 - custom_loss: 22.0389\n",
      "Epoch 11/20\n",
      "509050/509050 [==============================] - 1s 3us/step - loss: 22.0035 - custom_loss: 22.0035\n",
      "Epoch 12/20\n",
      "509050/509050 [==============================] - 1s 3us/step - loss: 21.9930 - custom_loss: 21.9930\n",
      "Epoch 13/20\n",
      "509050/509050 [==============================] - 1s 3us/step - loss: 21.9671 - custom_loss: 21.9671\n",
      "Epoch 14/20\n",
      "509050/509050 [==============================] - 1s 3us/step - loss: 21.9610 - custom_loss: 21.9610\n",
      "Epoch 15/20\n",
      "509050/509050 [==============================] - 1s 3us/step - loss: 21.9325 - custom_loss: 21.9325\n",
      "Epoch 16/20\n",
      "509050/509050 [==============================] - 1s 3us/step - loss: 21.9186 - custom_loss: 21.9186\n",
      "Epoch 17/20\n",
      "509050/509050 [==============================] - 1s 3us/step - loss: 21.9060 - custom_loss: 21.9060\n",
      "Epoch 18/20\n",
      "509050/509050 [==============================] - 1s 3us/step - loss: 21.8876 - custom_loss: 21.8876\n",
      "Epoch 19/20\n",
      "509050/509050 [==============================] - 1s 3us/step - loss: 21.8919 - custom_loss: 21.8919\n",
      "Epoch 20/20\n",
      "509050/509050 [==============================] - 1s 3us/step - loss: 21.8588 - custom_loss: 21.8588\n",
      "127263/127263 [==============================] - 2s 19us/step\n",
      "509050/509050 [==============================] - 1s 1us/step\n",
      "Epoch 1/20\n",
      "509051/509051 [==============================] - 7s 14us/step - loss: 31.0608 - custom_loss: 31.0608\n",
      "Epoch 2/20\n",
      "509051/509051 [==============================] - 1s 3us/step - loss: 22.7157 - custom_loss: 22.7157\n",
      "Epoch 3/20\n",
      "509051/509051 [==============================] - 1s 3us/step - loss: 22.3365 - custom_loss: 22.3365\n",
      "Epoch 4/20\n",
      "509051/509051 [==============================] - 1s 3us/step - loss: 22.1863 - custom_loss: 22.1863\n",
      "Epoch 5/20\n",
      "509051/509051 [==============================] - 1s 3us/step - loss: 22.0982 - custom_loss: 22.0982\n",
      "Epoch 6/20\n",
      "509051/509051 [==============================] - 1s 3us/step - loss: 22.0606 - custom_loss: 22.0606\n",
      "Epoch 7/20\n"
     ]
    },
    {
     "name": "stdout",
     "output_type": "stream",
     "text": [
      "509051/509051 [==============================] - 1s 3us/step - loss: 22.0210 - custom_loss: 22.0210\n",
      "Epoch 8/20\n",
      "509051/509051 [==============================] - 1s 3us/step - loss: 21.9860 - custom_loss: 21.9860\n",
      "Epoch 9/20\n",
      "509051/509051 [==============================] - 1s 3us/step - loss: 21.9616 - custom_loss: 21.9616\n",
      "Epoch 10/20\n",
      "509051/509051 [==============================] - 1s 3us/step - loss: 21.9534 - custom_loss: 21.9534\n",
      "Epoch 11/20\n",
      "509051/509051 [==============================] - 1s 3us/step - loss: 21.9335 - custom_loss: 21.9335\n",
      "Epoch 12/20\n",
      "509051/509051 [==============================] - 1s 3us/step - loss: 21.9123 - custom_loss: 21.9123\n",
      "Epoch 13/20\n",
      "509051/509051 [==============================] - 1s 3us/step - loss: 21.9120 - custom_loss: 21.9120\n",
      "Epoch 14/20\n",
      "509051/509051 [==============================] - 1s 3us/step - loss: 21.8887 - custom_loss: 21.8887\n",
      "Epoch 15/20\n",
      "509051/509051 [==============================] - 1s 3us/step - loss: 21.8843 - custom_loss: 21.8843\n",
      "Epoch 16/20\n",
      "509051/509051 [==============================] - 1s 3us/step - loss: 21.8692 - custom_loss: 21.8692\n",
      "Epoch 17/20\n",
      "509051/509051 [==============================] - 1s 3us/step - loss: 21.8686 - custom_loss: 21.8686\n",
      "Epoch 18/20\n",
      "509051/509051 [==============================] - 1s 3us/step - loss: 21.8477 - custom_loss: 21.8477\n",
      "Epoch 19/20\n",
      "509051/509051 [==============================] - 1s 3us/step - loss: 21.8509 - custom_loss: 21.8509\n",
      "Epoch 20/20\n",
      "509051/509051 [==============================] - 1s 3us/step - loss: 21.8345 - custom_loss: 21.8345\n",
      "127262/127262 [==============================] - 2s 19us/step\n",
      "509051/509051 [==============================] - 1s 1us/step\n",
      "Epoch 1/20\n",
      "509051/509051 [==============================] - 7s 14us/step - loss: 30.9634 - custom_loss: 30.9634\n",
      "Epoch 2/20\n",
      "509051/509051 [==============================] - 1s 3us/step - loss: 23.3512 - custom_loss: 23.3512\n",
      "Epoch 3/20\n",
      "509051/509051 [==============================] - 1s 3us/step - loss: 22.7006 - custom_loss: 22.7006\n",
      "Epoch 4/20\n",
      "509051/509051 [==============================] - 1s 3us/step - loss: 22.4722 - custom_loss: 22.4722\n",
      "Epoch 5/20\n",
      "509051/509051 [==============================] - 1s 3us/step - loss: 22.3169 - custom_loss: 22.3169\n",
      "Epoch 6/20\n",
      "509051/509051 [==============================] - 1s 3us/step - loss: 22.2170 - custom_loss: 22.2170\n",
      "Epoch 7/20\n",
      "509051/509051 [==============================] - 1s 3us/step - loss: 22.1663 - custom_loss: 22.1663\n",
      "Epoch 8/20\n",
      "509051/509051 [==============================] - 1s 3us/step - loss: 22.1235 - custom_loss: 22.1235\n",
      "Epoch 9/20\n",
      "509051/509051 [==============================] - 1s 3us/step - loss: 22.0782 - custom_loss: 22.0782\n",
      "Epoch 10/20\n",
      "509051/509051 [==============================] - 1s 3us/step - loss: 22.0123 - custom_loss: 22.0123A: 0s - loss: 21.9318 - custom_los\n",
      "Epoch 11/20\n",
      "509051/509051 [==============================] - 1s 3us/step - loss: 22.0063 - custom_loss: 22.0063\n",
      "Epoch 12/20\n",
      "509051/509051 [==============================] - 1s 3us/step - loss: 21.9335 - custom_loss: 21.9335\n",
      "Epoch 13/20\n",
      "509051/509051 [==============================] - 1s 3us/step - loss: 21.9259 - custom_loss: 21.9259\n",
      "Epoch 14/20\n",
      "509051/509051 [==============================] - 1s 3us/step - loss: 21.8980 - custom_loss: 21.8980\n",
      "Epoch 15/20\n",
      "509051/509051 [==============================] - 1s 3us/step - loss: 21.8911 - custom_loss: 21.8911\n",
      "Epoch 16/20\n",
      "509051/509051 [==============================] - 1s 3us/step - loss: 21.8606 - custom_loss: 21.8606\n",
      "Epoch 17/20\n",
      "509051/509051 [==============================] - 1s 3us/step - loss: 21.8308 - custom_loss: 21.8308\n",
      "Epoch 18/20\n",
      "509051/509051 [==============================] - 1s 3us/step - loss: 21.8294 - custom_loss: 21.8294\n",
      "Epoch 19/20\n",
      "509051/509051 [==============================] - 1s 3us/step - loss: 21.8341 - custom_loss: 21.8341\n",
      "Epoch 20/20\n",
      "509051/509051 [==============================] - 1s 3us/step - loss: 21.7897 - custom_loss: 21.7897\n",
      "127262/127262 [==============================] - 3s 20us/step\n",
      "509051/509051 [==============================] - 1s 1us/step\n",
      "Epoch 1/20\n",
      "509050/509050 [==============================] - 7s 14us/step - loss: 29.8254 - custom_loss: 29.8254\n",
      "Epoch 2/20\n",
      "509050/509050 [==============================] - 1s 3us/step - loss: 22.7337 - custom_loss: 22.7337\n",
      "Epoch 3/20\n",
      "509050/509050 [==============================] - 1s 3us/step - loss: 22.2850 - custom_loss: 22.2850\n",
      "Epoch 4/20\n",
      "509050/509050 [==============================] - 1s 3us/step - loss: 22.1213 - custom_loss: 22.1213\n",
      "Epoch 5/20\n",
      "509050/509050 [==============================] - 1s 3us/step - loss: 22.0396 - custom_loss: 22.0396\n",
      "Epoch 6/20\n",
      "509050/509050 [==============================] - 1s 3us/step - loss: 21.9916 - custom_loss: 21.9916\n",
      "Epoch 7/20\n",
      "509050/509050 [==============================] - 1s 3us/step - loss: 21.9524 - custom_loss: 21.9524\n",
      "Epoch 8/20\n",
      "509050/509050 [==============================] - 1s 3us/step - loss: 21.9184 - custom_loss: 21.9184\n",
      "Epoch 9/20\n",
      "509050/509050 [==============================] - 1s 3us/step - loss: 21.8991 - custom_loss: 21.8991\n",
      "Epoch 10/20\n",
      "509050/509050 [==============================] - 1s 3us/step - loss: 21.8736 - custom_loss: 21.8736\n",
      "Epoch 11/20\n",
      "509050/509050 [==============================] - 1s 3us/step - loss: 21.8534 - custom_loss: 21.8534\n",
      "Epoch 12/20\n",
      "509050/509050 [==============================] - 1s 3us/step - loss: 21.8321 - custom_loss: 21.8321\n",
      "Epoch 13/20\n",
      "509050/509050 [==============================] - 1s 3us/step - loss: 21.8147 - custom_loss: 21.8147\n",
      "Epoch 14/20\n",
      "509050/509050 [==============================] - 1s 3us/step - loss: 21.7985 - custom_loss: 21.7985\n",
      "Epoch 15/20\n",
      "509050/509050 [==============================] - 1s 3us/step - loss: 21.7799 - custom_loss: 21.7799\n",
      "Epoch 16/20\n",
      "509050/509050 [==============================] - 1s 3us/step - loss: 21.7689 - custom_loss: 21.7689\n",
      "Epoch 17/20\n",
      "509050/509050 [==============================] - 1s 3us/step - loss: 21.7567 - custom_loss: 21.7567\n",
      "Epoch 18/20\n",
      "509050/509050 [==============================] - 1s 3us/step - loss: 21.7389 - custom_loss: 21.7389\n",
      "Epoch 19/20\n",
      "509050/509050 [==============================] - 1s 3us/step - loss: 21.7307 - custom_loss: 21.7307\n",
      "Epoch 20/20\n",
      "509050/509050 [==============================] - 1s 3us/step - loss: 21.7249 - custom_loss: 21.7249\n",
      "127263/127263 [==============================] - 2s 20us/step\n",
      "509050/509050 [==============================] - 1s 1us/step\n",
      "Epoch 1/20\n",
      "509050/509050 [==============================] - 7s 14us/step - loss: 29.9631 - custom_loss: 29.9631\n",
      "Epoch 2/20\n",
      "509050/509050 [==============================] - 1s 3us/step - loss: 22.7307 - custom_loss: 22.7307\n",
      "Epoch 3/20\n",
      "509050/509050 [==============================] - 1s 3us/step - loss: 22.3560 - custom_loss: 22.3560\n",
      "Epoch 4/20\n",
      "509050/509050 [==============================] - 1s 3us/step - loss: 22.2060 - custom_loss: 22.2060\n",
      "Epoch 5/20\n",
      "509050/509050 [==============================] - 1s 3us/step - loss: 22.1408 - custom_loss: 22.1408\n",
      "Epoch 6/20\n",
      "509050/509050 [==============================] - 1s 3us/step - loss: 22.0824 - custom_loss: 22.0824\n",
      "Epoch 7/20\n",
      "509050/509050 [==============================] - 1s 3us/step - loss: 22.0422 - custom_loss: 22.0422\n",
      "Epoch 8/20\n",
      "509050/509050 [==============================] - 1s 3us/step - loss: 22.0263 - custom_loss: 22.0263\n",
      "Epoch 9/20\n",
      "509050/509050 [==============================] - 1s 3us/step - loss: 21.9900 - custom_loss: 21.9900\n",
      "Epoch 10/20\n",
      "509050/509050 [==============================] - 1s 3us/step - loss: 21.9716 - custom_loss: 21.9716\n",
      "Epoch 11/20\n",
      "509050/509050 [==============================] - 1s 3us/step - loss: 21.9473 - custom_loss: 21.9473\n",
      "Epoch 12/20\n",
      "509050/509050 [==============================] - 1s 3us/step - loss: 21.9345 - custom_loss: 21.9345\n",
      "Epoch 13/20\n",
      "509050/509050 [==============================] - 1s 3us/step - loss: 21.9238 - custom_loss: 21.9238\n",
      "Epoch 14/20\n",
      "509050/509050 [==============================] - 1s 3us/step - loss: 21.9002 - custom_loss: 21.9002\n",
      "Epoch 15/20\n",
      "509050/509050 [==============================] - 1s 3us/step - loss: 21.8969 - custom_loss: 21.8969\n",
      "Epoch 16/20\n"
     ]
    },
    {
     "name": "stdout",
     "output_type": "stream",
     "text": [
      "509050/509050 [==============================] - 1s 3us/step - loss: 21.8845 - custom_loss: 21.8845\n",
      "Epoch 17/20\n",
      "509050/509050 [==============================] - 1s 3us/step - loss: 21.8738 - custom_loss: 21.8738\n",
      "Epoch 18/20\n",
      "509050/509050 [==============================] - 1s 3us/step - loss: 21.8641 - custom_loss: 21.8641A: 1s - loss: 21.9297 - c\n",
      "Epoch 19/20\n",
      "509050/509050 [==============================] - 1s 3us/step - loss: 21.8554 - custom_loss: 21.8554\n",
      "Epoch 20/20\n",
      "509050/509050 [==============================] - 1s 3us/step - loss: 21.8397 - custom_loss: 21.8397\n",
      "127263/127263 [==============================] - 3s 20us/step\n",
      "509050/509050 [==============================] - 1s 1us/step\n",
      "Epoch 1/20\n",
      "509050/509050 [==============================] - 7s 14us/step - loss: 31.2544 - custom_loss: 31.2544\n",
      "Epoch 2/20\n",
      "509050/509050 [==============================] - 1s 3us/step - loss: 23.4098 - custom_loss: 23.4098\n",
      "Epoch 3/20\n",
      "509050/509050 [==============================] - 1s 3us/step - loss: 22.7308 - custom_loss: 22.7308\n",
      "Epoch 4/20\n",
      "509050/509050 [==============================] - 1s 3us/step - loss: 22.5014 - custom_loss: 22.5014\n",
      "Epoch 5/20\n",
      "509050/509050 [==============================] - 1s 3us/step - loss: 22.3809 - custom_loss: 22.3809\n",
      "Epoch 6/20\n",
      "509050/509050 [==============================] - 1s 3us/step - loss: 22.3120 - custom_loss: 22.3120\n",
      "Epoch 7/20\n",
      "509050/509050 [==============================] - 1s 3us/step - loss: 22.2524 - custom_loss: 22.2524\n",
      "Epoch 8/20\n",
      "509050/509050 [==============================] - 1s 3us/step - loss: 22.2053 - custom_loss: 22.2053\n",
      "Epoch 9/20\n",
      "509050/509050 [==============================] - 1s 3us/step - loss: 22.1837 - custom_loss: 22.1837\n",
      "Epoch 10/20\n",
      "509050/509050 [==============================] - 1s 3us/step - loss: 22.1567 - custom_loss: 22.1567\n",
      "Epoch 11/20\n",
      "509050/509050 [==============================] - 1s 3us/step - loss: 22.1256 - custom_loss: 22.1256\n",
      "Epoch 12/20\n",
      "509050/509050 [==============================] - 1s 3us/step - loss: 22.1441 - custom_loss: 22.1441\n",
      "Epoch 13/20\n",
      "509050/509050 [==============================] - 1s 3us/step - loss: 22.1013 - custom_loss: 22.1013\n",
      "Epoch 14/20\n",
      "509050/509050 [==============================] - 1s 3us/step - loss: 22.0857 - custom_loss: 22.0857\n",
      "Epoch 15/20\n",
      "509050/509050 [==============================] - 1s 3us/step - loss: 22.0743 - custom_loss: 22.0743\n",
      "Epoch 16/20\n",
      "509050/509050 [==============================] - 1s 3us/step - loss: 22.0577 - custom_loss: 22.0577\n",
      "Epoch 17/20\n",
      "509050/509050 [==============================] - 1s 3us/step - loss: 22.0529 - custom_loss: 22.0529\n",
      "Epoch 18/20\n",
      "509050/509050 [==============================] - 1s 3us/step - loss: 22.0420 - custom_loss: 22.0420\n",
      "Epoch 19/20\n",
      "509050/509050 [==============================] - 1s 3us/step - loss: 22.0400 - custom_loss: 22.0400\n",
      "Epoch 20/20\n",
      "509050/509050 [==============================] - 1s 3us/step - loss: 22.0262 - custom_loss: 22.0262\n",
      "127263/127263 [==============================] - 3s 20us/step\n",
      "509050/509050 [==============================] - 1s 1us/step\n",
      "Epoch 1/20\n",
      "509051/509051 [==============================] - 7s 14us/step - loss: 29.5998 - custom_loss: 29.5998\n",
      "Epoch 2/20\n",
      "509051/509051 [==============================] - 1s 3us/step - loss: 22.7802 - custom_loss: 22.7802\n",
      "Epoch 3/20\n",
      "509051/509051 [==============================] - 1s 3us/step - loss: 22.3920 - custom_loss: 22.3920\n",
      "Epoch 4/20\n",
      "509051/509051 [==============================] - 1s 3us/step - loss: 22.2434 - custom_loss: 22.2434\n",
      "Epoch 5/20\n",
      "509051/509051 [==============================] - 1s 3us/step - loss: 22.1576 - custom_loss: 22.1576\n",
      "Epoch 6/20\n",
      "509051/509051 [==============================] - 1s 3us/step - loss: 22.0931 - custom_loss: 22.0931\n",
      "Epoch 7/20\n",
      "509051/509051 [==============================] - 1s 3us/step - loss: 22.0571 - custom_loss: 22.0571\n",
      "Epoch 8/20\n",
      "509051/509051 [==============================] - 1s 3us/step - loss: 22.0093 - custom_loss: 22.0093\n",
      "Epoch 9/20\n",
      "509051/509051 [==============================] - 1s 3us/step - loss: 21.9794 - custom_loss: 21.9794\n",
      "Epoch 10/20\n",
      "509051/509051 [==============================] - 1s 3us/step - loss: 21.9436 - custom_loss: 21.9436\n",
      "Epoch 11/20\n",
      "509051/509051 [==============================] - 1s 3us/step - loss: 21.9237 - custom_loss: 21.9237\n",
      "Epoch 12/20\n",
      "509051/509051 [==============================] - 1s 3us/step - loss: 21.9260 - custom_loss: 21.9260\n",
      "Epoch 13/20\n",
      "509051/509051 [==============================] - 1s 3us/step - loss: 21.8849 - custom_loss: 21.8849\n",
      "Epoch 14/20\n",
      "509051/509051 [==============================] - 1s 3us/step - loss: 21.8696 - custom_loss: 21.8696\n",
      "Epoch 15/20\n",
      "509051/509051 [==============================] - 1s 3us/step - loss: 21.8475 - custom_loss: 21.8475\n",
      "Epoch 16/20\n",
      "509051/509051 [==============================] - 1s 3us/step - loss: 21.8275 - custom_loss: 21.8275\n",
      "Epoch 17/20\n",
      "509051/509051 [==============================] - 1s 3us/step - loss: 21.8165 - custom_loss: 21.8165\n",
      "Epoch 18/20\n",
      "509051/509051 [==============================] - 1s 3us/step - loss: 21.8112 - custom_loss: 21.8112\n",
      "Epoch 19/20\n",
      "509051/509051 [==============================] - 1s 3us/step - loss: 21.7876 - custom_loss: 21.7876\n",
      "Epoch 20/20\n",
      "509051/509051 [==============================] - 1s 3us/step - loss: 21.7883 - custom_loss: 21.7883\n",
      "127262/127262 [==============================] - 3s 21us/step\n",
      "509051/509051 [==============================] - 1s 1us/step\n",
      "Epoch 1/20\n",
      "509051/509051 [==============================] - 7s 14us/step - loss: 30.7280 - custom_loss: 30.7280\n",
      "Epoch 2/20\n",
      "509051/509051 [==============================] - 1s 3us/step - loss: 22.8527 - custom_loss: 22.8527\n",
      "Epoch 3/20\n",
      "509051/509051 [==============================] - 1s 3us/step - loss: 22.3634 - custom_loss: 22.3634\n",
      "Epoch 4/20\n",
      "509051/509051 [==============================] - 1s 3us/step - loss: 22.1725 - custom_loss: 22.1725\n",
      "Epoch 5/20\n",
      "509051/509051 [==============================] - 1s 3us/step - loss: 22.1076 - custom_loss: 22.1076\n",
      "Epoch 6/20\n",
      "509051/509051 [==============================] - 1s 3us/step - loss: 22.0416 - custom_loss: 22.0416\n",
      "Epoch 7/20\n",
      "509051/509051 [==============================] - 1s 3us/step - loss: 22.0142 - custom_loss: 22.0142\n",
      "Epoch 8/20\n",
      "509051/509051 [==============================] - 1s 3us/step - loss: 21.9574 - custom_loss: 21.9574\n",
      "Epoch 9/20\n",
      "509051/509051 [==============================] - 1s 3us/step - loss: 21.9351 - custom_loss: 21.9351\n",
      "Epoch 10/20\n",
      "509051/509051 [==============================] - 1s 3us/step - loss: 21.9168 - custom_loss: 21.9168\n",
      "Epoch 11/20\n",
      "509051/509051 [==============================] - 1s 3us/step - loss: 21.8977 - custom_loss: 21.8977\n",
      "Epoch 12/20\n",
      "509051/509051 [==============================] - 1s 3us/step - loss: 21.8741 - custom_loss: 21.8741\n",
      "Epoch 13/20\n",
      "509051/509051 [==============================] - 1s 3us/step - loss: 21.8543 - custom_loss: 21.8543\n",
      "Epoch 14/20\n",
      "509051/509051 [==============================] - 1s 3us/step - loss: 21.8435 - custom_loss: 21.8435\n",
      "Epoch 15/20\n",
      "509051/509051 [==============================] - 1s 3us/step - loss: 21.8320 - custom_loss: 21.8320\n",
      "Epoch 16/20\n",
      "509051/509051 [==============================] - 1s 3us/step - loss: 21.8210 - custom_loss: 21.8210\n",
      "Epoch 17/20\n",
      "509051/509051 [==============================] - 1s 3us/step - loss: 21.8122 - custom_loss: 21.8122\n",
      "Epoch 18/20\n",
      "509051/509051 [==============================] - 1s 3us/step - loss: 21.7997 - custom_loss: 21.7997\n",
      "Epoch 19/20\n",
      "509051/509051 [==============================] - 1s 3us/step - loss: 21.7807 - custom_loss: 21.7807\n",
      "Epoch 20/20\n",
      "509051/509051 [==============================] - 1s 3us/step - loss: 21.7781 - custom_loss: 21.7781\n",
      "127262/127262 [==============================] - 3s 21us/step\n",
      "509051/509051 [==============================] - 1s 1us/step\n",
      "Epoch 1/20\n",
      "509050/509050 [==============================] - 7s 14us/step - loss: 28.2720 - custom_loss: 28.2720\n",
      "Epoch 2/20\n",
      "509050/509050 [==============================] - 1s 3us/step - loss: 22.5985 - custom_loss: 22.5985\n",
      "Epoch 3/20\n",
      "509050/509050 [==============================] - 1s 3us/step - loss: 22.2298 - custom_loss: 22.2298\n",
      "Epoch 4/20\n"
     ]
    },
    {
     "name": "stdout",
     "output_type": "stream",
     "text": [
      "509050/509050 [==============================] - 1s 3us/step - loss: 22.0776 - custom_loss: 22.0776\n",
      "Epoch 5/20\n",
      "509050/509050 [==============================] - 1s 3us/step - loss: 22.0333 - custom_loss: 22.0333\n",
      "Epoch 6/20\n",
      "509050/509050 [==============================] - 1s 3us/step - loss: 21.9722 - custom_loss: 21.9722\n",
      "Epoch 7/20\n",
      "509050/509050 [==============================] - 1s 3us/step - loss: 21.9258 - custom_loss: 21.9258\n",
      "Epoch 8/20\n",
      "509050/509050 [==============================] - 1s 3us/step - loss: 21.9057 - custom_loss: 21.9057\n",
      "Epoch 9/20\n",
      "509050/509050 [==============================] - 1s 3us/step - loss: 21.8684 - custom_loss: 21.8684\n",
      "Epoch 10/20\n",
      "509050/509050 [==============================] - 1s 3us/step - loss: 21.8570 - custom_loss: 21.8570\n",
      "Epoch 11/20\n",
      "509050/509050 [==============================] - 1s 3us/step - loss: 21.8429 - custom_loss: 21.8429\n",
      "Epoch 12/20\n",
      "509050/509050 [==============================] - 1s 3us/step - loss: 21.8128 - custom_loss: 21.8128\n",
      "Epoch 13/20\n",
      "509050/509050 [==============================] - 1s 3us/step - loss: 21.7958 - custom_loss: 21.7958\n",
      "Epoch 14/20\n",
      "509050/509050 [==============================] - 1s 3us/step - loss: 21.7816 - custom_loss: 21.7816\n",
      "Epoch 15/20\n",
      "509050/509050 [==============================] - 1s 3us/step - loss: 21.7725 - custom_loss: 21.7725\n",
      "Epoch 16/20\n",
      "509050/509050 [==============================] - 1s 3us/step - loss: 21.7556 - custom_loss: 21.7556\n",
      "Epoch 17/20\n",
      "509050/509050 [==============================] - 1s 3us/step - loss: 21.7476 - custom_loss: 21.7476\n",
      "Epoch 18/20\n",
      "509050/509050 [==============================] - 1s 3us/step - loss: 21.7314 - custom_loss: 21.7314\n",
      "Epoch 19/20\n",
      "509050/509050 [==============================] - 1s 3us/step - loss: 21.7275 - custom_loss: 21.7275\n",
      "Epoch 20/20\n",
      "509050/509050 [==============================] - 1s 3us/step - loss: 21.7155 - custom_loss: 21.7155\n",
      "127263/127263 [==============================] - 3s 20us/step\n",
      "509050/509050 [==============================] - 1s 1us/step\n",
      "Epoch 1/20\n",
      "509050/509050 [==============================] - 7s 14us/step - loss: 28.6154 - custom_loss: 28.6154\n",
      "Epoch 2/20\n",
      "509050/509050 [==============================] - 1s 3us/step - loss: 22.8359 - custom_loss: 22.8359\n",
      "Epoch 3/20\n",
      "509050/509050 [==============================] - 1s 3us/step - loss: 22.5155 - custom_loss: 22.5155\n",
      "Epoch 4/20\n",
      "509050/509050 [==============================] - 1s 3us/step - loss: 22.3578 - custom_loss: 22.3578\n",
      "Epoch 5/20\n",
      "509050/509050 [==============================] - 1s 3us/step - loss: 22.2946 - custom_loss: 22.2946\n",
      "Epoch 6/20\n",
      "509050/509050 [==============================] - 1s 3us/step - loss: 22.2395 - custom_loss: 22.2395\n",
      "Epoch 7/20\n",
      "509050/509050 [==============================] - 1s 3us/step - loss: 22.1825 - custom_loss: 22.1825\n",
      "Epoch 8/20\n",
      "509050/509050 [==============================] - 1s 3us/step - loss: 22.1581 - custom_loss: 22.1581\n",
      "Epoch 9/20\n",
      "509050/509050 [==============================] - 1s 3us/step - loss: 22.1343 - custom_loss: 22.1343\n",
      "Epoch 10/20\n",
      "509050/509050 [==============================] - 1s 3us/step - loss: 22.1164 - custom_loss: 22.1164\n",
      "Epoch 11/20\n",
      "509050/509050 [==============================] - 1s 3us/step - loss: 22.0984 - custom_loss: 22.0984\n",
      "Epoch 12/20\n",
      "509050/509050 [==============================] - 1s 3us/step - loss: 22.0861 - custom_loss: 22.0861\n",
      "Epoch 13/20\n",
      "509050/509050 [==============================] - 1s 3us/step - loss: 22.0671 - custom_loss: 22.0671\n",
      "Epoch 14/20\n",
      "509050/509050 [==============================] - 1s 3us/step - loss: 22.0593 - custom_loss: 22.0593\n",
      "Epoch 15/20\n",
      "509050/509050 [==============================] - 1s 3us/step - loss: 22.0509 - custom_loss: 22.0509\n",
      "Epoch 16/20\n",
      "509050/509050 [==============================] - 1s 3us/step - loss: 22.0344 - custom_loss: 22.0344\n",
      "Epoch 17/20\n",
      "509050/509050 [==============================] - 1s 3us/step - loss: 22.0278 - custom_loss: 22.0278\n",
      "Epoch 18/20\n",
      "509050/509050 [==============================] - 1s 3us/step - loss: 22.0193 - custom_loss: 22.0193\n",
      "Epoch 19/20\n",
      "509050/509050 [==============================] - 1s 3us/step - loss: 22.0211 - custom_loss: 22.0211\n",
      "Epoch 20/20\n",
      "509050/509050 [==============================] - 1s 3us/step - loss: 22.0104 - custom_loss: 22.0104\n",
      "127263/127263 [==============================] - 3s 21us/step\n",
      "509050/509050 [==============================] - 1s 1us/step\n",
      "Epoch 1/20\n",
      "509050/509050 [==============================] - 8s 15us/step - loss: 29.0541 - custom_loss: 29.0541\n",
      "Epoch 2/20\n",
      "509050/509050 [==============================] - 1s 3us/step - loss: 22.7795 - custom_loss: 22.7795\n",
      "Epoch 3/20\n",
      "509050/509050 [==============================] - 1s 3us/step - loss: 22.4775 - custom_loss: 22.4775\n",
      "Epoch 4/20\n",
      "509050/509050 [==============================] - 1s 3us/step - loss: 22.3459 - custom_loss: 22.3459\n",
      "Epoch 5/20\n",
      "509050/509050 [==============================] - 1s 3us/step - loss: 22.2295 - custom_loss: 22.2295\n",
      "Epoch 6/20\n",
      "509050/509050 [==============================] - 1s 3us/step - loss: 22.2001 - custom_loss: 22.2001\n",
      "Epoch 7/20\n",
      "509050/509050 [==============================] - 1s 3us/step - loss: 22.1513 - custom_loss: 22.1513\n",
      "Epoch 8/20\n",
      "509050/509050 [==============================] - 1s 3us/step - loss: 22.1052 - custom_loss: 22.1052\n",
      "Epoch 9/20\n",
      "509050/509050 [==============================] - 1s 3us/step - loss: 22.0767 - custom_loss: 22.0767A: 1s - loss: 21.8991\n",
      "Epoch 10/20\n",
      "509050/509050 [==============================] - 1s 3us/step - loss: 22.0702 - custom_loss: 22.0702\n",
      "Epoch 11/20\n",
      "509050/509050 [==============================] - 1s 3us/step - loss: 22.0378 - custom_loss: 22.0378\n",
      "Epoch 12/20\n",
      "509050/509050 [==============================] - 1s 3us/step - loss: 22.0184 - custom_loss: 22.0184\n",
      "Epoch 13/20\n",
      "509050/509050 [==============================] - 1s 3us/step - loss: 21.9931 - custom_loss: 21.9931\n",
      "Epoch 14/20\n",
      "509050/509050 [==============================] - 1s 3us/step - loss: 21.9877 - custom_loss: 21.9877\n",
      "Epoch 15/20\n",
      "509050/509050 [==============================] - 1s 3us/step - loss: 21.9678 - custom_loss: 21.9678\n",
      "Epoch 16/20\n",
      "509050/509050 [==============================] - 1s 3us/step - loss: 21.9563 - custom_loss: 21.9563\n",
      "Epoch 17/20\n",
      "509050/509050 [==============================] - 1s 3us/step - loss: 21.9489 - custom_loss: 21.9489\n",
      "Epoch 18/20\n",
      "509050/509050 [==============================] - 1s 3us/step - loss: 21.9327 - custom_loss: 21.9327\n",
      "Epoch 19/20\n",
      "509050/509050 [==============================] - 1s 3us/step - loss: 21.9229 - custom_loss: 21.9229\n",
      "Epoch 20/20\n",
      "509050/509050 [==============================] - 1s 3us/step - loss: 21.9098 - custom_loss: 21.9098\n",
      "127263/127263 [==============================] - 3s 21us/step\n",
      "509050/509050 [==============================] - 1s 1us/step\n",
      "Epoch 1/20\n",
      "509051/509051 [==============================] - 7s 14us/step - loss: 28.9485 - custom_loss: 28.9485\n",
      "Epoch 2/20\n",
      "509051/509051 [==============================] - 1s 3us/step - loss: 22.8737 - custom_loss: 22.8737\n",
      "Epoch 3/20\n",
      "509051/509051 [==============================] - 1s 3us/step - loss: 22.4727 - custom_loss: 22.4727\n",
      "Epoch 4/20\n",
      "509051/509051 [==============================] - 1s 3us/step - loss: 22.3056 - custom_loss: 22.3056\n",
      "Epoch 5/20\n",
      "509051/509051 [==============================] - 1s 3us/step - loss: 22.2306 - custom_loss: 22.2306\n",
      "Epoch 6/20\n",
      "509051/509051 [==============================] - 1s 3us/step - loss: 22.1755 - custom_loss: 22.1755\n",
      "Epoch 7/20\n",
      "509051/509051 [==============================] - 1s 3us/step - loss: 22.1158 - custom_loss: 22.1158\n",
      "Epoch 8/20\n",
      "509051/509051 [==============================] - 1s 3us/step - loss: 22.1001 - custom_loss: 22.1001\n",
      "Epoch 9/20\n",
      "509051/509051 [==============================] - 1s 3us/step - loss: 22.0726 - custom_loss: 22.0726\n",
      "Epoch 10/20\n",
      "509051/509051 [==============================] - 1s 3us/step - loss: 22.0503 - custom_loss: 22.0503\n",
      "Epoch 11/20\n",
      "509051/509051 [==============================] - 1s 3us/step - loss: 22.0189 - custom_loss: 22.0189\n",
      "Epoch 12/20\n",
      "509051/509051 [==============================] - 1s 3us/step - loss: 22.0222 - custom_loss: 22.0222\n",
      "Epoch 13/20\n",
      "509051/509051 [==============================] - 1s 3us/step - loss: 22.0036 - custom_loss: 22.0036\n",
      "Epoch 14/20\n"
     ]
    },
    {
     "name": "stdout",
     "output_type": "stream",
     "text": [
      "509051/509051 [==============================] - 1s 3us/step - loss: 21.9901 - custom_loss: 21.9901\n",
      "Epoch 15/20\n",
      "509051/509051 [==============================] - 1s 3us/step - loss: 22.0037 - custom_loss: 22.0037\n",
      "Epoch 16/20\n",
      "509051/509051 [==============================] - 1s 3us/step - loss: 21.9845 - custom_loss: 21.9845\n",
      "Epoch 17/20\n",
      "509051/509051 [==============================] - 1s 3us/step - loss: 21.9721 - custom_loss: 21.9721\n",
      "Epoch 18/20\n",
      "509051/509051 [==============================] - 1s 3us/step - loss: 21.9599 - custom_loss: 21.9599\n",
      "Epoch 19/20\n",
      "509051/509051 [==============================] - 1s 3us/step - loss: 21.9545 - custom_loss: 21.9545\n",
      "Epoch 20/20\n",
      "509051/509051 [==============================] - 1s 3us/step - loss: 21.9546 - custom_loss: 21.9546\n",
      "127262/127262 [==============================] - 3s 21us/step\n",
      "509051/509051 [==============================] - 1s 1us/step\n",
      "Epoch 1/20\n",
      "509051/509051 [==============================] - 8s 15us/step - loss: 29.0111 - custom_loss: 29.0111\n",
      "Epoch 2/20\n",
      "509051/509051 [==============================] - 1s 3us/step - loss: 23.0982 - custom_loss: 23.0982\n",
      "Epoch 3/20\n",
      "509051/509051 [==============================] - 1s 3us/step - loss: 22.5935 - custom_loss: 22.5935\n",
      "Epoch 4/20\n",
      "509051/509051 [==============================] - 1s 3us/step - loss: 22.4149 - custom_loss: 22.4149\n",
      "Epoch 5/20\n",
      "509051/509051 [==============================] - 1s 3us/step - loss: 22.3073 - custom_loss: 22.3073\n",
      "Epoch 6/20\n",
      "509051/509051 [==============================] - 1s 3us/step - loss: 22.2503 - custom_loss: 22.2503\n",
      "Epoch 7/20\n",
      "509051/509051 [==============================] - 1s 3us/step - loss: 22.2174 - custom_loss: 22.2174\n",
      "Epoch 8/20\n",
      "509051/509051 [==============================] - 1s 3us/step - loss: 22.1675 - custom_loss: 22.1675\n",
      "Epoch 9/20\n",
      "509051/509051 [==============================] - 1s 3us/step - loss: 22.1360 - custom_loss: 22.1360\n",
      "Epoch 10/20\n",
      "509051/509051 [==============================] - 1s 3us/step - loss: 22.1206 - custom_loss: 22.1206\n",
      "Epoch 11/20\n",
      "509051/509051 [==============================] - 1s 3us/step - loss: 22.0945 - custom_loss: 22.0945\n",
      "Epoch 12/20\n",
      "509051/509051 [==============================] - 1s 3us/step - loss: 22.0788 - custom_loss: 22.0788\n",
      "Epoch 13/20\n",
      "509051/509051 [==============================] - 1s 3us/step - loss: 22.0604 - custom_loss: 22.0604\n",
      "Epoch 14/20\n",
      "509051/509051 [==============================] - 1s 3us/step - loss: 22.0476 - custom_loss: 22.0476\n",
      "Epoch 15/20\n",
      "509051/509051 [==============================] - 1s 3us/step - loss: 22.0400 - custom_loss: 22.0400\n",
      "Epoch 16/20\n",
      "509051/509051 [==============================] - 1s 3us/step - loss: 22.0262 - custom_loss: 22.0262\n",
      "Epoch 17/20\n",
      "509051/509051 [==============================] - 1s 3us/step - loss: 22.0181 - custom_loss: 22.0181\n",
      "Epoch 18/20\n",
      "509051/509051 [==============================] - 1s 3us/step - loss: 22.0067 - custom_loss: 22.0067\n",
      "Epoch 19/20\n",
      "509051/509051 [==============================] - 1s 3us/step - loss: 21.9984 - custom_loss: 21.9984\n",
      "Epoch 20/20\n",
      "509051/509051 [==============================] - 1s 3us/step - loss: 21.9988 - custom_loss: 21.9988\n",
      "127262/127262 [==============================] - 3s 21us/step\n",
      "509051/509051 [==============================] - 1s 1us/step\n",
      "Epoch 1/20\n",
      "509050/509050 [==============================] - 8s 15us/step - loss: 32.2887 - custom_loss: 32.2887\n",
      "Epoch 2/20\n",
      "509050/509050 [==============================] - 1s 3us/step - loss: 24.5073 - custom_loss: 24.5073\n",
      "Epoch 3/20\n",
      "509050/509050 [==============================] - 1s 3us/step - loss: 23.2019 - custom_loss: 23.2019\n",
      "Epoch 4/20\n",
      "509050/509050 [==============================] - 1s 3us/step - loss: 22.6150 - custom_loss: 22.6150\n",
      "Epoch 5/20\n",
      "509050/509050 [==============================] - 1s 3us/step - loss: 22.3759 - custom_loss: 22.3759\n",
      "Epoch 6/20\n",
      "509050/509050 [==============================] - 1s 3us/step - loss: 22.2525 - custom_loss: 22.2525\n",
      "Epoch 7/20\n",
      "509050/509050 [==============================] - 1s 3us/step - loss: 22.1770 - custom_loss: 22.1770\n",
      "Epoch 8/20\n",
      "509050/509050 [==============================] - 1s 3us/step - loss: 22.1236 - custom_loss: 22.1236\n",
      "Epoch 9/20\n",
      "509050/509050 [==============================] - 1s 3us/step - loss: 22.0937 - custom_loss: 22.0937\n",
      "Epoch 10/20\n",
      "509050/509050 [==============================] - 1s 3us/step - loss: 22.0573 - custom_loss: 22.0573\n",
      "Epoch 11/20\n",
      "509050/509050 [==============================] - 1s 3us/step - loss: 22.0364 - custom_loss: 22.0364\n",
      "Epoch 12/20\n",
      "509050/509050 [==============================] - 1s 3us/step - loss: 22.0148 - custom_loss: 22.0148\n",
      "Epoch 13/20\n",
      "509050/509050 [==============================] - 1s 3us/step - loss: 21.9948 - custom_loss: 21.9948\n",
      "Epoch 14/20\n",
      "509050/509050 [==============================] - 1s 3us/step - loss: 21.9780 - custom_loss: 21.9780A: 1s - loss: 22.0478 - cu\n",
      "Epoch 15/20\n",
      "509050/509050 [==============================] - 1s 3us/step - loss: 21.9622 - custom_loss: 21.9622\n",
      "Epoch 16/20\n",
      "509050/509050 [==============================] - 1s 3us/step - loss: 21.9489 - custom_loss: 21.9489\n",
      "Epoch 17/20\n",
      "509050/509050 [==============================] - 1s 3us/step - loss: 21.9408 - custom_loss: 21.9408\n",
      "Epoch 18/20\n",
      "509050/509050 [==============================] - 1s 3us/step - loss: 21.9289 - custom_loss: 21.9289\n",
      "Epoch 19/20\n",
      "509050/509050 [==============================] - 1s 3us/step - loss: 21.9196 - custom_loss: 21.9196\n",
      "Epoch 20/20\n",
      "509050/509050 [==============================] - 1s 3us/step - loss: 21.9025 - custom_loss: 21.9025\n",
      "127263/127263 [==============================] - 3s 21us/step\n",
      "509050/509050 [==============================] - 1s 1us/step\n",
      "Epoch 1/20\n",
      "509050/509050 [==============================] - 8s 15us/step - loss: 30.4779 - custom_loss: 30.4779\n",
      "Epoch 2/20\n",
      "509050/509050 [==============================] - 1s 3us/step - loss: 22.9610 - custom_loss: 22.9610\n",
      "Epoch 3/20\n",
      "509050/509050 [==============================] - 1s 3us/step - loss: 22.5037 - custom_loss: 22.5037\n",
      "Epoch 4/20\n",
      "509050/509050 [==============================] - 1s 3us/step - loss: 22.3372 - custom_loss: 22.3372\n",
      "Epoch 5/20\n",
      "509050/509050 [==============================] - 1s 3us/step - loss: 22.2391 - custom_loss: 22.2391\n",
      "Epoch 6/20\n",
      "509050/509050 [==============================] - 1s 3us/step - loss: 22.1913 - custom_loss: 22.1913\n",
      "Epoch 7/20\n",
      "509050/509050 [==============================] - 1s 3us/step - loss: 22.1396 - custom_loss: 22.1396\n",
      "Epoch 8/20\n",
      "509050/509050 [==============================] - 1s 3us/step - loss: 22.0917 - custom_loss: 22.0917\n",
      "Epoch 9/20\n",
      "509050/509050 [==============================] - 1s 3us/step - loss: 22.0736 - custom_loss: 22.0736\n",
      "Epoch 10/20\n",
      "509050/509050 [==============================] - 1s 3us/step - loss: 22.0468 - custom_loss: 22.0468\n",
      "Epoch 11/20\n",
      "509050/509050 [==============================] - 1s 3us/step - loss: 22.0216 - custom_loss: 22.0216\n",
      "Epoch 12/20\n",
      "509050/509050 [==============================] - 1s 3us/step - loss: 21.9912 - custom_loss: 21.9912\n",
      "Epoch 13/20\n",
      "509050/509050 [==============================] - 1s 3us/step - loss: 21.9801 - custom_loss: 21.9801\n",
      "Epoch 14/20\n",
      "509050/509050 [==============================] - 1s 3us/step - loss: 21.9723 - custom_loss: 21.9723\n",
      "Epoch 15/20\n",
      "509050/509050 [==============================] - 1s 3us/step - loss: 21.9549 - custom_loss: 21.9549\n",
      "Epoch 16/20\n",
      "509050/509050 [==============================] - 1s 3us/step - loss: 21.9403 - custom_loss: 21.9403\n",
      "Epoch 17/20\n",
      "509050/509050 [==============================] - 1s 3us/step - loss: 21.9202 - custom_loss: 21.9202\n",
      "Epoch 18/20\n",
      "509050/509050 [==============================] - 1s 3us/step - loss: 21.9260 - custom_loss: 21.9260\n",
      "Epoch 19/20\n",
      "509050/509050 [==============================] - 1s 3us/step - loss: 21.9040 - custom_loss: 21.9040\n",
      "Epoch 20/20\n",
      "509050/509050 [==============================] - 1s 3us/step - loss: 21.8979 - custom_loss: 21.8979\n",
      "127263/127263 [==============================] - 3s 21us/step\n",
      "509050/509050 [==============================] - 1s 1us/step\n",
      "Epoch 1/20\n",
      "509050/509050 [==============================] - 8s 15us/step - loss: 30.8694 - custom_loss: 30.8694\n",
      "Epoch 2/20\n"
     ]
    },
    {
     "name": "stdout",
     "output_type": "stream",
     "text": [
      "509050/509050 [==============================] - 1s 3us/step - loss: 23.3324 - custom_loss: 23.3324\n",
      "Epoch 3/20\n",
      "509050/509050 [==============================] - 1s 3us/step - loss: 22.7401 - custom_loss: 22.7401\n",
      "Epoch 4/20\n",
      "509050/509050 [==============================] - 1s 3us/step - loss: 22.5358 - custom_loss: 22.5358\n",
      "Epoch 5/20\n",
      "509050/509050 [==============================] - 1s 3us/step - loss: 22.4169 - custom_loss: 22.4169\n",
      "Epoch 6/20\n",
      "509050/509050 [==============================] - 1s 3us/step - loss: 22.3505 - custom_loss: 22.3505\n",
      "Epoch 7/20\n",
      "509050/509050 [==============================] - 1s 3us/step - loss: 22.3036 - custom_loss: 22.3036\n",
      "Epoch 8/20\n",
      "509050/509050 [==============================] - 1s 3us/step - loss: 22.2740 - custom_loss: 22.2740\n",
      "Epoch 9/20\n",
      "509050/509050 [==============================] - 1s 3us/step - loss: 22.2367 - custom_loss: 22.2367\n",
      "Epoch 10/20\n",
      "509050/509050 [==============================] - 1s 3us/step - loss: 22.2172 - custom_loss: 22.2172\n",
      "Epoch 11/20\n",
      "509050/509050 [==============================] - 1s 3us/step - loss: 22.2010 - custom_loss: 22.2010\n",
      "Epoch 12/20\n",
      "509050/509050 [==============================] - 1s 3us/step - loss: 22.1776 - custom_loss: 22.1776\n",
      "Epoch 13/20\n",
      "509050/509050 [==============================] - 1s 3us/step - loss: 22.1602 - custom_loss: 22.1602\n",
      "Epoch 14/20\n",
      "509050/509050 [==============================] - 1s 3us/step - loss: 22.1503 - custom_loss: 22.1503\n",
      "Epoch 15/20\n",
      "509050/509050 [==============================] - 1s 3us/step - loss: 22.1490 - custom_loss: 22.1490\n",
      "Epoch 16/20\n",
      "509050/509050 [==============================] - 1s 3us/step - loss: 22.1317 - custom_loss: 22.1317\n",
      "Epoch 17/20\n",
      "509050/509050 [==============================] - 1s 3us/step - loss: 22.1198 - custom_loss: 22.1198\n",
      "Epoch 18/20\n",
      "509050/509050 [==============================] - 1s 3us/step - loss: 22.1134 - custom_loss: 22.1134\n",
      "Epoch 19/20\n",
      "509050/509050 [==============================] - 1s 3us/step - loss: 22.1075 - custom_loss: 22.1075\n",
      "Epoch 20/20\n",
      "509050/509050 [==============================] - 1s 3us/step - loss: 22.0934 - custom_loss: 22.0934\n",
      "127263/127263 [==============================] - 3s 24us/step\n",
      "509050/509050 [==============================] - 1s 1us/step\n",
      "Epoch 1/20\n",
      "509051/509051 [==============================] - 8s 15us/step - loss: 30.9066 - custom_loss: 30.9066\n",
      "Epoch 2/20\n",
      "509051/509051 [==============================] - 1s 3us/step - loss: 23.8356 - custom_loss: 23.8356\n",
      "Epoch 3/20\n",
      "509051/509051 [==============================] - 1s 3us/step - loss: 22.7338 - custom_loss: 22.7338\n",
      "Epoch 4/20\n",
      "509051/509051 [==============================] - 1s 3us/step - loss: 22.4592 - custom_loss: 22.4592\n",
      "Epoch 5/20\n",
      "509051/509051 [==============================] - 1s 3us/step - loss: 22.3165 - custom_loss: 22.3165\n",
      "Epoch 6/20\n",
      "509051/509051 [==============================] - 1s 3us/step - loss: 22.2396 - custom_loss: 22.2396\n",
      "Epoch 7/20\n",
      "509051/509051 [==============================] - 1s 3us/step - loss: 22.1796 - custom_loss: 22.1796\n",
      "Epoch 8/20\n",
      "509051/509051 [==============================] - 1s 3us/step - loss: 22.1267 - custom_loss: 22.1267\n",
      "Epoch 9/20\n",
      "509051/509051 [==============================] - 1s 3us/step - loss: 22.1110 - custom_loss: 22.1110\n",
      "Epoch 10/20\n",
      "509051/509051 [==============================] - 1s 3us/step - loss: 22.0911 - custom_loss: 22.0911\n",
      "Epoch 11/20\n",
      "509051/509051 [==============================] - 1s 3us/step - loss: 22.0586 - custom_loss: 22.0586\n",
      "Epoch 12/20\n",
      "509051/509051 [==============================] - 1s 3us/step - loss: 22.0309 - custom_loss: 22.0309\n",
      "Epoch 13/20\n",
      "509051/509051 [==============================] - 1s 3us/step - loss: 22.0224 - custom_loss: 22.0224\n",
      "Epoch 14/20\n",
      "509051/509051 [==============================] - 1s 3us/step - loss: 22.0009 - custom_loss: 22.0009\n",
      "Epoch 15/20\n",
      "509051/509051 [==============================] - 1s 3us/step - loss: 21.9921 - custom_loss: 21.9921\n",
      "Epoch 16/20\n",
      "509051/509051 [==============================] - 1s 3us/step - loss: 21.9670 - custom_loss: 21.9670\n",
      "Epoch 17/20\n",
      "509051/509051 [==============================] - 1s 3us/step - loss: 21.9421 - custom_loss: 21.9421\n",
      "Epoch 18/20\n",
      "509051/509051 [==============================] - 1s 3us/step - loss: 21.9338 - custom_loss: 21.9338\n",
      "Epoch 19/20\n",
      "509051/509051 [==============================] - 1s 3us/step - loss: 21.9192 - custom_loss: 21.9192\n",
      "Epoch 20/20\n",
      "509051/509051 [==============================] - 1s 3us/step - loss: 21.9048 - custom_loss: 21.9048\n",
      "127262/127262 [==============================] - 3s 22us/step\n",
      "509051/509051 [==============================] - 1s 1us/step\n",
      "Epoch 1/20\n",
      "509051/509051 [==============================] - 8s 15us/step - loss: 28.5403 - custom_loss: 28.5403\n",
      "Epoch 2/20\n",
      "509051/509051 [==============================] - 1s 3us/step - loss: 22.4579 - custom_loss: 22.4579\n",
      "Epoch 3/20\n",
      "509051/509051 [==============================] - 1s 3us/step - loss: 22.1907 - custom_loss: 22.1907\n",
      "Epoch 4/20\n",
      "509051/509051 [==============================] - 1s 3us/step - loss: 22.0938 - custom_loss: 22.0938\n",
      "Epoch 5/20\n",
      "509051/509051 [==============================] - 1s 3us/step - loss: 22.0093 - custom_loss: 22.0093\n",
      "Epoch 6/20\n",
      "509051/509051 [==============================] - 1s 3us/step - loss: 21.9702 - custom_loss: 21.9702\n",
      "Epoch 7/20\n",
      "509051/509051 [==============================] - 1s 3us/step - loss: 21.9313 - custom_loss: 21.9313\n",
      "Epoch 8/20\n",
      "509051/509051 [==============================] - 1s 3us/step - loss: 21.9169 - custom_loss: 21.9169\n",
      "Epoch 9/20\n",
      "509051/509051 [==============================] - 1s 3us/step - loss: 21.8855 - custom_loss: 21.8855\n",
      "Epoch 10/20\n",
      "509051/509051 [==============================] - 1s 3us/step - loss: 21.8802 - custom_loss: 21.8802\n",
      "Epoch 11/20\n",
      "509051/509051 [==============================] - 1s 3us/step - loss: 21.8542 - custom_loss: 21.8542\n",
      "Epoch 12/20\n",
      "509051/509051 [==============================] - 1s 3us/step - loss: 21.8297 - custom_loss: 21.8297\n",
      "Epoch 13/20\n",
      "509051/509051 [==============================] - 1s 3us/step - loss: 21.8169 - custom_loss: 21.8169\n",
      "Epoch 14/20\n",
      "509051/509051 [==============================] - 1s 3us/step - loss: 21.8027 - custom_loss: 21.8027\n",
      "Epoch 15/20\n",
      "509051/509051 [==============================] - 1s 3us/step - loss: 21.7869 - custom_loss: 21.7869\n",
      "Epoch 16/20\n",
      "509051/509051 [==============================] - 1s 3us/step - loss: 21.7782 - custom_loss: 21.7782\n",
      "Epoch 17/20\n",
      "509051/509051 [==============================] - 1s 3us/step - loss: 21.7597 - custom_loss: 21.7597\n",
      "Epoch 18/20\n",
      "509051/509051 [==============================] - 1s 3us/step - loss: 21.7512 - custom_loss: 21.7512\n",
      "Epoch 19/20\n",
      "509051/509051 [==============================] - 1s 3us/step - loss: 21.7466 - custom_loss: 21.7466\n",
      "Epoch 20/20\n",
      "509051/509051 [==============================] - 1s 3us/step - loss: 21.7349 - custom_loss: 21.7349\n",
      "127262/127262 [==============================] - 3s 21us/step\n",
      "509051/509051 [==============================] - 1s 1us/step\n",
      "Epoch 1/20\n",
      "509050/509050 [==============================] - 8s 15us/step - loss: 29.9559 - custom_loss: 29.9559: 14s - loss: 41.5267 -\n",
      "Epoch 2/20\n",
      "509050/509050 [==============================] - 1s 3us/step - loss: 22.7230 - custom_loss: 22.7230\n",
      "Epoch 3/20\n",
      "509050/509050 [==============================] - 1s 3us/step - loss: 22.2665 - custom_loss: 22.2665\n",
      "Epoch 4/20\n",
      "509050/509050 [==============================] - 1s 3us/step - loss: 22.1020 - custom_loss: 22.1020\n",
      "Epoch 5/20\n",
      "509050/509050 [==============================] - 1s 3us/step - loss: 22.0268 - custom_loss: 22.0268\n",
      "Epoch 6/20\n",
      "509050/509050 [==============================] - 1s 3us/step - loss: 21.9837 - custom_loss: 21.9837\n",
      "Epoch 7/20\n",
      "509050/509050 [==============================] - 1s 3us/step - loss: 21.9378 - custom_loss: 21.9378\n",
      "Epoch 8/20\n",
      "509050/509050 [==============================] - 1s 3us/step - loss: 21.9104 - custom_loss: 21.9104\n",
      "Epoch 9/20\n",
      "509050/509050 [==============================] - 1s 3us/step - loss: 21.8777 - custom_loss: 21.8777\n",
      "Epoch 10/20\n",
      "509050/509050 [==============================] - 1s 3us/step - loss: 21.8550 - custom_loss: 21.8550\n",
      "Epoch 11/20\n",
      "509050/509050 [==============================] - 1s 3us/step - loss: 21.8416 - custom_loss: 21.8416\n",
      "Epoch 12/20\n"
     ]
    },
    {
     "name": "stdout",
     "output_type": "stream",
     "text": [
      "509050/509050 [==============================] - 1s 3us/step - loss: 21.8220 - custom_loss: 21.8220\n",
      "Epoch 13/20\n",
      "509050/509050 [==============================] - 1s 3us/step - loss: 21.8024 - custom_loss: 21.8024\n",
      "Epoch 14/20\n",
      "509050/509050 [==============================] - 1s 3us/step - loss: 21.7871 - custom_loss: 21.7871\n",
      "Epoch 15/20\n",
      "509050/509050 [==============================] - 1s 3us/step - loss: 21.7810 - custom_loss: 21.7810\n",
      "Epoch 16/20\n",
      "509050/509050 [==============================] - 1s 3us/step - loss: 21.7654 - custom_loss: 21.7654\n",
      "Epoch 17/20\n",
      "509050/509050 [==============================] - 1s 3us/step - loss: 21.7570 - custom_loss: 21.7570\n",
      "Epoch 18/20\n",
      "509050/509050 [==============================] - 1s 3us/step - loss: 21.7451 - custom_loss: 21.7451\n",
      "Epoch 19/20\n",
      "509050/509050 [==============================] - 1s 3us/step - loss: 21.7389 - custom_loss: 21.7389\n",
      "Epoch 20/20\n",
      "509050/509050 [==============================] - 1s 3us/step - loss: 21.7285 - custom_loss: 21.7285\n",
      "127263/127263 [==============================] - 3s 22us/step\n",
      "509050/509050 [==============================] - 1s 1us/step\n",
      "Epoch 1/20\n",
      "509050/509050 [==============================] - 8s 15us/step - loss: 30.4884 - custom_loss: 30.4884\n",
      "Epoch 2/20\n",
      "509050/509050 [==============================] - 1s 3us/step - loss: 23.1905 - custom_loss: 23.1905\n",
      "Epoch 3/20\n",
      "509050/509050 [==============================] - 1s 3us/step - loss: 22.5961 - custom_loss: 22.5961\n",
      "Epoch 4/20\n",
      "509050/509050 [==============================] - 1s 3us/step - loss: 22.3900 - custom_loss: 22.3900\n",
      "Epoch 5/20\n",
      "509050/509050 [==============================] - 1s 3us/step - loss: 22.2694 - custom_loss: 22.2694\n",
      "Epoch 6/20\n",
      "509050/509050 [==============================] - 1s 3us/step - loss: 22.2122 - custom_loss: 22.2122\n",
      "Epoch 7/20\n",
      "509050/509050 [==============================] - 1s 3us/step - loss: 22.1566 - custom_loss: 22.1566\n",
      "Epoch 8/20\n",
      "509050/509050 [==============================] - 1s 3us/step - loss: 22.1165 - custom_loss: 22.1165A: 0s - loss: 22.1232 - cus\n",
      "Epoch 9/20\n",
      "509050/509050 [==============================] - 1s 3us/step - loss: 22.0946 - custom_loss: 22.0946\n",
      "Epoch 10/20\n",
      "509050/509050 [==============================] - 1s 3us/step - loss: 22.0752 - custom_loss: 22.0752\n",
      "Epoch 11/20\n",
      "509050/509050 [==============================] - 1s 3us/step - loss: 22.0520 - custom_loss: 22.0520\n",
      "Epoch 12/20\n",
      "509050/509050 [==============================] - 1s 3us/step - loss: 22.0399 - custom_loss: 22.0399\n",
      "Epoch 13/20\n",
      "509050/509050 [==============================] - 1s 3us/step - loss: 22.0307 - custom_loss: 22.0307A: 1s - loss: 22.037\n",
      "Epoch 14/20\n",
      "509050/509050 [==============================] - 1s 3us/step - loss: 22.0189 - custom_loss: 22.0189\n",
      "Epoch 15/20\n",
      "509050/509050 [==============================] - 1s 3us/step - loss: 22.0021 - custom_loss: 22.0021\n",
      "Epoch 16/20\n",
      "509050/509050 [==============================] - 1s 3us/step - loss: 21.9968 - custom_loss: 21.9968\n",
      "Epoch 17/20\n",
      "509050/509050 [==============================] - 1s 3us/step - loss: 21.9934 - custom_loss: 21.9934\n",
      "Epoch 18/20\n",
      "509050/509050 [==============================] - 1s 3us/step - loss: 21.9790 - custom_loss: 21.9790\n",
      "Epoch 19/20\n",
      "509050/509050 [==============================] - 1s 3us/step - loss: 21.9668 - custom_loss: 21.9668\n",
      "Epoch 20/20\n",
      "509050/509050 [==============================] - 1s 3us/step - loss: 21.9603 - custom_loss: 21.9603\n",
      "127263/127263 [==============================] - 3s 22us/step\n",
      "509050/509050 [==============================] - 1s 1us/step\n",
      "Epoch 1/20\n",
      "509050/509050 [==============================] - 8s 15us/step - loss: 31.4017 - custom_loss: 31.4017\n",
      "Epoch 2/20\n",
      "509050/509050 [==============================] - 1s 3us/step - loss: 23.4762 - custom_loss: 23.4762\n",
      "Epoch 3/20\n",
      "509050/509050 [==============================] - 1s 3us/step - loss: 22.7386 - custom_loss: 22.7386\n",
      "Epoch 4/20\n",
      "509050/509050 [==============================] - 1s 3us/step - loss: 22.5057 - custom_loss: 22.5057\n",
      "Epoch 5/20\n",
      "509050/509050 [==============================] - 1s 3us/step - loss: 22.3846 - custom_loss: 22.3846\n",
      "Epoch 6/20\n",
      "509050/509050 [==============================] - 1s 3us/step - loss: 22.3064 - custom_loss: 22.3064\n",
      "Epoch 7/20\n",
      "509050/509050 [==============================] - 1s 3us/step - loss: 22.2985 - custom_loss: 22.2985\n",
      "Epoch 8/20\n",
      "509050/509050 [==============================] - 1s 3us/step - loss: 22.2417 - custom_loss: 22.2417\n",
      "Epoch 9/20\n",
      "509050/509050 [==============================] - 1s 3us/step - loss: 22.2130 - custom_loss: 22.2130\n",
      "Epoch 10/20\n",
      "509050/509050 [==============================] - 1s 3us/step - loss: 22.1937 - custom_loss: 22.1937\n",
      "Epoch 11/20\n",
      "509050/509050 [==============================] - 1s 3us/step - loss: 22.1718 - custom_loss: 22.1718\n",
      "Epoch 12/20\n",
      "509050/509050 [==============================] - 1s 3us/step - loss: 22.1698 - custom_loss: 22.1698\n",
      "Epoch 13/20\n",
      "509050/509050 [==============================] - 1s 3us/step - loss: 22.1472 - custom_loss: 22.1472\n",
      "Epoch 14/20\n",
      "509050/509050 [==============================] - 1s 3us/step - loss: 22.1313 - custom_loss: 22.1313\n",
      "Epoch 15/20\n",
      "509050/509050 [==============================] - 1s 3us/step - loss: 22.1335 - custom_loss: 22.1335\n",
      "Epoch 16/20\n",
      "509050/509050 [==============================] - 1s 3us/step - loss: 22.1194 - custom_loss: 22.1194\n",
      "Epoch 17/20\n",
      "509050/509050 [==============================] - 1s 3us/step - loss: 22.1215 - custom_loss: 22.1215\n",
      "Epoch 18/20\n",
      "509050/509050 [==============================] - 1s 3us/step - loss: 22.1056 - custom_loss: 22.1056\n",
      "Epoch 19/20\n",
      "509050/509050 [==============================] - 1s 3us/step - loss: 22.1066 - custom_loss: 22.1066\n",
      "Epoch 20/20\n",
      "509050/509050 [==============================] - 1s 3us/step - loss: 22.1042 - custom_loss: 22.1042\n",
      "127263/127263 [==============================] - 3s 21us/step\n",
      "509050/509050 [==============================] - 1s 1us/step\n",
      "Epoch 1/20\n",
      "509051/509051 [==============================] - 8s 16us/step - loss: 32.9714 - custom_loss: 32.9714\n",
      "Epoch 2/20\n",
      "509051/509051 [==============================] - 1s 3us/step - loss: 23.6863 - custom_loss: 23.6863\n",
      "Epoch 3/20\n",
      "509051/509051 [==============================] - 1s 3us/step - loss: 22.7715 - custom_loss: 22.7715\n",
      "Epoch 4/20\n",
      "509051/509051 [==============================] - 1s 3us/step - loss: 22.4350 - custom_loss: 22.4350\n",
      "Epoch 5/20\n",
      "509051/509051 [==============================] - 1s 3us/step - loss: 22.2740 - custom_loss: 22.2740\n",
      "Epoch 6/20\n",
      "509051/509051 [==============================] - 1s 3us/step - loss: 22.2005 - custom_loss: 22.2005\n",
      "Epoch 7/20\n",
      "509051/509051 [==============================] - 1s 3us/step - loss: 22.1430 - custom_loss: 22.1430\n",
      "Epoch 8/20\n",
      "509051/509051 [==============================] - 1s 3us/step - loss: 22.0985 - custom_loss: 22.0985\n",
      "Epoch 9/20\n",
      "509051/509051 [==============================] - 1s 3us/step - loss: 22.0629 - custom_loss: 22.0629\n",
      "Epoch 10/20\n",
      "509051/509051 [==============================] - 1s 3us/step - loss: 22.0419 - custom_loss: 22.0419\n",
      "Epoch 11/20\n",
      "509051/509051 [==============================] - 1s 3us/step - loss: 22.0141 - custom_loss: 22.0141\n",
      "Epoch 12/20\n",
      "509051/509051 [==============================] - 1s 3us/step - loss: 21.9919 - custom_loss: 21.9919\n",
      "Epoch 13/20\n",
      "509051/509051 [==============================] - 1s 3us/step - loss: 21.9640 - custom_loss: 21.9640\n",
      "Epoch 14/20\n",
      "509051/509051 [==============================] - 1s 3us/step - loss: 21.9600 - custom_loss: 21.9600\n",
      "Epoch 15/20\n",
      "509051/509051 [==============================] - 1s 3us/step - loss: 21.9353 - custom_loss: 21.9353\n",
      "Epoch 16/20\n",
      "509051/509051 [==============================] - 1s 3us/step - loss: 21.9250 - custom_loss: 21.9250\n",
      "Epoch 17/20\n",
      "509051/509051 [==============================] - 1s 3us/step - loss: 21.9129 - custom_loss: 21.9129\n",
      "Epoch 18/20\n",
      "509051/509051 [==============================] - 1s 3us/step - loss: 21.8993 - custom_loss: 21.8993\n",
      "Epoch 19/20\n",
      "509051/509051 [==============================] - 1s 3us/step - loss: 21.8899 - custom_loss: 21.8899\n",
      "Epoch 20/20\n",
      "509051/509051 [==============================] - 1s 3us/step - loss: 21.8730 - custom_loss: 21.8730\n",
      "127262/127262 [==============================] - 3s 21us/step\n"
     ]
    },
    {
     "name": "stdout",
     "output_type": "stream",
     "text": [
      "509051/509051 [==============================] - 1s 1us/step\n",
      "Epoch 1/20\n",
      "509051/509051 [==============================] - 8s 15us/step - loss: 31.7154 - custom_loss: 31.7154\n",
      "Epoch 2/20\n",
      "509051/509051 [==============================] - 1s 3us/step - loss: 22.7273 - custom_loss: 22.7273\n",
      "Epoch 3/20\n",
      "509051/509051 [==============================] - 1s 3us/step - loss: 22.3408 - custom_loss: 22.3408\n",
      "Epoch 4/20\n",
      "509051/509051 [==============================] - 1s 3us/step - loss: 22.1946 - custom_loss: 22.1946\n",
      "Epoch 5/20\n",
      "509051/509051 [==============================] - 1s 3us/step - loss: 22.1122 - custom_loss: 22.1122\n",
      "Epoch 6/20\n",
      "509051/509051 [==============================] - 1s 3us/step - loss: 22.0718 - custom_loss: 22.0718\n",
      "Epoch 7/20\n",
      "509051/509051 [==============================] - 1s 3us/step - loss: 22.0313 - custom_loss: 22.0313\n",
      "Epoch 8/20\n",
      "509051/509051 [==============================] - 1s 3us/step - loss: 21.9898 - custom_loss: 21.9898\n",
      "Epoch 9/20\n",
      "509051/509051 [==============================] - 1s 3us/step - loss: 21.9568 - custom_loss: 21.9568\n",
      "Epoch 10/20\n",
      "509051/509051 [==============================] - 1s 3us/step - loss: 21.9452 - custom_loss: 21.9452A: 1s - loss: 21.8830 - c\n",
      "Epoch 11/20\n",
      "509051/509051 [==============================] - 1s 3us/step - loss: 21.9262 - custom_loss: 21.9262\n",
      "Epoch 12/20\n",
      "509051/509051 [==============================] - 1s 3us/step - loss: 21.9102 - custom_loss: 21.9102\n",
      "Epoch 13/20\n",
      "509051/509051 [==============================] - 1s 3us/step - loss: 21.8798 - custom_loss: 21.8798\n",
      "Epoch 14/20\n",
      "509051/509051 [==============================] - 1s 3us/step - loss: 21.8734 - custom_loss: 21.8734\n",
      "Epoch 15/20\n",
      "509051/509051 [==============================] - 1s 3us/step - loss: 21.8675 - custom_loss: 21.8675\n",
      "Epoch 16/20\n",
      "509051/509051 [==============================] - 1s 3us/step - loss: 21.8559 - custom_loss: 21.8559\n",
      "Epoch 17/20\n",
      "509051/509051 [==============================] - 1s 3us/step - loss: 21.8427 - custom_loss: 21.8427\n",
      "Epoch 18/20\n",
      "509051/509051 [==============================] - 1s 3us/step - loss: 21.8339 - custom_loss: 21.8339\n",
      "Epoch 19/20\n",
      "509051/509051 [==============================] - 1s 3us/step - loss: 21.8228 - custom_loss: 21.8228\n",
      "Epoch 20/20\n",
      "509051/509051 [==============================] - 1s 3us/step - loss: 21.8144 - custom_loss: 21.8144\n",
      "127262/127262 [==============================] - 3s 22us/step\n",
      "509051/509051 [==============================] - 1s 1us/step\n",
      "Epoch 1/20\n",
      "636313/636313 [==============================] - 8s 13us/step - loss: 26.0556 - custom_loss: 26.0556\n",
      "Epoch 2/20\n",
      "636313/636313 [==============================] - 2s 3us/step - loss: 22.4022 - custom_loss: 22.4022\n",
      "Epoch 3/20\n",
      "636313/636313 [==============================] - 2s 3us/step - loss: 22.1841 - custom_loss: 22.1841\n",
      "Epoch 4/20\n",
      "636313/636313 [==============================] - 2s 3us/step - loss: 22.0183 - custom_loss: 22.0183\n",
      "Epoch 5/20\n",
      "636313/636313 [==============================] - 2s 3us/step - loss: 21.9193 - custom_loss: 21.9193\n",
      "Epoch 6/20\n",
      "636313/636313 [==============================] - 2s 3us/step - loss: 21.8688 - custom_loss: 21.8688\n",
      "Epoch 7/20\n",
      "636313/636313 [==============================] - 2s 3us/step - loss: 21.8318 - custom_loss: 21.8318\n",
      "Epoch 8/20\n",
      "636313/636313 [==============================] - 2s 3us/step - loss: 21.7829 - custom_loss: 21.7829\n",
      "Epoch 9/20\n",
      "636313/636313 [==============================] - 2s 3us/step - loss: 21.7556 - custom_loss: 21.7556\n",
      "Epoch 10/20\n",
      "636313/636313 [==============================] - 2s 3us/step - loss: 21.7231 - custom_loss: 21.7231\n",
      "Epoch 11/20\n",
      "636313/636313 [==============================] - 2s 3us/step - loss: 21.6901 - custom_loss: 21.6901\n",
      "Epoch 12/20\n",
      "636313/636313 [==============================] - 2s 3us/step - loss: 21.6819 - custom_loss: 21.6819\n",
      "Epoch 13/20\n",
      "636313/636313 [==============================] - 2s 3us/step - loss: 21.6554 - custom_loss: 21.6554\n",
      "Epoch 14/20\n",
      "636313/636313 [==============================] - 2s 3us/step - loss: 21.6353 - custom_loss: 21.6353\n",
      "Epoch 15/20\n",
      "636313/636313 [==============================] - 2s 3us/step - loss: 21.6412 - custom_loss: 21.6412\n",
      "Epoch 16/20\n",
      "636313/636313 [==============================] - 2s 3us/step - loss: 21.5911 - custom_loss: 21.5911\n",
      "Epoch 17/20\n",
      "636313/636313 [==============================] - 2s 3us/step - loss: 21.5731 - custom_loss: 21.5731\n",
      "Epoch 18/20\n",
      "636313/636313 [==============================] - 2s 3us/step - loss: 21.5675 - custom_loss: 21.5675\n",
      "Epoch 19/20\n",
      "636313/636313 [==============================] - 2s 3us/step - loss: 21.5789 - custom_loss: 21.5789\n",
      "Epoch 20/20\n",
      "636313/636313 [==============================] - 2s 3us/step - loss: 21.5360 - custom_loss: 21.5360\n",
      "Best: -22.081668 using {'l1': 50, 'l2': 20, 'l3': 10}\n",
      "-22.081668 (0.236841) with: {'l1': 50, 'l2': 20, 'l3': 10}\n",
      "-37.727161 (31.137788) with: {'l1': 50, 'l2': 20, 'l3': 5}\n",
      "-37.779441 (31.111953) with: {'l1': 50, 'l2': 20, 'l3': 3}\n",
      "-22.122063 (0.333027) with: {'l1': 50, 'l2': 10, 'l3': 10}\n",
      "-37.684923 (31.158712) with: {'l1': 50, 'l2': 10, 'l3': 5}\n",
      "-37.762502 (31.119944) with: {'l1': 50, 'l2': 10, 'l3': 3}\n",
      "-22.118719 (0.339730) with: {'l1': 50, 'l2': 5, 'l3': 10}\n",
      "-37.725606 (31.138955) with: {'l1': 50, 'l2': 5, 'l3': 5}\n",
      "-37.768985 (31.118255) with: {'l1': 50, 'l2': 5, 'l3': 3}\n",
      "-22.159531 (0.345011) with: {'l1': 30, 'l2': 20, 'l3': 10}\n",
      "-22.187163 (0.257079) with: {'l1': 30, 'l2': 20, 'l3': 5}\n",
      "-37.719743 (31.141275) with: {'l1': 30, 'l2': 20, 'l3': 3}\n",
      "-22.125284 (0.254938) with: {'l1': 30, 'l2': 10, 'l3': 10}\n",
      "-37.729186 (31.136404) with: {'l1': 30, 'l2': 10, 'l3': 5}\n",
      "-37.611305 (31.194723) with: {'l1': 30, 'l2': 10, 'l3': 3}\n",
      "-22.195330 (0.372223) with: {'l1': 30, 'l2': 5, 'l3': 10}\n",
      "-37.727207 (31.137433) with: {'l1': 30, 'l2': 5, 'l3': 5}\n",
      "-37.826768 (31.087436) with: {'l1': 30, 'l2': 5, 'l3': 3}\n",
      "-22.125496 (0.334248) with: {'l1': 20, 'l2': 20, 'l3': 10}\n",
      "-22.126143 (0.349526) with: {'l1': 20, 'l2': 20, 'l3': 5}\n",
      "-22.254059 (0.276689) with: {'l1': 20, 'l2': 20, 'l3': 3}\n",
      "-22.144127 (0.297801) with: {'l1': 20, 'l2': 10, 'l3': 10}\n",
      "-22.151029 (0.249685) with: {'l1': 20, 'l2': 10, 'l3': 5}\n",
      "-22.167455 (0.289598) with: {'l1': 20, 'l2': 10, 'l3': 3}\n",
      "-22.213594 (0.274298) with: {'l1': 20, 'l2': 5, 'l3': 10}\n",
      "-22.336937 (0.395377) with: {'l1': 20, 'l2': 5, 'l3': 5}\n",
      "-22.180431 (0.267810) with: {'l1': 20, 'l2': 5, 'l3': 3}\n"
     ]
    }
   ],
   "source": [
    "estimator = KerasRegressor(build_fn=baseline_model, epochs=20, batch_size=5000,verbose=True)\n",
    "l1 =[50,30,20]\n",
    "l2 = [20,10,5]\n",
    "l3 = [10,5,3]\n",
    "\n",
    "#l1= [30]\n",
    "#l2=[10]\n",
    "#param_grid = dict(l1=l1,l2=l2,l3=l3)\n",
    "param_grid = dict(l1=l1,l2=l2,l3=l3)\n",
    "grid = GridSearchCV(estimator=estimator, param_grid=param_grid,scoring=mape, n_jobs = 1, cv =5,return_train_score=True)\n",
    "grid_result = grid.fit(train_features_norm[regression_cols], train_features_norm['TARGET'])\n",
    "\n",
    "print(\"Best: %f using %s\" % (grid_result.best_score_, grid_result.best_params_))\n",
    "means = grid_result.cv_results_['mean_test_score']\n",
    "stds = grid_result.cv_results_['std_test_score']\n",
    "params = grid_result.cv_results_['params']\n",
    "for mean, stdev, param in zip(means, stds, params):\n",
    "    print(\"%f (%f) with: %r\" % (mean, stdev, param))\n"
   ]
  },
  {
   "cell_type": "code",
   "execution_count": 81,
   "metadata": {},
   "outputs": [
    {
     "data": {
      "text/plain": [
       "{'mean_fit_time': array([ 57.17476821,  57.05585666,  58.27921033,  58.96767173,\n",
       "         60.180862  ,  61.47483582,  62.25824957,  63.98778634,\n",
       "         64.25101714,  65.13248897,  66.02653899,  66.92276254,\n",
       "         69.73062449,  73.65456781,  71.84211626,  73.23666511,\n",
       "         75.50566111,  76.16304107,  77.29354024,  78.73665586,\n",
       "         80.03425112,  80.17195835,  83.93617787,  87.63533683,\n",
       "         93.07218661, 102.65653987,  95.16607018]),\n",
       " 'std_fit_time': array([0.78406912, 0.78343091, 0.63918732, 0.58844964, 0.48988725,\n",
       "        0.53436704, 0.54480146, 1.27612233, 0.3521787 , 0.62756889,\n",
       "        0.30519971, 0.50232369, 1.28613341, 3.44054004, 0.5706255 ,\n",
       "        0.96602286, 0.86130703, 0.69689873, 1.0069379 , 1.62779163,\n",
       "        1.01431103, 0.34247073, 2.47855289, 1.83444802, 1.47468332,\n",
       "        3.21650189, 3.25640273]),\n",
       " 'mean_score_time': array([ 5.69631777,  5.75827622,  5.98729873,  6.26571245,  6.39772458,\n",
       "         6.48857126,  6.90152683,  6.85735435,  7.03444414,  7.25970445,\n",
       "         7.45818348,  7.81736097,  7.93808532,  8.3411665 ,  8.28546963,\n",
       "         8.57409091,  8.77376738,  8.88170047,  9.1645257 ,  9.37419529,\n",
       "         9.61164889,  9.98821545, 10.24146953, 10.57265439, 11.39574876,\n",
       "        12.54506168, 11.55645471]),\n",
       " 'std_score_time': array([0.10034603, 0.06960217, 0.07863603, 0.08652515, 0.10210609,\n",
       "        0.057541  , 0.22017931, 0.1308547 , 0.13257271, 0.054301  ,\n",
       "        0.17003861, 0.19434065, 0.09773227, 0.34122608, 0.07834656,\n",
       "        0.18249919, 0.11989659, 0.05239486, 0.20293745, 0.24994344,\n",
       "        0.17536827, 0.20165318, 0.31132845, 0.16036333, 0.21594787,\n",
       "        0.46797628, 0.31275006]),\n",
       " 'param_l1': masked_array(data=[50, 50, 50, 50, 50, 50, 50, 50, 50, 30, 30, 30, 30, 30,\n",
       "                    30, 30, 30, 30, 20, 20, 20, 20, 20, 20, 20, 20, 20],\n",
       "              mask=[False, False, False, False, False, False, False, False,\n",
       "                    False, False, False, False, False, False, False, False,\n",
       "                    False, False, False, False, False, False, False, False,\n",
       "                    False, False, False],\n",
       "        fill_value='?',\n",
       "             dtype=object),\n",
       " 'param_l2': masked_array(data=[20, 20, 20, 10, 10, 10, 5, 5, 5, 20, 20, 20, 10, 10,\n",
       "                    10, 5, 5, 5, 20, 20, 20, 10, 10, 10, 5, 5, 5],\n",
       "              mask=[False, False, False, False, False, False, False, False,\n",
       "                    False, False, False, False, False, False, False, False,\n",
       "                    False, False, False, False, False, False, False, False,\n",
       "                    False, False, False],\n",
       "        fill_value='?',\n",
       "             dtype=object),\n",
       " 'param_l3': masked_array(data=[10, 5, 3, 10, 5, 3, 10, 5, 3, 10, 5, 3, 10, 5, 3, 10,\n",
       "                    5, 3, 10, 5, 3, 10, 5, 3, 10, 5, 3],\n",
       "              mask=[False, False, False, False, False, False, False, False,\n",
       "                    False, False, False, False, False, False, False, False,\n",
       "                    False, False, False, False, False, False, False, False,\n",
       "                    False, False, False],\n",
       "        fill_value='?',\n",
       "             dtype=object),\n",
       " 'params': [{'l1': 50, 'l2': 20, 'l3': 10},\n",
       "  {'l1': 50, 'l2': 20, 'l3': 5},\n",
       "  {'l1': 50, 'l2': 20, 'l3': 3},\n",
       "  {'l1': 50, 'l2': 10, 'l3': 10},\n",
       "  {'l1': 50, 'l2': 10, 'l3': 5},\n",
       "  {'l1': 50, 'l2': 10, 'l3': 3},\n",
       "  {'l1': 50, 'l2': 5, 'l3': 10},\n",
       "  {'l1': 50, 'l2': 5, 'l3': 5},\n",
       "  {'l1': 50, 'l2': 5, 'l3': 3},\n",
       "  {'l1': 30, 'l2': 20, 'l3': 10},\n",
       "  {'l1': 30, 'l2': 20, 'l3': 5},\n",
       "  {'l1': 30, 'l2': 20, 'l3': 3},\n",
       "  {'l1': 30, 'l2': 10, 'l3': 10},\n",
       "  {'l1': 30, 'l2': 10, 'l3': 5},\n",
       "  {'l1': 30, 'l2': 10, 'l3': 3},\n",
       "  {'l1': 30, 'l2': 5, 'l3': 10},\n",
       "  {'l1': 30, 'l2': 5, 'l3': 5},\n",
       "  {'l1': 30, 'l2': 5, 'l3': 3},\n",
       "  {'l1': 20, 'l2': 20, 'l3': 10},\n",
       "  {'l1': 20, 'l2': 20, 'l3': 5},\n",
       "  {'l1': 20, 'l2': 20, 'l3': 3},\n",
       "  {'l1': 20, 'l2': 10, 'l3': 10},\n",
       "  {'l1': 20, 'l2': 10, 'l3': 5},\n",
       "  {'l1': 20, 'l2': 10, 'l3': 3},\n",
       "  {'l1': 20, 'l2': 5, 'l3': 10},\n",
       "  {'l1': 20, 'l2': 5, 'l3': 5},\n",
       "  {'l1': 20, 'l2': 5, 'l3': 3}],\n",
       " 'split0_test_score': array([ -22.7253432 ,  -22.67268645,  -22.73492897,  -22.8031973 ,\n",
       "         -22.82496473,  -22.82315487,  -22.89904217, -100.        ,\n",
       "         -22.73187798,  -22.83491823,  -22.6872725 ,  -22.64884435,\n",
       "         -22.5791575 ,  -22.64848123,  -23.00326926,  -22.91246219,\n",
       "         -22.96264602,  -22.74992179,  -22.69362832,  -22.67836543,\n",
       "         -22.72130579,  -22.58489647,  -22.75693294, -100.        ,\n",
       "         -22.78676682, -100.        ,  -22.87489235]),\n",
       " 'split1_test_score': array([ -22.30258673,  -22.05401075,  -22.14083464,  -22.04900684,\n",
       "        -100.        ,  -22.11171179,  -22.08590303,  -22.01747979,\n",
       "        -100.        ,  -22.16826825,  -22.1184327 , -100.        ,\n",
       "         -21.95319306,  -21.95966096, -100.        ,  -21.90494812,\n",
       "         -21.98545888, -100.        ,  -21.87236275,  -21.96670943,\n",
       "         -22.08624076,  -21.9041971 ,  -21.96579634, -100.        ,\n",
       "         -21.93928038,  -22.06194127,  -22.05731872]),\n",
       " 'split2_test_score': array([ -21.8130287 ,  -21.88367623,  -21.96316472,  -21.84032186,\n",
       "         -21.82197325, -100.        ,  -21.90859215,  -21.84340502,\n",
       "         -22.02716246,  -21.85383475,  -21.97263006,  -21.82464377,\n",
       "         -21.83880257,  -21.78562282,  -21.8133778 ,  -21.83707804,\n",
       "         -21.90366275,  -21.78665791,  -21.75608521,  -21.87135038,\n",
       "         -21.74175811,  -21.74280804,  -21.96469771,  -21.92272746,\n",
       "         -21.72417479,  -21.87192503,  -21.72696035]),\n",
       " 'split3_test_score': array([-22.19382448, -22.14865929, -22.15531479, -22.03059017,\n",
       "        -22.01617037, -22.20377933, -22.10615245, -22.1340564 ,\n",
       "        -22.09470993, -22.150451  , -22.15574442, -22.07204886,\n",
       "        -22.04517152, -21.9379735 , -22.10273426, -22.04395038,\n",
       "        -21.97805068, -22.03336172, -21.97548825, -22.33909882,\n",
       "        -22.07071612, -22.14091619, -22.07578901, -22.02087527,\n",
       "        -21.98865697, -22.08092457, -22.06487255]),\n",
       " 'split4_test_score': array([-22.21894135, -22.17748718, -22.17635014, -22.14258715,\n",
       "        -22.16921684, -22.30618906, -22.1579804 , -22.2164154 ,\n",
       "        -22.19078124, -22.26076162, -22.17754985, -22.33900865,\n",
       "        -22.18091826, -22.12164718, -22.20181817, -22.17907086,\n",
       "        -22.17036647, -22.19205822, -22.14053319, -22.23303964,\n",
       "        -22.13139091, -22.2059385 , -22.31344098, -22.17850479,\n",
       "        -22.22935357, -22.25383213, -22.23820679]),\n",
       " 'mean_test_score': array([-22.25074503, -22.18730405, -22.23411887, -22.17314094,\n",
       "        -37.7665143 , -37.88901615, -22.23153435, -37.64231994,\n",
       "        -37.80895556, -22.25364692, -22.22232608, -37.77695807,\n",
       "        -22.1194486 , -22.09067733, -37.82428916, -22.17550212,\n",
       "        -22.20003735, -37.75244908, -22.08761964, -22.21771253,\n",
       "        -22.15028249, -22.11575108, -22.21533146, -53.22451933,\n",
       "        -22.13364658, -37.65377328, -22.19245028]),\n",
       " 'std_test_score': array([ 0.29112859,  0.26349342,  0.26171632,  0.3299711 , 31.11862919,\n",
       "        31.05653005,  0.34415094, 31.17915294, 31.09657697,  0.32115952,\n",
       "         0.2432102 , 31.11279145,  0.25574672,  0.29854565, 31.09042023,\n",
       "         0.38682329,  0.39130915, 31.12544541,  0.32829011,  0.28640569,\n",
       "         0.31741152,  0.28730029,  0.29917084, 38.19220726,  0.36392171,\n",
       "        31.17340935,  0.37922037]),\n",
       " 'rank_test_score': array([17,  9, 16,  7, 22, 26, 15, 19, 24, 18, 14, 23,  4,  2, 25,  8, 11,\n",
       "        21,  1, 13,  6,  3, 12, 27,  5, 20, 10]),\n",
       " 'split0_train_score': array([ -21.1070859 ,  -21.13275291,  -21.2922459 ,  -21.18734542,\n",
       "         -21.24668314,  -21.3441758 ,  -21.41315799, -100.        ,\n",
       "         -21.292458  ,  -21.24829636,  -21.40309302,  -21.40841933,\n",
       "         -21.35765837,  -21.36694358,  -21.53575316,  -21.46704079,\n",
       "         -21.73043313,  -21.4862253 ,  -21.32903755,  -21.40805584,\n",
       "         -21.51468899,  -21.45631898,  -21.53398379, -100.        ,\n",
       "         -21.56817409, -100.        ,  -21.70417798]),\n",
       " 'split1_train_score': array([ -21.28383193,  -21.24169053,  -21.35949993,  -21.32875433,\n",
       "        -100.        ,  -21.45868829,  -21.37423563,  -21.47448616,\n",
       "        -100.        ,  -21.49709192,  -21.55276435, -100.        ,\n",
       "         -21.54713365,  -21.49746848, -100.        ,  -21.64096403,\n",
       "         -21.71067963, -100.        ,  -21.44528218,  -21.53549961,\n",
       "         -21.53621496,  -21.61381818,  -21.67700912, -100.        ,\n",
       "         -21.66610004,  -21.78293505,  -21.89906548]),\n",
       " 'split2_train_score': array([ -21.1740379 ,  -21.28462524,  -21.38722543,  -21.42514598,\n",
       "         -21.3302712 , -100.        ,  -21.40963599,  -21.52449211,\n",
       "         -21.44878797,  -21.49809908,  -21.4380344 ,  -21.46453401,\n",
       "         -21.58151085,  -21.51112463,  -21.57185499,  -21.60970016,\n",
       "         -21.61701387,  -21.61732931,  -21.54337867,  -21.65244507,\n",
       "         -21.65973615,  -21.61276503,  -21.69219868,  -21.64525802,\n",
       "         -21.65442589,  -21.77848713,  -21.79077099]),\n",
       " 'split3_train_score': array([-21.23791501, -21.13676889, -21.24920807, -21.29265356,\n",
       "        -21.40275562, -21.37697644, -21.31349782, -21.32663115,\n",
       "        -21.50625625, -21.64694968, -21.41490845, -21.47845496,\n",
       "        -21.44027544, -21.57887702, -21.46662726, -21.56348392,\n",
       "        -21.5506635 , -21.57926376, -21.43243112, -21.65771714,\n",
       "        -21.55871059, -21.56550938, -21.56832534, -21.75147557,\n",
       "        -21.5719578 , -21.8428702 , -21.83298848]),\n",
       " 'split4_train_score': array([-21.62753127, -21.31576152, -21.25199339, -21.31201334,\n",
       "        -21.29878141, -21.64384275, -21.43826151, -21.58670589,\n",
       "        -21.38457088, -21.42878348, -21.45630356, -21.42801009,\n",
       "        -21.4767625 , -21.4185538 , -21.47577476, -21.56863489,\n",
       "        -21.50498161, -21.57679941, -21.51510694, -21.62618058,\n",
       "        -21.63174684, -21.4871953 , -21.66092704, -21.61915299,\n",
       "        -21.58476163, -21.64564453, -21.67042082]),\n",
       " 'mean_train_score': array([-21.2860804 , -21.22231982, -21.30803454, -21.30918252,\n",
       "        -37.05569828, -37.16473665, -21.38975779, -37.18246306,\n",
       "        -37.12641462, -21.4638441 , -21.45302076, -37.15588368,\n",
       "        -21.48066816, -21.4745935 , -37.21000203, -21.56996476,\n",
       "        -21.62275435, -37.25192356, -21.45304729, -21.57597965,\n",
       "        -21.58021951, -21.54712138, -21.62648879, -53.00317732,\n",
       "        -21.60908389, -37.40998738, -21.77948475]),\n",
       " 'std_train_score': array([ 0.18083485,  0.07527249,  0.05616107,  0.07610004, 31.47219147,\n",
       "        31.41780368,  0.04324776, 31.40888596, 31.4368729 ,  0.12922581,\n",
       "         0.05315916, 31.42206811,  0.07920246,  0.07411045, 31.39502293,\n",
       "         0.05874847,  0.08766531, 31.37406782,  0.07466579,  0.09474719,\n",
       "         0.05598436,  0.06470221,  0.06323962, 38.37277064,  0.04230903,\n",
       "        31.29507274,  0.08349327])}"
      ]
     },
     "execution_count": 81,
     "metadata": {},
     "output_type": "execute_result"
    }
   ],
   "source": [
    "grid_result.cv_results_"
   ]
  },
  {
   "cell_type": "code",
   "execution_count": 45,
   "metadata": {},
   "outputs": [],
   "source": [
    " test_est = KerasRegressor(build_fn=baseline_model(10,10), epochs=20, batch_size=5000,verbose=True)"
   ]
  },
  {
   "cell_type": "code",
   "execution_count": 165,
   "metadata": {},
   "outputs": [
    {
     "name": "stdout",
     "output_type": "stream",
     "text": [
      "636313/636313 [==============================] - 3s 5us/step\n",
      "score train:  21.553946903960014\n",
      "635397/635397 [==============================] - 1s 1us/step\n"
     ]
    }
   ],
   "source": [
    "nn_train_prediction =np.maximum(grid_result.best_estimator_.predict(train_features_norm[regression_cols]),0.0)\n",
    "print('score train: ', score_function(train_features_norm['TARGET'], nn_train_prediction))\n",
    "\n",
    "nn_test_prediction=np.maximum(grid_result.best_estimator_.predict(test_features_norm[regression_cols]),0.0)"
   ]
  },
  {
   "cell_type": "code",
   "execution_count": 70,
   "metadata": {},
   "outputs": [
    {
     "name": "stdout",
     "output_type": "stream",
     "text": [
      "Epoch 1/20\n",
      "636313/636313 [==============================] - 11s 18us/step - loss: 41.1492 - custom_loss: 41.1280\n",
      "Epoch 2/20\n",
      "636313/636313 [==============================] - 2s 4us/step - loss: 23.0060 - custom_loss: 22.9827\n",
      "Epoch 3/20\n",
      "636313/636313 [==============================] - 2s 4us/step - loss: 22.3660 - custom_loss: 22.3428\n",
      "Epoch 4/20\n",
      "636313/636313 [==============================] - 2s 4us/step - loss: 22.2020 - custom_loss: 22.1786\n",
      "Epoch 5/20\n",
      "636313/636313 [==============================] - 2s 4us/step - loss: 22.1397 - custom_loss: 22.1162\n",
      "Epoch 6/20\n",
      "636313/636313 [==============================] - 2s 4us/step - loss: 22.1042 - custom_loss: 22.0806\n",
      "Epoch 7/20\n",
      "636313/636313 [==============================] - 2s 4us/step - loss: 22.0567 - custom_loss: 22.0329\n",
      "Epoch 8/20\n",
      "636313/636313 [==============================] - 2s 4us/step - loss: 22.0476 - custom_loss: 22.0235\n",
      "Epoch 9/20\n",
      "636313/636313 [==============================] - 2s 4us/step - loss: 21.9938 - custom_loss: 21.9694\n",
      "Epoch 10/20\n",
      "636313/636313 [==============================] - 2s 4us/step - loss: 21.9709 - custom_loss: 21.9461\n",
      "Epoch 11/20\n",
      "636313/636313 [==============================] - 2s 4us/step - loss: 21.9730 - custom_loss: 21.9480\n",
      "Epoch 12/20\n",
      "636313/636313 [==============================] - 2s 4us/step - loss: 21.9330 - custom_loss: 21.9077\n",
      "Epoch 13/20\n",
      "636313/636313 [==============================] - 2s 4us/step - loss: 21.9109 - custom_loss: 21.8852\n",
      "Epoch 14/20\n",
      "636313/636313 [==============================] - 2s 4us/step - loss: 21.8939 - custom_loss: 21.8676\n",
      "Epoch 15/20\n",
      "636313/636313 [==============================] - 2s 4us/step - loss: 21.8285 - custom_loss: 21.8017\n",
      "Epoch 16/20\n",
      "636313/636313 [==============================] - 2s 4us/step - loss: 21.8324 - custom_loss: 21.8050\n",
      "Epoch 17/20\n",
      "636313/636313 [==============================] - 2s 4us/step - loss: 21.7935 - custom_loss: 21.7653\n",
      "Epoch 18/20\n",
      "636313/636313 [==============================] - 2s 4us/step - loss: 21.7562 - custom_loss: 21.7275\n",
      "Epoch 19/20\n",
      "636313/636313 [==============================] - 2s 4us/step - loss: 21.7935 - custom_loss: 21.7643\n",
      "Epoch 20/20\n",
      "636313/636313 [==============================] - 2s 4us/step - loss: 21.7280 - custom_loss: 21.6977\n"
     ]
    },
    {
     "data": {
      "text/plain": [
       "<keras.callbacks.History at 0x1be8c5dc400>"
      ]
     },
     "execution_count": 70,
     "metadata": {},
     "output_type": "execute_result"
    }
   ],
   "source": [
    "test_est = KerasRegressor(build_fn=baseline_model, epochs=20, batch_size=5000,verbose=True, l1=10, l2=10)\n",
    "test_est.fit(train_features_norm[regression_cols], train_features_norm['TARGET'])\n",
    "    "
   ]
  },
  {
   "cell_type": "code",
   "execution_count": 71,
   "metadata": {},
   "outputs": [
    {
     "name": "stdout",
     "output_type": "stream",
     "text": [
      "636313/636313 [==============================] - 5s 8us/step\n",
      "score train:  21.676958966546696\n",
      "635397/635397 [==============================] - 5s 8us/step\n"
     ]
    }
   ],
   "source": [
    "nn_train_prediction =test_est.predict(train_features_norm[regression_cols])\n",
    "print('score train: ', score_function(train_features_norm['TARGET'], nn_train_prediction))\n",
    "\n",
    "nn_test_prediction=np.maximum(grid_result.best_estimator_.predict(test_features_norm[regression_cols]),0.0)"
   ]
  },
  {
   "cell_type": "code",
   "execution_count": 83,
   "metadata": {},
   "outputs": [
    {
     "name": "stdout",
     "output_type": "stream",
     "text": [
      "Train error neural netowork = 21.5357 %\n"
     ]
    }
   ],
   "source": [
    "print('Train error neural netowork =', round(MAPE(train_features_norm['TARGET'], nn_train_prediction), 4), '%')"
   ]
  },
  {
   "cell_type": "code",
   "execution_count": 166,
   "metadata": {},
   "outputs": [],
   "source": [
    "nn_predictions = pd.DataFrame({'ID': test_features_norm['ID'],'TARGET': nn_test_prediction})\n",
    "nn_predictions.to_csv('results/neural_predictions_best.csv', sep=';', index=False)"
   ]
  },
  {
   "cell_type": "code",
   "execution_count": 35,
   "metadata": {},
   "outputs": [
    {
     "data": {
      "text/html": [
       "<div>\n",
       "<style scoped>\n",
       "    .dataframe tbody tr th:only-of-type {\n",
       "        vertical-align: middle;\n",
       "    }\n",
       "\n",
       "    .dataframe tbody tr th {\n",
       "        vertical-align: top;\n",
       "    }\n",
       "\n",
       "    .dataframe thead th {\n",
       "        text-align: right;\n",
       "    }\n",
       "</style>\n",
       "<table border=\"1\" class=\"dataframe\">\n",
       "  <thead>\n",
       "    <tr style=\"text-align: right;\">\n",
       "      <th></th>\n",
       "      <th>ID</th>\n",
       "      <th>date</th>\n",
       "      <th>product_id</th>\n",
       "      <th>volatility 09:30:00</th>\n",
       "      <th>volatility 09:35:00</th>\n",
       "      <th>volatility 09:40:00</th>\n",
       "      <th>volatility 09:45:00</th>\n",
       "      <th>volatility 09:50:00</th>\n",
       "      <th>volatility 09:55:00</th>\n",
       "      <th>volatility 10:00:00</th>\n",
       "      <th>...</th>\n",
       "      <th>volatility 13:10:00</th>\n",
       "      <th>volatility 13:15:00</th>\n",
       "      <th>volatility 13:20:00</th>\n",
       "      <th>volatility 13:25:00</th>\n",
       "      <th>volatility 13:30:00</th>\n",
       "      <th>volatility 13:35:00</th>\n",
       "      <th>volatility 13:40:00</th>\n",
       "      <th>volatility 13:45:00</th>\n",
       "      <th>volatility 13:50:00</th>\n",
       "      <th>volatility 13:55:00</th>\n",
       "    </tr>\n",
       "  </thead>\n",
       "  <tbody>\n",
       "    <tr>\n",
       "      <th>0</th>\n",
       "      <td>1</td>\n",
       "      <td>1</td>\n",
       "      <td>1</td>\n",
       "      <td>0.662737</td>\n",
       "      <td>0.716896</td>\n",
       "      <td>0.698601</td>\n",
       "      <td>0.480172</td>\n",
       "      <td>0.623665</td>\n",
       "      <td>0.201876</td>\n",
       "      <td>0.327206</td>\n",
       "      <td>...</td>\n",
       "      <td>0.115572</td>\n",
       "      <td>0.230885</td>\n",
       "      <td>0.062962</td>\n",
       "      <td>0.274345</td>\n",
       "      <td>0.393201</td>\n",
       "      <td>0.078658</td>\n",
       "      <td>0.041951</td>\n",
       "      <td>0.115287</td>\n",
       "      <td>0.136218</td>\n",
       "      <td>0.052386</td>\n",
       "    </tr>\n",
       "    <tr>\n",
       "      <th>1</th>\n",
       "      <td>2</td>\n",
       "      <td>1</td>\n",
       "      <td>2</td>\n",
       "      <td>0.285394</td>\n",
       "      <td>0.379560</td>\n",
       "      <td>0.094858</td>\n",
       "      <td>0.094794</td>\n",
       "      <td>0.055315</td>\n",
       "      <td>0.173994</td>\n",
       "      <td>0.102745</td>\n",
       "      <td>...</td>\n",
       "      <td>0.031630</td>\n",
       "      <td>0.079048</td>\n",
       "      <td>0.071119</td>\n",
       "      <td>0.078995</td>\n",
       "      <td>0.220849</td>\n",
       "      <td>0.142118</td>\n",
       "      <td>0.039484</td>\n",
       "      <td>0.055287</td>\n",
       "      <td>0.059276</td>\n",
       "      <td>0.071155</td>\n",
       "    </tr>\n",
       "    <tr>\n",
       "      <th>2</th>\n",
       "      <td>3</td>\n",
       "      <td>1</td>\n",
       "      <td>3</td>\n",
       "      <td>1.151646</td>\n",
       "      <td>1.093562</td>\n",
       "      <td>1.833443</td>\n",
       "      <td>0.595823</td>\n",
       "      <td>0.310177</td>\n",
       "      <td>0.792310</td>\n",
       "      <td>0.401979</td>\n",
       "      <td>...</td>\n",
       "      <td>0.118179</td>\n",
       "      <td>0.275287</td>\n",
       "      <td>0.249349</td>\n",
       "      <td>0.262916</td>\n",
       "      <td>0.341119</td>\n",
       "      <td>0.170464</td>\n",
       "      <td>0.275906</td>\n",
       "      <td>0.196799</td>\n",
       "      <td>0.111488</td>\n",
       "      <td>0.117980</td>\n",
       "    </tr>\n",
       "    <tr>\n",
       "      <th>3</th>\n",
       "      <td>4</td>\n",
       "      <td>1</td>\n",
       "      <td>4</td>\n",
       "      <td>0.835260</td>\n",
       "      <td>0.329615</td>\n",
       "      <td>0.340366</td>\n",
       "      <td>0.216692</td>\n",
       "      <td>0.350371</td>\n",
       "      <td>0.247594</td>\n",
       "      <td>0.341194</td>\n",
       "      <td>...</td>\n",
       "      <td>0.041458</td>\n",
       "      <td>0.217509</td>\n",
       "      <td>0.103530</td>\n",
       "      <td>0.031052</td>\n",
       "      <td>0.217124</td>\n",
       "      <td>0.186312</td>\n",
       "      <td>0.051811</td>\n",
       "      <td>0.093239</td>\n",
       "      <td>0.082934</td>\n",
       "      <td>0.155294</td>\n",
       "    </tr>\n",
       "    <tr>\n",
       "      <th>4</th>\n",
       "      <td>5</td>\n",
       "      <td>1</td>\n",
       "      <td>5</td>\n",
       "      <td>0.274185</td>\n",
       "      <td>0.061076</td>\n",
       "      <td>0.010168</td>\n",
       "      <td>0.060890</td>\n",
       "      <td>0.000000</td>\n",
       "      <td>0.213162</td>\n",
       "      <td>0.162763</td>\n",
       "      <td>...</td>\n",
       "      <td>0.071567</td>\n",
       "      <td>0.275442</td>\n",
       "      <td>0.081595</td>\n",
       "      <td>0.020390</td>\n",
       "      <td>0.162940</td>\n",
       "      <td>0.040744</td>\n",
       "      <td>0.122338</td>\n",
       "      <td>0.050963</td>\n",
       "      <td>0.112193</td>\n",
       "      <td>0.000000</td>\n",
       "    </tr>\n",
       "    <tr>\n",
       "      <th>5</th>\n",
       "      <td>6</td>\n",
       "      <td>1</td>\n",
       "      <td>6</td>\n",
       "      <td>1.196894</td>\n",
       "      <td>0.447793</td>\n",
       "      <td>0.217333</td>\n",
       "      <td>0.460426</td>\n",
       "      <td>0.142273</td>\n",
       "      <td>0.332694</td>\n",
       "      <td>0.078081</td>\n",
       "      <td>...</td>\n",
       "      <td>0.135932</td>\n",
       "      <td>0.061196</td>\n",
       "      <td>0.142666</td>\n",
       "      <td>0.067907</td>\n",
       "      <td>0.305003</td>\n",
       "      <td>0.142438</td>\n",
       "      <td>0.095055</td>\n",
       "      <td>0.095083</td>\n",
       "      <td>0.081553</td>\n",
       "      <td>0.081571</td>\n",
       "    </tr>\n",
       "    <tr>\n",
       "      <th>6</th>\n",
       "      <td>7</td>\n",
       "      <td>1</td>\n",
       "      <td>7</td>\n",
       "      <td>0.404367</td>\n",
       "      <td>0.461279</td>\n",
       "      <td>0.230853</td>\n",
       "      <td>0.173033</td>\n",
       "      <td>0.216425</td>\n",
       "      <td>0.263001</td>\n",
       "      <td>0.449498</td>\n",
       "      <td>...</td>\n",
       "      <td>0.160295</td>\n",
       "      <td>0.145587</td>\n",
       "      <td>0.072771</td>\n",
       "      <td>0.131069</td>\n",
       "      <td>0.131069</td>\n",
       "      <td>0.204139</td>\n",
       "      <td>0.043758</td>\n",
       "      <td>0.058344</td>\n",
       "      <td>0.043758</td>\n",
       "      <td>0.072930</td>\n",
       "    </tr>\n",
       "    <tr>\n",
       "      <th>7</th>\n",
       "      <td>8</td>\n",
       "      <td>1</td>\n",
       "      <td>8</td>\n",
       "      <td>0.427583</td>\n",
       "      <td>0.332903</td>\n",
       "      <td>0.647757</td>\n",
       "      <td>0.142191</td>\n",
       "      <td>0.173788</td>\n",
       "      <td>0.110555</td>\n",
       "      <td>0.173730</td>\n",
       "      <td>...</td>\n",
       "      <td>0.079886</td>\n",
       "      <td>0.095863</td>\n",
       "      <td>0.047948</td>\n",
       "      <td>0.015983</td>\n",
       "      <td>0.143844</td>\n",
       "      <td>0.207988</td>\n",
       "      <td>0.192186</td>\n",
       "      <td>0.032031</td>\n",
       "      <td>0.256688</td>\n",
       "      <td>0.144437</td>\n",
       "    </tr>\n",
       "    <tr>\n",
       "      <th>8</th>\n",
       "      <td>9</td>\n",
       "      <td>1</td>\n",
       "      <td>9</td>\n",
       "      <td>0.261116</td>\n",
       "      <td>0.714536</td>\n",
       "      <td>0.196523</td>\n",
       "      <td>0.261591</td>\n",
       "      <td>0.143795</td>\n",
       "      <td>0.084946</td>\n",
       "      <td>0.143915</td>\n",
       "      <td>...</td>\n",
       "      <td>0.110990</td>\n",
       "      <td>0.039162</td>\n",
       "      <td>0.136990</td>\n",
       "      <td>0.163243</td>\n",
       "      <td>0.286747</td>\n",
       "      <td>0.097796</td>\n",
       "      <td>0.195892</td>\n",
       "      <td>0.058768</td>\n",
       "      <td>0.045702</td>\n",
       "      <td>0.045695</td>\n",
       "    </tr>\n",
       "    <tr>\n",
       "      <th>9</th>\n",
       "      <td>10</td>\n",
       "      <td>1</td>\n",
       "      <td>10</td>\n",
       "      <td>0.256359</td>\n",
       "      <td>0.359924</td>\n",
       "      <td>0.198624</td>\n",
       "      <td>0.340704</td>\n",
       "      <td>0.232150</td>\n",
       "      <td>0.436671</td>\n",
       "      <td>0.209140</td>\n",
       "      <td>...</td>\n",
       "      <td>0.181953</td>\n",
       "      <td>0.181842</td>\n",
       "      <td>0.066994</td>\n",
       "      <td>0.143706</td>\n",
       "      <td>0.458450</td>\n",
       "      <td>0.344613</td>\n",
       "      <td>0.230166</td>\n",
       "      <td>0.028753</td>\n",
       "      <td>0.114941</td>\n",
       "      <td>0.210295</td>\n",
       "    </tr>\n",
       "    <tr>\n",
       "      <th>10</th>\n",
       "      <td>11</td>\n",
       "      <td>1</td>\n",
       "      <td>11</td>\n",
       "      <td>0.578564</td>\n",
       "      <td>0.236604</td>\n",
       "      <td>0.219941</td>\n",
       "      <td>0.300876</td>\n",
       "      <td>0.178712</td>\n",
       "      <td>0.125999</td>\n",
       "      <td>0.122019</td>\n",
       "      <td>...</td>\n",
       "      <td>0.044717</td>\n",
       "      <td>0.052875</td>\n",
       "      <td>0.097564</td>\n",
       "      <td>0.081247</td>\n",
       "      <td>0.235330</td>\n",
       "      <td>0.170589</td>\n",
       "      <td>0.065020</td>\n",
       "      <td>0.170812</td>\n",
       "      <td>0.065094</td>\n",
       "      <td>0.052893</td>\n",
       "    </tr>\n",
       "    <tr>\n",
       "      <th>11</th>\n",
       "      <td>12</td>\n",
       "      <td>1</td>\n",
       "      <td>12</td>\n",
       "      <td>0.566552</td>\n",
       "      <td>0.188851</td>\n",
       "      <td>0.101594</td>\n",
       "      <td>0.304215</td>\n",
       "      <td>0.086865</td>\n",
       "      <td>0.188382</td>\n",
       "      <td>0.057982</td>\n",
       "      <td>...</td>\n",
       "      <td>0.087325</td>\n",
       "      <td>0.087270</td>\n",
       "      <td>0.217837</td>\n",
       "      <td>0.152273</td>\n",
       "      <td>0.282311</td>\n",
       "      <td>0.173945</td>\n",
       "      <td>0.203188</td>\n",
       "      <td>0.087081</td>\n",
       "      <td>0.094411</td>\n",
       "      <td>0.036312</td>\n",
       "    </tr>\n",
       "    <tr>\n",
       "      <th>12</th>\n",
       "      <td>13</td>\n",
       "      <td>1</td>\n",
       "      <td>13</td>\n",
       "      <td>0.980909</td>\n",
       "      <td>0.210090</td>\n",
       "      <td>0.210300</td>\n",
       "      <td>0.327789</td>\n",
       "      <td>0.117067</td>\n",
       "      <td>0.152226</td>\n",
       "      <td>0.517169</td>\n",
       "      <td>...</td>\n",
       "      <td>0.082944</td>\n",
       "      <td>0.153962</td>\n",
       "      <td>0.023686</td>\n",
       "      <td>0.177378</td>\n",
       "      <td>0.106427</td>\n",
       "      <td>0.474450</td>\n",
       "      <td>0.094866</td>\n",
       "      <td>0.118552</td>\n",
       "      <td>0.047445</td>\n",
       "      <td>0.177648</td>\n",
       "    </tr>\n",
       "    <tr>\n",
       "      <th>13</th>\n",
       "      <td>14</td>\n",
       "      <td>1</td>\n",
       "      <td>14</td>\n",
       "      <td>1.304351</td>\n",
       "      <td>0.854274</td>\n",
       "      <td>0.964494</td>\n",
       "      <td>0.304044</td>\n",
       "      <td>0.071499</td>\n",
       "      <td>0.347758</td>\n",
       "      <td>0.250102</td>\n",
       "      <td>...</td>\n",
       "      <td>0.244819</td>\n",
       "      <td>0.153936</td>\n",
       "      <td>0.099567</td>\n",
       "      <td>0.090498</td>\n",
       "      <td>0.361154</td>\n",
       "      <td>0.108325</td>\n",
       "      <td>0.108451</td>\n",
       "      <td>0.199135</td>\n",
       "      <td>0.272180</td>\n",
       "      <td>0.145022</td>\n",
       "    </tr>\n",
       "    <tr>\n",
       "      <th>14</th>\n",
       "      <td>15</td>\n",
       "      <td>1</td>\n",
       "      <td>15</td>\n",
       "      <td>0.257395</td>\n",
       "      <td>0.235594</td>\n",
       "      <td>0.331214</td>\n",
       "      <td>0.090848</td>\n",
       "      <td>0.133707</td>\n",
       "      <td>0.122940</td>\n",
       "      <td>0.181883</td>\n",
       "      <td>...</td>\n",
       "      <td>0.048512</td>\n",
       "      <td>0.037727</td>\n",
       "      <td>0.145402</td>\n",
       "      <td>0.053859</td>\n",
       "      <td>0.199025</td>\n",
       "      <td>0.069960</td>\n",
       "      <td>0.107730</td>\n",
       "      <td>0.075420</td>\n",
       "      <td>0.215808</td>\n",
       "      <td>0.048551</td>\n",
       "    </tr>\n",
       "    <tr>\n",
       "      <th>15</th>\n",
       "      <td>16</td>\n",
       "      <td>1</td>\n",
       "      <td>16</td>\n",
       "      <td>0.380117</td>\n",
       "      <td>0.370311</td>\n",
       "      <td>0.778537</td>\n",
       "      <td>0.612549</td>\n",
       "      <td>0.296182</td>\n",
       "      <td>0.126820</td>\n",
       "      <td>0.338570</td>\n",
       "      <td>...</td>\n",
       "      <td>0.129068</td>\n",
       "      <td>0.171972</td>\n",
       "      <td>0.096712</td>\n",
       "      <td>0.204404</td>\n",
       "      <td>0.343706</td>\n",
       "      <td>0.247323</td>\n",
       "      <td>0.366536</td>\n",
       "      <td>0.194183</td>\n",
       "      <td>0.259389</td>\n",
       "      <td>0.118777</td>\n",
       "    </tr>\n",
       "    <tr>\n",
       "      <th>16</th>\n",
       "      <td>17</td>\n",
       "      <td>1</td>\n",
       "      <td>17</td>\n",
       "      <td>0.230236</td>\n",
       "      <td>0.092094</td>\n",
       "      <td>0.509417</td>\n",
       "      <td>0.068806</td>\n",
       "      <td>0.165314</td>\n",
       "      <td>0.160564</td>\n",
       "      <td>0.225077</td>\n",
       "      <td>...</td>\n",
       "      <td>0.055596</td>\n",
       "      <td>0.060217</td>\n",
       "      <td>0.134225</td>\n",
       "      <td>0.092569</td>\n",
       "      <td>0.235747</td>\n",
       "      <td>0.078551</td>\n",
       "      <td>0.106349</td>\n",
       "      <td>0.097159</td>\n",
       "      <td>0.157445</td>\n",
       "      <td>0.046293</td>\n",
       "    </tr>\n",
       "    <tr>\n",
       "      <th>17</th>\n",
       "      <td>18</td>\n",
       "      <td>1</td>\n",
       "      <td>18</td>\n",
       "      <td>0.829830</td>\n",
       "      <td>0.207212</td>\n",
       "      <td>0.193170</td>\n",
       "      <td>0.089673</td>\n",
       "      <td>0.179531</td>\n",
       "      <td>0.276651</td>\n",
       "      <td>0.186989</td>\n",
       "      <td>...</td>\n",
       "      <td>0.173678</td>\n",
       "      <td>0.118013</td>\n",
       "      <td>0.097144</td>\n",
       "      <td>0.048550</td>\n",
       "      <td>0.173215</td>\n",
       "      <td>0.110907</td>\n",
       "      <td>0.138757</td>\n",
       "      <td>0.041621</td>\n",
       "      <td>0.159713</td>\n",
       "      <td>0.104176</td>\n",
       "    </tr>\n",
       "    <tr>\n",
       "      <th>18</th>\n",
       "      <td>19</td>\n",
       "      <td>1</td>\n",
       "      <td>19</td>\n",
       "      <td>0.388400</td>\n",
       "      <td>0.100232</td>\n",
       "      <td>0.249644</td>\n",
       "      <td>0.187133</td>\n",
       "      <td>0.199715</td>\n",
       "      <td>0.187133</td>\n",
       "      <td>0.200089</td>\n",
       "      <td>...</td>\n",
       "      <td>0.262617</td>\n",
       "      <td>0.224980</td>\n",
       "      <td>0.049995</td>\n",
       "      <td>0.112610</td>\n",
       "      <td>0.212310</td>\n",
       "      <td>0.150067</td>\n",
       "      <td>0.075053</td>\n",
       "      <td>0.075033</td>\n",
       "      <td>0.112701</td>\n",
       "      <td>0.124989</td>\n",
       "    </tr>\n",
       "    <tr>\n",
       "      <th>19</th>\n",
       "      <td>20</td>\n",
       "      <td>1</td>\n",
       "      <td>20</td>\n",
       "      <td>0.336749</td>\n",
       "      <td>0.157326</td>\n",
       "      <td>0.022477</td>\n",
       "      <td>0.318858</td>\n",
       "      <td>0.048743</td>\n",
       "      <td>0.347445</td>\n",
       "      <td>0.190641</td>\n",
       "      <td>...</td>\n",
       "      <td>0.033892</td>\n",
       "      <td>0.206901</td>\n",
       "      <td>0.191499</td>\n",
       "      <td>0.184108</td>\n",
       "      <td>0.232597</td>\n",
       "      <td>0.078802</td>\n",
       "      <td>0.078827</td>\n",
       "      <td>0.203286</td>\n",
       "      <td>0.180903</td>\n",
       "      <td>0.120379</td>\n",
       "    </tr>\n",
       "    <tr>\n",
       "      <th>20</th>\n",
       "      <td>21</td>\n",
       "      <td>1</td>\n",
       "      <td>21</td>\n",
       "      <td>0.267855</td>\n",
       "      <td>0.185656</td>\n",
       "      <td>0.000000</td>\n",
       "      <td>0.310177</td>\n",
       "      <td>0.081301</td>\n",
       "      <td>0.199652</td>\n",
       "      <td>0.000000</td>\n",
       "      <td>...</td>\n",
       "      <td>0.104616</td>\n",
       "      <td>0.115936</td>\n",
       "      <td>0.044842</td>\n",
       "      <td>0.179169</td>\n",
       "      <td>0.313496</td>\n",
       "      <td>0.014936</td>\n",
       "      <td>0.187143</td>\n",
       "      <td>0.044943</td>\n",
       "      <td>0.000000</td>\n",
       "      <td>0.044936</td>\n",
       "    </tr>\n",
       "    <tr>\n",
       "      <th>21</th>\n",
       "      <td>22</td>\n",
       "      <td>1</td>\n",
       "      <td>22</td>\n",
       "      <td>0.742260</td>\n",
       "      <td>0.283894</td>\n",
       "      <td>0.789145</td>\n",
       "      <td>0.616917</td>\n",
       "      <td>0.101578</td>\n",
       "      <td>0.155995</td>\n",
       "      <td>0.101594</td>\n",
       "      <td>...</td>\n",
       "      <td>0.117531</td>\n",
       "      <td>0.278742</td>\n",
       "      <td>0.153873</td>\n",
       "      <td>0.058636</td>\n",
       "      <td>0.161099</td>\n",
       "      <td>0.175882</td>\n",
       "      <td>0.301031</td>\n",
       "      <td>0.169084</td>\n",
       "      <td>0.538521</td>\n",
       "      <td>0.081096</td>\n",
       "    </tr>\n",
       "    <tr>\n",
       "      <th>22</th>\n",
       "      <td>23</td>\n",
       "      <td>1</td>\n",
       "      <td>23</td>\n",
       "      <td>0.608003</td>\n",
       "      <td>1.259672</td>\n",
       "      <td>0.222938</td>\n",
       "      <td>0.727149</td>\n",
       "      <td>0.814952</td>\n",
       "      <td>0.450441</td>\n",
       "      <td>0.423053</td>\n",
       "      <td>...</td>\n",
       "      <td>0.513239</td>\n",
       "      <td>0.284439</td>\n",
       "      <td>0.199350</td>\n",
       "      <td>0.285133</td>\n",
       "      <td>0.652224</td>\n",
       "      <td>0.452349</td>\n",
       "      <td>0.310614</td>\n",
       "      <td>0.578074</td>\n",
       "      <td>0.369096</td>\n",
       "      <td>0.099342</td>\n",
       "    </tr>\n",
       "    <tr>\n",
       "      <th>23</th>\n",
       "      <td>24</td>\n",
       "      <td>1</td>\n",
       "      <td>24</td>\n",
       "      <td>0.409156</td>\n",
       "      <td>0.305363</td>\n",
       "      <td>0.401828</td>\n",
       "      <td>0.445200</td>\n",
       "      <td>0.153245</td>\n",
       "      <td>0.000000</td>\n",
       "      <td>0.293679</td>\n",
       "      <td>...</td>\n",
       "      <td>0.000000</td>\n",
       "      <td>0.038358</td>\n",
       "      <td>0.000000</td>\n",
       "      <td>0.000000</td>\n",
       "      <td>0.019182</td>\n",
       "      <td>0.076664</td>\n",
       "      <td>0.134163</td>\n",
       "      <td>0.000000</td>\n",
       "      <td>0.134236</td>\n",
       "      <td>0.134108</td>\n",
       "    </tr>\n",
       "    <tr>\n",
       "      <th>24</th>\n",
       "      <td>25</td>\n",
       "      <td>1</td>\n",
       "      <td>25</td>\n",
       "      <td>0.591217</td>\n",
       "      <td>0.207824</td>\n",
       "      <td>0.294828</td>\n",
       "      <td>0.219858</td>\n",
       "      <td>0.371426</td>\n",
       "      <td>0.269330</td>\n",
       "      <td>0.190452</td>\n",
       "      <td>...</td>\n",
       "      <td>0.060508</td>\n",
       "      <td>0.120961</td>\n",
       "      <td>0.151074</td>\n",
       "      <td>0.048331</td>\n",
       "      <td>0.226289</td>\n",
       "      <td>0.205461</td>\n",
       "      <td>0.151270</td>\n",
       "      <td>0.087702</td>\n",
       "      <td>0.115025</td>\n",
       "      <td>0.048441</td>\n",
       "    </tr>\n",
       "    <tr>\n",
       "      <th>25</th>\n",
       "      <td>26</td>\n",
       "      <td>1</td>\n",
       "      <td>26</td>\n",
       "      <td>0.163846</td>\n",
       "      <td>0.067028</td>\n",
       "      <td>0.096803</td>\n",
       "      <td>0.261038</td>\n",
       "      <td>0.074594</td>\n",
       "      <td>0.059685</td>\n",
       "      <td>0.104432</td>\n",
       "      <td>...</td>\n",
       "      <td>0.059943</td>\n",
       "      <td>0.071171</td>\n",
       "      <td>0.037459</td>\n",
       "      <td>0.011239</td>\n",
       "      <td>0.142274</td>\n",
       "      <td>0.119771</td>\n",
       "      <td>0.202438</td>\n",
       "      <td>0.112394</td>\n",
       "      <td>0.074929</td>\n",
       "      <td>0.022472</td>\n",
       "    </tr>\n",
       "    <tr>\n",
       "      <th>26</th>\n",
       "      <td>27</td>\n",
       "      <td>1</td>\n",
       "      <td>27</td>\n",
       "      <td>0.491169</td>\n",
       "      <td>1.004708</td>\n",
       "      <td>0.500663</td>\n",
       "      <td>0.365216</td>\n",
       "      <td>0.459366</td>\n",
       "      <td>0.350786</td>\n",
       "      <td>0.445216</td>\n",
       "      <td>...</td>\n",
       "      <td>0.145496</td>\n",
       "      <td>0.189056</td>\n",
       "      <td>0.217972</td>\n",
       "      <td>0.087243</td>\n",
       "      <td>0.406124</td>\n",
       "      <td>0.254301</td>\n",
       "      <td>0.189174</td>\n",
       "      <td>0.116360</td>\n",
       "      <td>0.101879</td>\n",
       "      <td>0.101815</td>\n",
       "    </tr>\n",
       "    <tr>\n",
       "      <th>27</th>\n",
       "      <td>28</td>\n",
       "      <td>1</td>\n",
       "      <td>28</td>\n",
       "      <td>0.914378</td>\n",
       "      <td>0.341534</td>\n",
       "      <td>0.241699</td>\n",
       "      <td>0.042679</td>\n",
       "      <td>0.177585</td>\n",
       "      <td>0.113706</td>\n",
       "      <td>0.156251</td>\n",
       "      <td>...</td>\n",
       "      <td>0.042770</td>\n",
       "      <td>0.085514</td>\n",
       "      <td>0.056992</td>\n",
       "      <td>0.042737</td>\n",
       "      <td>0.263066</td>\n",
       "      <td>0.071121</td>\n",
       "      <td>0.128153</td>\n",
       "      <td>0.142263</td>\n",
       "      <td>0.085410</td>\n",
       "      <td>0.049853</td>\n",
       "    </tr>\n",
       "    <tr>\n",
       "      <th>28</th>\n",
       "      <td>29</td>\n",
       "      <td>1</td>\n",
       "      <td>29</td>\n",
       "      <td>0.481540</td>\n",
       "      <td>0.131262</td>\n",
       "      <td>0.055659</td>\n",
       "      <td>0.119167</td>\n",
       "      <td>0.107424</td>\n",
       "      <td>0.019888</td>\n",
       "      <td>0.083602</td>\n",
       "      <td>...</td>\n",
       "      <td>0.047887</td>\n",
       "      <td>0.075794</td>\n",
       "      <td>0.091728</td>\n",
       "      <td>0.039878</td>\n",
       "      <td>0.238841</td>\n",
       "      <td>0.059766</td>\n",
       "      <td>0.179513</td>\n",
       "      <td>0.119768</td>\n",
       "      <td>0.063892</td>\n",
       "      <td>0.091798</td>\n",
       "    </tr>\n",
       "    <tr>\n",
       "      <th>29</th>\n",
       "      <td>30</td>\n",
       "      <td>1</td>\n",
       "      <td>30</td>\n",
       "      <td>0.000000</td>\n",
       "      <td>0.188081</td>\n",
       "      <td>0.029622</td>\n",
       "      <td>0.246432</td>\n",
       "      <td>0.088753</td>\n",
       "      <td>0.029578</td>\n",
       "      <td>0.138293</td>\n",
       "      <td>...</td>\n",
       "      <td>0.059306</td>\n",
       "      <td>0.049422</td>\n",
       "      <td>0.197437</td>\n",
       "      <td>0.049359</td>\n",
       "      <td>0.344641</td>\n",
       "      <td>0.207177</td>\n",
       "      <td>0.128388</td>\n",
       "      <td>0.059269</td>\n",
       "      <td>0.138440</td>\n",
       "      <td>0.019773</td>\n",
       "    </tr>\n",
       "    <tr>\n",
       "      <th>...</th>\n",
       "      <td>...</td>\n",
       "      <td>...</td>\n",
       "      <td>...</td>\n",
       "      <td>...</td>\n",
       "      <td>...</td>\n",
       "      <td>...</td>\n",
       "      <td>...</td>\n",
       "      <td>...</td>\n",
       "      <td>...</td>\n",
       "      <td>...</td>\n",
       "      <td>...</td>\n",
       "      <td>...</td>\n",
       "      <td>...</td>\n",
       "      <td>...</td>\n",
       "      <td>...</td>\n",
       "      <td>...</td>\n",
       "      <td>...</td>\n",
       "      <td>...</td>\n",
       "      <td>...</td>\n",
       "      <td>...</td>\n",
       "      <td>...</td>\n",
       "    </tr>\n",
       "    <tr>\n",
       "      <th>636283</th>\n",
       "      <td>636284</td>\n",
       "      <td>2117</td>\n",
       "      <td>289</td>\n",
       "      <td>0.063182</td>\n",
       "      <td>0.168486</td>\n",
       "      <td>0.189551</td>\n",
       "      <td>0.105356</td>\n",
       "      <td>0.042142</td>\n",
       "      <td>0.399430</td>\n",
       "      <td>0.021023</td>\n",
       "      <td>...</td>\n",
       "      <td>0.083641</td>\n",
       "      <td>0.020910</td>\n",
       "      <td>0.125571</td>\n",
       "      <td>0.000000</td>\n",
       "      <td>0.062757</td>\n",
       "      <td>0.125458</td>\n",
       "      <td>0.020919</td>\n",
       "      <td>0.062707</td>\n",
       "      <td>0.000000</td>\n",
       "      <td>0.000000</td>\n",
       "    </tr>\n",
       "    <tr>\n",
       "      <th>636284</th>\n",
       "      <td>636285</td>\n",
       "      <td>2117</td>\n",
       "      <td>290</td>\n",
       "      <td>0.619668</td>\n",
       "      <td>0.769253</td>\n",
       "      <td>0.155780</td>\n",
       "      <td>0.207367</td>\n",
       "      <td>0.413448</td>\n",
       "      <td>0.245087</td>\n",
       "      <td>0.263314</td>\n",
       "      <td>...</td>\n",
       "      <td>0.063420</td>\n",
       "      <td>0.114131</td>\n",
       "      <td>0.291213</td>\n",
       "      <td>0.050636</td>\n",
       "      <td>0.266323</td>\n",
       "      <td>0.316273</td>\n",
       "      <td>0.278856</td>\n",
       "      <td>0.101430</td>\n",
       "      <td>0.101497</td>\n",
       "      <td>0.165137</td>\n",
       "    </tr>\n",
       "    <tr>\n",
       "      <th>636285</th>\n",
       "      <td>636286</td>\n",
       "      <td>2117</td>\n",
       "      <td>291</td>\n",
       "      <td>1.006989</td>\n",
       "      <td>1.038799</td>\n",
       "      <td>0.673150</td>\n",
       "      <td>0.677019</td>\n",
       "      <td>0.189763</td>\n",
       "      <td>0.630424</td>\n",
       "      <td>0.176594</td>\n",
       "      <td>...</td>\n",
       "      <td>0.165119</td>\n",
       "      <td>0.139603</td>\n",
       "      <td>0.057084</td>\n",
       "      <td>0.044398</td>\n",
       "      <td>0.031716</td>\n",
       "      <td>0.057067</td>\n",
       "      <td>0.057071</td>\n",
       "      <td>0.221643</td>\n",
       "      <td>0.227597</td>\n",
       "      <td>0.132841</td>\n",
       "    </tr>\n",
       "    <tr>\n",
       "      <th>636286</th>\n",
       "      <td>636287</td>\n",
       "      <td>2117</td>\n",
       "      <td>292</td>\n",
       "      <td>0.000000</td>\n",
       "      <td>0.469227</td>\n",
       "      <td>0.189390</td>\n",
       "      <td>0.166720</td>\n",
       "      <td>0.060631</td>\n",
       "      <td>0.113727</td>\n",
       "      <td>0.525092</td>\n",
       "      <td>...</td>\n",
       "      <td>0.060389</td>\n",
       "      <td>0.098144</td>\n",
       "      <td>0.045325</td>\n",
       "      <td>0.030217</td>\n",
       "      <td>0.030229</td>\n",
       "      <td>0.113227</td>\n",
       "      <td>0.257109</td>\n",
       "      <td>0.211461</td>\n",
       "      <td>0.075508</td>\n",
       "      <td>0.090556</td>\n",
       "    </tr>\n",
       "    <tr>\n",
       "      <th>636287</th>\n",
       "      <td>636288</td>\n",
       "      <td>2117</td>\n",
       "      <td>293</td>\n",
       "      <td>0.244941</td>\n",
       "      <td>0.132795</td>\n",
       "      <td>0.071499</td>\n",
       "      <td>0.635966</td>\n",
       "      <td>0.215694</td>\n",
       "      <td>0.401810</td>\n",
       "      <td>0.144302</td>\n",
       "      <td>...</td>\n",
       "      <td>0.051415</td>\n",
       "      <td>0.071955</td>\n",
       "      <td>0.010280</td>\n",
       "      <td>0.071914</td>\n",
       "      <td>0.092375</td>\n",
       "      <td>0.133324</td>\n",
       "      <td>0.041029</td>\n",
       "      <td>0.051268</td>\n",
       "      <td>0.061479</td>\n",
       "      <td>0.153927</td>\n",
       "    </tr>\n",
       "    <tr>\n",
       "      <th>636288</th>\n",
       "      <td>636289</td>\n",
       "      <td>2117</td>\n",
       "      <td>294</td>\n",
       "      <td>0.157210</td>\n",
       "      <td>0.603009</td>\n",
       "      <td>0.605239</td>\n",
       "      <td>0.302156</td>\n",
       "      <td>0.432849</td>\n",
       "      <td>0.303275</td>\n",
       "      <td>0.302341</td>\n",
       "      <td>...</td>\n",
       "      <td>0.057182</td>\n",
       "      <td>0.085806</td>\n",
       "      <td>0.057143</td>\n",
       "      <td>0.028574</td>\n",
       "      <td>0.085775</td>\n",
       "      <td>0.114336</td>\n",
       "      <td>0.171748</td>\n",
       "      <td>0.028621</td>\n",
       "      <td>0.057242</td>\n",
       "      <td>0.258045</td>\n",
       "    </tr>\n",
       "    <tr>\n",
       "      <th>636289</th>\n",
       "      <td>636290</td>\n",
       "      <td>2117</td>\n",
       "      <td>295</td>\n",
       "      <td>0.319250</td>\n",
       "      <td>0.541670</td>\n",
       "      <td>0.162522</td>\n",
       "      <td>0.182793</td>\n",
       "      <td>0.318739</td>\n",
       "      <td>0.162625</td>\n",
       "      <td>0.175992</td>\n",
       "      <td>...</td>\n",
       "      <td>0.027081</td>\n",
       "      <td>0.006770</td>\n",
       "      <td>0.081158</td>\n",
       "      <td>0.033817</td>\n",
       "      <td>0.020280</td>\n",
       "      <td>0.243111</td>\n",
       "      <td>0.108170</td>\n",
       "      <td>0.142129</td>\n",
       "      <td>0.013543</td>\n",
       "      <td>0.081195</td>\n",
       "    </tr>\n",
       "    <tr>\n",
       "      <th>636290</th>\n",
       "      <td>636291</td>\n",
       "      <td>2117</td>\n",
       "      <td>296</td>\n",
       "      <td>0.270156</td>\n",
       "      <td>0.216527</td>\n",
       "      <td>0.448144</td>\n",
       "      <td>0.159068</td>\n",
       "      <td>0.044817</td>\n",
       "      <td>0.288779</td>\n",
       "      <td>0.093554</td>\n",
       "      <td>...</td>\n",
       "      <td>0.085528</td>\n",
       "      <td>0.016284</td>\n",
       "      <td>0.089642</td>\n",
       "      <td>0.032590</td>\n",
       "      <td>0.057009</td>\n",
       "      <td>0.085547</td>\n",
       "      <td>0.097791</td>\n",
       "      <td>0.085518</td>\n",
       "      <td>0.048890</td>\n",
       "      <td>0.036668</td>\n",
       "    </tr>\n",
       "    <tr>\n",
       "      <th>636291</th>\n",
       "      <td>636292</td>\n",
       "      <td>2117</td>\n",
       "      <td>297</td>\n",
       "      <td>0.395209</td>\n",
       "      <td>0.313822</td>\n",
       "      <td>0.197566</td>\n",
       "      <td>0.071868</td>\n",
       "      <td>0.053932</td>\n",
       "      <td>0.225068</td>\n",
       "      <td>0.026974</td>\n",
       "      <td>...</td>\n",
       "      <td>0.017911</td>\n",
       "      <td>0.080624</td>\n",
       "      <td>0.053718</td>\n",
       "      <td>0.013434</td>\n",
       "      <td>0.062691</td>\n",
       "      <td>0.000000</td>\n",
       "      <td>0.089598</td>\n",
       "      <td>0.004480</td>\n",
       "      <td>0.049256</td>\n",
       "      <td>0.008959</td>\n",
       "    </tr>\n",
       "    <tr>\n",
       "      <th>636292</th>\n",
       "      <td>636293</td>\n",
       "      <td>2117</td>\n",
       "      <td>298</td>\n",
       "      <td>0.403118</td>\n",
       "      <td>0.798655</td>\n",
       "      <td>0.435663</td>\n",
       "      <td>0.212098</td>\n",
       "      <td>0.094229</td>\n",
       "      <td>0.182413</td>\n",
       "      <td>0.383738</td>\n",
       "      <td>...</td>\n",
       "      <td>0.035158</td>\n",
       "      <td>0.087835</td>\n",
       "      <td>0.017563</td>\n",
       "      <td>0.052726</td>\n",
       "      <td>0.175546</td>\n",
       "      <td>0.105409</td>\n",
       "      <td>0.169641</td>\n",
       "      <td>0.064358</td>\n",
       "      <td>0.093690</td>\n",
       "      <td>0.076083</td>\n",
       "    </tr>\n",
       "    <tr>\n",
       "      <th>636293</th>\n",
       "      <td>636294</td>\n",
       "      <td>2117</td>\n",
       "      <td>299</td>\n",
       "      <td>0.288685</td>\n",
       "      <td>0.255282</td>\n",
       "      <td>0.119122</td>\n",
       "      <td>0.170302</td>\n",
       "      <td>0.051053</td>\n",
       "      <td>0.271904</td>\n",
       "      <td>0.254349</td>\n",
       "      <td>...</td>\n",
       "      <td>0.101526</td>\n",
       "      <td>0.101437</td>\n",
       "      <td>0.152326</td>\n",
       "      <td>0.000000</td>\n",
       "      <td>0.101556</td>\n",
       "      <td>0.253526</td>\n",
       "      <td>0.050729</td>\n",
       "      <td>0.118399</td>\n",
       "      <td>0.050722</td>\n",
       "      <td>0.084566</td>\n",
       "    </tr>\n",
       "    <tr>\n",
       "      <th>636294</th>\n",
       "      <td>636295</td>\n",
       "      <td>2117</td>\n",
       "      <td>300</td>\n",
       "      <td>0.131829</td>\n",
       "      <td>0.066007</td>\n",
       "      <td>0.264030</td>\n",
       "      <td>0.132015</td>\n",
       "      <td>0.197743</td>\n",
       "      <td>0.198022</td>\n",
       "      <td>0.066007</td>\n",
       "      <td>...</td>\n",
       "      <td>0.459456</td>\n",
       "      <td>0.065637</td>\n",
       "      <td>0.065637</td>\n",
       "      <td>0.065637</td>\n",
       "      <td>0.196910</td>\n",
       "      <td>0.196910</td>\n",
       "      <td>0.065637</td>\n",
       "      <td>0.065637</td>\n",
       "      <td>0.196634</td>\n",
       "      <td>0.065545</td>\n",
       "    </tr>\n",
       "    <tr>\n",
       "      <th>636295</th>\n",
       "      <td>636296</td>\n",
       "      <td>2117</td>\n",
       "      <td>301</td>\n",
       "      <td>0.092281</td>\n",
       "      <td>0.213085</td>\n",
       "      <td>0.392183</td>\n",
       "      <td>0.195901</td>\n",
       "      <td>0.265460</td>\n",
       "      <td>0.092379</td>\n",
       "      <td>0.115403</td>\n",
       "      <td>...</td>\n",
       "      <td>0.063489</td>\n",
       "      <td>0.040388</td>\n",
       "      <td>0.011539</td>\n",
       "      <td>0.028849</td>\n",
       "      <td>0.017312</td>\n",
       "      <td>0.040398</td>\n",
       "      <td>0.023087</td>\n",
       "      <td>0.063466</td>\n",
       "      <td>0.051937</td>\n",
       "      <td>0.034629</td>\n",
       "    </tr>\n",
       "    <tr>\n",
       "      <th>636296</th>\n",
       "      <td>636297</td>\n",
       "      <td>2117</td>\n",
       "      <td>302</td>\n",
       "      <td>0.473387</td>\n",
       "      <td>0.289450</td>\n",
       "      <td>0.276682</td>\n",
       "      <td>0.276139</td>\n",
       "      <td>0.448477</td>\n",
       "      <td>0.551669</td>\n",
       "      <td>0.196856</td>\n",
       "      <td>...</td>\n",
       "      <td>0.157428</td>\n",
       "      <td>0.131304</td>\n",
       "      <td>0.144292</td>\n",
       "      <td>0.039330</td>\n",
       "      <td>0.196913</td>\n",
       "      <td>0.131172</td>\n",
       "      <td>0.065617</td>\n",
       "      <td>0.013121</td>\n",
       "      <td>0.078676</td>\n",
       "      <td>0.039341</td>\n",
       "    </tr>\n",
       "    <tr>\n",
       "      <th>636297</th>\n",
       "      <td>636298</td>\n",
       "      <td>2117</td>\n",
       "      <td>303</td>\n",
       "      <td>0.266633</td>\n",
       "      <td>0.648397</td>\n",
       "      <td>0.258641</td>\n",
       "      <td>0.314620</td>\n",
       "      <td>0.266272</td>\n",
       "      <td>0.137114</td>\n",
       "      <td>0.217629</td>\n",
       "      <td>...</td>\n",
       "      <td>0.040126</td>\n",
       "      <td>0.008025</td>\n",
       "      <td>0.016049</td>\n",
       "      <td>0.040123</td>\n",
       "      <td>0.032091</td>\n",
       "      <td>0.080266</td>\n",
       "      <td>0.048162</td>\n",
       "      <td>0.072312</td>\n",
       "      <td>0.144489</td>\n",
       "      <td>0.016060</td>\n",
       "    </tr>\n",
       "    <tr>\n",
       "      <th>636298</th>\n",
       "      <td>636299</td>\n",
       "      <td>2117</td>\n",
       "      <td>304</td>\n",
       "      <td>0.178007</td>\n",
       "      <td>0.178143</td>\n",
       "      <td>0.102812</td>\n",
       "      <td>0.075410</td>\n",
       "      <td>0.226527</td>\n",
       "      <td>0.109866</td>\n",
       "      <td>0.048084</td>\n",
       "      <td>...</td>\n",
       "      <td>0.137167</td>\n",
       "      <td>0.034299</td>\n",
       "      <td>0.013720</td>\n",
       "      <td>0.027431</td>\n",
       "      <td>0.048043</td>\n",
       "      <td>0.130480</td>\n",
       "      <td>0.048091</td>\n",
       "      <td>0.034359</td>\n",
       "      <td>0.061837</td>\n",
       "      <td>0.041227</td>\n",
       "    </tr>\n",
       "    <tr>\n",
       "      <th>636299</th>\n",
       "      <td>636300</td>\n",
       "      <td>2117</td>\n",
       "      <td>305</td>\n",
       "      <td>0.170790</td>\n",
       "      <td>0.234574</td>\n",
       "      <td>0.202818</td>\n",
       "      <td>0.085382</td>\n",
       "      <td>0.096075</td>\n",
       "      <td>0.128091</td>\n",
       "      <td>0.181304</td>\n",
       "      <td>...</td>\n",
       "      <td>0.031785</td>\n",
       "      <td>0.265474</td>\n",
       "      <td>0.021238</td>\n",
       "      <td>0.010619</td>\n",
       "      <td>0.031857</td>\n",
       "      <td>0.063723</td>\n",
       "      <td>0.148831</td>\n",
       "      <td>0.106244</td>\n",
       "      <td>0.042476</td>\n",
       "      <td>0.031850</td>\n",
       "    </tr>\n",
       "    <tr>\n",
       "      <th>636300</th>\n",
       "      <td>636301</td>\n",
       "      <td>2117</td>\n",
       "      <td>306</td>\n",
       "      <td>0.483656</td>\n",
       "      <td>0.196741</td>\n",
       "      <td>0.683012</td>\n",
       "      <td>0.197243</td>\n",
       "      <td>1.008638</td>\n",
       "      <td>0.321452</td>\n",
       "      <td>0.533487</td>\n",
       "      <td>...</td>\n",
       "      <td>0.044837</td>\n",
       "      <td>0.194536</td>\n",
       "      <td>0.119757</td>\n",
       "      <td>0.059873</td>\n",
       "      <td>0.059897</td>\n",
       "      <td>0.104785</td>\n",
       "      <td>0.390317</td>\n",
       "      <td>0.105088</td>\n",
       "      <td>0.150221</td>\n",
       "      <td>0.120138</td>\n",
       "    </tr>\n",
       "    <tr>\n",
       "      <th>636301</th>\n",
       "      <td>636302</td>\n",
       "      <td>2117</td>\n",
       "      <td>307</td>\n",
       "      <td>0.415971</td>\n",
       "      <td>0.289256</td>\n",
       "      <td>0.362281</td>\n",
       "      <td>0.199477</td>\n",
       "      <td>0.127091</td>\n",
       "      <td>0.090711</td>\n",
       "      <td>0.090711</td>\n",
       "      <td>...</td>\n",
       "      <td>0.145249</td>\n",
       "      <td>0.072595</td>\n",
       "      <td>0.126993</td>\n",
       "      <td>0.379945</td>\n",
       "      <td>0.054278</td>\n",
       "      <td>0.217527</td>\n",
       "      <td>0.217876</td>\n",
       "      <td>0.163536</td>\n",
       "      <td>0.290051</td>\n",
       "      <td>0.505604</td>\n",
       "    </tr>\n",
       "    <tr>\n",
       "      <th>636302</th>\n",
       "      <td>636303</td>\n",
       "      <td>2117</td>\n",
       "      <td>308</td>\n",
       "      <td>0.761322</td>\n",
       "      <td>0.735727</td>\n",
       "      <td>0.650302</td>\n",
       "      <td>0.867058</td>\n",
       "      <td>0.235355</td>\n",
       "      <td>0.206068</td>\n",
       "      <td>0.209994</td>\n",
       "      <td>...</td>\n",
       "      <td>0.043790</td>\n",
       "      <td>0.093991</td>\n",
       "      <td>0.043808</td>\n",
       "      <td>0.058411</td>\n",
       "      <td>0.058393</td>\n",
       "      <td>0.233159</td>\n",
       "      <td>0.072911</td>\n",
       "      <td>0.058320</td>\n",
       "      <td>0.193329</td>\n",
       "      <td>0.072809</td>\n",
       "    </tr>\n",
       "    <tr>\n",
       "      <th>636303</th>\n",
       "      <td>636304</td>\n",
       "      <td>2117</td>\n",
       "      <td>309</td>\n",
       "      <td>0.292661</td>\n",
       "      <td>0.186089</td>\n",
       "      <td>0.186129</td>\n",
       "      <td>0.199604</td>\n",
       "      <td>0.186448</td>\n",
       "      <td>0.053282</td>\n",
       "      <td>0.039963</td>\n",
       "      <td>...</td>\n",
       "      <td>0.013318</td>\n",
       "      <td>0.039942</td>\n",
       "      <td>0.026631</td>\n",
       "      <td>0.318900</td>\n",
       "      <td>0.146329</td>\n",
       "      <td>0.093069</td>\n",
       "      <td>0.053208</td>\n",
       "      <td>0.093202</td>\n",
       "      <td>0.053267</td>\n",
       "      <td>0.039942</td>\n",
       "    </tr>\n",
       "    <tr>\n",
       "      <th>636304</th>\n",
       "      <td>636305</td>\n",
       "      <td>2117</td>\n",
       "      <td>310</td>\n",
       "      <td>0.289602</td>\n",
       "      <td>0.300061</td>\n",
       "      <td>0.149927</td>\n",
       "      <td>0.042797</td>\n",
       "      <td>0.074890</td>\n",
       "      <td>0.128411</td>\n",
       "      <td>0.032074</td>\n",
       "      <td>...</td>\n",
       "      <td>0.159569</td>\n",
       "      <td>0.000000</td>\n",
       "      <td>0.021272</td>\n",
       "      <td>0.031904</td>\n",
       "      <td>0.000000</td>\n",
       "      <td>0.074472</td>\n",
       "      <td>0.031923</td>\n",
       "      <td>0.021282</td>\n",
       "      <td>0.031915</td>\n",
       "      <td>0.021282</td>\n",
       "    </tr>\n",
       "    <tr>\n",
       "      <th>636305</th>\n",
       "      <td>636306</td>\n",
       "      <td>2117</td>\n",
       "      <td>311</td>\n",
       "      <td>0.346055</td>\n",
       "      <td>0.209317</td>\n",
       "      <td>0.201508</td>\n",
       "      <td>0.112960</td>\n",
       "      <td>0.404477</td>\n",
       "      <td>0.080912</td>\n",
       "      <td>0.097026</td>\n",
       "      <td>...</td>\n",
       "      <td>0.040346</td>\n",
       "      <td>0.048439</td>\n",
       "      <td>0.008074</td>\n",
       "      <td>0.096943</td>\n",
       "      <td>0.064607</td>\n",
       "      <td>0.096959</td>\n",
       "      <td>0.040388</td>\n",
       "      <td>0.048473</td>\n",
       "      <td>0.048476</td>\n",
       "      <td>0.129365</td>\n",
       "    </tr>\n",
       "    <tr>\n",
       "      <th>636306</th>\n",
       "      <td>636307</td>\n",
       "      <td>2117</td>\n",
       "      <td>312</td>\n",
       "      <td>1.320771</td>\n",
       "      <td>0.308327</td>\n",
       "      <td>0.715378</td>\n",
       "      <td>0.634493</td>\n",
       "      <td>0.704012</td>\n",
       "      <td>1.030994</td>\n",
       "      <td>1.381776</td>\n",
       "      <td>...</td>\n",
       "      <td>0.336424</td>\n",
       "      <td>0.315123</td>\n",
       "      <td>0.117309</td>\n",
       "      <td>0.146524</td>\n",
       "      <td>0.161353</td>\n",
       "      <td>0.227114</td>\n",
       "      <td>0.227470</td>\n",
       "      <td>0.073354</td>\n",
       "      <td>0.190596</td>\n",
       "      <td>0.051319</td>\n",
       "    </tr>\n",
       "    <tr>\n",
       "      <th>636307</th>\n",
       "      <td>636308</td>\n",
       "      <td>2117</td>\n",
       "      <td>313</td>\n",
       "      <td>0.400408</td>\n",
       "      <td>0.361242</td>\n",
       "      <td>0.208621</td>\n",
       "      <td>0.170895</td>\n",
       "      <td>0.209140</td>\n",
       "      <td>0.190505</td>\n",
       "      <td>0.229184</td>\n",
       "      <td>...</td>\n",
       "      <td>0.057067</td>\n",
       "      <td>0.076088</td>\n",
       "      <td>0.095178</td>\n",
       "      <td>0.190676</td>\n",
       "      <td>0.095374</td>\n",
       "      <td>0.019067</td>\n",
       "      <td>0.057248</td>\n",
       "      <td>0.076362</td>\n",
       "      <td>0.114595</td>\n",
       "      <td>0.076399</td>\n",
       "    </tr>\n",
       "    <tr>\n",
       "      <th>636308</th>\n",
       "      <td>636309</td>\n",
       "      <td>2117</td>\n",
       "      <td>314</td>\n",
       "      <td>0.445187</td>\n",
       "      <td>0.440826</td>\n",
       "      <td>0.197667</td>\n",
       "      <td>0.287851</td>\n",
       "      <td>0.377562</td>\n",
       "      <td>0.406626</td>\n",
       "      <td>0.203188</td>\n",
       "      <td>...</td>\n",
       "      <td>0.525601</td>\n",
       "      <td>0.302585</td>\n",
       "      <td>0.313269</td>\n",
       "      <td>0.128620</td>\n",
       "      <td>0.267998</td>\n",
       "      <td>0.401197</td>\n",
       "      <td>0.240198</td>\n",
       "      <td>0.307821</td>\n",
       "      <td>0.324072</td>\n",
       "      <td>0.279878</td>\n",
       "    </tr>\n",
       "    <tr>\n",
       "      <th>636309</th>\n",
       "      <td>636310</td>\n",
       "      <td>2117</td>\n",
       "      <td>315</td>\n",
       "      <td>0.151186</td>\n",
       "      <td>0.160654</td>\n",
       "      <td>0.189244</td>\n",
       "      <td>0.104012</td>\n",
       "      <td>0.132380</td>\n",
       "      <td>0.085103</td>\n",
       "      <td>0.170077</td>\n",
       "      <td>...</td>\n",
       "      <td>0.085236</td>\n",
       "      <td>0.047353</td>\n",
       "      <td>0.094800</td>\n",
       "      <td>0.066344</td>\n",
       "      <td>0.037914</td>\n",
       "      <td>0.066382</td>\n",
       "      <td>0.075896</td>\n",
       "      <td>0.047439</td>\n",
       "      <td>0.198986</td>\n",
       "      <td>0.075806</td>\n",
       "    </tr>\n",
       "    <tr>\n",
       "      <th>636310</th>\n",
       "      <td>636311</td>\n",
       "      <td>2117</td>\n",
       "      <td>316</td>\n",
       "      <td>0.272429</td>\n",
       "      <td>0.215522</td>\n",
       "      <td>0.198277</td>\n",
       "      <td>0.543331</td>\n",
       "      <td>0.098376</td>\n",
       "      <td>0.295860</td>\n",
       "      <td>0.109611</td>\n",
       "      <td>...</td>\n",
       "      <td>0.088451</td>\n",
       "      <td>0.153764</td>\n",
       "      <td>0.079369</td>\n",
       "      <td>0.033632</td>\n",
       "      <td>0.098935</td>\n",
       "      <td>0.044868</td>\n",
       "      <td>0.109629</td>\n",
       "      <td>0.167986</td>\n",
       "      <td>0.152494</td>\n",
       "      <td>0.033582</td>\n",
       "    </tr>\n",
       "    <tr>\n",
       "      <th>636311</th>\n",
       "      <td>636312</td>\n",
       "      <td>2117</td>\n",
       "      <td>317</td>\n",
       "      <td>0.483781</td>\n",
       "      <td>0.096898</td>\n",
       "      <td>0.194044</td>\n",
       "      <td>0.135702</td>\n",
       "      <td>0.000000</td>\n",
       "      <td>0.038793</td>\n",
       "      <td>0.000000</td>\n",
       "      <td>...</td>\n",
       "      <td>0.000000</td>\n",
       "      <td>0.000000</td>\n",
       "      <td>0.000000</td>\n",
       "      <td>0.006484</td>\n",
       "      <td>0.003242</td>\n",
       "      <td>0.000000</td>\n",
       "      <td>0.019436</td>\n",
       "      <td>0.019438</td>\n",
       "      <td>0.019439</td>\n",
       "      <td>0.000000</td>\n",
       "    </tr>\n",
       "    <tr>\n",
       "      <th>636312</th>\n",
       "      <td>636313</td>\n",
       "      <td>2117</td>\n",
       "      <td>318</td>\n",
       "      <td>0.244283</td>\n",
       "      <td>0.403922</td>\n",
       "      <td>0.097821</td>\n",
       "      <td>0.085551</td>\n",
       "      <td>0.171178</td>\n",
       "      <td>0.085571</td>\n",
       "      <td>0.048898</td>\n",
       "      <td>...</td>\n",
       "      <td>0.048671</td>\n",
       "      <td>0.036494</td>\n",
       "      <td>0.048658</td>\n",
       "      <td>0.048650</td>\n",
       "      <td>0.048661</td>\n",
       "      <td>0.085167</td>\n",
       "      <td>0.194868</td>\n",
       "      <td>0.036569</td>\n",
       "      <td>0.073139</td>\n",
       "      <td>0.085322</td>\n",
       "    </tr>\n",
       "  </tbody>\n",
       "</table>\n",
       "<p>636313 rows × 57 columns</p>\n",
       "</div>"
      ],
      "text/plain": [
       "            ID  date  product_id  volatility 09:30:00  volatility 09:35:00  \\\n",
       "0            1     1           1             0.662737             0.716896   \n",
       "1            2     1           2             0.285394             0.379560   \n",
       "2            3     1           3             1.151646             1.093562   \n",
       "3            4     1           4             0.835260             0.329615   \n",
       "4            5     1           5             0.274185             0.061076   \n",
       "5            6     1           6             1.196894             0.447793   \n",
       "6            7     1           7             0.404367             0.461279   \n",
       "7            8     1           8             0.427583             0.332903   \n",
       "8            9     1           9             0.261116             0.714536   \n",
       "9           10     1          10             0.256359             0.359924   \n",
       "10          11     1          11             0.578564             0.236604   \n",
       "11          12     1          12             0.566552             0.188851   \n",
       "12          13     1          13             0.980909             0.210090   \n",
       "13          14     1          14             1.304351             0.854274   \n",
       "14          15     1          15             0.257395             0.235594   \n",
       "15          16     1          16             0.380117             0.370311   \n",
       "16          17     1          17             0.230236             0.092094   \n",
       "17          18     1          18             0.829830             0.207212   \n",
       "18          19     1          19             0.388400             0.100232   \n",
       "19          20     1          20             0.336749             0.157326   \n",
       "20          21     1          21             0.267855             0.185656   \n",
       "21          22     1          22             0.742260             0.283894   \n",
       "22          23     1          23             0.608003             1.259672   \n",
       "23          24     1          24             0.409156             0.305363   \n",
       "24          25     1          25             0.591217             0.207824   \n",
       "25          26     1          26             0.163846             0.067028   \n",
       "26          27     1          27             0.491169             1.004708   \n",
       "27          28     1          28             0.914378             0.341534   \n",
       "28          29     1          29             0.481540             0.131262   \n",
       "29          30     1          30             0.000000             0.188081   \n",
       "...        ...   ...         ...                  ...                  ...   \n",
       "636283  636284  2117         289             0.063182             0.168486   \n",
       "636284  636285  2117         290             0.619668             0.769253   \n",
       "636285  636286  2117         291             1.006989             1.038799   \n",
       "636286  636287  2117         292             0.000000             0.469227   \n",
       "636287  636288  2117         293             0.244941             0.132795   \n",
       "636288  636289  2117         294             0.157210             0.603009   \n",
       "636289  636290  2117         295             0.319250             0.541670   \n",
       "636290  636291  2117         296             0.270156             0.216527   \n",
       "636291  636292  2117         297             0.395209             0.313822   \n",
       "636292  636293  2117         298             0.403118             0.798655   \n",
       "636293  636294  2117         299             0.288685             0.255282   \n",
       "636294  636295  2117         300             0.131829             0.066007   \n",
       "636295  636296  2117         301             0.092281             0.213085   \n",
       "636296  636297  2117         302             0.473387             0.289450   \n",
       "636297  636298  2117         303             0.266633             0.648397   \n",
       "636298  636299  2117         304             0.178007             0.178143   \n",
       "636299  636300  2117         305             0.170790             0.234574   \n",
       "636300  636301  2117         306             0.483656             0.196741   \n",
       "636301  636302  2117         307             0.415971             0.289256   \n",
       "636302  636303  2117         308             0.761322             0.735727   \n",
       "636303  636304  2117         309             0.292661             0.186089   \n",
       "636304  636305  2117         310             0.289602             0.300061   \n",
       "636305  636306  2117         311             0.346055             0.209317   \n",
       "636306  636307  2117         312             1.320771             0.308327   \n",
       "636307  636308  2117         313             0.400408             0.361242   \n",
       "636308  636309  2117         314             0.445187             0.440826   \n",
       "636309  636310  2117         315             0.151186             0.160654   \n",
       "636310  636311  2117         316             0.272429             0.215522   \n",
       "636311  636312  2117         317             0.483781             0.096898   \n",
       "636312  636313  2117         318             0.244283             0.403922   \n",
       "\n",
       "        volatility 09:40:00  volatility 09:45:00  volatility 09:50:00  \\\n",
       "0                  0.698601             0.480172             0.623665   \n",
       "1                  0.094858             0.094794             0.055315   \n",
       "2                  1.833443             0.595823             0.310177   \n",
       "3                  0.340366             0.216692             0.350371   \n",
       "4                  0.010168             0.060890             0.000000   \n",
       "5                  0.217333             0.460426             0.142273   \n",
       "6                  0.230853             0.173033             0.216425   \n",
       "7                  0.647757             0.142191             0.173788   \n",
       "8                  0.196523             0.261591             0.143795   \n",
       "9                  0.198624             0.340704             0.232150   \n",
       "10                 0.219941             0.300876             0.178712   \n",
       "11                 0.101594             0.304215             0.086865   \n",
       "12                 0.210300             0.327789             0.117067   \n",
       "13                 0.964494             0.304044             0.071499   \n",
       "14                 0.331214             0.090848             0.133707   \n",
       "15                 0.778537             0.612549             0.296182   \n",
       "16                 0.509417             0.068806             0.165314   \n",
       "17                 0.193170             0.089673             0.179531   \n",
       "18                 0.249644             0.187133             0.199715   \n",
       "19                 0.022477             0.318858             0.048743   \n",
       "20                 0.000000             0.310177             0.081301   \n",
       "21                 0.789145             0.616917             0.101578   \n",
       "22                 0.222938             0.727149             0.814952   \n",
       "23                 0.401828             0.445200             0.153245   \n",
       "24                 0.294828             0.219858             0.371426   \n",
       "25                 0.096803             0.261038             0.074594   \n",
       "26                 0.500663             0.365216             0.459366   \n",
       "27                 0.241699             0.042679             0.177585   \n",
       "28                 0.055659             0.119167             0.107424   \n",
       "29                 0.029622             0.246432             0.088753   \n",
       "...                     ...                  ...                  ...   \n",
       "636283             0.189551             0.105356             0.042142   \n",
       "636284             0.155780             0.207367             0.413448   \n",
       "636285             0.673150             0.677019             0.189763   \n",
       "636286             0.189390             0.166720             0.060631   \n",
       "636287             0.071499             0.635966             0.215694   \n",
       "636288             0.605239             0.302156             0.432849   \n",
       "636289             0.162522             0.182793             0.318739   \n",
       "636290             0.448144             0.159068             0.044817   \n",
       "636291             0.197566             0.071868             0.053932   \n",
       "636292             0.435663             0.212098             0.094229   \n",
       "636293             0.119122             0.170302             0.051053   \n",
       "636294             0.264030             0.132015             0.197743   \n",
       "636295             0.392183             0.195901             0.265460   \n",
       "636296             0.276682             0.276139             0.448477   \n",
       "636297             0.258641             0.314620             0.266272   \n",
       "636298             0.102812             0.075410             0.226527   \n",
       "636299             0.202818             0.085382             0.096075   \n",
       "636300             0.683012             0.197243             1.008638   \n",
       "636301             0.362281             0.199477             0.127091   \n",
       "636302             0.650302             0.867058             0.235355   \n",
       "636303             0.186129             0.199604             0.186448   \n",
       "636304             0.149927             0.042797             0.074890   \n",
       "636305             0.201508             0.112960             0.404477   \n",
       "636306             0.715378             0.634493             0.704012   \n",
       "636307             0.208621             0.170895             0.209140   \n",
       "636308             0.197667             0.287851             0.377562   \n",
       "636309             0.189244             0.104012             0.132380   \n",
       "636310             0.198277             0.543331             0.098376   \n",
       "636311             0.194044             0.135702             0.000000   \n",
       "636312             0.097821             0.085551             0.171178   \n",
       "\n",
       "        volatility 09:55:00  volatility 10:00:00  ...  volatility 13:10:00  \\\n",
       "0                  0.201876             0.327206  ...             0.115572   \n",
       "1                  0.173994             0.102745  ...             0.031630   \n",
       "2                  0.792310             0.401979  ...             0.118179   \n",
       "3                  0.247594             0.341194  ...             0.041458   \n",
       "4                  0.213162             0.162763  ...             0.071567   \n",
       "5                  0.332694             0.078081  ...             0.135932   \n",
       "6                  0.263001             0.449498  ...             0.160295   \n",
       "7                  0.110555             0.173730  ...             0.079886   \n",
       "8                  0.084946             0.143915  ...             0.110990   \n",
       "9                  0.436671             0.209140  ...             0.181953   \n",
       "10                 0.125999             0.122019  ...             0.044717   \n",
       "11                 0.188382             0.057982  ...             0.087325   \n",
       "12                 0.152226             0.517169  ...             0.082944   \n",
       "13                 0.347758             0.250102  ...             0.244819   \n",
       "14                 0.122940             0.181883  ...             0.048512   \n",
       "15                 0.126820             0.338570  ...             0.129068   \n",
       "16                 0.160564             0.225077  ...             0.055596   \n",
       "17                 0.276651             0.186989  ...             0.173678   \n",
       "18                 0.187133             0.200089  ...             0.262617   \n",
       "19                 0.347445             0.190641  ...             0.033892   \n",
       "20                 0.199652             0.000000  ...             0.104616   \n",
       "21                 0.155995             0.101594  ...             0.117531   \n",
       "22                 0.450441             0.423053  ...             0.513239   \n",
       "23                 0.000000             0.293679  ...             0.000000   \n",
       "24                 0.269330             0.190452  ...             0.060508   \n",
       "25                 0.059685             0.104432  ...             0.059943   \n",
       "26                 0.350786             0.445216  ...             0.145496   \n",
       "27                 0.113706             0.156251  ...             0.042770   \n",
       "28                 0.019888             0.083602  ...             0.047887   \n",
       "29                 0.029578             0.138293  ...             0.059306   \n",
       "...                     ...                  ...  ...                  ...   \n",
       "636283             0.399430             0.021023  ...             0.083641   \n",
       "636284             0.245087             0.263314  ...             0.063420   \n",
       "636285             0.630424             0.176594  ...             0.165119   \n",
       "636286             0.113727             0.525092  ...             0.060389   \n",
       "636287             0.401810             0.144302  ...             0.051415   \n",
       "636288             0.303275             0.302341  ...             0.057182   \n",
       "636289             0.162625             0.175992  ...             0.027081   \n",
       "636290             0.288779             0.093554  ...             0.085528   \n",
       "636291             0.225068             0.026974  ...             0.017911   \n",
       "636292             0.182413             0.383738  ...             0.035158   \n",
       "636293             0.271904             0.254349  ...             0.101526   \n",
       "636294             0.198022             0.066007  ...             0.459456   \n",
       "636295             0.092379             0.115403  ...             0.063489   \n",
       "636296             0.551669             0.196856  ...             0.157428   \n",
       "636297             0.137114             0.217629  ...             0.040126   \n",
       "636298             0.109866             0.048084  ...             0.137167   \n",
       "636299             0.128091             0.181304  ...             0.031785   \n",
       "636300             0.321452             0.533487  ...             0.044837   \n",
       "636301             0.090711             0.090711  ...             0.145249   \n",
       "636302             0.206068             0.209994  ...             0.043790   \n",
       "636303             0.053282             0.039963  ...             0.013318   \n",
       "636304             0.128411             0.032074  ...             0.159569   \n",
       "636305             0.080912             0.097026  ...             0.040346   \n",
       "636306             1.030994             1.381776  ...             0.336424   \n",
       "636307             0.190505             0.229184  ...             0.057067   \n",
       "636308             0.406626             0.203188  ...             0.525601   \n",
       "636309             0.085103             0.170077  ...             0.085236   \n",
       "636310             0.295860             0.109611  ...             0.088451   \n",
       "636311             0.038793             0.000000  ...             0.000000   \n",
       "636312             0.085571             0.048898  ...             0.048671   \n",
       "\n",
       "        volatility 13:15:00  volatility 13:20:00  volatility 13:25:00  \\\n",
       "0                  0.230885             0.062962             0.274345   \n",
       "1                  0.079048             0.071119             0.078995   \n",
       "2                  0.275287             0.249349             0.262916   \n",
       "3                  0.217509             0.103530             0.031052   \n",
       "4                  0.275442             0.081595             0.020390   \n",
       "5                  0.061196             0.142666             0.067907   \n",
       "6                  0.145587             0.072771             0.131069   \n",
       "7                  0.095863             0.047948             0.015983   \n",
       "8                  0.039162             0.136990             0.163243   \n",
       "9                  0.181842             0.066994             0.143706   \n",
       "10                 0.052875             0.097564             0.081247   \n",
       "11                 0.087270             0.217837             0.152273   \n",
       "12                 0.153962             0.023686             0.177378   \n",
       "13                 0.153936             0.099567             0.090498   \n",
       "14                 0.037727             0.145402             0.053859   \n",
       "15                 0.171972             0.096712             0.204404   \n",
       "16                 0.060217             0.134225             0.092569   \n",
       "17                 0.118013             0.097144             0.048550   \n",
       "18                 0.224980             0.049995             0.112610   \n",
       "19                 0.206901             0.191499             0.184108   \n",
       "20                 0.115936             0.044842             0.179169   \n",
       "21                 0.278742             0.153873             0.058636   \n",
       "22                 0.284439             0.199350             0.285133   \n",
       "23                 0.038358             0.000000             0.000000   \n",
       "24                 0.120961             0.151074             0.048331   \n",
       "25                 0.071171             0.037459             0.011239   \n",
       "26                 0.189056             0.217972             0.087243   \n",
       "27                 0.085514             0.056992             0.042737   \n",
       "28                 0.075794             0.091728             0.039878   \n",
       "29                 0.049422             0.197437             0.049359   \n",
       "...                     ...                  ...                  ...   \n",
       "636283             0.020910             0.125571             0.000000   \n",
       "636284             0.114131             0.291213             0.050636   \n",
       "636285             0.139603             0.057084             0.044398   \n",
       "636286             0.098144             0.045325             0.030217   \n",
       "636287             0.071955             0.010280             0.071914   \n",
       "636288             0.085806             0.057143             0.028574   \n",
       "636289             0.006770             0.081158             0.033817   \n",
       "636290             0.016284             0.089642             0.032590   \n",
       "636291             0.080624             0.053718             0.013434   \n",
       "636292             0.087835             0.017563             0.052726   \n",
       "636293             0.101437             0.152326             0.000000   \n",
       "636294             0.065637             0.065637             0.065637   \n",
       "636295             0.040388             0.011539             0.028849   \n",
       "636296             0.131304             0.144292             0.039330   \n",
       "636297             0.008025             0.016049             0.040123   \n",
       "636298             0.034299             0.013720             0.027431   \n",
       "636299             0.265474             0.021238             0.010619   \n",
       "636300             0.194536             0.119757             0.059873   \n",
       "636301             0.072595             0.126993             0.379945   \n",
       "636302             0.093991             0.043808             0.058411   \n",
       "636303             0.039942             0.026631             0.318900   \n",
       "636304             0.000000             0.021272             0.031904   \n",
       "636305             0.048439             0.008074             0.096943   \n",
       "636306             0.315123             0.117309             0.146524   \n",
       "636307             0.076088             0.095178             0.190676   \n",
       "636308             0.302585             0.313269             0.128620   \n",
       "636309             0.047353             0.094800             0.066344   \n",
       "636310             0.153764             0.079369             0.033632   \n",
       "636311             0.000000             0.000000             0.006484   \n",
       "636312             0.036494             0.048658             0.048650   \n",
       "\n",
       "        volatility 13:30:00  volatility 13:35:00  volatility 13:40:00  \\\n",
       "0                  0.393201             0.078658             0.041951   \n",
       "1                  0.220849             0.142118             0.039484   \n",
       "2                  0.341119             0.170464             0.275906   \n",
       "3                  0.217124             0.186312             0.051811   \n",
       "4                  0.162940             0.040744             0.122338   \n",
       "5                  0.305003             0.142438             0.095055   \n",
       "6                  0.131069             0.204139             0.043758   \n",
       "7                  0.143844             0.207988             0.192186   \n",
       "8                  0.286747             0.097796             0.195892   \n",
       "9                  0.458450             0.344613             0.230166   \n",
       "10                 0.235330             0.170589             0.065020   \n",
       "11                 0.282311             0.173945             0.203188   \n",
       "12                 0.106427             0.474450             0.094866   \n",
       "13                 0.361154             0.108325             0.108451   \n",
       "14                 0.199025             0.069960             0.107730   \n",
       "15                 0.343706             0.247323             0.366536   \n",
       "16                 0.235747             0.078551             0.106349   \n",
       "17                 0.173215             0.110907             0.138757   \n",
       "18                 0.212310             0.150067             0.075053   \n",
       "19                 0.232597             0.078802             0.078827   \n",
       "20                 0.313496             0.014936             0.187143   \n",
       "21                 0.161099             0.175882             0.301031   \n",
       "22                 0.652224             0.452349             0.310614   \n",
       "23                 0.019182             0.076664             0.134163   \n",
       "24                 0.226289             0.205461             0.151270   \n",
       "25                 0.142274             0.119771             0.202438   \n",
       "26                 0.406124             0.254301             0.189174   \n",
       "27                 0.263066             0.071121             0.128153   \n",
       "28                 0.238841             0.059766             0.179513   \n",
       "29                 0.344641             0.207177             0.128388   \n",
       "...                     ...                  ...                  ...   \n",
       "636283             0.062757             0.125458             0.020919   \n",
       "636284             0.266323             0.316273             0.278856   \n",
       "636285             0.031716             0.057067             0.057071   \n",
       "636286             0.030229             0.113227             0.257109   \n",
       "636287             0.092375             0.133324             0.041029   \n",
       "636288             0.085775             0.114336             0.171748   \n",
       "636289             0.020280             0.243111             0.108170   \n",
       "636290             0.057009             0.085547             0.097791   \n",
       "636291             0.062691             0.000000             0.089598   \n",
       "636292             0.175546             0.105409             0.169641   \n",
       "636293             0.101556             0.253526             0.050729   \n",
       "636294             0.196910             0.196910             0.065637   \n",
       "636295             0.017312             0.040398             0.023087   \n",
       "636296             0.196913             0.131172             0.065617   \n",
       "636297             0.032091             0.080266             0.048162   \n",
       "636298             0.048043             0.130480             0.048091   \n",
       "636299             0.031857             0.063723             0.148831   \n",
       "636300             0.059897             0.104785             0.390317   \n",
       "636301             0.054278             0.217527             0.217876   \n",
       "636302             0.058393             0.233159             0.072911   \n",
       "636303             0.146329             0.093069             0.053208   \n",
       "636304             0.000000             0.074472             0.031923   \n",
       "636305             0.064607             0.096959             0.040388   \n",
       "636306             0.161353             0.227114             0.227470   \n",
       "636307             0.095374             0.019067             0.057248   \n",
       "636308             0.267998             0.401197             0.240198   \n",
       "636309             0.037914             0.066382             0.075896   \n",
       "636310             0.098935             0.044868             0.109629   \n",
       "636311             0.003242             0.000000             0.019436   \n",
       "636312             0.048661             0.085167             0.194868   \n",
       "\n",
       "        volatility 13:45:00  volatility 13:50:00  volatility 13:55:00  \n",
       "0                  0.115287             0.136218             0.052386  \n",
       "1                  0.055287             0.059276             0.071155  \n",
       "2                  0.196799             0.111488             0.117980  \n",
       "3                  0.093239             0.082934             0.155294  \n",
       "4                  0.050963             0.112193             0.000000  \n",
       "5                  0.095083             0.081553             0.081571  \n",
       "6                  0.058344             0.043758             0.072930  \n",
       "7                  0.032031             0.256688             0.144437  \n",
       "8                  0.058768             0.045702             0.045695  \n",
       "9                  0.028753             0.114941             0.210295  \n",
       "10                 0.170812             0.065094             0.052893  \n",
       "11                 0.087081             0.094411             0.036312  \n",
       "12                 0.118552             0.047445             0.177648  \n",
       "13                 0.199135             0.272180             0.145022  \n",
       "14                 0.075420             0.215808             0.048551  \n",
       "15                 0.194183             0.259389             0.118777  \n",
       "16                 0.097159             0.157445             0.046293  \n",
       "17                 0.041621             0.159713             0.104176  \n",
       "18                 0.075033             0.112701             0.124989  \n",
       "19                 0.203286             0.180903             0.120379  \n",
       "20                 0.044943             0.000000             0.044936  \n",
       "21                 0.169084             0.538521             0.081096  \n",
       "22                 0.578074             0.369096             0.099342  \n",
       "23                 0.000000             0.134236             0.134108  \n",
       "24                 0.087702             0.115025             0.048441  \n",
       "25                 0.112394             0.074929             0.022472  \n",
       "26                 0.116360             0.101879             0.101815  \n",
       "27                 0.142263             0.085410             0.049853  \n",
       "28                 0.119768             0.063892             0.091798  \n",
       "29                 0.059269             0.138440             0.019773  \n",
       "...                     ...                  ...                  ...  \n",
       "636283             0.062707             0.000000             0.000000  \n",
       "636284             0.101430             0.101497             0.165137  \n",
       "636285             0.221643             0.227597             0.132841  \n",
       "636286             0.211461             0.075508             0.090556  \n",
       "636287             0.051268             0.061479             0.153927  \n",
       "636288             0.028621             0.057242             0.258045  \n",
       "636289             0.142129             0.013543             0.081195  \n",
       "636290             0.085518             0.048890             0.036668  \n",
       "636291             0.004480             0.049256             0.008959  \n",
       "636292             0.064358             0.093690             0.076083  \n",
       "636293             0.118399             0.050722             0.084566  \n",
       "636294             0.065637             0.196634             0.065545  \n",
       "636295             0.063466             0.051937             0.034629  \n",
       "636296             0.013121             0.078676             0.039341  \n",
       "636297             0.072312             0.144489             0.016060  \n",
       "636298             0.034359             0.061837             0.041227  \n",
       "636299             0.106244             0.042476             0.031850  \n",
       "636300             0.105088             0.150221             0.120138  \n",
       "636301             0.163536             0.290051             0.505604  \n",
       "636302             0.058320             0.193329             0.072809  \n",
       "636303             0.093202             0.053267             0.039942  \n",
       "636304             0.021282             0.031915             0.021282  \n",
       "636305             0.048473             0.048476             0.129365  \n",
       "636306             0.073354             0.190596             0.051319  \n",
       "636307             0.076362             0.114595             0.076399  \n",
       "636308             0.307821             0.324072             0.279878  \n",
       "636309             0.047439             0.198986             0.075806  \n",
       "636310             0.167986             0.152494             0.033582  \n",
       "636311             0.019438             0.019439             0.000000  \n",
       "636312             0.036569             0.073139             0.085322  \n",
       "\n",
       "[636313 rows x 57 columns]"
      ]
     },
     "execution_count": 35,
     "metadata": {},
     "output_type": "execute_result"
    }
   ],
   "source": []
  },
  {
   "cell_type": "markdown",
   "metadata": {},
   "source": [
    "## LSTM"
   ]
  },
  {
   "cell_type": "code",
   "execution_count": 33,
   "metadata": {},
   "outputs": [],
   "source": [
    "# univariate lstm example\n",
    "from numpy import array\n",
    "from keras.models import Sequential\n",
    "from keras.layers import LSTM\n",
    "from keras.layers import Dense\n",
    "from keras.layers import Bidirectional\n"
   ]
  },
  {
   "cell_type": "code",
   "execution_count": 207,
   "metadata": {},
   "outputs": [],
   "source": [
    "##Define model\n",
    "def custom_loss(y_true, y_pred):\n",
    "    return K.mean(np.abs((y_true - y_pred) / y_true))* 100\n",
    "\n",
    "def LSTM_model():\n",
    "    n_steps = 54\n",
    "    n_features =1\n",
    "    model = Sequential()\n",
    "    model.add(LSTM(100,kernel_initializer='normal',input_shape=(n_steps, n_features)))\n",
    " #   model.add(LSTM(50, activation='relu',kernel_initializer='normal', return_sequences=True,input_shape=(n_steps, n_features)))\n",
    "#    model.add(LSTM(10, activation='relu'))\n",
    "   # model.add(Dense(10,activation='relu',kernel_initializer='normal'))\n",
    "    model.add(Dense(1,name='Output',activation='tanh',kernel_initializer='normal'))\n",
    "       \n",
    "    \n",
    "    model.compile(loss=custom_loss,optimizer='Adagrad', metrics=[custom_loss])\n",
    "    return model"
   ]
  },
  {
   "cell_type": "code",
   "execution_count": 76,
   "metadata": {},
   "outputs": [],
   "source": [
    "X_lstm = np.array(train_X.iloc[:,3:])"
   ]
  },
  {
   "cell_type": "code",
   "execution_count": 77,
   "metadata": {},
   "outputs": [],
   "source": [
    "X_lstm_test = np.array(test_X.iloc[:,3:])"
   ]
  },
  {
   "cell_type": "code",
   "execution_count": 78,
   "metadata": {},
   "outputs": [],
   "source": [
    "y_lstm =np.array(train_y.iloc[:,1:])"
   ]
  },
  {
   "cell_type": "code",
   "execution_count": 79,
   "metadata": {},
   "outputs": [],
   "source": [
    "X_lstm = X_lstm.reshape((X_lstm.shape[0], X_lstm.shape[1], 1))"
   ]
  },
  {
   "cell_type": "code",
   "execution_count": 85,
   "metadata": {},
   "outputs": [
    {
     "data": {
      "text/plain": [
       "(636313, 54, 1)"
      ]
     },
     "execution_count": 85,
     "metadata": {},
     "output_type": "execute_result"
    }
   ],
   "source": [
    "X_lstm.shape"
   ]
  },
  {
   "cell_type": "code",
   "execution_count": 129,
   "metadata": {},
   "outputs": [],
   "source": [
    "X_lstm_test = X_lstm_test.reshape((X_lstm_test.shape[0], X_lstm_test.shape[1], 1))"
   ]
  },
  {
   "cell_type": "code",
   "execution_count": 209,
   "metadata": {},
   "outputs": [],
   "source": [
    "lstm_estimator = KerasRegressor(build_fn=LSTM_model, epochs=25, batch_size=5000,verbose=True)"
   ]
  },
  {
   "cell_type": "code",
   "execution_count": null,
   "metadata": {},
   "outputs": [
    {
     "name": "stdout",
     "output_type": "stream",
     "text": [
      "Epoch 1/25\n",
      "636313/636313 [==============================] - 30s 47us/step - loss: 39.7041 - custom_loss: 39.7041\n",
      "Epoch 2/25\n",
      "636313/636313 [==============================] - 21s 33us/step - loss: 24.3239 - custom_loss: 24.3239\n",
      "Epoch 3/25\n",
      "636313/636313 [==============================] - 21s 33us/step - loss: 23.7846 - custom_loss: 23.7846\n",
      "Epoch 4/25\n",
      "295000/636313 [============>.................] - ETA: 11s - loss: 23.3332 - custom_loss: 23.3332"
     ]
    }
   ],
   "source": [
    "lstm_estimator.fit(X_lstm,y_lstm)"
   ]
  },
  {
   "cell_type": "code",
   "execution_count": 195,
   "metadata": {},
   "outputs": [
    {
     "data": {
      "text/plain": [
       "(636313, 54, 1)"
      ]
     },
     "execution_count": 195,
     "metadata": {},
     "output_type": "execute_result"
    }
   ],
   "source": [
    "X_lstm.shape"
   ]
  },
  {
   "cell_type": "code",
   "execution_count": 196,
   "metadata": {},
   "outputs": [
    {
     "name": "stdout",
     "output_type": "stream",
     "text": [
      "636313/636313 [==============================] - 14s 22us/step\n"
     ]
    }
   ],
   "source": [
    "lstm_train_preds = lstm_estimator.predict(X_lstm)"
   ]
  },
  {
   "cell_type": "code",
   "execution_count": null,
   "metadata": {},
   "outputs": [],
   "source": []
  },
  {
   "cell_type": "code",
   "execution_count": 197,
   "metadata": {},
   "outputs": [
    {
     "name": "stdout",
     "output_type": "stream",
     "text": [
      "Train error neural netowork = 23.741 %\n"
     ]
    }
   ],
   "source": [
    "print('Train error neural netowork =', round(MAPE(train_y['TARGET'], lstm_train_preds), 4), '%')"
   ]
  },
  {
   "cell_type": "code",
   "execution_count": 198,
   "metadata": {},
   "outputs": [
    {
     "name": "stdout",
     "output_type": "stream",
     "text": [
      "635397/635397 [==============================] - 10s 16us/step\n"
     ]
    }
   ],
   "source": [
    "lstm_test_preds = lstm_estimator.predict(X_lstm_test)"
   ]
  },
  {
   "cell_type": "code",
   "execution_count": 199,
   "metadata": {},
   "outputs": [],
   "source": [
    "lstm_predictions = pd.DataFrame({'ID': test_X['ID'],'TARGET': lstm_test_preds})\n",
    "lstm_predictions.to_csv('results/lstm_regressor_100.csv', sep=';', index=False)"
   ]
  },
  {
   "cell_type": "code",
   "execution_count": null,
   "metadata": {},
   "outputs": [],
   "source": []
  },
  {
   "cell_type": "markdown",
   "metadata": {},
   "source": [
    "### Light GBM"
   ]
  },
  {
   "cell_type": "code",
   "execution_count": null,
   "metadata": {},
   "outputs": [],
   "source": [
    "import lightgbm as lgb"
   ]
  },
  {
   "cell_type": "code",
   "execution_count": null,
   "metadata": {},
   "outputs": [],
   "source": [
    "lgb_train = lgb.Dataset(train_features_norm[regression_cols], label=train_features_norm['TARGET'])"
   ]
  },
  {
   "cell_type": "code",
   "execution_count": null,
   "metadata": {},
   "outputs": [],
   "source": []
  },
  {
   "cell_type": "code",
   "execution_count": null,
   "metadata": {},
   "outputs": [],
   "source": [
    "N_FOLDS = 5\n",
    "MAX_BOOST_ROUNDS = 700\n",
    "LEARNING_RATE = .0022\n",
    "params = {}\n",
    "params['max_bin'] = 10\n",
    "params['learning_rate'] = LEARNING_RATE # shrinkage_rate\n",
    "params['boosting_type'] = 'gbdt'\n",
    "params['objective'] = 'regression'\n",
    "params['metric'] = 'l2'          # or 'mae'\n",
    "params['sub_feature'] = 0.50      # feature_fraction \n",
    "params['bagging_fraction'] = 0.85 # sub_row\n",
    "params['bagging_freq'] = 40\n",
    "params['num_leaves'] = 512        # num_leaf\n",
    "params['min_data'] = 500         # min_data_in_leaf\n",
    "params['min_hessian'] = 0.05     # min_sum_hessian_in_leaf\n",
    "params['verbose'] = 0"
   ]
  },
  {
   "cell_type": "code",
   "execution_count": null,
   "metadata": {},
   "outputs": [],
   "source": [
    "model_lgb = lgb.LGBMRegressor(objective='regression',num_leaves=5,\n",
    "                              learning_rate=0.05, n_estimators=720,\n",
    "                              max_bin = 55, bagging_fraction = 0.8,\n",
    "                              bagging_freq = 5, feature_fraction = 0.2319,\n",
    "                              feature_fraction_seed=9, bagging_seed=9,\n",
    "                              min_data_in_leaf =6, min_sum_hessian_in_leaf = 11)"
   ]
  },
  {
   "cell_type": "code",
   "execution_count": null,
   "metadata": {},
   "outputs": [],
   "source": [
    "model_lgb.fit(train_features_norm[regression_cols], train_features_norm['TARGET'])"
   ]
  },
  {
   "cell_type": "code",
   "execution_count": null,
   "metadata": {},
   "outputs": [],
   "source": [
    "print(\"\\nFitting LightGBM model ...\")\n",
    "num_round = 400\n",
    "#gbm = lgb.cv(params, lgb_train, num_round)\n",
    "gbm = lgb.cv(params, lgb_train, num_boost_round=MAX_BOOST_ROUNDS, \n",
    "             nfold=N_FOLDS, verbose_eval=20, early_stopping_rounds=40,stratified=False)"
   ]
  },
  {
   "cell_type": "code",
   "execution_count": null,
   "metadata": {},
   "outputs": [],
   "source": []
  },
  {
   "cell_type": "code",
   "execution_count": null,
   "metadata": {},
   "outputs": [],
   "source": [
    "print('Train error SGD regressor =', round(MAPE(train_features_norm['TARGET'], np.maximum(gbm.predict(train_features_norm[regression_cols]),0)), 4), '%')"
   ]
  },
  {
   "cell_type": "code",
   "execution_count": null,
   "metadata": {},
   "outputs": [],
   "source": [
    "lgb.plot_importance(gbm, figsize=(20,20))"
   ]
  },
  {
   "cell_type": "code",
   "execution_count": null,
   "metadata": {},
   "outputs": [],
   "source": []
  },
  {
   "cell_type": "code",
   "execution_count": null,
   "metadata": {},
   "outputs": [],
   "source": [
    "from lightgbm.sklearn import LGBMRegressor\n"
   ]
  },
  {
   "cell_type": "code",
   "execution_count": null,
   "metadata": {},
   "outputs": [],
   "source": [
    "hyper_space = {'n_estimators': [1000],\n",
    "               'max_depth':  [4, 5, 8, -1],\n",
    "               #'num_leaves': [15, 31, 63, 127],\n",
    "               'num_leaves': [15],\n",
    "               'subsample': [0.6, 0.7, 0.8, 1.0],\n",
    "               #'colsample_bytree': [0.6, 0.7, 0.8, 1.0]\n",
    "              'colsample_bytree': [0.8]}"
   ]
  },
  {
   "cell_type": "code",
   "execution_count": null,
   "metadata": {},
   "outputs": [],
   "source": [
    "est = LGBMRegressor(boosting='gbdt', n_jobs=-1, random_state=2018)"
   ]
  },
  {
   "cell_type": "code",
   "execution_count": null,
   "metadata": {},
   "outputs": [],
   "source": [
    "gs = GridSearchCV(est, hyper_space, scoring=mape, cv=5, verbose=1)\n",
    "gs_results = gs.fit(train_features_norm[regression_cols], train_features_norm['TARGET'])\n",
    "print(\"BEST PARAMETERS: \" + str(gs_results.best_params_))\n",
    "print(\"BEST CV SCORE: \" + str(gs_results.best_score_))"
   ]
  },
  {
   "cell_type": "markdown",
   "metadata": {},
   "source": [
    "### Gradent boosting - CatBoost"
   ]
  },
  {
   "cell_type": "code",
   "execution_count": null,
   "metadata": {},
   "outputs": [],
   "source": []
  },
  {
   "cell_type": "code",
   "execution_count": null,
   "metadata": {},
   "outputs": [],
   "source": []
  },
  {
   "cell_type": "code",
   "execution_count": null,
   "metadata": {},
   "outputs": [],
   "source": []
  },
  {
   "cell_type": "code",
   "execution_count": null,
   "metadata": {},
   "outputs": [],
   "source": []
  },
  {
   "cell_type": "code",
   "execution_count": null,
   "metadata": {},
   "outputs": [],
   "source": []
  },
  {
   "cell_type": "code",
   "execution_count": null,
   "metadata": {},
   "outputs": [],
   "source": []
  },
  {
   "cell_type": "code",
   "execution_count": null,
   "metadata": {},
   "outputs": [],
   "source": []
  },
  {
   "cell_type": "code",
   "execution_count": null,
   "metadata": {},
   "outputs": [],
   "source": []
  },
  {
   "cell_type": "code",
   "execution_count": null,
   "metadata": {},
   "outputs": [],
   "source": []
  },
  {
   "cell_type": "code",
   "execution_count": null,
   "metadata": {},
   "outputs": [],
   "source": []
  },
  {
   "cell_type": "code",
   "execution_count": null,
   "metadata": {},
   "outputs": [],
   "source": []
  }
 ],
 "metadata": {
  "anaconda-cloud": {},
  "kernelspec": {
   "display_name": "Python 3",
   "language": "python",
   "name": "python3"
  },
  "language_info": {
   "codemirror_mode": {
    "name": "ipython",
    "version": 3
   },
   "file_extension": ".py",
   "mimetype": "text/x-python",
   "name": "python",
   "nbconvert_exporter": "python",
   "pygments_lexer": "ipython3",
   "version": "3.7.3"
  }
 },
 "nbformat": 4,
 "nbformat_minor": 1
}
